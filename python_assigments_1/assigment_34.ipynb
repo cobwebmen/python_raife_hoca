{
  "nbformat": 4,
  "nbformat_minor": 0,
  "metadata": {
    "colab": {
      "name": "assigment_34.ipynb",
      "provenance": [],
      "collapsed_sections": []
    },
    "kernelspec": {
      "name": "python3",
      "display_name": "Python 3"
    },
    "language_info": {
      "name": "python"
    }
  },
  "cells": [
    {
      "cell_type": "markdown",
      "metadata": {
        "id": "nszJ587WGDqc"
      },
      "source": [
        "Yüksekliği verilen yılbaşı ağacını oluşturan bir fonksiyon yazalım.\n"
      ]
    },
    {
      "cell_type": "code",
      "metadata": {
        "colab": {
          "base_uri": "https://localhost:8080/"
        },
        "id": "8o9_2OdTFsnH",
        "outputId": "bf666717-1b41-4ffa-8108-b73cf732cf17"
      },
      "source": [
        "def agac(yükseklik):\n",
        "  i=1\n",
        "  while i <= (2*yükseklik-1):\n",
        "    print((i*\"#\").center(2*yükseklik-1))\n",
        "    i+=2\n",
        "agac(7)\n"
      ],
      "execution_count": 66,
      "outputs": [
        {
          "output_type": "stream",
          "text": [
            "      #      \n",
            "     ###     \n",
            "    #####    \n",
            "   #######   \n",
            "  #########  \n",
            " ########### \n",
            "#############\n"
          ],
          "name": "stdout"
        }
      ]
    },
    {
      "cell_type": "code",
      "metadata": {
        "colab": {
          "base_uri": "https://localhost:8080/"
        },
        "id": "ll0xXjNAJURS",
        "outputId": "0980b3ef-44a2-4c7b-b0c7-21dcb760b015"
      },
      "source": [
        "def anagram(text):\n",
        "  liste=[x.strip(\".<,*=)(/+&?£_|:;~!\\$}]>[{#\").lower() for x in text.split()]\n",
        "  sorted_list=[]\n",
        "  group_list=[]\n",
        "  anagrams=[]\n",
        "  for i in liste:\n",
        "    if sorted(i) not in sorted_list:\n",
        "      sorted_list.append(sorted(i))\n",
        "  for a in range(len(sorted_list)):\n",
        "    group_list.append([i for i in liste if sorted(i) == sorted_list[a]])\n",
        "  for i in group_list:\n",
        "    if len(i)>=2:\n",
        "      anagrams.append(i)\n",
        "  return anagrams\n",
        "anagram(\"listen SILENT ROOPA TABU. OOPAR BUAT PAROO Soudipta? Kheyali Park Tollygaunge BUTA AROOP* Love AOORP +Protijayi Paikpara dipSouta/ Shyambazaar jayiProti North Calcutta Sovabazaar\")"
      ],
      "execution_count": 60,
      "outputs": [
        {
          "output_type": "execute_result",
          "data": {
            "text/plain": [
              "[['listen', 'silent'],\n",
              " ['roopa', 'oopar', 'paroo', 'aroop', 'aoorp'],\n",
              " ['tabu', 'buat', 'buta'],\n",
              " ['soudipta', 'dipsouta'],\n",
              " ['protijayi', 'jayiproti']]"
            ]
          },
          "metadata": {
            "tags": []
          },
          "execution_count": 60
        }
      ]
    }
  ]
}