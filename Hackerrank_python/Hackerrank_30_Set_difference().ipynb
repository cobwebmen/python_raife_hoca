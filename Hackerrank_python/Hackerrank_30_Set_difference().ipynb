{
  "nbformat": 4,
  "nbformat_minor": 0,
  "metadata": {
    "colab": {
      "name": "Hackerrank_30_Set.difference().ipynb",
      "provenance": []
    },
    "kernelspec": {
      "name": "python3",
      "display_name": "Python 3"
    },
    "language_info": {
      "name": "python"
    }
  },
  "cells": [
    {
      "cell_type": "markdown",
      "metadata": {
        "id": "-Lnpo4BUmH8E"
      },
      "source": [
        "Students of District College have a subscription to English and French newspapers. Some students have subscribed to only the English newspaper, some have subscribed to only the French newspaper, and some have subscribed to both newspapers.\n",
        "\n",
        "You are given two sets of student roll numbers. One set has subscribed to the English newspaper, and one set has subscribed to the French newspaper. Your task is to find the total number of students who have subscribed to only English newspapers.\n",
        "\n",
        "Sample Input\n",
        "\n",
        "9\n",
        "\n",
        "1 2 3 4 5 6 7 8 9\n",
        "\n",
        "9\n",
        "\n",
        "10 1 2 3 11 21 55 6 8\n",
        "\n",
        "Sample Output\n",
        "\n",
        "4"
      ]
    },
    {
      "cell_type": "code",
      "metadata": {
        "colab": {
          "base_uri": "https://localhost:8080/"
        },
        "id": "GTdzW216l4sk",
        "outputId": "9c5b4ac1-98a6-491f-d215-d3117a6aac20"
      },
      "source": [
        "a=int(input())\n",
        "b=set(map(int, input().split()))\n",
        "c=int(input())\n",
        "d=set(map(int, input().split()))\n",
        "print(len(b.difference(d)))"
      ],
      "execution_count": 3,
      "outputs": [
        {
          "output_type": "stream",
          "text": [
            "9\n",
            "1 2 3 4 5 6 7 8 9\n",
            "9\n",
            "10 1 2 3 11 21 55 6 8\n",
            "4\n"
          ],
          "name": "stdout"
        }
      ]
    }
  ]
}