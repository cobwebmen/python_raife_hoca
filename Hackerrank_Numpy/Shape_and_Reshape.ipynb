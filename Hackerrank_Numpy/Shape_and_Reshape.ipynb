{
  "nbformat": 4,
  "nbformat_minor": 0,
  "metadata": {
    "colab": {
      "name": "Shape_and_Reshape.ipynb",
      "provenance": []
    },
    "kernelspec": {
      "name": "python3",
      "display_name": "Python 3"
    },
    "language_info": {
      "name": "python"
    }
  },
  "cells": [
    {
      "cell_type": "markdown",
      "metadata": {
        "id": "jtZw_AvFaHXP"
      },
      "source": [
        "```\n",
        "shape\n",
        "\n",
        "The shape tool gives a tuple of array dimensions and can be used to change the dimensions of an array.\n",
        "\n",
        "(a). Using shape to get array dimensions\n",
        "\n",
        "import numpy\n",
        "\n",
        "my__1D_array = numpy.array([1, 2, 3, 4, 5])\n",
        "print my_1D_array.shape     #(5,) -> 1 row and 5 columns\n",
        "\n",
        "my__2D_array = numpy.array([[1, 2],[3, 4],[6,5]])\n",
        "print my_2D_array.shape     #(3, 2) -> 3 rows and 2 columns \n",
        "(b). Using shape to change array dimensions\n",
        "\n",
        "import numpy\n",
        "\n",
        "change_array = numpy.array([1,2,3,4,5,6])\n",
        "change_array.shape = (3, 2)\n",
        "print change_array      \n",
        "\n",
        "#Output\n",
        "[[1 2]\n",
        "[3 4]\n",
        "[5 6]]\n",
        "reshape\n",
        "\n",
        "The reshape tool gives a new shape to an array without changing its data. It creates a new array and does not modify the original array itself.\n",
        "\n",
        "import numpy\n",
        "\n",
        "my_array = numpy.array([1,2,3,4,5,6])\n",
        "print numpy.reshape(my_array,(3,2))\n",
        "\n",
        "#Output\n",
        "[[1 2]\n",
        "[3 4]\n",
        "[5 6]]\n",
        "Task\n",
        "\n",
        "You are given a space separated list of nine integers. Your task is to convert this list into a X NumPy array.\n",
        "\n",
        "Input Format\n",
        "\n",
        "A single line of input containing  space separated integers.\n",
        "\n",
        "Output Format\n",
        "\n",
        "Print the X NumPy array.\n",
        "\n",
        "Sample Input\n",
        "\n",
        "1 2 3 4 5 6 7 8 9\n",
        "Sample Output\n",
        "\n",
        "[[1 2 3]\n",
        " [4 5 6]\n",
        " [7 8 9]]\n",
        "```"
      ]
    },
    {
      "cell_type": "code",
      "metadata": {
        "colab": {
          "base_uri": "https://localhost:8080/"
        },
        "id": "1bHG9vvmZBYV",
        "outputId": "eaefebf9-e630-4257-f006-37d486b3a72c"
      },
      "source": [
        "import numpy\n",
        "print(numpy.array(input().split(\" \"), int).reshape(3,3))"
      ],
      "execution_count": 1,
      "outputs": [
        {
          "output_type": "stream",
          "text": [
            "1 2 3 4 5 6 7 8 9\n",
            "[[1 2 3]\n",
            " [4 5 6]\n",
            " [7 8 9]]\n"
          ],
          "name": "stdout"
        }
      ]
    }
  ]
}