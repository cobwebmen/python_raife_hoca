{
  "nbformat": 4,
  "nbformat_minor": 0,
  "metadata": {
    "colab": {
      "name": "Hackerrank_5_Split_and_join.ipynb",
      "provenance": [],
      "collapsed_sections": []
    },
    "kernelspec": {
      "name": "python3",
      "display_name": "Python 3"
    },
    "language_info": {
      "name": "python"
    }
  },
  "cells": [
    {
      "cell_type": "markdown",
      "metadata": {
        "id": "oUAcvz7tH9FB"
      },
      "source": [
        "Task\n",
        "You are given a string. Split the string on a \" \" (space) delimiter and join using a - hyphen.\n",
        "\n",
        "Sample Input\n",
        "\n",
        "this is a string \n",
        "\n",
        "Sample Output\n",
        "\n",
        "this-is-a-string"
      ]
    },
    {
      "cell_type": "code",
      "metadata": {
        "id": "vt6Ksp6dGVpo"
      },
      "source": [
        "def split_and_join(line):\n",
        "    return \"-\".join(line.split(\" \"))\n",
        "\n",
        "if __name__ == '__main__':\n",
        "    line = input()\n",
        "    result = split_and_join(line)\n",
        "    print(result)"
      ],
      "execution_count": null,
      "outputs": []
    }
  ]
}