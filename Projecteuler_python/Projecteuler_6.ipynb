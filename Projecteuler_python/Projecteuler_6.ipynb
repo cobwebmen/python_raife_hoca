{
  "nbformat": 4,
  "nbformat_minor": 0,
  "metadata": {
    "colab": {
      "name": "Projecteuler_6.ipynb",
      "provenance": [],
      "collapsed_sections": []
    },
    "kernelspec": {
      "name": "python3",
      "display_name": "Python 3"
    },
    "language_info": {
      "name": "python"
    }
  },
  "cells": [
    {
      "cell_type": "markdown",
      "metadata": {
        "id": "paSl_NX3qXpd"
      },
      "source": [
        "The sum of the squares of the first ten natural numbers is,\n",
        "\n",
        "The square of the sum of the first ten natural numbers is,\n",
        "\n",
        "Hence the difference between the sum of the squares of the first ten natural numbers and the square of the sum is .\n",
        "\n",
        "Find the difference between the sum of the squares of the first one hundred natural numbers and the square of the sum."
      ]
    },
    {
      "cell_type": "code",
      "metadata": {
        "colab": {
          "base_uri": "https://localhost:8080/"
        },
        "id": "dhL_yKlGqS9t",
        "outputId": "37300b0b-9a29-4284-c41f-f53739a5486f"
      },
      "source": [
        "sum=0\n",
        "square_sum=0\n",
        "for i in range(1,101):\n",
        "  sum+=i\n",
        "  square_sum = square_sum + (i**2)\n",
        "sonuc=sum**2-square_sum\n",
        "print(sonuc)\n",
        "\n"
      ],
      "execution_count": 1,
      "outputs": [
        {
          "output_type": "stream",
          "text": [
            "25164150\n"
          ],
          "name": "stdout"
        }
      ]
    }
  ]
}