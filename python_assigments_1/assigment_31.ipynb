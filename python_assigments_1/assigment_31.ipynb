{
  "nbformat": 4,
  "nbformat_minor": 0,
  "metadata": {
    "colab": {
      "name": "assigment_31.ipynb",
      "provenance": [],
      "collapsed_sections": []
    },
    "kernelspec": {
      "name": "python3",
      "display_name": "Python 3"
    },
    "language_info": {
      "name": "python"
    }
  },
  "cells": [
    {
      "cell_type": "markdown",
      "metadata": {
        "id": "nk22oD1JbZB-"
      },
      "source": [
        "Malzeme listesi ve seçilen malzemeyi girdi olaraka alın. Seçili malzemelerin çevresinde ekmek olacak şekilde listeyi döndüren bir fonksiyon yazalım"
      ]
    },
    {
      "cell_type": "code",
      "metadata": {
        "colab": {
          "base_uri": "https://localhost:8080/"
        },
        "id": "H4KjDT9zbREo",
        "outputId": "73c37d60-f6b1-41d8-cbf2-e943673363c6"
      },
      "source": [
        "def ekmek(liste,malzeme):\n",
        "  yeni=[]\n",
        "  for i in liste:\n",
        "    if i!=malzeme:\n",
        "      yeni.append(i)\n",
        "    elif i==malzeme:\n",
        "      yeni.append(\"ekmek\")\n",
        "      yeni.append(i)\n",
        "      if liste[liste.index(i)+1]!=malzeme:\n",
        "        yeni.append(\"ekmek\")\n",
        "\n",
        "  return yeni\n",
        "\n",
        "print(ekmek([\"ton\",\"salam\",\"domates\"],\"salam\"))\n",
        "print(ekmek([\"ton\",\"ton\",\"ton\"],\"ton\"))"
      ],
      "execution_count": 19,
      "outputs": [
        {
          "output_type": "stream",
          "text": [
            "['ton', 'ekmek', 'salam', 'ekmek', 'domates']\n",
            "['ekmek', 'ton', 'ekmek', 'ton', 'ekmek', 'ton']\n"
          ],
          "name": "stdout"
        }
      ]
    },
    {
      "cell_type": "markdown",
      "metadata": {
        "id": "4slQorHVeQDB"
      },
      "source": [
        "Belirli aralıkta(sınırlar dahil) verilen rakamın kaç kere olduğunu sayan bir fonksiyon yazalım."
      ]
    },
    {
      "cell_type": "code",
      "metadata": {
        "colab": {
          "base_uri": "https://localhost:8080/"
        },
        "id": "yTKBDjyVePj2",
        "outputId": "f7e054a4-db9c-4f47-ee01-919a006712b5"
      },
      "source": [
        "def kac_tane(baslangic, bitis, sayi):\n",
        "  yeni = \"\"\n",
        "  sonuc=0\n",
        "  for i in range(baslangic, bitis+1):\n",
        "    yeni+=str(i)\n",
        "  for i in yeni:\n",
        "    if i==str(sayi):\n",
        "      sonuc+=1\n",
        "  return sonuc\n",
        "\n",
        "print(kac_tane(50,55,5))\n"
      ],
      "execution_count": 20,
      "outputs": [
        {
          "output_type": "stream",
          "text": [
            "7\n"
          ],
          "name": "stdout"
        }
      ]
    }
  ]
}