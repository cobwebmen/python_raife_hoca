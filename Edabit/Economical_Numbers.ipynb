{
  "nbformat": 4,
  "nbformat_minor": 0,
  "metadata": {
    "colab": {
      "name": "Economical_Numbers.ipynb",
      "provenance": []
    },
    "kernelspec": {
      "name": "python3",
      "display_name": "Python 3"
    },
    "language_info": {
      "name": "python"
    }
  },
  "cells": [
    {
      "cell_type": "code",
      "metadata": {
        "id": "6uGe9qARdqb7"
      },
      "source": [
        ""
      ],
      "execution_count": null,
      "outputs": []
    },
    {
      "cell_type": "markdown",
      "metadata": {
        "id": "CP-poH6nbHNC"
      },
      "source": [
        "\n",
        "```\n",
        "A number is Economical if the quantity of digits of its prime factorization (including exponents greater than 1) is equal to or lower than the digit quantity of the number itself.\n",
        "\n",
        "Given an integer n, implement a function that returns a string:\n",
        "\n",
        "\"Equidigital\" if the quantity of digits of the prime factorization (including exponents greater than 1) is equal to the quantity of digits of n;\n",
        "\"Frugal\" if the quantity of digits of the prime factorization (including exponents greater than 1) is lower than the quantity of digits of n;\n",
        "\"Wasteful\" if none of the two above conditions is true.\n",
        "Examples\n",
        "is_economical(14) ➞ \"Equidigital\"\n",
        "# The prime factorization of 14 (2 digits) is [2, 7] (2 digits)\n",
        "# Exponents equal to 1 are not counted\n",
        "\n",
        "is_economical(125) ➞ \"Frugal\"\n",
        "# The prime factorization of 125 (3 digits) is [5^3] (2 digits)\n",
        "# Notice how exponents greater than 1 are counted\n",
        "\n",
        "is_economical(1024) ➞ \"Frugal\"\n",
        "# The prime factorization of 1024 (4 digits) is [2^10] (3 digits)\n",
        "\n",
        "is_economical(30) ➞ \"Wasteful\"\n",
        "# The prime factorization of 30 (2 digits) is [2, 3, 5] (3 digits)\n",
        "Notes\n",
        "Any given n will be a positive integer greater than 1.\n",
        "Remember to count also the exponents greater than 1 into the prime factorization: 2¹ = 2 (one digit), 2² = 22 (two digits), 2¹° = 210 (three digits)...\n",
        "\n",
        "```"
      ]
    },
    {
      "cell_type": "code",
      "metadata": {
        "colab": {
          "base_uri": "https://localhost:8080/",
          "height": 34
        },
        "id": "q61BD2subGrW",
        "outputId": "0280a4e8-ab3f-40f7-f921-635afc6f1247"
      },
      "source": [
        "def is_economical(n):\n",
        "  n1=n\n",
        "  pf = []\n",
        "  upf=[]\n",
        "  for i in range(2,n):\n",
        "    while n1%i==0:\n",
        "      n1=n1//i\n",
        "      pf.append(i)\n",
        "  for i in pf:\n",
        "    if pf.count(i)>1:\n",
        "      upf.append(i)\n",
        "      upf.append(pf.count(i))\n",
        "      pf=list(filter(lambda a:a!=i, pf))\n",
        "    elif pf.count(i)==1:\n",
        "      upf.append(i)\n",
        "      pf=list(filter(lambda a:a!=i, pf))\n",
        "  upf=\"\".join(list(map(str,upf)))\n",
        "  if len(str(n))==len(upf):\n",
        "    return \"Equidigital\"\n",
        "  elif len(str(n)) > len(upf):\n",
        "    return \"Frugal\"\n",
        "  elif len(str(n)) < len(upf):\n",
        "    return \"Wasteful\"\n",
        "is_economical(14)"
      ],
      "execution_count": 8,
      "outputs": [
        {
          "output_type": "execute_result",
          "data": {
            "application/vnd.google.colaboratory.intrinsic+json": {
              "type": "string"
            },
            "text/plain": [
              "'Equidigital'"
            ]
          },
          "metadata": {
            "tags": []
          },
          "execution_count": 8
        }
      ]
    }
  ]
}