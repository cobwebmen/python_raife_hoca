{
  "nbformat": 4,
  "nbformat_minor": 0,
  "metadata": {
    "colab": {
      "name": "Hackerrank_53_Map_and_lambda_function.ipynb",
      "provenance": []
    },
    "kernelspec": {
      "name": "python3",
      "display_name": "Python 3"
    },
    "language_info": {
      "name": "python"
    }
  },
  "cells": [
    {
      "cell_type": "markdown",
      "metadata": {
        "id": "NaKbCAODqvrw"
      },
      "source": [
        "```\n",
        "Let's learn some new Python concepts! You have to generate a list of the first  fibonacci numbers,  being the first number. Then, apply the map function and a lambda expression to cube each fibonacci number and print the list.\n",
        "\n",
        "Concept\n",
        "\n",
        "The map() function applies a function to every member of an iterable and returns the result. It takes two parameters: first, the function that is to be applied and secondly, the iterables.\n",
        "Let's say you are given a list of names, and you have to print a list that contains the length of each name.\n",
        "\n",
        ">> print (list(map(len, ['Tina', 'Raj', 'Tom'])))  \n",
        "[4, 3, 3]  \n",
        "Lambda is a single expression anonymous function often used as an inline function. In simple words, it is a function that has only one line in its body. It proves very handy in functional and GUI programming.\n",
        "\n",
        ">> sum = lambda a, b, c: a + b + c\n",
        ">> sum(1, 2, 3)\n",
        "6\n",
        "Note:\n",
        "\n",
        "Lambda functions cannot use the return statement and can only have a single expression. Unlike def, which creates a function and assigns it a name, lambda creates a function and returns the function itself. Lambda can be used inside lists and dictionaries.\n",
        "\n",
        "Input Format\n",
        "\n",
        "One line of input: an integer .\n",
        "\n",
        "Constraints\n",
        "\n",
        "\n",
        "Output Format\n",
        "\n",
        "A list on a single line containing the cubes of the first  fibonacci numbers.\n",
        "\n",
        "Sample Input\n",
        "\n",
        "5\n",
        "Sample Output\n",
        "\n",
        "[0, 1, 1, 8, 27]\n",
        "Explanation\n",
        "\n",
        "The first  fibonacci numbers are [0,1,1,2,3] , and their cubes are [0,1,1,8,27].\n",
        "```\n",
        "\n"
      ]
    },
    {
      "cell_type": "code",
      "metadata": {
        "colab": {
          "base_uri": "https://localhost:8080/"
        },
        "id": "Okd_SeDfqnve",
        "outputId": "b86ebf4b-43ef-47fe-94a2-2a7feaaffeec"
      },
      "source": [
        "cube = lambda x: x**3\n",
        "\n",
        "def fibonacci(n):\n",
        "    l=[]\n",
        "    for i in range(n):\n",
        "        if i==0 or i==1:\n",
        "            l.append(i)\n",
        "        else:\n",
        "            l.append(l[i-1]+l[i-2])\n",
        "    return l\n",
        "\n",
        "if __name__ == '__main__':\n",
        "    n = int(input())\n",
        "    print(list(map(cube, fibonacci(n))))"
      ],
      "execution_count": 1,
      "outputs": [
        {
          "output_type": "stream",
          "text": [
            "5\n",
            "[0, 1, 1, 8, 27]\n"
          ],
          "name": "stdout"
        }
      ]
    }
  ]
}