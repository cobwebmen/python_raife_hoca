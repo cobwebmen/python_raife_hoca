{
  "nbformat": 4,
  "nbformat_minor": 0,
  "metadata": {
    "colab": {
      "name": "assigment_14_total_profit_and_format.ipynb",
      "provenance": [],
      "collapsed_sections": []
    },
    "kernelspec": {
      "name": "python3",
      "display_name": "Python 3"
    },
    "language_info": {
      "name": "python"
    }
  },
  "cells": [
    {
      "cell_type": "markdown",
      "metadata": {
        "id": "rcC0BhZCjzLc"
      },
      "source": [
        "Task - 1 :\n",
        "You work for a manufacturer as a programmer and have been asked to calculate the total profit made on the sales of a product. You are given a dictionary (sales) containing the cost price per unit (in dollars), sell price per unit (in dollars), and the beginning inventory. Write a program to return the total profit made, rounded to the nearest dollar. Assume all of the inventory has been sold. The name and the keys of the dictionary are constant, so use them as they are.\n",
        "The example of the values (sell-cost value, inventory) and total profit :\n",
        "\n",
        "sales = {\n",
        "  \"cost_value\": 31.87,\n",
        "  \"sell_value\": 45.00,\n",
        "  \"inventory\": 1000\n",
        "}  \n"
      ]
    },
    {
      "cell_type": "code",
      "metadata": {
        "colab": {
          "base_uri": "https://localhost:8080/"
        },
        "id": "asXBoAk8hHcH",
        "outputId": "2d8058c1-3d9a-41f9-9dce-140ea55e55d5"
      },
      "source": [
        "sales = {\n",
        "  \"cost_value\": 31.87,\n",
        "  \"sell_value\": 45.00,\n",
        "  \"inventory\": 1000\n",
        "}  \n",
        "total_profit=round((sales[\"sell_value\"]-sales[\"cost_value\"])*sales[\"inventory\"])\n",
        "print(total_profit)"
      ],
      "execution_count": 3,
      "outputs": [
        {
          "output_type": "stream",
          "text": [
            "13130\n"
          ],
          "name": "stdout"
        }
      ]
    },
    {
      "cell_type": "markdown",
      "metadata": {
        "id": "4DhbZIVJkACz"
      },
      "source": [
        "Task - 2 :\n",
        "Your boss wants you to prepare the payrolls of the workers in your department. You have to convert the amount of dollars into payroll format. In order to help move things along, you have volunteered to write a code that will take a float and return the money in the following format (as dollars and cents). \n",
        "\n",
        "Examples         \n",
        "\t      \n",
        "given      3\t \n",
        "\n",
        "output     $3.00\n",
        "\n",
        "given      4.1\n",
        "\n",
        "output     $4.10\n",
        "\n",
        "given       29.99\t \n",
        "\n",
        "output      $29.99      \n",
        "\n",
        "          \n",
        "\n"
      ]
    },
    {
      "cell_type": "code",
      "metadata": {
        "colab": {
          "base_uri": "https://localhost:8080/"
        },
        "id": "ogwJw1E6h29-",
        "outputId": "33428ab7-371d-443f-c422-4b91db8afc18"
      },
      "source": [
        "money=float(input())\n",
        "print(f\"${money:.2f}\")"
      ],
      "execution_count": 9,
      "outputs": [
        {
          "output_type": "stream",
          "text": [
            "4.1\n",
            "$4.10\n"
          ],
          "name": "stdout"
        }
      ]
    }
  ]
}