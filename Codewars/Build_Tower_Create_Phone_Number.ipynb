{
  "nbformat": 4,
  "nbformat_minor": 0,
  "metadata": {
    "colab": {
      "name": "Build_Tower/Create_Phone_Number.ipynb",
      "provenance": []
    },
    "kernelspec": {
      "name": "python3",
      "display_name": "Python 3"
    },
    "language_info": {
      "name": "python"
    }
  },
  "cells": [
    {
      "cell_type": "markdown",
      "metadata": {
        "id": "AKq8eZBKgSY5"
      },
      "source": [
        "```\n",
        "Build Tower\n",
        "Build Tower by the following given argument:\n",
        "number of floors (integer and always greater than 0).\n",
        "\n",
        "Tower block is represented as *\n",
        "\n",
        "Python: return a list;\n",
        "JavaScript: returns an Array;\n",
        "C#: returns a string[];\n",
        "PHP: returns an array;\n",
        "C++: returns a vector<string>;\n",
        "Haskell: returns a [String];\n",
        "Ruby: returns an Array;\n",
        "Lua: returns a Table;\n",
        "Have fun!\n",
        "\n",
        "for example, a tower of 3 floors looks like below\n",
        "\n",
        "[\n",
        "  '  *  ', \n",
        "  ' *** ', \n",
        "  '*****'\n",
        "]\n",
        "and a tower of 6 floors looks like below\n",
        "\n",
        "[\n",
        "  '     *     ', \n",
        "  '    ***    ', \n",
        "  '   *****   ', \n",
        "  '  *******  ', \n",
        "  ' ********* ', \n",
        "  '***********'\n",
        "]\n",
        "```"
      ]
    },
    {
      "cell_type": "code",
      "metadata": {
        "colab": {
          "base_uri": "https://localhost:8080/"
        },
        "id": "a8jDk2PHZgw9",
        "outputId": "627a149b-eeef-46dd-85a5-237c34265a44"
      },
      "source": [
        "def tower_builder(n):\n",
        "  return [(i*\"*\").center(2*n-1) for i in range(1,2*n,2)]\n",
        "tower_builder(2)"
      ],
      "execution_count": null,
      "outputs": [
        {
          "output_type": "execute_result",
          "data": {
            "text/plain": [
              "[' * ', '***']"
            ]
          },
          "metadata": {
            "tags": []
          },
          "execution_count": 21
        }
      ]
    },
    {
      "cell_type": "code",
      "metadata": {
        "colab": {
          "base_uri": "https://localhost:8080/"
        },
        "id": "6WZH_wznbqbJ",
        "outputId": "13d4e8cf-e9c9-455c-9016-82b0e1934bb7"
      },
      "source": [
        "def tower_builder(n):\n",
        "  for i in range(1,2*n,2):\n",
        "    print((i*\"*\").center(2*n-1))\n",
        "tower_builder(6)"
      ],
      "execution_count": 2,
      "outputs": [
        {
          "output_type": "stream",
          "text": [
            "     *     \n",
            "    ***    \n",
            "   *****   \n",
            "  *******  \n",
            " ********* \n",
            "***********\n"
          ],
          "name": "stdout"
        }
      ]
    },
    {
      "cell_type": "markdown",
      "metadata": {
        "id": "Vm1LhpJtihXP"
      },
      "source": [
        "```\n",
        "Write a function that accepts an array of 10 integers (between 0 and 9), that returns a string of those numbers in the form of a phone number.\n",
        "\n",
        "Example:\n",
        "create_phone_number([1, 2, 3, 4, 5, 6, 7, 8, 9, 0]) # => returns \"(123) 456-7890\"\n",
        "The returned format must be correct in order to complete this challenge.\n",
        "Don't forget the space after the closing parentheses!\n",
        "```\n",
        "\n"
      ]
    },
    {
      "cell_type": "code",
      "metadata": {
        "colab": {
          "base_uri": "https://localhost:8080/",
          "height": 34
        },
        "id": "WtW2BaX7fH2R",
        "outputId": "493b0e0e-c382-4c4a-9363-aa2ddf554402"
      },
      "source": [
        "def create_phone_number(n):\n",
        "  y=\"\"\n",
        "  for i in range(len(n)):\n",
        "    if i==0:\n",
        "      y+=\"(\"+ str(n[i])\n",
        "    elif i==2:\n",
        "      y+=str(n[i])+\") \"\n",
        "    elif i==5:\n",
        "      y+=str(n[i])+\"-\"\n",
        "    else:\n",
        "      y+=str(n[i])\n",
        "  return y\n",
        "create_phone_number([1, 2, 3, 4, 5, 6, 7, 8, 9, 0])"
      ],
      "execution_count": null,
      "outputs": [
        {
          "output_type": "execute_result",
          "data": {
            "application/vnd.google.colaboratory.intrinsic+json": {
              "type": "string"
            },
            "text/plain": [
              "'(123) 456-7890'"
            ]
          },
          "metadata": {
            "tags": []
          },
          "execution_count": 27
        }
      ]
    }
  ]
}