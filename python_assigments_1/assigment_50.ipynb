{
  "nbformat": 4,
  "nbformat_minor": 0,
  "metadata": {
    "colab": {
      "name": "assigment_50.ipynb",
      "provenance": []
    },
    "kernelspec": {
      "name": "python3",
      "display_name": "Python 3"
    },
    "language_info": {
      "name": "python"
    }
  },
  "cells": [
    {
      "cell_type": "markdown",
      "metadata": {
        "id": "FEQvJ54lmdWk"
      },
      "source": [
        "Verilen sayıncı(mesala 15.asal sayı nedir) asal sayıyı bulalım."
      ]
    },
    {
      "cell_type": "code",
      "metadata": {
        "colab": {
          "base_uri": "https://localhost:8080/"
        },
        "id": "DF0zvXX1BxEm",
        "outputId": "468c575d-89cf-4161-a760-cd29e10811fd"
      },
      "source": [
        "def asal_mı(sayi):\n",
        "  asal_mı=True\n",
        "  for i in range(2,sayi):\n",
        "    if sayi==2:\n",
        "      asal_mı==True\n",
        "    elif sayi%i==0:\n",
        "      asal_mı= False\n",
        "  return asal_mı\n",
        "def asal_numarası(kacıncı):\n",
        "  sayi=1\n",
        "  kac=0\n",
        "  while kac<=kacıncı:\n",
        "    if asal_mı(sayi):\n",
        "      sayi+=1\n",
        "      kac+=1\n",
        "    else:\n",
        "      sayi+=1\n",
        "  return sayi-1\n",
        " \n",
        "print(asal_numarası(15))"
      ],
      "execution_count": 16,
      "outputs": [
        {
          "output_type": "stream",
          "text": [
            "47\n"
          ],
          "name": "stdout"
        }
      ]
    }
  ]
}