{
  "nbformat": 4,
  "nbformat_minor": 0,
  "metadata": {
    "colab": {
      "name": "Hackerrank_41_Sum_and_Prod.ipynb",
      "provenance": []
    },
    "kernelspec": {
      "name": "python3",
      "display_name": "Python 3"
    },
    "language_info": {
      "name": "python"
    }
  },
  "cells": [
    {
      "cell_type": "markdown",
      "metadata": {
        "id": "z5dfYZ__t-YY"
      },
      "source": [
        "Task\n",
        "\n",
        "You are given a 2-D array with NxM \n",
        "Your task is to perform the sum tool over axis 0 and then find the profuct of that result.\n",
        "\n",
        "Sample Input\n",
        "\n",
        "2 2\n",
        "\n",
        "1 2\n",
        "\n",
        "3 4\n",
        "\n",
        "Sample Output\n",
        "\n",
        "24\n",
        "\n",
        "Explanation\n",
        "\n",
        "The sum along axis  0= [4,6]\n",
        "\n",
        "The product of this sum = 24"
      ]
    },
    {
      "cell_type": "code",
      "metadata": {
        "colab": {
          "base_uri": "https://localhost:8080/"
        },
        "id": "I1CaRsJjrpuD",
        "outputId": "649b925d-b1db-4848-8bd1-52aa85dcbe8e"
      },
      "source": [
        "import numpy\n",
        "a,b=map(int, input().split())\n",
        "liste=[]\n",
        "for i in range(a):\n",
        "  liste.append(list(map(int,input().split())))\n",
        "top=numpy.sum(liste,axis=0)\n",
        "sonuc=1\n",
        "for i in top:\n",
        "  sonuc*=i\n",
        "print(sonuc)"
      ],
      "execution_count": 2,
      "outputs": [
        {
          "output_type": "stream",
          "text": [
            "2 2\n",
            "1 2\n",
            "3 4\n",
            "24\n"
          ],
          "name": "stdout"
        }
      ]
    }
  ]
}