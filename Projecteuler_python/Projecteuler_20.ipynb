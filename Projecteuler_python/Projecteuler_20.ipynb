{
  "nbformat": 4,
  "nbformat_minor": 0,
  "metadata": {
    "colab": {
      "name": "Projecteuler_20.ipynb",
      "provenance": []
    },
    "kernelspec": {
      "name": "python3",
      "display_name": "Python 3"
    },
    "language_info": {
      "name": "python"
    }
  },
  "cells": [
    {
      "cell_type": "code",
      "metadata": {
        "colab": {
          "base_uri": "https://localhost:8080/"
        },
        "id": "IaaNNbdhpSfT",
        "outputId": "73f8d699-3f30-45ed-bec9-c968118496b0"
      },
      "source": [
        "def faktoriyel(sayi):\n",
        "  sonuc=1\n",
        "  toplam=0\n",
        "  for i in range(2,sayi+1):\n",
        "    sonuc*=i\n",
        "  for i in str(sonuc):\n",
        "    toplam+=int(i)\n",
        "  return toplam\n",
        "print(faktoriyel(100))"
      ],
      "execution_count": 4,
      "outputs": [
        {
          "output_type": "stream",
          "text": [
            "648\n"
          ],
          "name": "stdout"
        }
      ]
    }
  ]
}