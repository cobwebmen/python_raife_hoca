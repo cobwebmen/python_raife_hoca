{
  "nbformat": 4,
  "nbformat_minor": 0,
  "metadata": {
    "colab": {
      "name": "Hackerrrank_16_lists.ipynb",
      "provenance": [],
      "collapsed_sections": []
    },
    "kernelspec": {
      "name": "python3",
      "display_name": "Python 3"
    },
    "language_info": {
      "name": "python"
    }
  },
  "cells": [
    {
      "cell_type": "markdown",
      "metadata": {
        "id": "WulhCe5ddiWP"
      },
      "source": [
        "Consider a list (list = []). You can perform the following commands:\n",
        "\n",
        "insert i e: Insert integer  at position .\n",
        "\n",
        "print: Print the list.\n",
        "\n",
        "remove e: Delete the first occurrence of integer .\n",
        "\n",
        "append e: Insert integer  at the end of the list.\n",
        "\n",
        "sort: Sort the list.\n",
        "\n",
        "pop: Pop the last element from the list.\n",
        "\n",
        "reverse: Reverse the list.\n",
        "\n",
        "Initialize your list and read in the value of  followed by  lines of commands where each command will be of the  types listed above. Iterate through each command in order and perform the corresponding operation on your list.\n",
        "\n",
        "Sample Input \n",
        "\n",
        "12\n",
        "\n",
        "insert 0 5\n",
        "\n",
        "insert 1 10\n",
        "\n",
        "insert 0 6\n",
        "\n",
        "print\n",
        "\n",
        "remove 6\n",
        "\n",
        "append 9\n",
        "\n",
        "append 1\n",
        "\n",
        "sort\n",
        "\n",
        "print\n",
        "\n",
        "pop\n",
        "\n",
        "reverse\n",
        "\n",
        "print\n",
        "\n",
        "Sample Output \n",
        "\n",
        "[6, 5, 10]\n",
        "\n",
        "[1, 5, 9, 10]\n",
        "\n",
        "[9, 5, 1]"
      ]
    },
    {
      "cell_type": "code",
      "metadata": {
        "colab": {
          "base_uri": "https://localhost:8080/"
        },
        "id": "zetIEbXOUsPO",
        "outputId": "080242b9-6094-4240-fc15-734728d0278b"
      },
      "source": [
        "if __name__ == '__main__':\n",
        "  N = int(input())\n",
        "  liste=[]\n",
        "  for _ in range(N):\n",
        "    name, *line = input().split()    \n",
        "    scores = str(tuple(map(int, line)))\n",
        "    result=\"liste.\"+name+scores\n",
        "    if name==\"print\":\n",
        "      print(liste)\n",
        "    else:   \n",
        "      eval(result)\n"
      ],
      "execution_count": 20,
      "outputs": [
        {
          "output_type": "stream",
          "text": [
            "12\n",
            "insert 0 5\n",
            "insert 1 10\n",
            "insert 0 6\n",
            "print\n",
            "[6, 5, 10]\n",
            "remove 6\n",
            "append 9\n",
            "append 1\n",
            "sort\n",
            "print\n",
            "[1, 5, 9, 10]\n",
            "pop\n",
            "reverse\n",
            "print\n",
            "[9, 5, 1]\n"
          ],
          "name": "stdout"
        }
      ]
    }
  ]
}