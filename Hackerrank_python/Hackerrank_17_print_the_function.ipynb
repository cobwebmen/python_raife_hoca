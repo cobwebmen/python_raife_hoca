{
  "nbformat": 4,
  "nbformat_minor": 0,
  "metadata": {
    "colab": {
      "name": "Hackerrank_17_print_the_function.ipynb",
      "provenance": [],
      "collapsed_sections": []
    },
    "kernelspec": {
      "name": "python3",
      "display_name": "Python 3"
    },
    "language_info": {
      "name": "python"
    }
  },
  "cells": [
    {
      "cell_type": "markdown",
      "metadata": {
        "id": "69XhxiLYhz85"
      },
      "source": [
        "Sample Input\n",
        "\n",
        "3\n",
        "\n",
        "Sample Output\n",
        "\n",
        "123\n",
        "\n",
        "example \n",
        "\n",
        "n=5\n",
        "\n",
        "print the string 12345\n"
      ]
    },
    {
      "cell_type": "code",
      "metadata": {
        "colab": {
          "base_uri": "https://localhost:8080/"
        },
        "id": "4G0K-ctBhbyH",
        "outputId": "37f25aae-7f84-4bfd-8607-411f4dc1ad3d"
      },
      "source": [
        "if __name__ == '__main__':\n",
        "    n = int(input())\n",
        "    i=1\n",
        "    sayi=\"\"\n",
        "    for i in range(1,(n+1)):\n",
        "        sayi+=str(i)\n",
        "    print(sayi)"
      ],
      "execution_count": 2,
      "outputs": [
        {
          "output_type": "stream",
          "text": [
            "5\n",
            "12345\n"
          ],
          "name": "stdout"
        }
      ]
    }
  ]
}