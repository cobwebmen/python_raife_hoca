{
  "nbformat": 4,
  "nbformat_minor": 0,
  "metadata": {
    "colab": {
      "name": "Inner_and_Outer.ipynb",
      "provenance": []
    },
    "kernelspec": {
      "name": "python3",
      "display_name": "Python 3"
    },
    "language_info": {
      "name": "python"
    }
  },
  "cells": [
    {
      "cell_type": "markdown",
      "metadata": {
        "id": "Wn3CcatAA8ou"
      },
      "source": [
        "```\n",
        "inner\n",
        "\n",
        "The inner tool returns the inner product of two arrays.\n",
        "\n",
        "import numpy\n",
        "\n",
        "A = numpy.array([0, 1])\n",
        "B = numpy.array([3, 4])\n",
        "\n",
        "print numpy.inner(A, B)     #Output : 4\n",
        "outer\n",
        "\n",
        "The outer tool returns the outer product of two arrays.\n",
        "\n",
        "import numpy\n",
        "\n",
        "A = numpy.array([0, 1])\n",
        "B = numpy.array([3, 4])\n",
        "\n",
        "print numpy.outer(A, B)     #Output : [[0 0]\n",
        "                            #          [3 4]]\n",
        "Task\n",
        "\n",
        "You are given two arrays:  and .\n",
        "Your task is to compute their inner and outer product.\n",
        "\n",
        "Input Format\n",
        "\n",
        "The first line contains the space separated elements of array .\n",
        "The second line contains the space separated elements of array .\n",
        "\n",
        "Output Format\n",
        "\n",
        "First, print the inner product.\n",
        "Second, print the outer product.\n",
        "\n",
        "Sample Input\n",
        "\n",
        "0 1\n",
        "2 3\n",
        "Sample Output\n",
        "\n",
        "3\n",
        "[[0 0]\n",
        " [2 3]]\n",
        "```\n"
      ]
    },
    {
      "cell_type": "code",
      "metadata": {
        "colab": {
          "base_uri": "https://localhost:8080/"
        },
        "id": "SBXsRYcjA5q1",
        "outputId": "e09669a8-f78c-424d-a77e-5024079b53e3"
      },
      "source": [
        "import numpy\n",
        "arr1=numpy.array(input().split(), int)\n",
        "arr2=numpy.array(input().split(), int)\n",
        "print(numpy.inner(arr1,arr2))\n",
        "print(numpy.outer(arr1,arr2))"
      ],
      "execution_count": 1,
      "outputs": [
        {
          "output_type": "stream",
          "text": [
            "0 1\n",
            "2 3\n",
            "3\n",
            "[[0 0]\n",
            " [2 3]]\n"
          ],
          "name": "stdout"
        }
      ]
    }
  ]
}