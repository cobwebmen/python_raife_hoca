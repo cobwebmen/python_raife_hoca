{
  "nbformat": 4,
  "nbformat_minor": 5,
  "metadata": {
    "kernelspec": {
      "display_name": "Python 3",
      "language": "python",
      "name": "python3"
    },
    "language_info": {
      "codemirror_mode": {
        "name": "ipython",
        "version": 3
      },
      "file_extension": ".py",
      "mimetype": "text/x-python",
      "name": "python",
      "nbconvert_exporter": "python",
      "pygments_lexer": "ipython3",
      "version": "3.8.5"
    },
    "colab": {
      "name": "week_1_students.ipynb",
      "provenance": []
    }
  },
  "cells": [
    {
      "cell_type": "markdown",
      "metadata": {
        "id": "outer-patient"
      },
      "source": [
        "# **Import Numpy Library**"
      ],
      "id": "outer-patient"
    },
    {
      "cell_type": "code",
      "metadata": {
        "id": "2203fcda"
      },
      "source": [
        "import numpy as np"
      ],
      "id": "2203fcda",
      "execution_count": 2,
      "outputs": []
    },
    {
      "cell_type": "markdown",
      "metadata": {
        "id": "4a86560f"
      },
      "source": [
        "**https://www.w3resource.com/python-exercises/numpy/index-array.php**\n",
        "- Numpy Questions: 4, 8, 9, 10, 12, 14, 19"
      ],
      "id": "4a86560f"
    },
    {
      "cell_type": "markdown",
      "metadata": {
        "id": "every-dividend"
      },
      "source": [
        "**4. Write a NumPy program to create a null vector of size 10 and update sixth value to 11.**\n",
        "<br>[ 0. 0. 0. 0. 0. 0. 0. 0. 0. 0.]\n",
        "<br>Update sixth value to 11\n",
        "<br>[ 0. 0. 0. 0. 0. 0. 11. 0. 0. 0.]"
      ],
      "id": "every-dividend"
    },
    {
      "cell_type": "code",
      "metadata": {
        "colab": {
          "base_uri": "https://localhost:8080/"
        },
        "id": "VNsyELWII_r8",
        "outputId": "60d27dce-3e24-405c-eef0-e7ae4e0b3ac8"
      },
      "source": [
        "a=np.zeros(10)\n",
        "print(a)\n"
      ],
      "id": "VNsyELWII_r8",
      "execution_count": 4,
      "outputs": [
        {
          "output_type": "stream",
          "text": [
            "[0. 0. 0. 0. 0. 0. 0. 0. 0. 0.]\n"
          ],
          "name": "stdout"
        }
      ]
    },
    {
      "cell_type": "code",
      "metadata": {
        "id": "seven-failing",
        "outputId": "c12abad9-d895-41c9-b46c-9e66a2a29af1"
      },
      "source": [
        "# ..."
      ],
      "id": "seven-failing",
      "execution_count": null,
      "outputs": [
        {
          "output_type": "stream",
          "text": [
            "[0. 0. 0. 0. 0. 0. 0. 0. 0. 0.]\n"
          ],
          "name": "stdout"
        }
      ]
    },
    {
      "cell_type": "code",
      "metadata": {
        "colab": {
          "base_uri": "https://localhost:8080/"
        },
        "id": "gTkD6wVfJBNM",
        "outputId": "c1a41dba-db63-4418-c24e-1db48b97efe0"
      },
      "source": [
        "a[6]=11\n",
        "print(\"Update sixth value to 11\")\n",
        "print(a)"
      ],
      "id": "gTkD6wVfJBNM",
      "execution_count": 5,
      "outputs": [
        {
          "output_type": "stream",
          "text": [
            "Update sixth value to 11\n",
            "[ 0.  0.  0.  0.  0.  0. 11.  0.  0.  0.]\n"
          ],
          "name": "stdout"
        }
      ]
    },
    {
      "cell_type": "code",
      "metadata": {
        "id": "requested-lambda",
        "outputId": "69c41573-7953-4a40-c039-1a887867d398"
      },
      "source": [
        "print(\"Update sixth value to 11\")\n",
        "# ..."
      ],
      "id": "requested-lambda",
      "execution_count": null,
      "outputs": [
        {
          "output_type": "stream",
          "text": [
            "Update sixth value to 11\n",
            "[ 0.  0.  0.  0.  0.  0. 11.  0.  0.  0.]\n"
          ],
          "name": "stdout"
        }
      ]
    },
    {
      "cell_type": "markdown",
      "metadata": {
        "id": "serious-victim"
      },
      "source": [
        "**8. Write a NumPy program to create a 2d array with 1 on the border and 0 inside.**\n",
        "![image-4.png](attachment:image-4.png)"
      ],
      "id": "serious-victim"
    },
    {
      "cell_type": "code",
      "metadata": {
        "colab": {
          "base_uri": "https://localhost:8080/"
        },
        "id": "xG1EFGenJCek",
        "outputId": "2377fdac-f631-40cb-c3e6-7964fe53b4e2"
      },
      "source": [
        "print(\"Orginal array:\")\n",
        "b=np.ones((5,5))\n",
        "print(b)"
      ],
      "id": "xG1EFGenJCek",
      "execution_count": 7,
      "outputs": [
        {
          "output_type": "stream",
          "text": [
            "Orginal array:\n",
            "[[1. 1. 1. 1. 1.]\n",
            " [1. 1. 1. 1. 1.]\n",
            " [1. 1. 1. 1. 1.]\n",
            " [1. 1. 1. 1. 1.]\n",
            " [1. 1. 1. 1. 1.]]\n"
          ],
          "name": "stdout"
        }
      ]
    },
    {
      "cell_type": "code",
      "metadata": {
        "id": "answering-paintball",
        "outputId": "226ebca0-a2f4-4b37-9798-8bc319ee567b"
      },
      "source": [
        "print(\"Original array:\")\n",
        "\n",
        "# ..."
      ],
      "id": "answering-paintball",
      "execution_count": null,
      "outputs": [
        {
          "output_type": "stream",
          "text": [
            "Original array:\n",
            "[[1. 1. 1. 1. 1.]\n",
            " [1. 1. 1. 1. 1.]\n",
            " [1. 1. 1. 1. 1.]\n",
            " [1. 1. 1. 1. 1.]\n",
            " [1. 1. 1. 1. 1.]]\n"
          ],
          "name": "stdout"
        }
      ]
    },
    {
      "cell_type": "code",
      "metadata": {
        "colab": {
          "base_uri": "https://localhost:8080/"
        },
        "id": "dmQAEV0YJDfA",
        "outputId": "7e9a80c8-da42-45e4-c6b8-8053c84f962b"
      },
      "source": [
        "print(\"1 on the border and 0 inside in the array\")\n",
        "b[1:-1,1:-1]=0\n",
        "print(b)"
      ],
      "id": "dmQAEV0YJDfA",
      "execution_count": 9,
      "outputs": [
        {
          "output_type": "stream",
          "text": [
            "1 on the border and 0 inside in the array\n",
            "[[1. 1. 1. 1. 1.]\n",
            " [1. 0. 0. 0. 1.]\n",
            " [1. 0. 0. 0. 1.]\n",
            " [1. 0. 0. 0. 1.]\n",
            " [1. 1. 1. 1. 1.]]\n"
          ],
          "name": "stdout"
        }
      ]
    },
    {
      "cell_type": "code",
      "metadata": {
        "id": "falling-filling",
        "outputId": "cb0cbd7b-3135-4444-e18a-da4e693106ce"
      },
      "source": [
        "print(\"1 on the border and 0 inside in the array\")\n",
        "\n",
        "# ..."
      ],
      "id": "falling-filling",
      "execution_count": null,
      "outputs": [
        {
          "output_type": "stream",
          "text": [
            "1 on the border and 0 inside in the array\n",
            "[[1. 1. 1. 1. 1.]\n",
            " [1. 0. 0. 0. 1.]\n",
            " [1. 0. 0. 0. 1.]\n",
            " [1. 0. 0. 0. 1.]\n",
            " [1. 1. 1. 1. 1.]]\n"
          ],
          "name": "stdout"
        }
      ]
    },
    {
      "cell_type": "markdown",
      "metadata": {
        "id": "virgin-warehouse"
      },
      "source": [
        "**9. Write a NumPy program to add a border (filled with 0's) around an existing array.**\n",
        "![image-2.png](attachment:image-2.png)"
      ],
      "id": "virgin-warehouse"
    },
    {
      "cell_type": "code",
      "metadata": {
        "colab": {
          "base_uri": "https://localhost:8080/"
        },
        "id": "SIZ5YPeWJEt4",
        "outputId": "f11ff11c-251c-4ec2-c929-122c2ada3735"
      },
      "source": [
        "o=np.ones((3,3))\n",
        "print(\"Original array:\")\n",
        "print(o)"
      ],
      "id": "SIZ5YPeWJEt4",
      "execution_count": 13,
      "outputs": [
        {
          "output_type": "stream",
          "text": [
            "Original array:\n",
            "[[1. 1. 1.]\n",
            " [1. 1. 1.]\n",
            " [1. 1. 1.]]\n"
          ],
          "name": "stdout"
        }
      ]
    },
    {
      "cell_type": "code",
      "metadata": {
        "id": "psychological-trouble",
        "outputId": "a95c7ad7-ce8c-48dc-bd93-c7a8551bdf51"
      },
      "source": [
        "print(\"Original array:\")\n",
        "\n",
        "# ..."
      ],
      "id": "psychological-trouble",
      "execution_count": null,
      "outputs": [
        {
          "output_type": "stream",
          "text": [
            "Original array:\n",
            "[[1. 1. 1.]\n",
            " [1. 1. 1.]\n",
            " [1. 1. 1.]]\n"
          ],
          "name": "stdout"
        }
      ]
    },
    {
      "cell_type": "code",
      "metadata": {
        "colab": {
          "base_uri": "https://localhost:8080/"
        },
        "id": "q8q1Z14qJFoI",
        "outputId": "e80008a2-038a-4e0f-8633-35380467cf0b"
      },
      "source": [
        "print(\"0 on the border and 1 inside in the array\")\n",
        "o = np.pad(o, pad_width=1, mode='constant', constant_values=0)\n",
        "print(o)"
      ],
      "id": "q8q1Z14qJFoI",
      "execution_count": 14,
      "outputs": [
        {
          "output_type": "stream",
          "text": [
            "0 on the border and 1 inside in the array\n",
            "[[0. 0. 0. 0. 0.]\n",
            " [0. 1. 1. 1. 0.]\n",
            " [0. 1. 1. 1. 0.]\n",
            " [0. 1. 1. 1. 0.]\n",
            " [0. 0. 0. 0. 0.]]\n"
          ],
          "name": "stdout"
        }
      ]
    },
    {
      "cell_type": "code",
      "metadata": {
        "id": "scientific-academy",
        "outputId": "10909383-e230-4264-cc25-8613cffd0e2a"
      },
      "source": [
        "print(\"0 on the border and 1 inside in the array\")\n",
        "\n",
        "# ..."
      ],
      "id": "scientific-academy",
      "execution_count": null,
      "outputs": [
        {
          "output_type": "stream",
          "text": [
            "0 on the border and 1 inside in the array\n",
            "[[0. 0. 0. 0. 0.]\n",
            " [0. 1. 1. 1. 0.]\n",
            " [0. 1. 1. 1. 0.]\n",
            " [0. 1. 1. 1. 0.]\n",
            " [0. 0. 0. 0. 0.]]\n"
          ],
          "name": "stdout"
        }
      ]
    },
    {
      "cell_type": "markdown",
      "metadata": {
        "id": "given-champion"
      },
      "source": [
        "**10. Write a NumPy program to create a \n",
        "\n",
        "---\n",
        "\n",
        "8x8 matrix and fill it with a checkerboard pattern.**\n",
        "![image.png](attachment:image.png)"
      ],
      "id": "given-champion"
    },
    {
      "cell_type": "code",
      "metadata": {
        "colab": {
          "base_uri": "https://localhost:8080/"
        },
        "id": "dMf9os5BJGrU",
        "outputId": "73030d29-bb19-4b36-e517-8c975d9695d2"
      },
      "source": [
        "c=np.ones((3,3))\n",
        "c"
      ],
      "id": "dMf9os5BJGrU",
      "execution_count": 17,
      "outputs": [
        {
          "output_type": "execute_result",
          "data": {
            "text/plain": [
              "array([[1., 1., 1.],\n",
              "       [1., 1., 1.],\n",
              "       [1., 1., 1.]])"
            ]
          },
          "metadata": {
            "tags": []
          },
          "execution_count": 17
        }
      ]
    },
    {
      "cell_type": "code",
      "metadata": {
        "id": "specific-animal",
        "outputId": "0d378ad5-60db-4c3a-8d15-4c8aafff762c"
      },
      "source": [
        "# ...\n"
      ],
      "id": "specific-animal",
      "execution_count": null,
      "outputs": [
        {
          "output_type": "execute_result",
          "data": {
            "text/plain": [
              "array([[1., 1., 1.],\n",
              "       [1., 1., 1.],\n",
              "       [1., 1., 1.]])"
            ]
          },
          "metadata": {
            "tags": []
          },
          "execution_count": 61
        }
      ]
    },
    {
      "cell_type": "code",
      "metadata": {
        "colab": {
          "base_uri": "https://localhost:8080/"
        },
        "id": "upKsgTMWJHmC",
        "outputId": "c995cb03-ed39-46ad-fa6c-7731aca6ea77"
      },
      "source": [
        "print(\"Checkerboard pattern:\")\n",
        "c=np.zeros((8,8),int)\n",
        "c[1::2,::2]=1\n",
        "c"
      ],
      "id": "upKsgTMWJHmC",
      "execution_count": 22,
      "outputs": [
        {
          "output_type": "stream",
          "text": [
            "Checkerboard pattern:\n"
          ],
          "name": "stdout"
        },
        {
          "output_type": "execute_result",
          "data": {
            "text/plain": [
              "array([[0, 0, 0, 0, 0, 0, 0, 0],\n",
              "       [1, 0, 1, 0, 1, 0, 1, 0],\n",
              "       [0, 0, 0, 0, 0, 0, 0, 0],\n",
              "       [1, 0, 1, 0, 1, 0, 1, 0],\n",
              "       [0, 0, 0, 0, 0, 0, 0, 0],\n",
              "       [1, 0, 1, 0, 1, 0, 1, 0],\n",
              "       [0, 0, 0, 0, 0, 0, 0, 0],\n",
              "       [1, 0, 1, 0, 1, 0, 1, 0]])"
            ]
          },
          "metadata": {
            "tags": []
          },
          "execution_count": 22
        }
      ]
    },
    {
      "cell_type": "code",
      "metadata": {
        "id": "contained-nudist",
        "outputId": "d93ca7e8-d606-4930-b268-835dc30c9429"
      },
      "source": [
        "print(\"Checkerboard pattern:\")\n",
        "\n",
        "\n",
        "# ..."
      ],
      "id": "contained-nudist",
      "execution_count": null,
      "outputs": [
        {
          "output_type": "stream",
          "text": [
            "Checkerboard pattern:\n"
          ],
          "name": "stdout"
        },
        {
          "output_type": "execute_result",
          "data": {
            "text/plain": [
              "array([[0, 0, 0, 0, 0, 0, 0, 0],\n",
              "       [1, 0, 1, 0, 1, 0, 1, 0],\n",
              "       [0, 0, 0, 0, 0, 0, 0, 0],\n",
              "       [1, 0, 1, 0, 1, 0, 1, 0],\n",
              "       [0, 0, 0, 0, 0, 0, 0, 0],\n",
              "       [1, 0, 1, 0, 1, 0, 1, 0],\n",
              "       [0, 0, 0, 0, 0, 0, 0, 0],\n",
              "       [1, 0, 1, 0, 1, 0, 1, 0]])"
            ]
          },
          "metadata": {
            "tags": []
          },
          "execution_count": 62
        }
      ]
    },
    {
      "cell_type": "code",
      "metadata": {
        "colab": {
          "base_uri": "https://localhost:8080/"
        },
        "id": "EtscMKR7JIh0",
        "outputId": "97ae58dc-2f85-46c1-9cf3-d5762126a472"
      },
      "source": [
        "d=np.zeros((8,8),int)\n",
        "d[::2,1::2]=1\n",
        "d[1::2,::2]=1\n",
        "print(d)"
      ],
      "id": "EtscMKR7JIh0",
      "execution_count": 24,
      "outputs": [
        {
          "output_type": "stream",
          "text": [
            "[[0 1 0 1 0 1 0 1]\n",
            " [1 0 1 0 1 0 1 0]\n",
            " [0 1 0 1 0 1 0 1]\n",
            " [1 0 1 0 1 0 1 0]\n",
            " [0 1 0 1 0 1 0 1]\n",
            " [1 0 1 0 1 0 1 0]\n",
            " [0 1 0 1 0 1 0 1]\n",
            " [1 0 1 0 1 0 1 0]]\n"
          ],
          "name": "stdout"
        }
      ]
    },
    {
      "cell_type": "code",
      "metadata": {
        "id": "sufficient-heart",
        "outputId": "a20ecce6-53c3-4dd5-f7c3-01dce1b38248"
      },
      "source": [
        "# ..."
      ],
      "id": "sufficient-heart",
      "execution_count": null,
      "outputs": [
        {
          "output_type": "stream",
          "text": [
            "[[0 1 0 1 0 1 0 1]\n",
            " [1 0 1 0 1 0 1 0]\n",
            " [0 1 0 1 0 1 0 1]\n",
            " [1 0 1 0 1 0 1 0]\n",
            " [0 1 0 1 0 1 0 1]\n",
            " [1 0 1 0 1 0 1 0]\n",
            " [0 1 0 1 0 1 0 1]\n",
            " [1 0 1 0 1 0 1 0]]\n"
          ],
          "name": "stdout"
        }
      ]
    },
    {
      "cell_type": "markdown",
      "metadata": {
        "id": "reverse-brook"
      },
      "source": [
        "**12. Write a NumPy program to append values to the end of an array.**\n",
        "![image-2.png](attachment:image-2.png)"
      ],
      "id": "reverse-brook"
    },
    {
      "cell_type": "code",
      "metadata": {
        "colab": {
          "base_uri": "https://localhost:8080/"
        },
        "id": "gyH0S9FTJJYh",
        "outputId": "30a9b403-0c17-4877-f8d3-f3caca291438"
      },
      "source": [
        "print(\"Original array:\")\n",
        "e=np.arange(10,31,10)\n",
        "print(e)"
      ],
      "id": "gyH0S9FTJJYh",
      "execution_count": 26,
      "outputs": [
        {
          "output_type": "stream",
          "text": [
            "Original array:\n",
            "[10 20 30]\n"
          ],
          "name": "stdout"
        }
      ]
    },
    {
      "cell_type": "code",
      "metadata": {
        "id": "random-helping",
        "outputId": "0fa5d334-4a4b-43e0-dd3a-d1e8d8ebe465"
      },
      "source": [
        "print(\"Original array:\")\n",
        "\n",
        "# ...\n"
      ],
      "id": "random-helping",
      "execution_count": null,
      "outputs": [
        {
          "output_type": "stream",
          "text": [
            "Original array:\n",
            "[10, 20, 30]\n"
          ],
          "name": "stdout"
        }
      ]
    },
    {
      "cell_type": "code",
      "metadata": {
        "colab": {
          "base_uri": "https://localhost:8080/"
        },
        "id": "PXSowHIEJKMK",
        "outputId": "cb33628b-7ea6-49d1-ee00-7fde407e5889"
      },
      "source": [
        "print(\"After append values to the end of the array:\")\n",
        "e=np.append(e,[40, 50, 60, 70, 80, 90])\n",
        "print(e)"
      ],
      "id": "PXSowHIEJKMK",
      "execution_count": 32,
      "outputs": [
        {
          "output_type": "stream",
          "text": [
            "After append values to the end of the array:\n",
            "[10 20 30 40 50 60 70 80 90 40 50 60 70 80 90]\n"
          ],
          "name": "stdout"
        }
      ]
    },
    {
      "cell_type": "code",
      "metadata": {
        "id": "driven-concord",
        "outputId": "26d28f86-6b55-4fb0-bbf9-286178097e99"
      },
      "source": [
        "print(\"After append values to the end of the array:\")\n",
        "\n",
        "# ...\n"
      ],
      "id": "driven-concord",
      "execution_count": null,
      "outputs": [
        {
          "output_type": "stream",
          "text": [
            "After append values to the end of the array:\n",
            "[10 20 30 40 50 60 70 80 90]\n"
          ],
          "name": "stdout"
        }
      ]
    },
    {
      "cell_type": "markdown",
      "metadata": {
        "id": "compact-married"
      },
      "source": [
        "**14. Write a NumPy program to convert the values of Centigrade degrees into Fahrenheit degrees. Centigrade values are stored into a NumPy array.**\n",
        "![image.png](attachment:image.png)"
      ],
      "id": "compact-married"
    },
    {
      "cell_type": "code",
      "metadata": {
        "colab": {
          "base_uri": "https://localhost:8080/"
        },
        "id": "qDMbdTc9JLYv",
        "outputId": "cf36c699-607f-45e0-8e3f-f84e3a5b2d1f"
      },
      "source": [
        "print(\"Values in Fahrenheit degrees:\")\n",
        "F=np.array([0,12,45.21,34,99.91])\n",
        "print(F)"
      ],
      "id": "qDMbdTc9JLYv",
      "execution_count": 37,
      "outputs": [
        {
          "output_type": "stream",
          "text": [
            "Values in Fahrenheit degrees:\n",
            "[ 0.   12.   45.21 34.   99.91]\n"
          ],
          "name": "stdout"
        }
      ]
    },
    {
      "cell_type": "code",
      "metadata": {
        "id": "competitive-factor",
        "outputId": "3fcec909-e9f5-4cf6-b981-3b49bbf4bb47"
      },
      "source": [
        "print(\"Values in Fahrenheit degrees:\")\n",
        "\n",
        "# ...\n"
      ],
      "id": "competitive-factor",
      "execution_count": null,
      "outputs": [
        {
          "output_type": "stream",
          "text": [
            "Values in Fahrenheit degrees:\n",
            "[ 0.   12.   45.21 34.   99.91]\n"
          ],
          "name": "stdout"
        }
      ]
    },
    {
      "cell_type": "code",
      "metadata": {
        "colab": {
          "base_uri": "https://localhost:8080/"
        },
        "id": "djROz3NrJMMS",
        "outputId": "b65d436d-ec83-4063-f62d-255052709b3c"
      },
      "source": [
        "print(\"Values in  Centigrade degrees:\")  #Example: (50°F - 32) x .5556 = 10°C\n",
        "F=(F-32)*5/9\n",
        "print(F)"
      ],
      "id": "djROz3NrJMMS",
      "execution_count": 38,
      "outputs": [
        {
          "output_type": "stream",
          "text": [
            "Values in  Centigrade degrees:\n",
            "[-17.77777778 -11.11111111   7.33888889   1.11111111  37.72777778]\n"
          ],
          "name": "stdout"
        }
      ]
    },
    {
      "cell_type": "code",
      "metadata": {
        "id": "educated-finger",
        "outputId": "1201549f-1066-41dc-dee0-5a08c4c84727"
      },
      "source": [
        "print(\"Values in  Centigrade degrees:\") \n",
        "\n",
        "# ...\n"
      ],
      "id": "educated-finger",
      "execution_count": null,
      "outputs": [
        {
          "output_type": "stream",
          "text": [
            "Values in  Centigrade degrees:\n",
            "[-17.77777778 -11.11111111   7.33888889   1.11111111  37.72777778]\n"
          ],
          "name": "stdout"
        }
      ]
    },
    {
      "cell_type": "markdown",
      "metadata": {
        "id": "derived-practitioner"
      },
      "source": [
        "**19. Write a NumPy program to get the unique elements of an array.**\n",
        "![image.png](attachment:image.png)"
      ],
      "id": "derived-practitioner"
    },
    {
      "cell_type": "code",
      "metadata": {
        "colab": {
          "base_uri": "https://localhost:8080/"
        },
        "id": "9_srSmSnJM7w",
        "outputId": "edf43e3b-19c4-44b4-c223-9045b756e12c"
      },
      "source": [
        "print(\"Original array:\")\n",
        "k=np.array([10,10,20,20,30,30])\n",
        "print(k)"
      ],
      "id": "9_srSmSnJM7w",
      "execution_count": 40,
      "outputs": [
        {
          "output_type": "stream",
          "text": [
            "Original array:\n",
            "[10 10 20 20 30 30]\n"
          ],
          "name": "stdout"
        }
      ]
    },
    {
      "cell_type": "code",
      "metadata": {
        "id": "atlantic-sitting",
        "outputId": "d8d61850-5801-4ef5-92cd-0d58f55f0824"
      },
      "source": [
        "print(\"Original array:\")\n",
        "# ..."
      ],
      "id": "atlantic-sitting",
      "execution_count": null,
      "outputs": [
        {
          "output_type": "stream",
          "text": [
            "Original array:\n",
            "[10 10 20 20 30 30]\n"
          ],
          "name": "stdout"
        }
      ]
    },
    {
      "cell_type": "code",
      "metadata": {
        "colab": {
          "base_uri": "https://localhost:8080/"
        },
        "id": "47flxI8VJNtY",
        "outputId": "8d65d538-1c6c-4f08-ac15-1f670cbbb1b0"
      },
      "source": [
        "print(\"Unique elements of the above array:\")\n",
        "uniques=np.unique(k)\n",
        "print(uniques)"
      ],
      "id": "47flxI8VJNtY",
      "execution_count": 44,
      "outputs": [
        {
          "output_type": "stream",
          "text": [
            "Unique elements of the above array:\n",
            "[10 20 30]\n"
          ],
          "name": "stdout"
        }
      ]
    },
    {
      "cell_type": "code",
      "metadata": {
        "id": "physical-garlic",
        "outputId": "8a4564d5-4cae-457c-9fad-0cc9e4351596"
      },
      "source": [
        "print(\"Unique elements of the above array:\")\n",
        "\n",
        "# ...\n"
      ],
      "id": "physical-garlic",
      "execution_count": null,
      "outputs": [
        {
          "output_type": "stream",
          "text": [
            "Unique elements of the above array:\n",
            "[10 20 30]\n"
          ],
          "name": "stdout"
        }
      ]
    },
    {
      "cell_type": "code",
      "metadata": {
        "colab": {
          "base_uri": "https://localhost:8080/"
        },
        "id": "DzQdUnzdJOur",
        "outputId": "b2d41061-6367-4589-83d5-1e8fcc653d8c"
      },
      "source": [
        "print(\"Original array:\")\n",
        "l=np.array([[1,1],[2,3]])\n",
        "print(l)"
      ],
      "id": "DzQdUnzdJOur",
      "execution_count": 45,
      "outputs": [
        {
          "output_type": "stream",
          "text": [
            "Original array:\n",
            "[[1 1]\n",
            " [2 3]]\n"
          ],
          "name": "stdout"
        }
      ]
    },
    {
      "cell_type": "code",
      "metadata": {
        "id": "scheduled-consequence",
        "outputId": "7a6fd7a5-33e0-4068-9f44-390a87729733"
      },
      "source": [
        "print(\"Original array:\")\n",
        "\n",
        "# ...\n"
      ],
      "id": "scheduled-consequence",
      "execution_count": null,
      "outputs": [
        {
          "output_type": "stream",
          "text": [
            "Original array:\n",
            "[[1 1]\n",
            " [2 3]]\n"
          ],
          "name": "stdout"
        }
      ]
    },
    {
      "cell_type": "code",
      "metadata": {
        "colab": {
          "base_uri": "https://localhost:8080/"
        },
        "id": "RIPwePWLJQAu",
        "outputId": "f463a6b3-7de5-49f7-bf2d-d9ee955ca1a8"
      },
      "source": [
        "print(\"Unique elements of the above array:\")\n",
        "un=np.unique(l)\n",
        "print(un)"
      ],
      "id": "RIPwePWLJQAu",
      "execution_count": 47,
      "outputs": [
        {
          "output_type": "stream",
          "text": [
            "Unique elements of the above array:\n",
            "[1 2 3]\n"
          ],
          "name": "stdout"
        }
      ]
    },
    {
      "cell_type": "code",
      "metadata": {
        "id": "widespread-surveillance",
        "outputId": "7e00837e-a8c3-4138-9900-e29a97057cac"
      },
      "source": [
        "print(\"Unique elements of the above array:\")\n",
        "\n",
        "# ...\n"
      ],
      "id": "widespread-surveillance",
      "execution_count": null,
      "outputs": [
        {
          "output_type": "stream",
          "text": [
            "Unique elements of the above array:\n",
            "[1 2 3]\n"
          ],
          "name": "stdout"
        }
      ]
    },
    {
      "cell_type": "markdown",
      "metadata": {
        "id": "downtown-sauce"
      },
      "source": [
        "# **import Pandas Library**"
      ],
      "id": "downtown-sauce"
    },
    {
      "cell_type": "code",
      "metadata": {
        "id": "infectious-spotlight"
      },
      "source": [
        "import pandas as pd"
      ],
      "id": "infectious-spotlight",
      "execution_count": 48,
      "outputs": []
    },
    {
      "cell_type": "markdown",
      "metadata": {
        "id": "3790dc46"
      },
      "source": [
        "**https://www.w3resource.com/python-exercises/pandas/index-data-series.php**\n",
        "- Pandas Questions: 2, 3, 5, 6, 13"
      ],
      "id": "3790dc46"
    },
    {
      "cell_type": "markdown",
      "metadata": {
        "id": "hollow-enhancement"
      },
      "source": [
        "**2. Write a Pandas program to convert a Pandas module Series to Python list and it's type.**"
      ],
      "id": "hollow-enhancement"
    },
    {
      "cell_type": "code",
      "metadata": {
        "id": "c7cacd5e"
      },
      "source": [
        "list_1 = [2, 4, 6, 8, 10]"
      ],
      "id": "c7cacd5e",
      "execution_count": 50,
      "outputs": []
    },
    {
      "cell_type": "code",
      "metadata": {
        "colab": {
          "base_uri": "https://localhost:8080/"
        },
        "id": "Gih6__VqJTNI",
        "outputId": "439b1b44-e671-4ff9-cc5f-579077d01031"
      },
      "source": [
        "print(\"Pandas Series and type\")\n",
        "a=pd.Series(list_1)\n",
        "print(a)\n",
        "print(type(a))"
      ],
      "id": "Gih6__VqJTNI",
      "execution_count": 51,
      "outputs": [
        {
          "output_type": "stream",
          "text": [
            "Pandas Series and type\n",
            "0     2\n",
            "1     4\n",
            "2     6\n",
            "3     8\n",
            "4    10\n",
            "dtype: int64\n",
            "<class 'pandas.core.series.Series'>\n"
          ],
          "name": "stdout"
        }
      ]
    },
    {
      "cell_type": "code",
      "metadata": {
        "id": "exceptional-vienna",
        "outputId": "cbe2e84d-203e-46b5-e89a-4fc95ea3ad7b"
      },
      "source": [
        "# Convert the Python list to a Pandas Series \n",
        "print(\"Pandas Series and type\")\n",
        "\n",
        "# ...\n"
      ],
      "id": "exceptional-vienna",
      "execution_count": null,
      "outputs": [
        {
          "output_type": "stream",
          "text": [
            "Pandas Series and type\n",
            "0     2\n",
            "1     4\n",
            "2     6\n",
            "3     8\n",
            "4    10\n",
            "dtype: int64\n",
            "<class 'pandas.core.series.Series'>\n"
          ],
          "name": "stdout"
        }
      ]
    },
    {
      "cell_type": "code",
      "metadata": {
        "colab": {
          "base_uri": "https://localhost:8080/"
        },
        "id": "izIhxdxKJUOz",
        "outputId": "fdc0a9ed-0635-4c67-bcf7-73da3b642b0d"
      },
      "source": [
        "b=list(a)\n",
        "print(b)\n",
        "print(type(b))"
      ],
      "id": "izIhxdxKJUOz",
      "execution_count": 52,
      "outputs": [
        {
          "output_type": "stream",
          "text": [
            "[2, 4, 6, 8, 10]\n",
            "<class 'list'>\n"
          ],
          "name": "stdout"
        }
      ]
    },
    {
      "cell_type": "code",
      "metadata": {
        "id": "neither-production",
        "outputId": "05bd1a5d-4df4-41f7-f9cf-4f891a17f27f"
      },
      "source": [
        "# Convert the Pandas Series to Python list\n",
        "\n",
        "# ...\n"
      ],
      "id": "neither-production",
      "execution_count": null,
      "outputs": [
        {
          "output_type": "stream",
          "text": [
            "[2, 4, 6, 8, 10]\n",
            "<class 'list'>\n"
          ],
          "name": "stdout"
        }
      ]
    },
    {
      "cell_type": "markdown",
      "metadata": {
        "id": "confused-parade"
      },
      "source": [
        "**3. Write a Pandas program to add, subtract, multiple and divide two Pandas Series.**"
      ],
      "id": "confused-parade"
    },
    {
      "cell_type": "code",
      "metadata": {
        "id": "1aad2a90"
      },
      "source": [
        "list1 = [2, 4, 6, 8, 10]\n",
        "list2 = [1, 3, 5, 7, 9]"
      ],
      "id": "1aad2a90",
      "execution_count": 53,
      "outputs": []
    },
    {
      "cell_type": "code",
      "metadata": {
        "id": "QuYKVI6fJXyY"
      },
      "source": [
        "l1=pd.Series(list1)\n",
        "l2=pd.Series(list2)"
      ],
      "id": "QuYKVI6fJXyY",
      "execution_count": 58,
      "outputs": []
    },
    {
      "cell_type": "code",
      "metadata": {
        "id": "4ed60289"
      },
      "source": [
        "# Create two Pandas series with these lists\n",
        "\n",
        "# ...\n"
      ],
      "id": "4ed60289",
      "execution_count": null,
      "outputs": []
    },
    {
      "cell_type": "code",
      "metadata": {
        "colab": {
          "base_uri": "https://localhost:8080/"
        },
        "id": "pF6ldxKVJYnh",
        "outputId": "578c7c33-8a83-4507-c496-75ae1ebda8d1"
      },
      "source": [
        "print(\"Add two Series:\")\n",
        "s=l1+l2\n",
        "print(s)"
      ],
      "id": "pF6ldxKVJYnh",
      "execution_count": 55,
      "outputs": [
        {
          "output_type": "stream",
          "text": [
            "Add two Series:\n",
            "0     3\n",
            "1     7\n",
            "2    11\n",
            "3    15\n",
            "4    19\n",
            "dtype: int64\n"
          ],
          "name": "stdout"
        }
      ]
    },
    {
      "cell_type": "code",
      "metadata": {
        "colab": {
          "base_uri": "https://localhost:8080/"
        },
        "id": "Ac3DiNeNYM_-",
        "outputId": "2bf7be7f-f5af-404f-e323-ee8ba03e2f5d"
      },
      "source": [
        "print(\"Add two Series:\")\n",
        "np.add(l1,l2)"
      ],
      "id": "Ac3DiNeNYM_-",
      "execution_count": 56,
      "outputs": [
        {
          "output_type": "execute_result",
          "data": {
            "text/plain": [
              "0     3\n",
              "1     7\n",
              "2    11\n",
              "3    15\n",
              "4    19\n",
              "dtype: int64"
            ]
          },
          "metadata": {
            "tags": []
          },
          "execution_count": 56
        }
      ]
    },
    {
      "cell_type": "code",
      "metadata": {
        "id": "annual-rachel",
        "outputId": "c27c1ed5-8ca5-415a-d926-77ce36356be9"
      },
      "source": [
        "print(\"Add two Series:\")\n",
        "\n",
        "# ...\n"
      ],
      "id": "annual-rachel",
      "execution_count": null,
      "outputs": [
        {
          "output_type": "stream",
          "text": [
            "Add two Series:\n",
            "0     3\n",
            "1     7\n",
            "2    11\n",
            "3    15\n",
            "4    19\n",
            "dtype: int64\n"
          ],
          "name": "stdout"
        }
      ]
    },
    {
      "cell_type": "code",
      "metadata": {
        "colab": {
          "base_uri": "https://localhost:8080/"
        },
        "id": "OkhA20t6JZwM",
        "outputId": "a5ce2053-b563-4a8a-a0c4-a3b4a2c520cd"
      },
      "source": [
        "print(\"Subtract two Series:\")\n",
        "print(np.subtract(l1,l2))"
      ],
      "id": "OkhA20t6JZwM",
      "execution_count": 60,
      "outputs": [
        {
          "output_type": "stream",
          "text": [
            "Subtract two Series:\n",
            "0    1\n",
            "1    1\n",
            "2    1\n",
            "3    1\n",
            "4    1\n",
            "dtype: int64\n"
          ],
          "name": "stdout"
        }
      ]
    },
    {
      "cell_type": "code",
      "metadata": {
        "colab": {
          "base_uri": "https://localhost:8080/"
        },
        "id": "q4W3eUxGYYBl",
        "outputId": "dd5ceadc-28f8-455b-8050-6aa3aaad3692"
      },
      "source": [
        "print(\"Subtract two Series:\")\n",
        "print(l1-l2)"
      ],
      "id": "q4W3eUxGYYBl",
      "execution_count": 59,
      "outputs": [
        {
          "output_type": "stream",
          "text": [
            "Subtract two Series:\n",
            "0    1\n",
            "1    1\n",
            "2    1\n",
            "3    1\n",
            "4    1\n",
            "dtype: int64\n"
          ],
          "name": "stdout"
        }
      ]
    },
    {
      "cell_type": "code",
      "metadata": {
        "id": "breathing-documentary",
        "outputId": "a6006aac-a48f-42e6-cb2a-62d849659a4e"
      },
      "source": [
        "print(\"Subtract two Series:\")\n",
        "\n",
        "# ...\n"
      ],
      "id": "breathing-documentary",
      "execution_count": null,
      "outputs": [
        {
          "output_type": "stream",
          "text": [
            "Subtract two Series:\n",
            "0    1\n",
            "1    1\n",
            "2    1\n",
            "3    1\n",
            "4    1\n",
            "dtype: int64\n"
          ],
          "name": "stdout"
        }
      ]
    },
    {
      "cell_type": "code",
      "metadata": {
        "colab": {
          "base_uri": "https://localhost:8080/"
        },
        "id": "ObXKs1ZTYrLX",
        "outputId": "98a4d91b-2a83-4e6b-e7e7-67e83548d79f"
      },
      "source": [
        "print(\"Multiply two Series:\")\n",
        "print(np.multiply(l1,l2))"
      ],
      "id": "ObXKs1ZTYrLX",
      "execution_count": 61,
      "outputs": [
        {
          "output_type": "stream",
          "text": [
            "Multiply two Series:\n",
            "0     2\n",
            "1    12\n",
            "2    30\n",
            "3    56\n",
            "4    90\n",
            "dtype: int64\n"
          ],
          "name": "stdout"
        }
      ]
    },
    {
      "cell_type": "code",
      "metadata": {
        "colab": {
          "base_uri": "https://localhost:8080/"
        },
        "id": "nQTxT0kxJanL",
        "outputId": "11dc3c47-f936-44ac-98bd-ff19507a068e"
      },
      "source": [
        "print(\"Multiply two Series:\")\n",
        "print(l1*l2)"
      ],
      "id": "nQTxT0kxJanL",
      "execution_count": 62,
      "outputs": [
        {
          "output_type": "stream",
          "text": [
            "Multiply two Series:\n",
            "0     2\n",
            "1    12\n",
            "2    30\n",
            "3    56\n",
            "4    90\n",
            "dtype: int64\n"
          ],
          "name": "stdout"
        }
      ]
    },
    {
      "cell_type": "code",
      "metadata": {
        "id": "personal-newsletter",
        "outputId": "0babf0d0-9d2d-417c-a231-939cc8ed74ef"
      },
      "source": [
        "print(\"Multiply two Series:\")\n",
        "\n",
        "# ...\n"
      ],
      "id": "personal-newsletter",
      "execution_count": null,
      "outputs": [
        {
          "output_type": "stream",
          "text": [
            "Multiply two Series:\n",
            "0     2\n",
            "1    12\n",
            "2    30\n",
            "3    56\n",
            "4    90\n",
            "dtype: int64\n"
          ],
          "name": "stdout"
        }
      ]
    },
    {
      "cell_type": "code",
      "metadata": {
        "colab": {
          "base_uri": "https://localhost:8080/"
        },
        "id": "PufA6TxGJbkd",
        "outputId": "df465025-bddc-4f51-ccd5-d2d3d4d7cb3a"
      },
      "source": [
        "print(\"Divide Series1 by Series2:\")\n",
        "print(np.divide(l1,l2))"
      ],
      "id": "PufA6TxGJbkd",
      "execution_count": 64,
      "outputs": [
        {
          "output_type": "stream",
          "text": [
            "Divide Series1 by Series2:\n",
            "0    2.000000\n",
            "1    1.333333\n",
            "2    1.200000\n",
            "3    1.142857\n",
            "4    1.111111\n",
            "dtype: float64\n"
          ],
          "name": "stdout"
        }
      ]
    },
    {
      "cell_type": "code",
      "metadata": {
        "colab": {
          "base_uri": "https://localhost:8080/"
        },
        "id": "eohSScg7Y4P8",
        "outputId": "b335b4cd-e528-4944-ae72-75190dd8f6fd"
      },
      "source": [
        "print(\"Divide Series1 by Series2:\")\n",
        "print(l1/l2)"
      ],
      "id": "eohSScg7Y4P8",
      "execution_count": 63,
      "outputs": [
        {
          "output_type": "stream",
          "text": [
            "Divide Series1 by Series2:\n",
            "0    2.000000\n",
            "1    1.333333\n",
            "2    1.200000\n",
            "3    1.142857\n",
            "4    1.111111\n",
            "dtype: float64\n"
          ],
          "name": "stdout"
        }
      ]
    },
    {
      "cell_type": "code",
      "metadata": {
        "id": "sporting-theorem",
        "outputId": "0ce602a4-1734-4664-8258-9d48101b57f9"
      },
      "source": [
        "print(\"Divide Series1 by Series2:\")\n",
        "\n",
        "# ...\n"
      ],
      "id": "sporting-theorem",
      "execution_count": null,
      "outputs": [
        {
          "output_type": "stream",
          "text": [
            "Divide Series1 by Series2:\n",
            "0    2.000000\n",
            "1    1.333333\n",
            "2    1.200000\n",
            "3    1.142857\n",
            "4    1.111111\n",
            "dtype: float64\n"
          ],
          "name": "stdout"
        }
      ]
    },
    {
      "cell_type": "markdown",
      "metadata": {
        "id": "competitive-fifteen"
      },
      "source": [
        "**5. Write a Pandas program to convert a dictionary to a Pandas series.**"
      ],
      "id": "competitive-fifteen"
    },
    {
      "cell_type": "code",
      "metadata": {
        "id": "0cd18195"
      },
      "source": [
        "keys=['a','b','c','d','e']\n",
        "values = [100, 200, 300, 400, 800]"
      ],
      "id": "0cd18195",
      "execution_count": 65,
      "outputs": []
    },
    {
      "cell_type": "code",
      "metadata": {
        "colab": {
          "base_uri": "https://localhost:8080/"
        },
        "id": "w1lk8EruJdJ2",
        "outputId": "1b79d182-ceb1-4e7a-8fb5-f5b04e75bf41"
      },
      "source": [
        "d={}\n",
        "for i,ii in zip(keys,values):\n",
        "  d[i]=ii\n",
        "d\n"
      ],
      "id": "w1lk8EruJdJ2",
      "execution_count": 67,
      "outputs": [
        {
          "output_type": "execute_result",
          "data": {
            "text/plain": [
              "{'a': 100, 'b': 200, 'c': 300, 'd': 400, 'e': 800}"
            ]
          },
          "metadata": {
            "tags": []
          },
          "execution_count": 67
        }
      ]
    },
    {
      "cell_type": "code",
      "metadata": {
        "id": "latin-torture",
        "outputId": "d0b1cee4-888b-4bc0-f36f-5081a94919af"
      },
      "source": [
        "# Create a dictionary from keys and values\n",
        "print(\"Original dictionary:\")\n",
        "\n",
        "# ...\n"
      ],
      "id": "latin-torture",
      "execution_count": null,
      "outputs": [
        {
          "output_type": "stream",
          "text": [
            "Original dictionary:\n",
            "{'a': 100, 'b': 200, 'c': 300, 'd': 400, 'e': 800}\n"
          ],
          "name": "stdout"
        }
      ]
    },
    {
      "cell_type": "code",
      "metadata": {
        "colab": {
          "base_uri": "https://localhost:8080/"
        },
        "id": "FOmTaEpoJeHu",
        "outputId": "5b3ae969-337f-45a1-b794-1c0a1f3f9d60"
      },
      "source": [
        "print(\"Converted series:\")\n",
        "print(pd.Series(d))"
      ],
      "id": "FOmTaEpoJeHu",
      "execution_count": 68,
      "outputs": [
        {
          "output_type": "stream",
          "text": [
            "Converted series:\n",
            "a    100\n",
            "b    200\n",
            "c    300\n",
            "d    400\n",
            "e    800\n",
            "dtype: int64\n"
          ],
          "name": "stdout"
        }
      ]
    },
    {
      "cell_type": "code",
      "metadata": {
        "id": "rolled-transcript",
        "outputId": "f5e7236d-e082-49a2-9884-6b8c8c908fb7"
      },
      "source": [
        "# Convert the dictionary to a Pandas series\n",
        "print(\"Converted series:\")\n",
        "\n",
        "# ...\n"
      ],
      "id": "rolled-transcript",
      "execution_count": null,
      "outputs": [
        {
          "output_type": "stream",
          "text": [
            "Converted series:\n",
            "a    100\n",
            "b    200\n",
            "c    300\n",
            "d    400\n",
            "e    800\n",
            "dtype: int64\n"
          ],
          "name": "stdout"
        }
      ]
    },
    {
      "cell_type": "markdown",
      "metadata": {
        "id": "olive-aircraft"
      },
      "source": [
        "**6. Write a Pandas program to convert a NumPy array to a Pandas series.**"
      ],
      "id": "olive-aircraft"
    },
    {
      "cell_type": "code",
      "metadata": {
        "colab": {
          "base_uri": "https://localhost:8080/"
        },
        "id": "t3ruzkOUJfyW",
        "outputId": "1ce15de5-4652-465d-bccc-bbb6828c634e"
      },
      "source": [
        "print(\"NumPy array:\")\n",
        "arr=np.array([10, 20, 30, 40, 50])\n",
        "print(arr)"
      ],
      "id": "t3ruzkOUJfyW",
      "execution_count": 69,
      "outputs": [
        {
          "output_type": "stream",
          "text": [
            "NumPy array:\n",
            "[10 20 30 40 50]\n"
          ],
          "name": "stdout"
        }
      ]
    },
    {
      "cell_type": "code",
      "metadata": {
        "id": "wired-contact",
        "outputId": "8b00241e-0143-4440-f650-2107c818b443"
      },
      "source": [
        "# Original Data : [10, 20, 30, 40, 50]\n",
        "# Create a numpy array with this data\n",
        "print(\"NumPy array:\")\n",
        "\n",
        "# ...\n"
      ],
      "id": "wired-contact",
      "execution_count": null,
      "outputs": [
        {
          "output_type": "stream",
          "text": [
            "NumPy array:\n",
            "[10 20 30 40 50]\n"
          ],
          "name": "stdout"
        }
      ]
    },
    {
      "cell_type": "code",
      "metadata": {
        "colab": {
          "base_uri": "https://localhost:8080/"
        },
        "id": "HxngELZRJgu7",
        "outputId": "2bd1cb48-cc5a-4db0-dcea-80afcef5a819"
      },
      "source": [
        "print(\"Converted Pandas series:\")\n",
        "print(pd.Series(arr))"
      ],
      "id": "HxngELZRJgu7",
      "execution_count": 70,
      "outputs": [
        {
          "output_type": "stream",
          "text": [
            "Converted Pandas series:\n",
            "0    10\n",
            "1    20\n",
            "2    30\n",
            "3    40\n",
            "4    50\n",
            "dtype: int64\n"
          ],
          "name": "stdout"
        }
      ]
    },
    {
      "cell_type": "code",
      "metadata": {
        "id": "returning-outline",
        "outputId": "19189bbe-1c15-4983-a2a1-f5ca66ddaeaa"
      },
      "source": [
        "# Convert a NumPy array to this Pandas series.\n",
        "print(\"Converted Pandas series:\")\n",
        "\n",
        "# ...\n"
      ],
      "id": "returning-outline",
      "execution_count": null,
      "outputs": [
        {
          "output_type": "stream",
          "text": [
            "Converted Pandas series:\n",
            "0    10\n",
            "1    20\n",
            "2    30\n",
            "3    40\n",
            "4    50\n",
            "dtype: int32\n"
          ],
          "name": "stdout"
        }
      ]
    },
    {
      "cell_type": "markdown",
      "metadata": {
        "id": "charming-denial"
      },
      "source": [
        "**12. Write a Pandas program to add some data to an existing Series.**|"
      ],
      "id": "charming-denial"
    },
    {
      "cell_type": "code",
      "metadata": {
        "colab": {
          "base_uri": "https://localhost:8080/"
        },
        "id": "T_lZldu5JiTo",
        "outputId": "eb8098cb-235f-4a02-c7b0-e1197f37e7c4"
      },
      "source": [
        "s=pd.Series(['100', '200', 'python', '300.12', '400'])\n",
        "print(\"Original Data Series:\")\n",
        "print(s)"
      ],
      "id": "T_lZldu5JiTo",
      "execution_count": 77,
      "outputs": [
        {
          "output_type": "stream",
          "text": [
            "Original Data Series:\n",
            "0       100\n",
            "1       200\n",
            "2    python\n",
            "3    300.12\n",
            "4       400\n",
            "dtype: object\n"
          ],
          "name": "stdout"
        }
      ]
    },
    {
      "cell_type": "code",
      "metadata": {
        "id": "painful-liquid",
        "outputId": "925ee9b9-ab27-4c44-d1ac-53face159ff0"
      },
      "source": [
        "# Original Data : ['100', '200', 'python', '300.12', '400']\n",
        "# Built a pandas Series with this data\n",
        "print(\"Original Data Series:\")\n",
        "# ..."
      ],
      "id": "painful-liquid",
      "execution_count": null,
      "outputs": [
        {
          "output_type": "stream",
          "text": [
            "Original Data Series:\n",
            "0       100\n",
            "1       200\n",
            "2    python\n",
            "3    300.12\n",
            "4       400\n",
            "dtype: object\n"
          ],
          "name": "stdout"
        }
      ]
    },
    {
      "cell_type": "code",
      "metadata": {
        "colab": {
          "base_uri": "https://localhost:8080/"
        },
        "id": "-QiBbLp8JjG3",
        "outputId": "c588c1df-37a0-4deb-b3ec-9c877ce6cd0c"
      },
      "source": [
        "print(\"\\nData Series after adding some data:\")\n",
        "ek=pd.Series(['500', 'php'])\n",
        "print(s.append(ek))"
      ],
      "id": "-QiBbLp8JjG3",
      "execution_count": 81,
      "outputs": [
        {
          "output_type": "stream",
          "text": [
            "\n",
            "Data Series after adding some data:\n",
            "0       100\n",
            "1       200\n",
            "2    python\n",
            "3    300.12\n",
            "4       400\n",
            "0       500\n",
            "1       php\n",
            "dtype: object\n"
          ],
          "name": "stdout"
        }
      ]
    },
    {
      "cell_type": "code",
      "metadata": {
        "id": "hindu-paste",
        "outputId": "c6116b67-23be-4e74-9c9a-2aec4f87f9da"
      },
      "source": [
        "# Add ['500', 'php'] to the original Data Series\n",
        "print(\"\\nData Series after adding some data:\")\n",
        "\n",
        "# ...\n"
      ],
      "id": "hindu-paste",
      "execution_count": null,
      "outputs": [
        {
          "output_type": "stream",
          "text": [
            "\n",
            "Data Series after adding some data:\n",
            "0       100\n",
            "1       200\n",
            "2    python\n",
            "3    300.12\n",
            "4       400\n",
            "0       500\n",
            "1       php\n",
            "dtype: object\n"
          ],
          "name": "stdout"
        }
      ]
    },
    {
      "cell_type": "markdown",
      "metadata": {
        "id": "5bde9096"
      },
      "source": [
        "**13. Write a Pandas program to create a subset of a given series based on value and condition.**"
      ],
      "id": "5bde9096"
    },
    {
      "cell_type": "code",
      "metadata": {
        "colab": {
          "base_uri": "https://localhost:8080/"
        },
        "id": "w7zRQGyhJkYh",
        "outputId": "6201478d-1c6e-466a-bc0d-a7549f67f977"
      },
      "source": [
        "print(\"Original Data Series:\")\n",
        "aa=pd.Series([0,1,2,3,4,5,6,7,8,9,10])\n",
        "print(aa)"
      ],
      "id": "w7zRQGyhJkYh",
      "execution_count": 83,
      "outputs": [
        {
          "output_type": "stream",
          "text": [
            "Original Data Series:\n",
            "0      0\n",
            "1      1\n",
            "2      2\n",
            "3      3\n",
            "4      4\n",
            "5      5\n",
            "6      6\n",
            "7      7\n",
            "8      8\n",
            "9      9\n",
            "10    10\n",
            "dtype: int64\n"
          ],
          "name": "stdout"
        }
      ]
    },
    {
      "cell_type": "code",
      "metadata": {
        "id": "3e8a7f12",
        "outputId": "d07f42a8-a22b-4eb8-af80-caf19f1fe5ea"
      },
      "source": [
        "# Original Data : [0,1,2,3,4,5,6,7,8,9,10]\n",
        "# Built a pandas Series with this data\n",
        "print(\"Original Data Series:\")\n",
        "\n",
        "# ...\n"
      ],
      "id": "3e8a7f12",
      "execution_count": null,
      "outputs": [
        {
          "output_type": "stream",
          "text": [
            "Original Data Series:\n",
            "0      0\n",
            "1      1\n",
            "2      2\n",
            "3      3\n",
            "4      4\n",
            "5      5\n",
            "6      6\n",
            "7      7\n",
            "8      8\n",
            "9      9\n",
            "10    10\n",
            "dtype: int64\n"
          ],
          "name": "stdout"
        }
      ]
    },
    {
      "cell_type": "code",
      "metadata": {
        "colab": {
          "base_uri": "https://localhost:8080/"
        },
        "id": "aR3xuElOJlfM",
        "outputId": "385d8bb4-9f27-41ee-c4c1-634c3d19470e"
      },
      "source": [
        "print(\"\\nSubset of the above Data Series:\")\n",
        "aa[:6]"
      ],
      "id": "aR3xuElOJlfM",
      "execution_count": 84,
      "outputs": [
        {
          "output_type": "stream",
          "text": [
            "\n",
            "Subset of the above Data Series:\n"
          ],
          "name": "stdout"
        },
        {
          "output_type": "execute_result",
          "data": {
            "text/plain": [
              "0    0\n",
              "1    1\n",
              "2    2\n",
              "3    3\n",
              "4    4\n",
              "5    5\n",
              "dtype: int64"
            ]
          },
          "metadata": {
            "tags": []
          },
          "execution_count": 84
        }
      ]
    },
    {
      "cell_type": "code",
      "metadata": {
        "id": "a4dcdebf",
        "outputId": "75e83cb1-c72a-4bbb-c92d-f4adb174aed9"
      },
      "source": [
        "# Create a new series with data with a value less than 6\n",
        "print(\"\\nSubset of the above Data Series:\")\n",
        "\n",
        "# ...\n"
      ],
      "id": "a4dcdebf",
      "execution_count": null,
      "outputs": [
        {
          "output_type": "stream",
          "text": [
            "\n",
            "Subset of the above Data Series:\n",
            "0    0\n",
            "1    1\n",
            "2    2\n",
            "3    3\n",
            "4    4\n",
            "5    5\n",
            "dtype: int64\n"
          ],
          "name": "stdout"
        }
      ]
    }
  ]
}