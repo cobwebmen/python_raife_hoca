{
  "nbformat": 4,
  "nbformat_minor": 0,
  "metadata": {
    "colab": {
      "name": "Projecteuler_21.ipynb",
      "provenance": []
    },
    "kernelspec": {
      "name": "python3",
      "display_name": "Python 3"
    },
    "language_info": {
      "name": "python"
    }
  },
  "cells": [
    {
      "cell_type": "markdown",
      "metadata": {
        "id": "gdWjmu-LA3yz"
      },
      "source": [
        "Let d(n) be defined as the sum of proper divisors of n (numbers less than n which divide evenly into n).\n",
        "If d(a) = b and d(b) = a, where a ≠ b, then a and b are an amicable pair and each of a and b are called amicable numbers.\n",
        "\n",
        "For example, the proper divisors of 220 are 1, 2, 4, 5, 10, 11, 20, 22, 44, 55 and 110; therefore d(220) = 284. The proper divisors of 284 are 1, 2, 4, 71 and 142; so d(284) = 220.\n",
        "\n",
        "Evaluate the sum of all the amicable numbers under 10000."
      ]
    },
    {
      "cell_type": "code",
      "metadata": {
        "colab": {
          "base_uri": "https://localhost:8080/"
        },
        "id": "hmprb9hNNlrq",
        "outputId": "6d665c42-389e-4c8a-a3a8-0e2a38998161"
      },
      "source": [
        "def divisors(sayi):\n",
        "  summ=0\n",
        "  for i in range(1,sayi):\n",
        "    if not sayi%i:\n",
        "      summ+=i\n",
        "  return summ\n",
        "result=0\n",
        "for i in range(10000):\n",
        "  if divisors(divisors(i))==i and divisors(i)!=i:\n",
        "    result+=i\n",
        "print(result)"
      ],
      "execution_count": 33,
      "outputs": [
        {
          "output_type": "stream",
          "text": [
            "31626\n"
          ],
          "name": "stdout"
        }
      ]
    }
  ]
}