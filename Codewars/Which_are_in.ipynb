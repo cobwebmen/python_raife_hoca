{
  "nbformat": 4,
  "nbformat_minor": 0,
  "metadata": {
    "colab": {
      "name": "Which_are_in.ipynb",
      "provenance": []
    },
    "kernelspec": {
      "name": "python3",
      "display_name": "Python 3"
    },
    "language_info": {
      "name": "python"
    }
  },
  "cells": [
    {
      "cell_type": "markdown",
      "metadata": {
        "id": "cZsWczmtUHI8"
      },
      "source": [
        "```\n",
        "Given two arrays of strings a1 and a2 return a sorted array r in lexicographical order of the strings of a1 which are substrings of strings of a2.\n",
        "\n",
        "Example 1:\n",
        "a1 = [\"arp\", \"live\", \"strong\"]\n",
        "\n",
        "a2 = [\"lively\", \"alive\", \"harp\", \"sharp\", \"armstrong\"]\n",
        "\n",
        "returns [\"arp\", \"live\", \"strong\"]\n",
        "\n",
        "Example 2:\n",
        "a1 = [\"tarp\", \"mice\", \"bull\"]\n",
        "\n",
        "a2 = [\"lively\", \"alive\", \"harp\", \"sharp\", \"armstrong\"]\n",
        "\n",
        "returns []\n",
        "\n",
        "Notes:\n",
        "Arrays are written in \"general\" notation. See \"Your Test Cases\" for examples in your language.\n",
        "\n",
        "In Shell bash a1 and a2 are strings. The return is a string where words are separated by commas.\n",
        "\n",
        "Beware: r must be without duplicates.\n",
        "\n",
        "```\n",
        "\n",
        "\n"
      ]
    },
    {
      "cell_type": "code",
      "metadata": {
        "colab": {
          "base_uri": "https://localhost:8080/"
        },
        "id": "b5-sG6cuT1h-",
        "outputId": "8f6b9bf3-1ce1-4685-eee9-66a6e7843657"
      },
      "source": [
        "def in_array(a1,a2):\n",
        "    s=[]\n",
        "    for i in a1:\n",
        "        for k in a2:\n",
        "            if i in k and i not in s:\n",
        "                s.append(i)\n",
        "    return sorted(s)\n",
        "                \n",
        "in_array([\"live\", \"arp\", \"strong\"],[\"lively\", \"alive\", \"harp\", \"sharp\", \"armstrong\"]) "
      ],
      "execution_count": 1,
      "outputs": [
        {
          "output_type": "execute_result",
          "data": {
            "text/plain": [
              "['arp', 'live', 'strong']"
            ]
          },
          "metadata": {
            "tags": []
          },
          "execution_count": 1
        }
      ]
    }
  ]
}