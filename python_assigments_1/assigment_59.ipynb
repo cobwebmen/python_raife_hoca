{
  "nbformat": 4,
  "nbformat_minor": 0,
  "metadata": {
    "colab": {
      "name": "assigment_59.ipynb",
      "provenance": []
    },
    "kernelspec": {
      "name": "python3",
      "display_name": "Python 3"
    },
    "language_info": {
      "name": "python"
    }
  },
  "cells": [
    {
      "cell_type": "markdown",
      "metadata": {
        "id": "CknDOXr4VqX7"
      },
      "source": [
        "Task:Write a Python function to check whether a number is perfect or not. \n",
        "According to Wikipedia : In number theory, a perfect number is a positive integer that is equal to the sum of its proper positive divisors, that is, the sum of its positive divisors excluding the number itself (also known as its aliquot sum).\n",
        "Equivalently, a perfect number is a number that is half the sum of all of its positive divisors (including itself).\n",
        "Türkçesi: Eğer sayının kendisi hariç bölenlerinin toplamı kendisine eşitse  o  \"Perfect Number\"dır.\n",
        "Example : The first perfect number is 6, because 1, 2, and 3 are its proper positive divisors, and 1 + 2 + 3 = 6.\n",
        "The next perfect number is 28 = 1 + 2 + 4 + 7 + 14.\n",
        "This is followed by the perfect numbers 496 and 8128."
      ]
    },
    {
      "cell_type": "code",
      "metadata": {
        "colab": {
          "base_uri": "https://localhost:8080/"
        },
        "id": "3oqGIw8_Vk8M",
        "outputId": "fd72a28a-aac6-47bb-b3a8-46dfa3e8329b"
      },
      "source": [
        "def isperfect(n):\n",
        "  return sum([i for i in range(1,n) if n%i==0])==n \n",
        "isperfect(28)"
      ],
      "execution_count": 1,
      "outputs": [
        {
          "output_type": "execute_result",
          "data": {
            "text/plain": [
              "True"
            ]
          },
          "metadata": {
            "tags": []
          },
          "execution_count": 1
        }
      ]
    },
    {
      "cell_type": "markdown",
      "metadata": {
        "id": "cCD_IlMYV5Oj"
      },
      "source": [
        "Task-2:Write a Python function that checks whether a passed string is palindrome or not.\n",
        "Note: A palindrome is a word, phrase, or sequence that reads the same backward as forward, e.g., \"madam \" or  \"nurses run\"."
      ]
    },
    {
      "cell_type": "code",
      "metadata": {
        "colab": {
          "base_uri": "https://localhost:8080/"
        },
        "id": "y8toOewxV6Sw",
        "outputId": "de150319-909a-461a-ad55-6e6cbb514e5d"
      },
      "source": [
        "def ispalindrome(y):\n",
        "    yy=\"\".join(list(filter(lambda x: x.isalpha(),y)))\n",
        "    return yy[::]==yy[::-1]\n",
        "ispalindrome(\"nurses+ run..\")"
      ],
      "execution_count": 2,
      "outputs": [
        {
          "output_type": "execute_result",
          "data": {
            "text/plain": [
              "True"
            ]
          },
          "metadata": {
            "tags": []
          },
          "execution_count": 2
        }
      ]
    }
  ]
}