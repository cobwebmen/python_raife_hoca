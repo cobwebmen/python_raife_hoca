{
  "nbformat": 4,
  "nbformat_minor": 0,
  "metadata": {
    "colab": {
      "name": "Hackerrank_48_DefaultDict_Tutorial.ipynb",
      "provenance": []
    },
    "kernelspec": {
      "name": "python3",
      "display_name": "Python 3"
    },
    "language_info": {
      "name": "python"
    }
  },
  "cells": [
    {
      "cell_type": "markdown",
      "metadata": {
        "id": "d9slG4wYLsCd"
      },
      "source": [
        "\n",
        "Sample Input\n",
        "```\n",
        "STDIN   Function\n",
        "-----   --------\n",
        "5 2     group A size n = 5, group B size m = 2\n",
        "a       group A contains 'a', 'a', 'b', 'a', 'b'\n",
        "a\n",
        "b\n",
        "a\n",
        "b\n",
        "a       group B contains 'a', 'b'\n",
        "b\n",
        "```\n",
        "Sample Output\n",
        "\n",
        "1 2 4\n",
        "\n",
        "3 5\n",
        "\n",
        "Explanation\n",
        "\n",
        "'a' appeared 3 times in positions 1,2  and 4.\n",
        "'b' appeared 2 times in positions 3 and 5.\n",
        "In the sample problem, if 'c' also appeared in word group B, you would print -1."
      ]
    },
    {
      "cell_type": "code",
      "metadata": {
        "id": "PyNLX6s1KtWR"
      },
      "source": [
        "from collections import defaultdict\n",
        "a, b = map(int,input().split())\n",
        "sozluk = defaultdict(list)\n",
        "for i in range(1, a + 1):\n",
        "    sozluk[input()].append(i)\n",
        "for i in range(1, b + 1):\n",
        "    key = input()\n",
        "    if len(sozluk[key]) > 0:\n",
        "        print(\" \".join(str(c) for c in sozluk[key]))\n",
        "    else:\n",
        "        print(-1)"
      ],
      "execution_count": null,
      "outputs": []
    }
  ]
}