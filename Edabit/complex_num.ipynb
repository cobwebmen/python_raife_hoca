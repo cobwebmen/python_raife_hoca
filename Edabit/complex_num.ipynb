{
  "nbformat": 4,
  "nbformat_minor": 0,
  "metadata": {
    "colab": {
      "name": "complex_num.ipynb",
      "provenance": [],
      "collapsed_sections": []
    },
    "kernelspec": {
      "name": "python3",
      "display_name": "Python 3"
    },
    "language_info": {
      "name": "python"
    }
  },
  "cells": [
    {
      "cell_type": "markdown",
      "metadata": {
        "id": "vyWF9wdSsVwD"
      },
      "source": [
        "Create a function which takes a list of Complex Numbers and returns the sum as a string.\n",
        "\n",
        "Examples\n",
        "sum_complex([\"2+3i\", \"3-i\"]) ➞ \"5+2i\"\n",
        "\n",
        "sum_complex([\"1\", \"1\"]) ➞ \"2\"\n",
        "\n",
        "sum_complex([\"i\", \"2i\", \"3i\"]) ➞ \"6i\""
      ]
    },
    {
      "cell_type": "code",
      "metadata": {
        "colab": {
          "base_uri": "https://localhost:8080/",
          "height": 34
        },
        "id": "CQoD7wqplT4b",
        "outputId": "ea9d4da9-9623-4a2a-fe4f-fca783f813c0"
      },
      "source": [
        "def sum_complex(x):\n",
        "    x = [i.replace(\"i\", \"j\") for i in x]\n",
        "    s = 0 + 0j\n",
        "    for i in range (len(x)):\n",
        "        s += complex(x[i])\n",
        "    return str(s).strip(\"()\").replace(\"j\", \"i\").replace(\"+0i\", \"\").replace(\"0i\", \"0\")\n",
        "sum_complex([\"-1\", \"1\"])"
      ],
      "execution_count": 1,
      "outputs": [
        {
          "output_type": "execute_result",
          "data": {
            "application/vnd.google.colaboratory.intrinsic+json": {
              "type": "string"
            },
            "text/plain": [
              "'0'"
            ]
          },
          "metadata": {
            "tags": []
          },
          "execution_count": 1
        }
      ]
    }
  ]
}