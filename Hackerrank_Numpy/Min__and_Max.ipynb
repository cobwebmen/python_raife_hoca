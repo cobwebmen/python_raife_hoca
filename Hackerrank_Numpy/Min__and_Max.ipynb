{
  "nbformat": 4,
  "nbformat_minor": 0,
  "metadata": {
    "colab": {
      "name": "Min _and_Max.ipynb",
      "provenance": []
    },
    "kernelspec": {
      "name": "python3",
      "display_name": "Python 3"
    },
    "language_info": {
      "name": "python"
    }
  },
  "cells": [
    {
      "cell_type": "markdown",
      "metadata": {
        "id": "ikX5twXDBIi0"
      },
      "source": [
        "```\n",
        "min\n",
        "\n",
        "The tool min returns the minimum value along a given axis.\n",
        "\n",
        "import numpy\n",
        "\n",
        "my_array = numpy.array([[2, 5], \n",
        "                        [3, 7],\n",
        "                        [1, 3],\n",
        "                        [4, 0]])\n",
        "\n",
        "print numpy.min(my_array, axis = 0)         #Output : [1 0]\n",
        "print numpy.min(my_array, axis = 1)         #Output : [2 3 1 0]\n",
        "print numpy.min(my_array, axis = None)      #Output : 0\n",
        "print numpy.min(my_array)                   #Output : 0\n",
        "By default, the axis value is None. Therefore, it finds the minimum over all the dimensions of the input array.\n",
        "\n",
        "max\n",
        "\n",
        "The tool max returns the maximum value along a given axis.\n",
        "\n",
        "import numpy\n",
        "\n",
        "my_array = numpy.array([[2, 5], \n",
        "                        [3, 7],\n",
        "                        [1, 3],\n",
        "                        [4, 0]])\n",
        "\n",
        "print numpy.max(my_array, axis = 0)         #Output : [4 7]\n",
        "print numpy.max(my_array, axis = 1)         #Output : [5 7 3 4]\n",
        "print numpy.max(my_array, axis = None)      #Output : 7\n",
        "print numpy.max(my_array)                   #Output : 7\n",
        "By default, the axis value is None. Therefore, it finds the maximum over all the dimensions of the input array.\n",
        "\n",
        "Task\n",
        "\n",
        "You are given a 2-D array with dimensions N X M.\n",
        "Your task is to perform the min function over axis  and then find the max of that.\n",
        "\n",
        "Input Format\n",
        "\n",
        "The first line of input contains the space separated values of  and .\n",
        "The next  lines contains  space separated integers.\n",
        "\n",
        "Output Format\n",
        "\n",
        "Compute the min along axis  and then print the max of that result.\n",
        "\n",
        "Sample Input\n",
        "\n",
        "4 2\n",
        "2 5\n",
        "3 7\n",
        "1 3\n",
        "4 0\n",
        "Sample Output\n",
        "\n",
        "3\n",
        "```"
      ]
    },
    {
      "cell_type": "code",
      "metadata": {
        "colab": {
          "base_uri": "https://localhost:8080/"
        },
        "id": "Jf5MbGC3A8YO",
        "outputId": "7ae9409c-9ac7-44d0-b2ce-8240de566a0b"
      },
      "source": [
        "import numpy\n",
        "a,b=tuple(map(int, input().split()))\n",
        "arr=numpy.array([input().split() for i in range(a)], int)\n",
        "minn=numpy.min(arr,axis=1)\n",
        "print(numpy.max(minn))\n"
      ],
      "execution_count": 7,
      "outputs": [
        {
          "output_type": "stream",
          "text": [
            "4 2\n",
            "2 5\n",
            "3 7\n",
            "1 3\n",
            "4 0\n",
            "3\n"
          ],
          "name": "stdout"
        }
      ]
    }
  ]
}