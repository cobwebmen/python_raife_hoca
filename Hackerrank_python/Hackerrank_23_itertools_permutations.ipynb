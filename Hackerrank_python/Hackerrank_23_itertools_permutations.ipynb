{
  "nbformat": 4,
  "nbformat_minor": 0,
  "metadata": {
    "colab": {
      "name": "Hackerrank_23_itertools-permutations.ipynb",
      "provenance": []
    },
    "kernelspec": {
      "name": "python3",
      "display_name": "Python 3"
    },
    "language_info": {
      "name": "python"
    }
  },
  "cells": [
    {
      "cell_type": "markdown",
      "metadata": {
        "id": "ysh_msYom-Za"
      },
      "source": [
        "Task\n",
        "\n",
        "You are given a string S.\n",
        "Your task is to print all possible permutations of size k of the string in lexicographic sorted order.\n",
        "\n",
        "Sample Input\n",
        "\n",
        "HACK 2\n",
        "\n",
        "Sample Output\n",
        "\n",
        "AC\n",
        "\n",
        "AH\n",
        "\n",
        "AK\n",
        "\n",
        "CA\n",
        "\n",
        "CH\n",
        "\n",
        "CK\n",
        "\n",
        "HA\n",
        "\n",
        "HC\n",
        "\n",
        "HK\n",
        "\n",
        "KA\n",
        "\n",
        "KC\n",
        "\n",
        "KH\n"
      ]
    },
    {
      "cell_type": "code",
      "metadata": {
        "colab": {
          "base_uri": "https://localhost:8080/"
        },
        "id": "8ojk8sIsmj3M",
        "outputId": "7a48c938-adcb-4f2e-9480-f62dab405420"
      },
      "source": [
        "from itertools import permutations\n",
        "strng,sayi=input().split()\n",
        "sayi=int(sayi)\n",
        "liste=list(permutations(strng,sayi))\n",
        "liste.sort()\n",
        "for i in liste:\n",
        "  print(\"\".join(i))"
      ],
      "execution_count": 8,
      "outputs": [
        {
          "output_type": "stream",
          "text": [
            "HACK 2\n",
            "AC\n",
            "AH\n",
            "AK\n",
            "CA\n",
            "CH\n",
            "CK\n",
            "HA\n",
            "HC\n",
            "HK\n",
            "KA\n",
            "KC\n",
            "KH\n"
          ],
          "name": "stdout"
        }
      ]
    }
  ]
}