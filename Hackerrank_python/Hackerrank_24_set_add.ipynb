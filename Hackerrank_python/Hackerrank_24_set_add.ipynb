{
  "nbformat": 4,
  "nbformat_minor": 0,
  "metadata": {
    "colab": {
      "name": "Hackerrank_24_set.add.ipynb",
      "provenance": []
    },
    "kernelspec": {
      "name": "python3",
      "display_name": "Python 3"
    },
    "language_info": {
      "name": "python"
    }
  },
  "cells": [
    {
      "cell_type": "markdown",
      "metadata": {
        "id": "zcaPH39eAy_f"
      },
      "source": [
        "\n",
        "Rupal has a huge collection of country stamps. She decided to count the total number of distinct country stamps in her collection. She asked for your help. You pick the stamps one by one from a stack of **N** country stamps.\n",
        "\n",
        "Find the total number of distinct country stamps."
      ]
    },
    {
      "cell_type": "code",
      "metadata": {
        "colab": {
          "base_uri": "https://localhost:8080/"
        },
        "id": "lGJNZYjw_cRF",
        "outputId": "54f6f51c-e3d0-460f-bb3f-f636bdae677c"
      },
      "source": [
        "n=int(input())\n",
        "liste=[]\n",
        "for i in range(n):\n",
        "  liste.append(input())\n",
        "print(len(set(liste)))"
      ],
      "execution_count": 1,
      "outputs": [
        {
          "output_type": "stream",
          "text": [
            "7\n",
            "UK\n",
            "China\n",
            "USA\n",
            "France\n",
            "New Zealand\n",
            "UK\n",
            "France\n",
            "5\n"
          ],
          "name": "stdout"
        }
      ]
    }
  ]
}