{
  "nbformat": 4,
  "nbformat_minor": 0,
  "metadata": {
    "colab": {
      "name": "Count_the_Countdown_Sequences.ipynb",
      "provenance": []
    },
    "kernelspec": {
      "name": "python3",
      "display_name": "Python 3"
    },
    "language_info": {
      "name": "python"
    }
  },
  "cells": [
    {
      "cell_type": "markdown",
      "metadata": {
        "id": "5kpJga-XppWg"
      },
      "source": [
        "```\n",
        "Count the Countdown Sequences\n",
        "A countdown sequence is a descending sequence of k integers from k down to 1 (e.g. 5, 4, 3, 2, 1). Write a function that returns a list [x, y] where x is the number that represents how many of countdown sequences are in a given list and y is a list of those sequences in order which they appear in the list.\n",
        "\n",
        "Examples\n",
        "final_countdown([4, 8, 3, 2, 1, 2]) ➞ [1, [[3, 2, 1]]]\n",
        "# In this example we have 1 countdown sequence: 3, 2, 1\n",
        "\n",
        "final_countdown([4, 4, 5, 4, 3, 2, 1, 8, 3, 2, 1]) ➞ [2, [[5, 4, 3, 2, 1], [3, 2, 1]]]\n",
        "# We have 2 countdown sequences:\n",
        "# 5, 4, 3, 2, 1 and 3, 2, 1\n",
        "\n",
        "final_countdown([4, 3, 2, 1, 3, 2, 1, 1]) ➞ [3, [[4, 3, 2, 1], [3, 2, 1], [1]]]\n",
        "# We have 3 countdown sequences:\n",
        "# 4, 3, 2, 1 ; 3, 2, 1 and 1\n",
        "\n",
        "final_countdown([1, 1, 2, 1]) ➞ [3, [[1], [1], [2, 1]]]\n",
        "\n",
        "final_countdown([]) ➞  [0, []]\n",
        "Notes\n",
        "[1] is a valid countdown sequence.\n",
        "All numbers will be greater than 0.\n",
        "\n",
        "```\n",
        "\n",
        "\n",
        "\n"
      ]
    },
    {
      "cell_type": "code",
      "metadata": {
        "colab": {
          "base_uri": "https://localhost:8080/"
        },
        "id": "bNOQrC5_LnTq",
        "outputId": "b2db9ed9-f3a1-4337-f146-c8dba9482c07"
      },
      "source": [
        "def final_countdown(l):\n",
        "  l=l[::-1]\n",
        "  yeni={}\n",
        "  count=0\n",
        "  for i in range(len(l)):\n",
        "    if l[i]==1:\n",
        "      count+=1\n",
        "      yeni[count]=[l[i]]\n",
        "      if i==len(l)-1:\n",
        "        break\n",
        "      else:\n",
        "        while l[i+1]==l[i]+1:\n",
        "          yeni[count].append(l[i+1])\n",
        "          if i<len(l)-2:\n",
        "            i+=1\n",
        "          else:\n",
        "            break\n",
        "  for i in yeni:\n",
        "    yeni[i]=yeni[i][::-1]\n",
        "  return [len(yeni),list(yeni.values())[::-1]]\n",
        "print(final_countdown([1, 1, 2, 3, 1]))\n",
        "print(final_countdown([4, 8, 3, 2, 1, 2,1])) \n",
        "print(final_countdown([4, 4, 5, 4, 3, 2, 1, 8, 3, 2, 1])) \n",
        "print(final_countdown([4, 3, 2, 1, 3, 2, 1, 1])) \n",
        "print(final_countdown([]))        "
      ],
      "execution_count": 132,
      "outputs": [
        {
          "output_type": "stream",
          "text": [
            "[3, [[1], [1], [1]]]\n",
            "[2, [[3, 2, 1], [2, 1]]]\n",
            "[2, [[5, 4, 3, 2, 1], [3, 2, 1]]]\n",
            "[3, [[4, 3, 2, 1], [3, 2, 1], [1]]]\n",
            "[0, []]\n"
          ],
          "name": "stdout"
        }
      ]
    }
  ]
}