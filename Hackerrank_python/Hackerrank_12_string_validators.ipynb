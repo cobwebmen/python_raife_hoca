{
  "nbformat": 4,
  "nbformat_minor": 0,
  "metadata": {
    "colab": {
      "name": "Hackerrank_12_string_validators.ipynb",
      "provenance": [],
      "collapsed_sections": []
    },
    "kernelspec": {
      "name": "python3",
      "display_name": "Python 3"
    },
    "language_info": {
      "name": "python"
    }
  },
  "cells": [
    {
      "cell_type": "markdown",
      "metadata": {
        "id": "nVRZh378Rx77"
      },
      "source": [
        "You are given a string .\n",
        "Your task is to find out if the string  contains: alphanumeric characters, alphabetical characters, digits, lowercase and uppercase characters\n",
        "\n",
        "str.isalnum()\n",
        "\n",
        "str.isalpha()\n",
        "\n",
        "str.isdigit()\n",
        "\n",
        "str.islower()\n",
        "\n",
        "str.isupper()\n",
        "\n",
        "Sample Input\n",
        "\n",
        "qA2\n",
        "\n",
        "Sample Output\n",
        "\n",
        "True\n",
        "\n",
        "True\n",
        "\n",
        "True\n",
        "\n",
        "True\n",
        "\n",
        "True\n"
      ]
    },
    {
      "cell_type": "code",
      "metadata": {
        "colab": {
          "base_uri": "https://localhost:8080/"
        },
        "id": "pShhd6b0K4YI",
        "outputId": "d9a3b322-2ceb-4c9a-b937-fe8f77ad1802"
      },
      "source": [
        "if __name__ == '__main__':\n",
        "  s=input()\n",
        "n=0\n",
        "while n<len(s):\n",
        "  if s[n].isalnum()!=True:\n",
        "    n+=1\n",
        "    if n==len(s)-1 and s[len(s)-1].isalnum()!=True:\n",
        "      print(False)\n",
        "  elif s[n].isalnum()==True:\n",
        "    print(True)\n",
        "    break\n",
        "  else:\n",
        "    print(False)\n",
        "    break\n",
        "n=0\n",
        "while n<len(s):\n",
        "  if s[n].isalpha()!=True:\n",
        "    n+=1\n",
        "    if n==len(s)-1 and s[len(s)-1].isalpha()!=True:\n",
        "      print(False)\n",
        "  elif s[n].isalpha()==True:\n",
        "    print(True)\n",
        "    break\n",
        "  else:\n",
        "    print(False)\n",
        "    break\n",
        "n=0\n",
        "while n<len(s):\n",
        "  if s[n].isdigit()!=True:\n",
        "    n+=1\n",
        "    if n==len(s)-1 and s[len(s)-1].isdigit()!=True:\n",
        "      print(False)\n",
        "  elif s[n].isdigit()==True:\n",
        "    print(True)\n",
        "    break\n",
        "  else:\n",
        "    print(False)\n",
        "    break\n",
        "n=0\n",
        "while n<len(s):\n",
        "  if s[n].islower()!=True:\n",
        "    n+=1\n",
        "    if n==len(s)-1 and s[len(s)-1].islower()!=True:\n",
        "      print(False)\n",
        "  elif s[n].islower()==True:\n",
        "    print(True)\n",
        "    break\n",
        "  else:\n",
        "    print(False)\n",
        "    break\n",
        "n=0\n",
        "while n<len(s):\n",
        "  if s[n].isupper()!=True:\n",
        "    n+=1\n",
        "    if n==len(s)-1 and s[len(s)-1].isupper()!=True:\n",
        "      print(False)\n",
        "  elif s[n].isupper()==True:\n",
        "    print(True)\n",
        "    break\n",
        "  else:\n",
        "    print(False)\n",
        "    break"
      ],
      "execution_count": 23,
      "outputs": [
        {
          "output_type": "stream",
          "text": [
            "qA1\n",
            "True\n",
            "True\n",
            "True\n",
            "True\n",
            "True\n"
          ],
          "name": "stdout"
        }
      ]
    }
  ]
}