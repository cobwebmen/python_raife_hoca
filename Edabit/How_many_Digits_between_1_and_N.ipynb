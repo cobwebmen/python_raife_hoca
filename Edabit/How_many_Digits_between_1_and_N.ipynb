{
  "nbformat": 4,
  "nbformat_minor": 0,
  "metadata": {
    "colab": {
      "name": "How_many_Digits_between_1_and_N.ipynb",
      "provenance": []
    },
    "kernelspec": {
      "name": "python3",
      "display_name": "Python 3"
    },
    "language_info": {
      "name": "python"
    }
  },
  "cells": [
    {
      "cell_type": "markdown",
      "metadata": {
        "id": "4umpfqK1rjKH"
      },
      "source": [
        "Imagine you took all the numbers between 0 and n and concatenated them together into a long string. How many digits are there between 0 and n? Write a function that can calculate this.\n",
        "\n",
        "There are 0 digits between 0 and 1, there are 9 digits between 0 and 10 and there are 189 digits between 0 and 100.\n",
        "\n",
        "Examples\n",
        "digits(1) ➞ 0\n",
        "\n",
        "digits(10) ➞ 9\n",
        "\n",
        "digits(100) ➞ 189\n",
        "\n",
        "digits(2020) ➞ 6969\n",
        "\n",
        "Notes\n",
        "The numbers are going to be rather big so creating that string won't be practical."
      ]
    },
    {
      "cell_type": "code",
      "metadata": {
        "colab": {
          "base_uri": "https://localhost:8080/"
        },
        "id": "YtJ3B9ophZD5",
        "outputId": "b58322ca-75df-4960-c00f-0cf979ada19d"
      },
      "source": [
        "def digits(n):\n",
        "  basamak=len(str(n))\n",
        "  sonuc=0\n",
        "  for i in range(1,basamak):\n",
        "    sonuc += 9*i*10**(i-1)\n",
        "  sonuc+=(n-(10**(basamak-1)))*basamak\n",
        "  return sonuc\n",
        "print(digits(2020))\n",
        "print(digits(1))\n",
        "print(digits(10))\n",
        "print(digits(100))"
      ],
      "execution_count": 13,
      "outputs": [
        {
          "output_type": "stream",
          "text": [
            "6969\n",
            "0\n",
            "9\n",
            "189\n"
          ],
          "name": "stdout"
        }
      ]
    }
  ]
}