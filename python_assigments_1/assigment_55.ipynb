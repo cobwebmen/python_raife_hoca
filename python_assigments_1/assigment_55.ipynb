{
  "nbformat": 4,
  "nbformat_minor": 0,
  "metadata": {
    "colab": {
      "name": "assigment_55.ipynb",
      "provenance": []
    },
    "kernelspec": {
      "name": "python3",
      "display_name": "Python 3"
    },
    "language_info": {
      "name": "python"
    }
  },
  "cells": [
    {
      "cell_type": "markdown",
      "metadata": {
        "id": "psIr9Vh8_0pq"
      },
      "source": [
        "array1 = [0,1,0,3,12]\n",
        "\n",
        "array2 = [1,7,0,0,8,0,10,12,0,4]\n",
        "\n",
        "elimizde bu şekilde herhangi bir sırada 0 içeren diziler var. Bu sıfırları listenin sonuna atmamız ve yeni listeyi yazdırmamız gerekiyor.Fonksiyonumuzu yazalım."
      ]
    },
    {
      "cell_type": "code",
      "metadata": {
        "id": "KUNsReIx_xuJ"
      },
      "source": [
        "def sıfırlar_sona(liste):\n",
        "  for i in liste:\n",
        "    if i==0:\n",
        "      liste.remove(i)\n",
        "      liste.append(i)\n",
        "  return liste\n",
        "sıfırlar_sona([1,7,0,0,8,0,10,12,0,4])"
      ],
      "execution_count": null,
      "outputs": []
    }
  ]
}