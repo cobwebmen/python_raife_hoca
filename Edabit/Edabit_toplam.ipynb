{
  "nbformat": 4,
  "nbformat_minor": 0,
  "metadata": {
    "colab": {
      "name": "Edabit_toplam.ipynb",
      "provenance": []
    },
    "kernelspec": {
      "name": "python3",
      "display_name": "Python 3"
    },
    "language_info": {
      "name": "python"
    }
  },
  "cells": [
    {
      "cell_type": "markdown",
      "metadata": {
        "id": "7ygHrhca1IZM"
      },
      "source": [
        "**1-Basic_Arithmetic_Operations_on_a_String_Number**\n",
        "\n",
        "Create a function to perform basic arithmetic operations that includes addition, subtraction, multiplication and division on a string number (e.g. \"12 + 24\" or \"23 - 21\" or \"12 // 12\" or \"12 * 21\").\n",
        "\n",
        "Here, we have 1 followed by a space, operator followed by another space and 2. For the challenge, we are going to have only two numbers between 1 valid operator. The return value should be a number.\n",
        "\n",
        "eval() is not allowed. In case of division, whenever the second number equals \"0\" return -1.\n",
        "\n",
        "For example:\n",
        "\n",
        "\"15 // 0\"  ➞ -1\n",
        "Examples\n",
        "arithmetic_operation(\"12 + 12\") ➞ 24 // 12 + 12 = 24\n",
        "\n",
        "arithmetic_operation(\"12 - 12\") ➞ 24 // 12 - 12 = 0\n",
        "\n",
        "arithmetic_operation(\"12 * 12\") ➞ 144 // 12 * 12 = 144\n",
        "\n",
        "arithmetic_operation(\"12 // 0\") ➞ -1 // 12 / 0 = -1\n",
        "Notes\n",
        "All the inputs are only integers.\n",
        "The operators are * - + and //.\n",
        "Hint: Think about the single space that appears before and after the arithmetic operator.\n",
        "\n"
      ]
    },
    {
      "cell_type": "code",
      "metadata": {
        "id": "rROR12CL1AgT"
      },
      "source": [
        "def arithmetic_operation(s):\n",
        "  liste=s.split()\n",
        "  if liste[2]==\"0\":\n",
        "    return -1\n",
        "  elif \"+\" in liste:\n",
        "    return int(liste[0])+int(liste[2])\n",
        "  elif \"-\" in liste:\n",
        "    return int(liste[0])-int(liste[2])\n",
        "  elif \"*\" in liste:\n",
        "    return int(liste[0])*int(liste[2])\n",
        "  elif \"//\" in liste:\n",
        "    return int(liste[0])//int(liste[2])\n",
        "print(arithmetic_operation(\"12 - 12\"))\n",
        "print(arithmetic_operation(\"12 * 12\"))\n",
        "print(arithmetic_operation(\"12 // 0\"))"
      ],
      "execution_count": null,
      "outputs": []
    },
    {
      "cell_type": "markdown",
      "metadata": {
        "id": "P2fHxeLH1e8z"
      },
      "source": [
        "**2-Encoded_String_Parse**\n",
        "\n",
        "Write a function which takes in an encoded string and returns a dictionary according to the following example:\n",
        "\n",
        "Examples\n",
        "parse_code(\"John000Doe000123\") ➞ {\n",
        "  \"first_name\": \"John\",\n",
        "  \"last_name\": \"Doe\",\n",
        "  \"id\": \"123\"\n",
        "}\n",
        "\n",
        "parse_code(\"michael0smith004331\") ➞ {\n",
        "  \"first_name\": \"michael\",\n",
        "  \"last_name\": \"smith\",\n",
        "  \"id\": \"4331\"\n",
        "}\n",
        "\n",
        "parse_code(\"Thomas00LEE0000043\") ➞ {\n",
        "  \"first_name\": \"Thomas\",\n",
        "  \"last_name\": \"LEE\",\n",
        "  \"id\": \"43\"\n",
        "}\n",
        "Notes\n",
        "The string will always be in the same format: first name, last name and id with zeros between them.\n",
        "id numbers will not contain any zeros.\n",
        "Bonus: Try solving this using RegEx."
      ]
    },
    {
      "cell_type": "code",
      "metadata": {
        "id": "_ACmnIkV1rce"
      },
      "source": [
        "def parse_code(s):\n",
        "  liste=s.split(\"0\")\n",
        "  while \"\" in liste:\n",
        "    liste.remove(\"\")\n",
        "  return {\"first_name\":liste[0], \"last_name\":liste[1], \"id\":liste[2]}\n",
        "print(parse_code(\"Thomas00LEE0000043\"))\n",
        "print(parse_code(\"michael0smith004331\"))\n",
        "print(parse_code(\"John000Doe000123\"))"
      ],
      "execution_count": null,
      "outputs": []
    },
    {
      "cell_type": "markdown",
      "metadata": {
        "id": "uyK0cOqF1v3F"
      },
      "source": [
        "**3-How_many_Digits_between_1_and_N**\n",
        "\n",
        "Imagine you took all the numbers between 0 and n and concatenated them together into a long string. How many digits are there between 0 and n? Write a function that can calculate this.\n",
        "\n",
        "There are 0 digits between 0 and 1, there are 9 digits between 0 and 10 and there are 189 digits between 0 and 100.\n",
        "\n",
        "Examples\n",
        "digits(1) ➞ 0\n",
        "\n",
        "digits(10) ➞ 9\n",
        "\n",
        "digits(100) ➞ 189\n",
        "\n",
        "digits(2020) ➞ 6969\n",
        "\n",
        "Notes\n",
        "The numbers are going to be rather big so creating that string won't be practical."
      ]
    },
    {
      "cell_type": "code",
      "metadata": {
        "id": "RiJCCr742Rw4"
      },
      "source": [
        "def digits(n):\n",
        "  basamak=len(str(n))\n",
        "  sonuc=0\n",
        "  for i in range(1,basamak):\n",
        "    sonuc += 9*i*10**(i-1)\n",
        "  sonuc+=(n-(10**(basamak-1)))*basamak\n",
        "  return sonuc\n",
        "print(digits(2020))\n",
        "print(digits(1))\n",
        "print(digits(10))\n",
        "print(digits(100))"
      ],
      "execution_count": null,
      "outputs": []
    },
    {
      "cell_type": "markdown",
      "metadata": {
        "id": "wYXYPRBE2hen"
      },
      "source": [
        "**4-Prime_Factorization_of_an_Integer**\n",
        "\n",
        "Create a function that returns a list containing the prime factors of whatever integer is passed to it.\n",
        "\n",
        "Examples\n",
        "prime_factors(20) ➞ [2, 2, 5]\n",
        "\n",
        "prime_factors(100) ➞ [2, 2, 5, 5]\n",
        "\n",
        "prime_factors(8912234) ➞ [2, 47, 94811]\n",
        "Notes\n",
        "\n",
        "Your solution should not require recursion."
      ]
    },
    {
      "cell_type": "code",
      "metadata": {
        "id": "_zo20wwI2u0E"
      },
      "source": [
        "def isPrime(sayi):\n",
        "  prime=True\n",
        "  for i in range(2,sayi):\n",
        "    if i==2:\n",
        "      prime= True\n",
        "    elif not sayi%i:\n",
        "      prime=False  \n",
        "  return prime\n",
        "def prime_factors(sayi):\n",
        "  liste=[]\n",
        "  sonuc=[]\n",
        "  [liste.append(i) for i in range(2,sayi) if not sayi%i and isPrime(i)]   \n",
        "  for i in liste:\n",
        "    while not sayi%i:\n",
        "      sonuc.append(i) \n",
        "      sayi=sayi//i     \n",
        "  return sonuc  \n",
        "prime_factors(8912234)"
      ],
      "execution_count": null,
      "outputs": []
    },
    {
      "cell_type": "markdown",
      "metadata": {
        "id": "_ZE7gaB12yf3"
      },
      "source": [
        "**5-Prime_Gaps**\n",
        "\n",
        "Prime Gaps A prime gap of length n is a run of n-1 consecutive composite numbers between two successive primes. See this Resource for more information.\n",
        "\n",
        "The prime numbers are not regularly spaced. For example gap between:\n",
        "\n",
        "2 and 3 is 1 3 and 5 is 2 7 and 11 is 4 Create a function with following parameters:\n",
        "\n",
        "g (integer >= 2) Gap between the consecutive primes\n",
        "\n",
        "a (integer > 2) Start of the search (a inclusive)\n",
        "\n",
        "b (integer >= a) End of the search (b inclusive) ... and returns the first pair of two prime numbers spaced with a gap of g between the limits a and b.\n",
        "\n",
        "prime_gaps(2, 3, 50) ➞ [3, 5]\n",
        "\n",
        "Between 2 and 50 we have the following pairs of 2-gaps primes: 3-5, 5-7, 11-13, 17-19, 29-31, 41-43.\n",
        "\n",
        "[3, 5] is the first pair between 3 and 50 with a 2-gap. Examples\n",
        "\n",
        "prime_gaps(2, 5, 7) ➞ [5, 7]\n",
        "\n",
        "prime_gaps(2, 5, 5) ➞ None\n",
        "\n",
        "prime_gaps(4, 130, 200) ➞ [163, 167]\n",
        "\n",
        "Notes Return None if consecutive prime numbers are not found with the required gap."
      ]
    },
    {
      "cell_type": "code",
      "metadata": {
        "id": "D1B2KWpp3DAG"
      },
      "source": [
        "def prime_mı(a):\n",
        "  for i in range(2,a):\n",
        "    prime = True\n",
        "    for ii in range(2,i):\n",
        "      if ii==2:\n",
        "        prime=True\n",
        "      elif a % ii == 0 :\n",
        "        prime = False \n",
        "  return prime\n",
        "def gap(x,y,z):\n",
        "  prime_list=[i for i in range(y,z+1) if prime_mı(i)]\n",
        "  sonuc=[[prime_list[i],prime_list[k]] for i in range(len(prime_list)) for k in range(i+1,len(prime_list)) if prime_list[k]-prime_list[i]==x ]      \n",
        "  return sonuc[0] if sonuc else None\n",
        "  \n",
        "print(gap(3,5,14))\n",
        "print(gap(8,5,14))\n",
        "print(gap(4, 130, 200))\n",
        "print(gap(2,5,7))\n"
      ],
      "execution_count": null,
      "outputs": []
    },
    {
      "cell_type": "code",
      "metadata": {
        "id": "OGxxbTHF3GIz"
      },
      "source": [
        "def gap_finder(g, m, n) : \n",
        "    sample_prime = 2 \n",
        "    for i in range(m, n + 1) :\n",
        "        prime = True\n",
        "        for ii in range(2, int(i ** 0.5) + 1) :\n",
        "            if i % ii == 0 :\n",
        "                prime = False \n",
        "        if prime == True :\n",
        "            if i - sample_prime == g and sample_prime in range(m, n + 1):\n",
        "                return [sample_prime, i]\n",
        "            else :\n",
        "                sample_prime = i\n",
        "print(gap_finder(8,5,14))"
      ],
      "execution_count": null,
      "outputs": []
    },
    {
      "cell_type": "markdown",
      "metadata": {
        "id": "K6xMQP-n3O7A"
      },
      "source": [
        "**6-Simplified_Fractions**\n",
        "\n",
        "Create a function that returns the simplified version of a fraction.\n",
        "\n",
        "Examples\n",
        "\n",
        "simplify(\"4/6\") ➞ \"2/3\"\n",
        "\n",
        "simplify(\"10/11\") ➞ \"10/11\"\n",
        "\n",
        "simplify(\"100/400\") ➞ \"1/4\"\n",
        "\n",
        "simplify(\"8/4\") ➞ \"2\"\n",
        "\n",
        "Notes\n",
        "\n",
        "A fraction is simplified if there are no common factors (except 1) between the numerator and the denominator. For example, 4/6 is not simplified, since 4 and 6 both share 2 as a factor.\n",
        "If improper fractions can be transformed into integers, do so in your code (see example #4)."
      ]
    },
    {
      "cell_type": "code",
      "metadata": {
        "id": "N8299aNh3gDT"
      },
      "source": [
        "def divisor(sayi):\n",
        "  seti={i for i in range(2,sayi+1) if not sayi%i}\n",
        "  return seti\n",
        "def simplify(a):\n",
        "  s1,s2=map(int,a.split(\"/\"))\n",
        "  ortk_div=list(divisor(s1).intersection(divisor(s2)))\n",
        "  ortk_div.sort(reverse=True)\n",
        "  if len(ortk_div)>=1:\n",
        "      s1=s1//ortk_div[0]\n",
        "      s2=s2//ortk_div[0]\n",
        "  if s2==1:\n",
        "    return f\"{s1}\"\n",
        "  else:\n",
        "    return f\"{s1}/{s2}\"\n",
        "simplify(\"8/20\")"
      ],
      "execution_count": null,
      "outputs": []
    },
    {
      "cell_type": "code",
      "metadata": {
        "colab": {
          "base_uri": "https://localhost:8080/",
          "height": 34
        },
        "id": "nsKm-vkw3hUK",
        "outputId": "bf9c857d-0828-4698-e383-7cda053f3eee"
      },
      "source": [
        "from math import gcd # greatest common divisor (ebob)\n",
        "def my_simplifier(str_num) : \n",
        "    num1, num2 = map(int, str_num.split(\"/\"))\n",
        "    ebob = gcd(num1, num2)\n",
        "    num1 = num1 // ebob\n",
        "    num2 = num2 // ebob\n",
        "    if num2 == 1 :\n",
        "        return f\"{num1}\"\n",
        "    return f\"{num1}/{num2}\"\n",
        "my_simplifier(\"4/12\")"
      ],
      "execution_count": 2,
      "outputs": [
        {
          "output_type": "execute_result",
          "data": {
            "application/vnd.google.colaboratory.intrinsic+json": {
              "type": "string"
            },
            "text/plain": [
              "'1/3'"
            ]
          },
          "metadata": {
            "tags": []
          },
          "execution_count": 2
        }
      ]
    },
    {
      "cell_type": "markdown",
      "metadata": {
        "id": "gFktlhBR33zu"
      },
      "source": [
        "**7-The_Karaca's_Encryption_Algorithm**\n",
        "\n",
        "Make a function that encrypts a given input with these steps:\n",
        "\n",
        "Input: \"apple\"\n",
        "\n",
        "Step 1: Reverse the input: \"elppa\"\n",
        "\n",
        "Step 2: Replace all vowels using the following chart:\n",
        "\n",
        "a => 0\n",
        "\n",
        "e => 1\n",
        "\n",
        "i => 2\n",
        "\n",
        "o => 2\n",
        "\n",
        "u => 3\n",
        "\n",
        "\"1lpp0\"\n",
        "\n",
        "Step 3: Add \"aca\" to the end of the word: \"1lpp0aca\"\n",
        "\n",
        "Output: \"1lpp0aca\"\n",
        "\n",
        "Examples\n",
        "\n",
        "encrypt(\"banana\") ➞ \"0n0n0baca\"\n",
        "\n",
        "encrypt(\"karaca\") ➞ \"0c0r0kaca\"\n",
        "\n",
        "encrypt(\"burak\") ➞ \"k0r3baca\"\n",
        "\n",
        "encrypt(\"alpaca\") ➞ \"0c0pl0aca\"\n",
        "\n",
        "Notes\n",
        "\n",
        "All inputs are strings, no uppercases and all output must be strings."
      ]
    },
    {
      "cell_type": "code",
      "metadata": {
        "colab": {
          "base_uri": "https://localhost:8080/",
          "height": 34
        },
        "id": "A3h8w63n4AhA",
        "outputId": "3dc765f6-bb93-49fe-9088-6b14a85921ec"
      },
      "source": [
        "def encrypt(st):\n",
        "  trs=st[::-1].maketrans(\"aeiou\",\"01223\")\n",
        "  return st[::-1].translate(trs)+\"aca\"\n",
        "encrypt(\"karaca\")"
      ],
      "execution_count": 3,
      "outputs": [
        {
          "output_type": "execute_result",
          "data": {
            "application/vnd.google.colaboratory.intrinsic+json": {
              "type": "string"
            },
            "text/plain": [
              "'0c0r0kaca'"
            ]
          },
          "metadata": {
            "tags": []
          },
          "execution_count": 3
        }
      ]
    },
    {
      "cell_type": "markdown",
      "metadata": {
        "id": "nvsPah034Q29"
      },
      "source": [
        "**8-Vowel_Families**\n",
        "\n",
        "Write a function that selects all words that have all the same vowels (in any order and/or number) as the first word, including the first word.\n",
        "\n",
        "Examples\n",
        "same_vowel_group([\"toe\", \"ocelot\", \"maniac\"]) ➞ [\"toe\", \"ocelot\"]\n",
        "\n",
        "same_vowel_group([\"many\", \"carriage\", \"emit\", \"apricot\", \"animal\"]) ➞ [\"many\"]\n",
        "\n",
        "same_vowel_group([\"hoops\", \"chuff\", \"bot\", \"bottom\"]) ➞ [\"hoops\", \"bot\", \"bottom\"]\n",
        "\n",
        "Notes\n",
        "Words will contain only lowercase letters, and may contain whitespaces.\n",
        "Frequency does not matter (e.g. if the first word is \"loopy\", then you can include words with any number of o's, so long as they only contain o's, and not any other vowels)."
      ]
    },
    {
      "cell_type": "code",
      "metadata": {
        "colab": {
          "base_uri": "https://localhost:8080/"
        },
        "id": "zbNJjuK24YRd",
        "outputId": "89a6ff44-601b-4f19-9bba-0f471dd4b21a"
      },
      "source": [
        "def same_vowel_group(liste):\n",
        "  vowel=\"aeiou\"\n",
        "  sozluk={}\n",
        "  ilk_kelime=set(i for i in liste[0] if i in vowel)\n",
        "  for i in liste:\n",
        "    if i not in sozluk:\n",
        "      sozluk[i]=[]\n",
        "    for k in i:\n",
        "      if k in vowel and k not in sozluk[i]:\n",
        "        sozluk[i].append(k)\n",
        "  sonuc=[i for i in sozluk if set(sozluk[i])==ilk_kelime] \n",
        "  return sonuc\n",
        "same_vowel_group([\"many\", \"carriage\", \"emit\", \"apricot\", \"animal\"])"
      ],
      "execution_count": 4,
      "outputs": [
        {
          "output_type": "execute_result",
          "data": {
            "text/plain": [
              "['many']"
            ]
          },
          "metadata": {
            "tags": []
          },
          "execution_count": 4
        }
      ]
    },
    {
      "cell_type": "markdown",
      "metadata": {
        "id": "5jqNscxV4iX6"
      },
      "source": [
        "**9-Words_With_Duplicate_Letters**\n",
        "\n",
        "Given a common phrase, return False if any individual word in the phrase contains duplicate letters. Return True otherwise.\n",
        "\n",
        "Examples\n",
        "\n",
        "no_duplicate_letters(\"Fortune favours the bold.\") ➞ True\n",
        "\n",
        "no_duplicate_letters(\"You can lead a horse to water, but you can't make him drink.\") ➞ True\n",
        "\n",
        "no_duplicate_letters(\"Look before you leap.\") ➞ False\n",
        "\n",
        " Duplicate letters in \"Look\" and \"before\".\n",
        "\n",
        "no_duplicate_letters(\"An apple a day keeps the doctor away.\") ➞ False\n",
        "\n",
        "Duplicate letters in \"apple\", \"keeps\", \"doctor\", and \"away\"."
      ]
    },
    {
      "cell_type": "code",
      "metadata": {
        "colab": {
          "base_uri": "https://localhost:8080/"
        },
        "id": "dO9Ks5JJ4p7p",
        "outputId": "b66c8fd2-d9f1-420b-9350-d5e7730a84df"
      },
      "source": [
        "def no_duplicate_letters(phrase):\n",
        "  liste=phrase.lower().split()\n",
        "  sonuc=True\n",
        "  for i in liste:\n",
        "    for k in i:\n",
        "      if k.isalpha():\n",
        "        if i.count(k)>1:\n",
        "          sonuc= False\n",
        "  return sonuc\n",
        "no_duplicate_letters(\"Fortune favours the bold..\")"
      ],
      "execution_count": 5,
      "outputs": [
        {
          "output_type": "execute_result",
          "data": {
            "text/plain": [
              "True"
            ]
          },
          "metadata": {
            "tags": []
          },
          "execution_count": 5
        }
      ]
    }
  ]
}