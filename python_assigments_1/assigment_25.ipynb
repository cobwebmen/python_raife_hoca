{
  "nbformat": 4,
  "nbformat_minor": 0,
  "metadata": {
    "colab": {
      "name": "assigment_25.ipynb",
      "provenance": [],
      "collapsed_sections": []
    },
    "kernelspec": {
      "name": "python3",
      "display_name": "Python 3"
    },
    "language_info": {
      "name": "python"
    }
  },
  "cells": [
    {
      "cell_type": "markdown",
      "metadata": {
        "id": "_BQDKmfwCyzQ"
      },
      "source": [
        "String olarak verilen değeri sayıya dönüştüren fonksiyon yazalım. \n",
        "\n",
        ".k bini temsil eder.\n",
        "\n",
        "sayi(\"3.5k 7.4k\") --> [3500, 13500]"
      ]
    },
    {
      "cell_type": "code",
      "metadata": {
        "id": "gcTdraS9Cvcs",
        "colab": {
          "base_uri": "https://localhost:8080/"
        },
        "outputId": "dd204845-9ba8-4ab1-b968-6b2bdfe345f9"
      },
      "source": [
        "def sayi(deger):\n",
        "  liste=deger.split()\n",
        "  liste2=[]\n",
        "  for i in liste:\n",
        "    if \"k\" in i:\n",
        "      i=i.replace(\"k\",\"\")\n",
        "      liste2.append(int(float(i)*1000))\n",
        "    else:\n",
        "      liste2.append(i)\n",
        "  return liste2\n",
        "print(sayi(\"5.6k 8.3895k\"))"
      ],
      "execution_count": 18,
      "outputs": [
        {
          "output_type": "stream",
          "text": [
            "[5600, 8389]\n"
          ],
          "name": "stdout"
        }
      ]
    },
    {
      "cell_type": "markdown",
      "metadata": {
        "id": "fBKylBJfNoZQ"
      },
      "source": [
        "n. fibonacci sayısını hesaplayan bir fonksiyon yazalım."
      ]
    },
    {
      "cell_type": "code",
      "metadata": {
        "colab": {
          "base_uri": "https://localhost:8080/"
        },
        "id": "DStZEuLxNpKY",
        "outputId": "42e5468b-daa4-4a85-f230-3fa356d9adbd"
      },
      "source": [
        "def fib(n):\n",
        "  sonuc=0\n",
        "  if n==0:\n",
        "    sonuc=0\n",
        "  elif n==1:\n",
        "    sonuc=1\n",
        "  elif n==2:\n",
        "    sonuc=1\n",
        "  elif n>2:\n",
        "    sonuc=fib(n-2)+fib(n-1)\n",
        "  return sonuc\n",
        "\n",
        "print(fib(8))\n",
        "print(fib(9))\n",
        "print(fib(10))"
      ],
      "execution_count": 20,
      "outputs": [
        {
          "output_type": "stream",
          "text": [
            "21\n",
            "34\n",
            "55\n"
          ],
          "name": "stdout"
        }
      ]
    }
  ]
}