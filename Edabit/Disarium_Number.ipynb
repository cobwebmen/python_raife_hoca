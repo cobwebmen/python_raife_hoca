{
  "nbformat": 4,
  "nbformat_minor": 0,
  "metadata": {
    "colab": {
      "name": "Disarium_Number.ipynb",
      "provenance": []
    },
    "kernelspec": {
      "name": "python3",
      "display_name": "Python 3"
    },
    "language_info": {
      "name": "python"
    }
  },
  "cells": [
    {
      "cell_type": "markdown",
      "metadata": {
        "id": "kFqiCyMI5IkH"
      },
      "source": [
        "Disarium Number\n",
        "\n",
        "A number is said to be Disarium if the sum of its digits raised to their respective positions is the number itself.\n",
        "\n",
        "Create a function that determines whether a number is a Disarium or not.\n",
        "\n",
        "Examples\n",
        "is_disarium(75) ➞ False\n",
        "\n",
        " 7^1 + 5^2 = 7 + 25 = 32\n",
        "\n",
        "is_disarium(135) ➞ True\n",
        "\n",
        "1^1 + 3^2 + 5^3 = 1 + 9 + 125 = 135\n",
        "\n",
        "is_disarium(544) ➞ False\n",
        "\n",
        "is_disarium(518) ➞ True\n",
        "\n",
        "is_disarium(466) ➞ False\n",
        "\n",
        "is_disarium(8) ➞ True"
      ]
    },
    {
      "cell_type": "code",
      "metadata": {
        "colab": {
          "base_uri": "https://localhost:8080/"
        },
        "id": "M6hMSCZr2QnL",
        "outputId": "33e4b080-eced-4ac6-b069-a2b08891f14d"
      },
      "source": [
        "def is_disarium(s):\n",
        "  sonuc=0\n",
        "  for a,b in enumerate(str(s),1):\n",
        "    sonuc+=int(b)**a\n",
        "  return sonuc==s\n",
        "print(is_disarium(75))\n",
        "print(is_disarium(135))\n",
        "print(is_disarium(544))\n",
        "print(is_disarium(518))\n",
        "print(is_disarium(8))"
      ],
      "execution_count": 4,
      "outputs": [
        {
          "output_type": "stream",
          "text": [
            "False\n",
            "True\n",
            "False\n",
            "True\n",
            "True\n"
          ],
          "name": "stdout"
        }
      ]
    }
  ]
}