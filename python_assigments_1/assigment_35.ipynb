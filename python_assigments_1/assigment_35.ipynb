{
  "nbformat": 4,
  "nbformat_minor": 0,
  "metadata": {
    "colab": {
      "name": "assigment_35.ipynb",
      "provenance": [],
      "collapsed_sections": []
    },
    "kernelspec": {
      "name": "python3",
      "display_name": "Python 3"
    },
    "language_info": {
      "name": "python"
    }
  },
  "cells": [
    {
      "cell_type": "markdown",
      "metadata": {
        "id": "ar0DSrhZgu6j"
      },
      "source": [
        "Dict keyleri stringle temsil edilen ve değerleri int(frekansı temsil eden) olan sözlük verisi var. Sözlüğün değerlerini frekans yerine dereceye dönüştürerek pasta grafiğini döndüren bir fonksiyon yazalım "
      ]
    },
    {
      "cell_type": "code",
      "metadata": {
        "colab": {
          "base_uri": "https://localhost:8080/"
        },
        "id": "_CiyeMnKeN_X",
        "outputId": "a8518820-2309-4950-b321-b7e6eeb00659"
      },
      "source": [
        "def pasta_grafigi(sözlük):\n",
        "  kat_sayi=360/sum(sözlük.values())\n",
        "  for i in sözlük:\n",
        "    sözlük[i]=round(kat_sayi*sözlük[i],1)\n",
        "  return sözlük\n",
        "print(pasta_grafigi({\"a\":1,\"b\":2}))\n",
        "print(pasta_grafigi({\"a\":8,\"b\":21,\"c\":12,\"d\":5,\"e\":4}))"
      ],
      "execution_count": 5,
      "outputs": [
        {
          "output_type": "stream",
          "text": [
            "{'a': 120.0, 'b': 240.0}\n",
            "{'a': 57.6, 'b': 151.2, 'c': 86.4, 'd': 36.0, 'e': 28.8}\n"
          ],
          "name": "stdout"
        }
      ]
    }
  ]
}