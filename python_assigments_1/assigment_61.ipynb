{
  "nbformat": 4,
  "nbformat_minor": 0,
  "metadata": {
    "colab": {
      "name": "assigment_61.ipynb",
      "provenance": []
    },
    "kernelspec": {
      "name": "python3",
      "display_name": "Python 3"
    },
    "language_info": {
      "name": "python"
    }
  },
  "cells": [
    {
      "cell_type": "markdown",
      "metadata": {
        "id": "Rneh8J6HVaNp"
      },
      "source": [
        "Str içinde verilen sayıyı inte, int olarak verilen sayıyı stre çeviren fonksiyon yazalım."
      ]
    },
    {
      "cell_type": "code",
      "metadata": {
        "id": "7Q9K4QiPVXGz"
      },
      "source": [
        "def str_int(n):\n",
        "    if int(n)==n:\n",
        "        n=str(n)\n",
        "    elif str(n)==n:\n",
        "        n=int(n)\n",
        "    return n\n",
        "str_int(29348)"
      ],
      "execution_count": null,
      "outputs": []
    },
    {
      "cell_type": "markdown",
      "metadata": {
        "id": "dUqnrdp0Vl0p"
      },
      "source": [
        "The right shift operation is similar to floor division by powers of two.\n",
        "\n",
        "Sample calculation using the right shift operator ( >> ):\n",
        "\n",
        "80 >> 3 = floor(80/2^3) = floor(80/8) = 10\n",
        "-24 >> 2 = floor(-24/2^2) = floor(-24/4) = -6\n",
        "-5 >> 1 = floor(-5/2^1) = floor(-5/2) = -2\n",
        "Write a function that mimics (without the use of >>) the right shift operator and returns the result from the two given integers.\n",
        "\n",
        "Examples\n",
        "shift_to_right(80, 3) ➞ 10\n",
        "\n",
        "shift_to_right(-24, 2) ➞ -6\n",
        "\n",
        "shift_to_right(-5, 1) ➞ -2\n",
        "\n",
        "shift_to_right(4666, 6) ➞ 72\n",
        "\n",
        "shift_to_right(3777, 6) ➞ 59\n",
        "\n",
        "shift_to_right(-512, 10) ➞ 0\n",
        "Notes\n",
        "There will be no negative values for the second parameter y.\n",
        "This challenge is more like recreating of the right shift operation, thus, the use of the operator directly is prohibited."
      ]
    },
    {
      "cell_type": "code",
      "metadata": {
        "colab": {
          "base_uri": "https://localhost:8080/"
        },
        "id": "OEZ3gwHBWQog",
        "outputId": "86bc46d6-a747-44d2-dbe0-d0a49b20fc45"
      },
      "source": [
        "def shift_to_right(a, b):\n",
        "    return int(a/2**b)\n",
        "shift_to_right(80, 3)"
      ],
      "execution_count": 1,
      "outputs": [
        {
          "output_type": "execute_result",
          "data": {
            "text/plain": [
              "10"
            ]
          },
          "metadata": {
            "tags": []
          },
          "execution_count": 1
        }
      ]
    },
    {
      "cell_type": "markdown",
      "metadata": {
        "id": "ayxhOpCNdbWk"
      },
      "source": [
        "Write a function that takes the base and height of a triangle and return its area.\n",
        "\n",
        "Examples\n",
        "tri_area(3, 2) ➞ 3\n",
        "\n",
        "tri_area(7, 4) ➞ 14\n",
        "\n",
        "tri_area(10, 10) ➞ 50\n",
        "Notes\n",
        "The area of a triangle is: (base * height) / 2"
      ]
    },
    {
      "cell_type": "code",
      "metadata": {
        "colab": {
          "base_uri": "https://localhost:8080/"
        },
        "id": "XtEdFpBBdcQo",
        "outputId": "0ec96421-417e-4258-b75f-8354bf3e98be"
      },
      "source": [
        "def tri_area(a,b):\n",
        "  return int((a*b)/2)\n",
        "tri_area(7, 4)"
      ],
      "execution_count": 3,
      "outputs": [
        {
          "output_type": "execute_result",
          "data": {
            "text/plain": [
              "14"
            ]
          },
          "metadata": {
            "tags": []
          },
          "execution_count": 3
        }
      ]
    }
  ]
}