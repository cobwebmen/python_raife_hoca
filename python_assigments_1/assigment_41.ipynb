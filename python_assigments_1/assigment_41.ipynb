{
  "nbformat": 4,
  "nbformat_minor": 0,
  "metadata": {
    "colab": {
      "name": "assigment_41.ipynb",
      "provenance": []
    },
    "kernelspec": {
      "name": "python3",
      "display_name": "Python 3"
    },
    "language_info": {
      "name": "python"
    }
  },
  "cells": [
    {
      "cell_type": "markdown",
      "metadata": {
        "id": "ggRPFKzyfSdP"
      },
      "source": [
        "Task:\n",
        "You will be given an array of numbers. You have to sort the odd numbers in ascending order while leaving the even numbers at their original positions.\n",
        "\n",
        "Example:\n",
        "\n",
        "[7, 1] => [1, 7]\n",
        "\n",
        "[5, 8, 6, 3, 4] => [3, 8, 6, 5, 4]\n",
        "\n",
        "[9, 8, 7, 6, 5, 4, 3, 2, 1, 0] => [1, 8, 3, 6, 5, 4, 7, 2, 9, 0]"
      ]
    },
    {
      "cell_type": "code",
      "metadata": {
        "colab": {
          "base_uri": "https://localhost:8080/"
        },
        "id": "sI835EHGV_SR",
        "outputId": "b2cbe604-5baa-4cf9-cd16-accf91f9a0e9"
      },
      "source": [
        "def odd_even(arr):\n",
        "  odd=[]\n",
        "  numbers_n=[]\n",
        "  for i in arr:\n",
        "    if i%2==1:\n",
        "      odd.append(i)\n",
        "  odd.sort(reverse=True)\n",
        "  for i in arr:\n",
        "    if i%2==1:\n",
        "      numbers_n.append(odd[-1])\n",
        "      odd.pop()\n",
        "    else:\n",
        "      numbers_n.append(i)\n",
        "  return numbers_n\n",
        "print(odd_even([7, 1]))\n",
        "print(odd_even([5, 8, 6, 3, 4]))\n",
        "print(odd_even([9, 8, 7, 6, 5, 4, 3, 2, 1, 0]))"
      ],
      "execution_count": 13,
      "outputs": [
        {
          "output_type": "stream",
          "text": [
            "[1, 7]\n",
            "[3, 8, 6, 5, 4]\n",
            "[1, 8, 3, 6, 5, 4, 7, 2, 9, 0]\n"
          ],
          "name": "stdout"
        }
      ]
    }
  ]
}