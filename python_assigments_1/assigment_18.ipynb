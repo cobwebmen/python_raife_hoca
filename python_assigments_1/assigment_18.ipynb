{
  "nbformat": 4,
  "nbformat_minor": 0,
  "metadata": {
    "colab": {
      "name": "assigment_18.ipynb",
      "provenance": []
    },
    "kernelspec": {
      "name": "python3",
      "display_name": "Python 3"
    },
    "language_info": {
      "name": "python"
    }
  },
  "cells": [
    {
      "cell_type": "markdown",
      "metadata": {
        "id": "kI2ZeLLa_jrR"
      },
      "source": [
        "Arif ve Raife listede yanyana duruyorlasa True döndüren durmuyorlarsa False döndüren bir fonksiyon yazalım."
      ]
    },
    {
      "cell_type": "code",
      "metadata": {
        "colab": {
          "base_uri": "https://localhost:8080/"
        },
        "id": "QcG4-w59-dnx",
        "outputId": "ee57b74f-b6c7-4bd5-dbb9-1b7ad144ee45"
      },
      "source": [
        "def yan_yana_mı(liste):\n",
        "  for i in liste:\n",
        "    if liste.index(\"Arif\")+1==liste.index(\"Raife\") or liste.index(\"Arif\")==liste.index(\"Raife\")+1:\n",
        "      return True\n",
        "    else:\n",
        "      return False\n",
        "  \n",
        "print(yan_yana_mı([\"Arif\",\"Raife\",\"Nihal\"]))\n",
        "print(yan_yana_mı([\"Arif\",\"Nihal\",\"Raife\"]))"
      ],
      "execution_count": 1,
      "outputs": [
        {
          "output_type": "stream",
          "text": [
            "True\n",
            "False\n"
          ],
          "name": "stdout"
        }
      ]
    }
  ]
}