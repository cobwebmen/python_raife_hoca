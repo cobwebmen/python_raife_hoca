{
  "nbformat": 4,
  "nbformat_minor": 0,
  "metadata": {
    "colab": {
      "name": "Concert_Seats.ipynb",
      "provenance": []
    },
    "kernelspec": {
      "name": "python3",
      "display_name": "Python 3"
    },
    "language_info": {
      "name": "python"
    }
  },
  "cells": [
    {
      "cell_type": "markdown",
      "metadata": {
        "id": "Kdy16GUcpWOY"
      },
      "source": [
        "```\n",
        "Create a function that determines whether each seat can \"see\" the front-stage. A number can \"see\" the front-stage if it is strictly greater than the number before it.\n",
        "\n",
        "Everyone can see the front-stage in the example below:\n",
        "\n",
        "# FRONT STAGE\n",
        "[[1, 2, 3, 2, 1, 1],\n",
        "[2, 4, 4, 3, 2, 2],\n",
        "[5, 5, 5, 5, 4, 4],\n",
        "[6, 6, 7, 6, 5, 5]]\n",
        "\n",
        "# Starting from the left, the 6 > 5 > 2 > 1, so all numbers can see.\n",
        "# 6 > 5 > 4 > 2 - so all numbers can see, etc.\n",
        "Not everyone can see the front-stage in the example below:\n",
        "\n",
        "# FRONT STAGE\n",
        "[[1, 2, 3, 2, 1, 1], \n",
        "[2, 4, 4, 3, 2, 2], \n",
        "[5, 5, 5, 10, 4, 4], \n",
        "[6, 6, 7, 6, 5, 5]]\n",
        "\n",
        "# The 10 is directly in front of the 6 and blocking its view.\n",
        "The function should return True if every number can see the front-stage, and False if even a single number cannot.\n",
        "\n",
        "Examples\n",
        "can_see_stage([\n",
        "  [1, 2, 3],\n",
        "  [4, 5, 6],\n",
        "  [7, 8, 9]\n",
        "]) ➞ True\n",
        "\n",
        "can_see_stage([\n",
        "  [0, 0, 0],\n",
        "  [1, 1, 1],\n",
        "  [2, 2, 2]\n",
        "]) ➞ True\n",
        "\n",
        "can_see_stage([\n",
        "  [2, 0, 0], \n",
        "  [1, 1, 1], \n",
        "  [2, 2, 2]\n",
        "]) ➞ False\n",
        "\n",
        "can_see_stage([\n",
        "  [1, 0, 0],\n",
        "  [1, 1, 1],\n",
        "  [2, 2, 2]\n",
        "]) ➞ False\n",
        "\n",
        "# Number must be strictly smaller than \n",
        "# the number directly behind it.\n",
        "Notes\n",
        "Numbers must be strictly greater than the number in front of it.\n",
        "All numbers within the lists will be whole numbers greater than or equal to zero.\n",
        "\n",
        "```"
      ]
    },
    {
      "cell_type": "code",
      "metadata": {
        "colab": {
          "base_uri": "https://localhost:8080/"
        },
        "id": "HqmN7e_ApVEK",
        "outputId": "0f5146b5-205b-4c1d-af30-dde35fb012f9"
      },
      "source": [
        "def can_see(liste):\n",
        "     return all([False if i[k]>=i[k+1] else True for i in zip(*liste) for k in range(len(i)-1)])\n",
        "can_see([[0, 2, 3, 2, 1, 2], \n",
        "[1, 4, 4, 4, 2, 3], \n",
        "[4, 5, 5,5, 4, 4], \n",
        "[6, 6, 7, 6, 5, 4]])"
      ],
      "execution_count": 10,
      "outputs": [
        {
          "output_type": "execute_result",
          "data": {
            "text/plain": [
              "False"
            ]
          },
          "metadata": {
            "tags": []
          },
          "execution_count": 10
        }
      ]
    },
    {
      "cell_type": "code",
      "metadata": {
        "colab": {
          "base_uri": "https://localhost:8080/"
        },
        "id": "3VNbCluPpoNd",
        "outputId": "db8f9fc4-c708-48dc-ae75-6c0a4d585d02"
      },
      "source": [
        "def can_see(liste):\n",
        "    sonuc=True\n",
        "    for i in zip(*liste):\n",
        "        for k in range(len(i)-1):\n",
        "            if i[k]>=i[k+1]:\n",
        "                sonuc= False\n",
        "    return sonuc\n",
        "can_see([\n",
        "  [1, 2, 3],\n",
        "  [4, 5, 6],\n",
        "  [7, 8, 7]\n",
        "])"
      ],
      "execution_count": 12,
      "outputs": [
        {
          "output_type": "execute_result",
          "data": {
            "text/plain": [
              "True"
            ]
          },
          "metadata": {
            "tags": []
          },
          "execution_count": 12
        }
      ]
    }
  ]
}