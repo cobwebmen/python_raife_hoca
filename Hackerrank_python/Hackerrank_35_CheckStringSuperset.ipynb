{
  "nbformat": 4,
  "nbformat_minor": 0,
  "metadata": {
    "colab": {
      "name": "Hackerrank_35_CheckStringSuperset.ipynb",
      "provenance": []
    },
    "kernelspec": {
      "name": "python3",
      "display_name": "Python 3"
    },
    "language_info": {
      "name": "python"
    }
  },
  "cells": [
    {
      "cell_type": "markdown",
      "metadata": {
        "id": "tcNQn7LFV1dA"
      },
      "source": [
        "Sample Input\n",
        "\n",
        "1 2 3 4 5 6 7 8 9 10 11 12 23 45 84 78\n",
        "\n",
        "2\n",
        "\n",
        "1 2 3 4 5\n",
        "\n",
        "100 11 12\n",
        "\n",
        "Sample Output\n",
        "\n",
        "False\n",
        "\n",
        "Explanation\n",
        "\n",
        "Set A is the strict superset of the set([1,2,3,4,5]) but not of the set ([100,11,12])because 100 is not in set A.\n",
        "Hence, the output is False."
      ]
    },
    {
      "cell_type": "code",
      "metadata": {
        "colab": {
          "base_uri": "https://localhost:8080/"
        },
        "id": "mNmzV7B2S5No",
        "outputId": "98d44802-0fe9-471e-f76a-46bc1ed04107"
      },
      "source": [
        "a=set(map(int, input().split()))\n",
        "b=int(input())\n",
        "liste=[]\n",
        "for i in range(b):\n",
        "  liste.append(a.issuperset(set(map(int,input().split()))))\n",
        "if False in liste:\n",
        "  print(False)\n",
        "else:\n",
        "  print(True)\n"
      ],
      "execution_count": 2,
      "outputs": [
        {
          "output_type": "stream",
          "text": [
            "1 2 3 4 5 6 7 8 9 10 11 12 23 45 84 78\n",
            "2\n",
            "1 2 3 4 5\n",
            "100 11 12\n",
            "False\n"
          ],
          "name": "stdout"
        }
      ]
    }
  ]
}