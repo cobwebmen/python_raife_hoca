{
  "nbformat": 4,
  "nbformat_minor": 0,
  "metadata": {
    "colab": {
      "name": "assigment_6.ipynb",
      "provenance": [],
      "collapsed_sections": []
    },
    "kernelspec": {
      "name": "python3",
      "display_name": "Python 3"
    },
    "language_info": {
      "name": "python"
    }
  },
  "cells": [
    {
      "cell_type": "markdown",
      "metadata": {
        "id": "Dy7YOLQNWAee"
      },
      "source": [
        "Write a program that repeatedly prompts a user for integer numbers until the user enters 'done'. Once 'done' is entered, print out the largest and smallest of the numbers. If the user enters anything other than a valid number catch it with a try/except and put out an appropriate message and ignore the number. Enter 7, 2, bob, 10, and 4 and match the output below."
      ]
    },
    {
      "cell_type": "code",
      "metadata": {
        "id": "_r5hKzIoV_u8"
      },
      "source": [
        "liste=[]\n",
        "while True:\n",
        "    num = input(\"Enter a number: \")\n",
        "    if num == \"done\" : \n",
        "        break\n",
        "    try:\n",
        "      inum = int(num)\n",
        "    except:\n",
        "      print(\"Invalid input\")\n",
        "      continue\n",
        "    if int(num)==inum:\n",
        "      liste.append(inum)\n",
        "     \n",
        "print(\"Maximum is\", max(liste))\n",
        "print(\"Minimum is\", min(liste))"
      ],
      "execution_count": null,
      "outputs": []
    }
  ]
}