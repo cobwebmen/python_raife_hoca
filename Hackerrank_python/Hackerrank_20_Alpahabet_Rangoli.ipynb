{
  "nbformat": 4,
  "nbformat_minor": 0,
  "metadata": {
    "colab": {
      "name": "Hackerrank_20_Alpahabet_Rangoli.ipynb",
      "provenance": [],
      "collapsed_sections": []
    },
    "kernelspec": {
      "name": "python3",
      "display_name": "Python 3"
    },
    "language_info": {
      "name": "python"
    }
  },
  "cells": [
    {
      "cell_type": "markdown",
      "metadata": {
        "id": "pPvcv-sFgtid"
      },
      "source": [
        "#size 3\n",
        "\n",
        "----c----\n",
        "\n",
        "--c-b-c--\n",
        "\n",
        "c-b-a-b-c\n",
        "\n",
        "--c-b-c--\n",
        "\n",
        "----c----\n",
        "\n",
        "\n",
        "#size 5\n",
        "\n",
        "--------e--------\n",
        "\n",
        "------e-d-e------\n",
        "\n",
        "----e-d-c-d-e----\n",
        "\n",
        "--e-d-c-b-c-d-e--\n",
        "\n",
        "e-d-c-b-a-b-c-d-e\n",
        "\n",
        "--e-d-c-b-c-d-e--\n",
        "\n",
        "----e-d-c-d-e----\n",
        "\n",
        "------e-d-e------\n",
        "\n",
        "--------e--------\n",
        "\n",
        "İşlemin daha iyi anlaşılması için string ve listeyi yazdırdım.\n"
      ]
    },
    {
      "cell_type": "code",
      "metadata": {
        "colab": {
          "base_uri": "https://localhost:8080/"
        },
        "id": "bc2vHHnfJOTB",
        "outputId": "2430b868-2f9d-415d-806d-646943c18073"
      },
      "source": [
        "def print_rangoli(size):\n",
        "    alpha=\"abcdefghijklmnopqrstuvwxyz\"\n",
        "    liste = []\n",
        "    for i in range(n):\n",
        "        string = \"-\".join(alpha[i:n])\n",
        "        print(string)\n",
        "        liste.append((string[::-1]+string[1:]).center(4*n-3, \"-\"))\n",
        "        print(liste)\n",
        "    print('\\n'.join(liste[:0:-1]+liste))\n",
        "\n",
        "if __name__ == '__main__':\n",
        "    n = int(input())\n",
        "    print_rangoli(n)"
      ],
      "execution_count": 4,
      "outputs": [
        {
          "output_type": "stream",
          "text": [
            "4\n",
            "a-b-c-d\n",
            "['d-c-b-a-b-c-d']\n",
            "b-c-d\n",
            "['d-c-b-a-b-c-d', '--d-c-b-c-d--']\n",
            "c-d\n",
            "['d-c-b-a-b-c-d', '--d-c-b-c-d--', '----d-c-d----']\n",
            "d\n",
            "['d-c-b-a-b-c-d', '--d-c-b-c-d--', '----d-c-d----', '------d------']\n",
            "------d------\n",
            "----d-c-d----\n",
            "--d-c-b-c-d--\n",
            "d-c-b-a-b-c-d\n",
            "--d-c-b-c-d--\n",
            "----d-c-d----\n",
            "------d------\n"
          ],
          "name": "stdout"
        }
      ]
    }
  ]
}