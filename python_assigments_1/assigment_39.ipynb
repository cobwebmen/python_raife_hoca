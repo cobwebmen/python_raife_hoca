{
  "nbformat": 4,
  "nbformat_minor": 0,
  "metadata": {
    "colab": {
      "name": "assigment_39.ipynb",
      "provenance": []
    },
    "kernelspec": {
      "name": "python3",
      "display_name": "Python 3"
    },
    "language_info": {
      "name": "python"
    }
  },
  "cells": [
    {
      "cell_type": "markdown",
      "metadata": {
        "id": "-a-n6i6LweQF"
      },
      "source": [
        "Cümlenin içinde harf ile başlayan kelimelerin baş harfini büyük yazan sayı ile başlıyorsa küçük yazdıran fonksiyon yazalım."
      ]
    },
    {
      "cell_type": "code",
      "metadata": {
        "colab": {
          "base_uri": "https://localhost:8080/"
        },
        "id": "y4bWk9Ehnez0",
        "outputId": "5c46843a-ee8d-4946-e07d-cb9034c3a322"
      },
      "source": [
        "def solve(s):\n",
        "  digit=\"0123456789\"\n",
        "  alpha=\"abcdefghijklmnopqrstuvyzwx\"\n",
        "  a= s.split()\n",
        "  b=\"\"\n",
        "  for i in a:\n",
        "    if i[0] in digit:\n",
        "      b += i + \" \"\n",
        "    elif i[0] in alpha:\n",
        "      b += i.capitalize() +\" \"\n",
        "  return b\n",
        "print(solve(\"alison heck 12abc a1234\"))   "
      ],
      "execution_count": 15,
      "outputs": [
        {
          "output_type": "stream",
          "text": [
            "Alison Heck 12abc A1234 \n"
          ],
          "name": "stdout"
        }
      ]
    }
  ]
}