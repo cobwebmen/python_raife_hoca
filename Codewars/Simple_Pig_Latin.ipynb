{
  "nbformat": 4,
  "nbformat_minor": 0,
  "metadata": {
    "colab": {
      "name": "Simple_Pig_Latin.ipynb",
      "provenance": []
    },
    "kernelspec": {
      "name": "python3",
      "display_name": "Python 3"
    },
    "language_info": {
      "name": "python"
    }
  },
  "cells": [
    {
      "cell_type": "markdown",
      "metadata": {
        "id": "ImCg1oJp_faT"
      },
      "source": [
        "```\n",
        "Move the first letter of each word to the end of it, then add \"ay\" to the end of the word. Leave punctuation marks untouched.\n",
        "\n",
        "Examples\n",
        "pig_it('Pig latin is cool') # igPay atinlay siay oolcay\n",
        "pig_it('Hello world !')     # elloHay orldway !\n",
        "```"
      ]
    },
    {
      "cell_type": "code",
      "metadata": {
        "colab": {
          "base_uri": "https://localhost:8080/"
        },
        "id": "QNaRMCKf4_Zb",
        "outputId": "a20ef949-7776-4431-e018-ada4d94708b2"
      },
      "source": [
        "def change(s):\n",
        "  s=s.split()\n",
        "  y=\"\"\n",
        "  for i in s:\n",
        "    if i.isalnum():\n",
        "      y+=i[1:]+i[0]+\"ay\"+\" \"\n",
        "    else:\n",
        "      y+=i\n",
        "  return y.strip()\n",
        "print(change(\"Pig latin is cool\"))\n",
        "print(change('Hello world !'))"
      ],
      "execution_count": 6,
      "outputs": [
        {
          "output_type": "stream",
          "text": [
            "igPay atinlay siay oolcay\n",
            "elloHay orldway !\n"
          ],
          "name": "stdout"
        }
      ]
    }
  ]
}