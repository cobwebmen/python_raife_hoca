{
  "nbformat": 4,
  "nbformat_minor": 0,
  "metadata": {
    "colab": {
      "name": "Hackerrank_33_IntegersComeInAllSizes.ipynb",
      "provenance": []
    },
    "kernelspec": {
      "name": "python3",
      "display_name": "Python 3"
    },
    "language_info": {
      "name": "python"
    }
  },
  "cells": [
    {
      "cell_type": "markdown",
      "metadata": {
        "id": "IdfXI8N1w7Qy"
      },
      "source": [
        "Task\n",
        "Read four numbers,a ,b ,c , and d, and print the result of (a üssü b) + (c üssü d)\n",
        "\n",
        "Sample Input\n",
        "\n",
        "9\n",
        "\n",
        "29\n",
        "\n",
        "7\n",
        "\n",
        "27\n",
        "\n",
        "Sample Output\n",
        "\n",
        "4710194409608608369201743232"
      ]
    },
    {
      "cell_type": "code",
      "metadata": {
        "colab": {
          "base_uri": "https://localhost:8080/"
        },
        "id": "UItKq_O7w3Km",
        "outputId": "97860a02-b6fd-453e-d01c-f107fa06ac96"
      },
      "source": [
        "a=int(input())\n",
        "b=int(input())\n",
        "c=int(input())\n",
        "d=int(input())\n",
        "print(pow(a,b)+pow(c,d))"
      ],
      "execution_count": 1,
      "outputs": [
        {
          "output_type": "stream",
          "text": [
            "9\n",
            "29\n",
            "7\n",
            "27\n",
            "4710194409608608369201743232\n"
          ],
          "name": "stdout"
        }
      ]
    }
  ]
}