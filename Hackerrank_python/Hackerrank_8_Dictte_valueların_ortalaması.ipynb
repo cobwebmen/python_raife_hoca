{
  "nbformat": 4,
  "nbformat_minor": 0,
  "metadata": {
    "colab": {
      "name": "Hackerrank_8_Dictte_valueların_ortalaması.ipynb",
      "provenance": [],
      "collapsed_sections": []
    },
    "kernelspec": {
      "name": "python3",
      "display_name": "Python 3"
    },
    "language_info": {
      "name": "python"
    }
  },
  "cells": [
    {
      "cell_type": "markdown",
      "metadata": {
        "id": "mmLqPTE2M3ak"
      },
      "source": [
        "The provided code stub will read in a dictionary containing key/value pairs of name:[marks] for a list of students. Print the average of the marks array for the student name provided, showing 2 places after the decimal.\n",
        "\n",
        "\n",
        "Input Format\n",
        "\n",
        "The first line contains the integer , the number of students' records. The next  lines contain the names and marks obtained by a student, each value separated by a space. The final line contains query_name, the name of a student to query.\n",
        "\n",
        "\n",
        "\n",
        "Output Format\n",
        "\n",
        "Print one line: The average of the marks obtained by the particular student correct to 2 decimal places."
      ]
    },
    {
      "cell_type": "code",
      "metadata": {
        "colab": {
          "base_uri": "https://localhost:8080/"
        },
        "id": "D05WyBUGeUZn",
        "outputId": "997a4060-fc18-4402-f542-a2dad18da83b"
      },
      "source": [
        "if __name__ == '__main__':\n",
        "  n = int(input())\n",
        "  student_marks = {}   \n",
        "  for _ in range(n):\n",
        "    name, *line = input().split()    \n",
        "    scores = list(map(float, line))\n",
        "    student_marks[name]=sum(scores)/len(scores)\n",
        "  query_name = input()      \n",
        "print(\"{:.2f}\".format(student_marks[query_name]))\n",
        " "
      ],
      "execution_count": 22,
      "outputs": [
        {
          "output_type": "stream",
          "text": [
            "2\n",
            "alpha 20 30 40\n",
            "beta 30 50 70\n",
            "beta\n",
            "50.00\n"
          ],
          "name": "stdout"
        }
      ]
    }
  ]
}