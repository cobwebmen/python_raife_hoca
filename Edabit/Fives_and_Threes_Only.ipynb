{
  "nbformat": 4,
  "nbformat_minor": 0,
  "metadata": {
    "colab": {
      "name": "Fives_and_Threes_Only.ipynb",
      "provenance": []
    },
    "kernelspec": {
      "name": "python3",
      "display_name": "Python 3"
    },
    "language_info": {
      "name": "python"
    }
  },
  "cells": [
    {
      "cell_type": "markdown",
      "metadata": {
        "id": "hNWIpfpo9lRH"
      },
      "source": [
        "```\n",
        "Starting with either 3 or 5 and given these operations:\n",
        "\n",
        "add 5\n",
        "multiply by 3\n",
        "You should say if it is possible to reach the target number n.\n",
        "\n",
        "Examples\n",
        "only_5_and_3(14) ➞ True\n",
        "# 14 = 3*3 + 5\n",
        "\n",
        "only_5_and_3(25) ➞ True\n",
        "# 25 = 5+5+5+5+5\n",
        "\n",
        "only_5_and_3(7) ➞ False\n",
        "# There exists no path to the target number 7\n",
        "\n",
        "```\n",
        "\n",
        "\n"
      ]
    },
    {
      "cell_type": "code",
      "metadata": {
        "colab": {
          "base_uri": "https://localhost:8080/"
        },
        "id": "NH5zOWey92DA",
        "outputId": "f48cfb03-1af8-4e1f-b547-2811a50a6dbc"
      },
      "source": [
        "def only_5_and_3(sayi):\n",
        "  sonuc=False\n",
        "  for i in range(sayi//3 + 1):\n",
        "    for k in range(sayi//5 + 1):\n",
        "      if 3*i+5*k==sayi:\n",
        "        sonuc=True\n",
        "  return sonuc\n",
        "only_5_and_3(7)"
      ],
      "execution_count": 20,
      "outputs": [
        {
          "output_type": "execute_result",
          "data": {
            "text/plain": [
              "False"
            ]
          },
          "metadata": {
            "tags": []
          },
          "execution_count": 20
        }
      ]
    },
    {
      "cell_type": "code",
      "metadata": {
        "colab": {
          "base_uri": "https://localhost:8080/"
        },
        "id": "jljdTQBy9gqd",
        "outputId": "ddc5ac97-7e35-4c2b-b77a-b249cec2928b"
      },
      "source": [
        "def only_5_and_3(sayi):\n",
        "    return any([True if 3*i+5*k==sayi else False for i in range(sayi//3+1) for k in range(sayi//5+1)])\n",
        "only_5_and_3(3)"
      ],
      "execution_count": 13,
      "outputs": [
        {
          "output_type": "execute_result",
          "data": {
            "text/plain": [
              "True"
            ]
          },
          "metadata": {
            "tags": []
          },
          "execution_count": 13
        }
      ]
    }
  ]
}