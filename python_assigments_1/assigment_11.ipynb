{
  "nbformat": 4,
  "nbformat_minor": 0,
  "metadata": {
    "colab": {
      "name": "faktöriyel_hesaplama_fonksiyonu.ipynb",
      "provenance": [],
      "collapsed_sections": []
    },
    "kernelspec": {
      "name": "python3",
      "display_name": "Python 3"
    },
    "language_info": {
      "name": "python"
    }
  },
  "cells": [
    {
      "cell_type": "code",
      "metadata": {
        "id": "yKVAFTX3X1xj",
        "colab": {
          "base_uri": "https://localhost:8080/"
        },
        "outputId": "e29eea82-bb47-46a1-c9c1-13b274c0b123"
      },
      "source": [
        "def factorial(sayi):\n",
        "  sonuc=1\n",
        "  i=1 \n",
        "  while i<sayi+1:\n",
        "    sonuc*=i\n",
        "    i+=1\n",
        "  return sonuc\n",
        "\n",
        "print(factorial(8))"
      ],
      "execution_count": 21,
      "outputs": [
        {
          "output_type": "stream",
          "text": [
            "40320\n"
          ],
          "name": "stdout"
        }
      ]
    }
  ]
}