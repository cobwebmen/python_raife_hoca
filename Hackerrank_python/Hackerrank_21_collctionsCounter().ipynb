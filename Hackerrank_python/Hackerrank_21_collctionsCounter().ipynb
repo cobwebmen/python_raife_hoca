{
  "nbformat": 4,
  "nbformat_minor": 0,
  "metadata": {
    "colab": {
      "name": "Hackerrank_21_collctionsCounter().ipynb",
      "provenance": [],
      "collapsed_sections": []
    },
    "kernelspec": {
      "name": "python3",
      "display_name": "Python 3"
    },
    "language_info": {
      "name": "python"
    }
  },
  "cells": [
    {
      "cell_type": "markdown",
      "metadata": {
        "id": "8xXq3kYV758Z"
      },
      "source": [
        "Task\n",
        "\n",
        "Ra is a shoe shop owner. His shop has X number of shoes.\n",
        "He has a list containing the size of each shoe he has in his shop.\n",
        "There are N number of customers who are willing to pay x amount of money only if they get the shoe of their desired size.\n",
        "\n",
        "Your task is to compute how much money Ra earned."
      ]
    },
    {
      "cell_type": "code",
      "metadata": {
        "colab": {
          "base_uri": "https://localhost:8080/"
        },
        "id": "2gOETDYFzWN2",
        "outputId": "79904541-420d-47f8-a55e-0bd0bd5fb663"
      },
      "source": [
        "liste_eleman_sayi=input()\n",
        "liste=[int(i) for i in input().split()]\n",
        "musteri_sayi=int(input())\n",
        "istek_liste=[]\n",
        "for i in range(musteri_sayi):\n",
        "  istek_liste.append([int(k) for k in input().split()])\n",
        "szlk={}\n",
        "top=0\n",
        "for i in liste:\n",
        "  szlk[i]=liste.count(i)\n",
        "for key, value in list(szlk.items()):\n",
        "  for istek, fiyat in istek_liste:\n",
        "    if istek==key and value!=0:\n",
        "      top += fiyat\n",
        "      value-=1\n",
        "print(top)\n"
      ],
      "execution_count": 12,
      "outputs": [
        {
          "output_type": "stream",
          "text": [
            "10\n",
            "2 3 4 5 6 8 7 6 5 18\n",
            "6\n",
            "6 55\n",
            "6 45\n",
            "6 55\n",
            "4 40\n",
            "18 60\n",
            "10 50\n",
            "200\n"
          ],
          "name": "stdout"
        }
      ]
    }
  ]
}