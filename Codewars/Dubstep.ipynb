{
  "nbformat": 4,
  "nbformat_minor": 0,
  "metadata": {
    "colab": {
      "name": "Dubstep.ipynb",
      "provenance": []
    },
    "kernelspec": {
      "name": "python3",
      "display_name": "Python 3"
    },
    "language_info": {
      "name": "python"
    }
  },
  "cells": [
    {
      "cell_type": "markdown",
      "metadata": {
        "id": "DwvEtvCZbQBo"
      },
      "source": [
        "```\n",
        "Polycarpus works as a DJ in the best Berland nightclub, and he often uses dubstep music in his performance. Recently, he has decided to take a couple of old songs and make dubstep remixes from them.\n",
        "\n",
        "Let's assume that a song consists of some number of words (that don't contain WUB). To make the dubstep remix of this song, Polycarpus inserts a certain number of words \"WUB\" before the first word of the song (the number may be zero), after the last word (the number may be zero), and between words (at least one between any pair of neighbouring words), and then the boy glues together all the words, including \"WUB\", in one string and plays the song at the club.\n",
        "\n",
        "For example, a song with words \"I AM X\" can transform into a dubstep remix as \"WUBWUBIWUBAMWUBWUBX\" and cannot transform into \"WUBWUBIAMWUBX\".\n",
        "\n",
        "Recently, Jonny has heard Polycarpus's new dubstep track, but since he isn't into modern music, he decided to find out what was the initial song that Polycarpus remixed. Help Jonny restore the original song.\n",
        "\n",
        "Input\n",
        "The input consists of a single non-empty string, consisting only of uppercase English letters, the string's length doesn't exceed 200 characters\n",
        "\n",
        "Output\n",
        "Return the words of the initial song that Polycarpus used to make a dubsteb remix. Separate the words with a space.\n",
        "\n",
        "Examples\n",
        "song_decoder(\"WUBWEWUBAREWUBWUBTHEWUBCHAMPIONSWUBMYWUBFRIENDWUB\")\n",
        "  # =>  WE ARE THE CHAMPIONS MY FRIEND\n",
        "```"
      ]
    },
    {
      "cell_type": "code",
      "metadata": {
        "colab": {
          "base_uri": "https://localhost:8080/"
        },
        "id": "bEK8PbrdbD03",
        "outputId": "e8e49c35-6fcb-4803-e4ae-95f2eb6bb6ee"
      },
      "source": [
        "def song_decoder(s):\n",
        "  return \" \".join(s.replace(\"WUB\",\" \").split())\n",
        "  \n",
        "print(song_decoder(\"WUBWUBIWUBAMWUBWUBX\"))\n",
        "print(song_decoder(\"WUBWEWUBAREWUBWUBTHEWUBCHAMPIONSWUBMYWUBFRIENDWUB\"))"
      ],
      "execution_count": 2,
      "outputs": [
        {
          "output_type": "stream",
          "text": [
            "I AM X\n",
            "WE ARE THE CHAMPIONS MY FRIEND\n"
          ],
          "name": "stdout"
        }
      ]
    }
  ]
}