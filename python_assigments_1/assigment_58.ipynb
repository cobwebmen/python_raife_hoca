{
  "nbformat": 4,
  "nbformat_minor": 0,
  "metadata": {
    "colab": {
      "name": "assigment_58.ipynb",
      "provenance": []
    },
    "kernelspec": {
      "name": "python3",
      "display_name": "Python 3"
    },
    "language_info": {
      "name": "python"
    }
  },
  "cells": [
    {
      "cell_type": "markdown",
      "metadata": {
        "id": "TdwNYC2nwkTe"
      },
      "source": [
        "**Task:** Verilen cumledeki  kelimeleri icinde yer alan sayilarin sirasina gore dizmek.  Cumlenin ilk harfinin buyuk olduguna dikkat edelim.\n",
        "Ornek : \n",
        "\n",
        "string = 'Bir2 bu1 test4  kolay3'=> 'Bu bir kolay test'\n",
        "\n",
        "Test Cumle: 'Calisiyorum3 gun2 basaracagim5 ins4  her1'  => 'Her gun calisiyorum ins basaracagim' "
      ]
    },
    {
      "cell_type": "code",
      "metadata": {
        "colab": {
          "base_uri": "https://localhost:8080/",
          "height": 34
        },
        "id": "23EonRGjwIQi",
        "outputId": "299f557d-54d0-47b0-b28d-f1b19b29d0b5"
      },
      "source": [
        "def indexle(cumle):\n",
        "  sozluk={}\n",
        "  yeni=\"\"\n",
        "  for i in cumle.split():\n",
        "    for k in i:\n",
        "      if k.isdigit():\n",
        "        sozluk[int(i[i.index(k):])]=i[:i.index(k)]\n",
        "        break\n",
        "  for i in sorted(sozluk):\n",
        "    if i==1:\n",
        "      yeni+=sozluk[i].title()+\" \"\n",
        "    else:\n",
        "      yeni+=sozluk[i].lower()+\" \"\n",
        "  return yeni.strip()\n",
        "indexle(\"Bir2 bu1 test4  kolay3 a5 b6 c70 d8 e9 f10 g11\")"
      ],
      "execution_count": 4,
      "outputs": [
        {
          "output_type": "execute_result",
          "data": {
            "application/vnd.google.colaboratory.intrinsic+json": {
              "type": "string"
            },
            "text/plain": [
              "'Bu bir kolay test a b d e f g c'"
            ]
          },
          "metadata": {
            "tags": []
          },
          "execution_count": 4
        }
      ]
    }
  ]
}