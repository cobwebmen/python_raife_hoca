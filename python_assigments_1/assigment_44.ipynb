{
  "nbformat": 4,
  "nbformat_minor": 0,
  "metadata": {
    "colab": {
      "name": "assigment_44.ipynb",
      "provenance": []
    },
    "kernelspec": {
      "name": "python3",
      "display_name": "Python 3"
    },
    "language_info": {
      "name": "python"
    }
  },
  "cells": [
    {
      "cell_type": "markdown",
      "metadata": {
        "id": "NvK7vdnnUDz9"
      },
      "source": [
        "Onluk tabanda verilen sayıyı binary sisteme çeviren fonksiyon"
      ]
    },
    {
      "cell_type": "code",
      "metadata": {
        "colab": {
          "base_uri": "https://localhost:8080/"
        },
        "id": "Fn2aJQWMPQ37",
        "outputId": "b883537e-237d-446e-c6b1-a032e5127a87"
      },
      "source": [
        "def bin_num(sayi):\n",
        "  decimal = ''\n",
        "  if sayi==0:\n",
        "    decimal=\"0\"\n",
        "  else:\n",
        "    while sayi > 0:\n",
        "      decimal += str(sayi % 2)\n",
        "      sayi = sayi // 2\n",
        "  return decimal[::-1]\n",
        "print(bin_num(13))\n",
        "print(bin_num(124))\n",
        "print(bin_num(25))"
      ],
      "execution_count": 3,
      "outputs": [
        {
          "output_type": "stream",
          "text": [
            "1101\n",
            "1111100\n",
            "11001\n"
          ],
          "name": "stdout"
        }
      ]
    },
    {
      "cell_type": "markdown",
      "metadata": {
        "id": "57MyAXGAVkBq"
      },
      "source": [
        "Gorev:\n",
        "Verilen Numara listesindeki hangi iki rakamin toplami hedef sayiyi verirse bu sayilarin index numaralarini almak istiyoruz.\n",
        "\n",
        "Ornek:\n",
        "\n",
        "num_list = [8,2,4,7,1,5,6,9]\n",
        "\n",
        "hedef = 16\n",
        "\n",
        "Verilen listeden 7 +9 =16 yi saglar.\n",
        "\n",
        "Index numalari 3 ve 7\n",
        "\n",
        "Istenilen sonuc:  3 , 7\n",
        "TEST Degerleri:\n",
        "\n",
        "test1 = [8,2,4,7,1,5,6,9]  \n",
        "hedef = 16    \n",
        "istenilen sonuc = 3, 7\n",
        "\n",
        "test2 = [22,5,11,7,19,4,12]   \n",
        "hedef = 24 \n",
        "istenilen sonuc = 1 ,4"
      ]
    },
    {
      "cell_type": "code",
      "metadata": {
        "colab": {
          "base_uri": "https://localhost:8080/"
        },
        "id": "FHZBJVyNVU5r",
        "outputId": "2f6d62d5-33da-40d0-c587-6354bf0581d1"
      },
      "source": [
        "liste = [8,2,4,7,1,5,6,9]\n",
        "hedef = 16\n",
        "ind=[]\n",
        "for i in range(len(liste)):  \n",
        "  for k in range(i+1,len(liste)): #i indexinden sonraki değerlere bak.\n",
        "    if liste[i]+liste[k]==hedef:\n",
        "      if i not in ind:\n",
        "        ind.append(i)\n",
        "      if k not in ind:\n",
        "        ind.append(k)\n",
        "print(*ind, sep=\",\")"
      ],
      "execution_count": 4,
      "outputs": [
        {
          "output_type": "stream",
          "text": [
            "3,7\n"
          ],
          "name": "stdout"
        }
      ]
    }
  ]
}