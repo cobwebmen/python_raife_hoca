{
  "nbformat": 4,
  "nbformat_minor": 0,
  "metadata": {
    "colab": {
      "name": "Simplified_Fractions.ipynb",
      "provenance": []
    },
    "kernelspec": {
      "name": "python3",
      "display_name": "Python 3"
    },
    "language_info": {
      "name": "python"
    }
  },
  "cells": [
    {
      "cell_type": "markdown",
      "metadata": {
        "id": "cMY5t2ZdXlPb"
      },
      "source": [
        "Create a function that returns the simplified version of a fraction.\n",
        "\n",
        "Examples\n",
        "\n",
        "simplify(\"4/6\") ➞ \"2/3\"\n",
        "\n",
        "simplify(\"10/11\") ➞ \"10/11\"\n",
        "\n",
        "simplify(\"100/400\") ➞ \"1/4\"\n",
        "\n",
        "simplify(\"8/4\") ➞ \"2\"\n",
        "\n",
        "Notes\n",
        "\n",
        "A fraction is simplified if there are no common factors (except 1) between the numerator and the denominator. For example, 4/6 is not simplified, since 4 and 6 both share 2 as a factor.\n",
        "If improper fractions can be transformed into integers, do so in your code (see example #4)."
      ]
    },
    {
      "cell_type": "code",
      "metadata": {
        "colab": {
          "base_uri": "https://localhost:8080/",
          "height": 34
        },
        "id": "acrflqrhbYlH",
        "outputId": "e7b15351-9d26-4064-9021-b70fbd65ee7b"
      },
      "source": [
        "def divisor(sayi):\n",
        "  seti={i for i in range(2,sayi+1) if not sayi%i}\n",
        "  return seti\n",
        "def simplify(a):\n",
        "  s1,s2=map(int,a.split(\"/\"))\n",
        "  ortk_div=list(divisor(s1).intersection(divisor(s2)))\n",
        "  ortk_div.sort(reverse=True)\n",
        "  if len(ortk_div)>=1:\n",
        "      s1=s1//ortk_div[0]\n",
        "      s2=s2//ortk_div[0]\n",
        "  if s2==1:\n",
        "    return f\"{s1}\"\n",
        "  else:\n",
        "    return f\"{s1}/{s2}\"\n",
        "simplify(\"8/20\")"
      ],
      "execution_count": 55,
      "outputs": [
        {
          "output_type": "execute_result",
          "data": {
            "application/vnd.google.colaboratory.intrinsic+json": {
              "type": "string"
            },
            "text/plain": [
              "'2/5'"
            ]
          },
          "metadata": {
            "tags": []
          },
          "execution_count": 55
        }
      ]
    }
  ]
}