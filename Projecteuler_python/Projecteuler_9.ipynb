{
  "nbformat": 4,
  "nbformat_minor": 0,
  "metadata": {
    "colab": {
      "name": "Projecteuler_9.ipynb",
      "provenance": []
    },
    "kernelspec": {
      "name": "python3",
      "display_name": "Python 3"
    },
    "language_info": {
      "name": "python"
    }
  },
  "cells": [
    {
      "cell_type": "markdown",
      "metadata": {
        "id": "RGuVOPvP0YeB"
      },
      "source": [
        "A Pythagorean triplet is a set of three natural numbers, a < b < c, for which,\n",
        "\n",
        "a2 + b2 = c2\n",
        "\n",
        "For example, 32 + 42 = 9 + 16 = 25 = 52.\n",
        "\n",
        "There exists exactly one Pythagorean triplet for which a + b + c = 1000.\n",
        "Find the product \n",
        "`a*b*c`"
      ]
    },
    {
      "cell_type": "code",
      "metadata": {
        "colab": {
          "base_uri": "https://localhost:8080/"
        },
        "id": "Sv0vVIGNqPNV",
        "outputId": "6c171adc-5a94-4421-bf3d-2060d70d0ec3"
      },
      "source": [
        "for a in range(1,500):\n",
        "  for b in range(a+1,500):\n",
        "    c=1000-a-b\n",
        "    if a**2+b**2==c**2:\n",
        "      print(a*b*c)"
      ],
      "execution_count": 20,
      "outputs": [
        {
          "output_type": "stream",
          "text": [
            "31875000\n"
          ],
          "name": "stdout"
        }
      ]
    }
  ]
}