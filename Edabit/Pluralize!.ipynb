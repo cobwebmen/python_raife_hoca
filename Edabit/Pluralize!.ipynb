{
  "nbformat": 4,
  "nbformat_minor": 0,
  "metadata": {
    "colab": {
      "name": "Pluralize!.ipynb",
      "provenance": []
    },
    "kernelspec": {
      "name": "python3",
      "display_name": "Python 3"
    },
    "language_info": {
      "name": "python"
    }
  },
  "cells": [
    {
      "cell_type": "markdown",
      "metadata": {
        "id": "pmziX2C-1aCB"
      },
      "source": [
        "**Pluralize!**\n",
        "\n",
        "Given a list of words in the singular form, return a set of those words in the plural form if they appear more than once in the list.\n",
        "\n",
        "Examples\n",
        "\n",
        "pluralize([\"cow\", \"pig\", \"cow\", \"cow\"]) ➞ { \"cows\", \"pig\" }\n",
        "\n",
        "pluralize([\"table\", \"table\", \"table\"]) ➞ { \"tables\" }\n",
        "\n",
        "pluralize([\"chair\", \"pencil\", \"arm\"]) ➞ { \"chair\", \"pencil\", \"arm\" }\n",
        "\n",
        "**Notes**\n",
        "This is an oversimplification of the English language so no edge cases will appear.\n",
        "Only focus on whether or not to add an s to the ends of words.\n",
        "All tests will be valid."
      ]
    },
    {
      "cell_type": "code",
      "metadata": {
        "colab": {
          "base_uri": "https://localhost:8080/"
        },
        "id": "RlTfJgnQwTIT",
        "outputId": "dd2e0635-8387-4e5b-b66a-5316088ab2cf"
      },
      "source": [
        "def pluralize(l):\n",
        "    n=[]\n",
        "    for i in set(l):\n",
        "        if l.count(i)>1:\n",
        "            n.append(i+\"s\")\n",
        "        else:\n",
        "            n.append(i)\n",
        "    return set(n)\n",
        "pluralize([\"table\", \"table\", \"table\"])"
      ],
      "execution_count": 1,
      "outputs": [
        {
          "output_type": "execute_result",
          "data": {
            "text/plain": [
              "{'tables'}"
            ]
          },
          "metadata": {
            "tags": []
          },
          "execution_count": 1
        }
      ]
    }
  ]
}