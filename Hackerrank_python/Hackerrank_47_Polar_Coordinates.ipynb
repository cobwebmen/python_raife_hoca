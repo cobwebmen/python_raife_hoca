{
  "nbformat": 4,
  "nbformat_minor": 0,
  "metadata": {
    "colab": {
      "name": "Hackerrank_47_Polar_Coordinates.ipynb",
      "provenance": []
    },
    "kernelspec": {
      "name": "python3",
      "display_name": "Python 3"
    },
    "language_info": {
      "name": "python"
    }
  },
  "cells": [
    {
      "cell_type": "markdown",
      "metadata": {
        "id": "zXsUv920_RP1"
      },
      "source": [
        "Task\n",
        "You are given a complex z. Your task is to convert it to polar coordinates.\n",
        "\n",
        "**Sample Input**\n",
        "\n",
        "  1+2j\n",
        "\n",
        "**Sample Output**\n",
        "\n",
        " 2.23606797749979 \n",
        "\n",
        " 1.1071487177940904"
      ]
    },
    {
      "cell_type": "code",
      "metadata": {
        "colab": {
          "base_uri": "https://localhost:8080/"
        },
        "id": "8f6hDwl664kx",
        "outputId": "55d6235f-42b0-4952-f320-90a3521369de"
      },
      "source": [
        "import cmath\n",
        "comp=eval(input())\n",
        "print(abs(complex(comp.real, comp.imag)))\n",
        "print(cmath.phase(complex(comp.real, comp.imag)))"
      ],
      "execution_count": 30,
      "outputs": [
        {
          "output_type": "stream",
          "text": [
            "2+5j\n",
            "5.385164807134504\n",
            "1.1902899496825317\n"
          ],
          "name": "stdout"
        }
      ]
    }
  ]
}