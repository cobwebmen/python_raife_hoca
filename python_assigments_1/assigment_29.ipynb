{
  "nbformat": 4,
  "nbformat_minor": 0,
  "metadata": {
    "colab": {
      "name": "assigment_29.ipynb",
      "provenance": [],
      "collapsed_sections": []
    },
    "kernelspec": {
      "name": "python3",
      "display_name": "Python 3"
    },
    "language_info": {
      "name": "python"
    }
  },
  "cells": [
    {
      "cell_type": "markdown",
      "metadata": {
        "id": "Q0CIf6ccyb2Z"
      },
      "source": [
        "\"Ping\"lerin arasına \"Pong\" yazan, değerin içinde True varsa sona da koyan False varsa koymayan bir fonksiyon yazalım"
      ]
    },
    {
      "cell_type": "code",
      "metadata": {
        "colab": {
          "base_uri": "https://localhost:8080/"
        },
        "id": "aTYAcjT5V7nA",
        "outputId": "867d96c3-a50e-4df0-b7c3-4dadbf969f3f"
      },
      "source": [
        "def yerlestir(liste, boolean):\n",
        "  for i in range(1,len(liste)*2-1,2):\n",
        "    liste.insert(i,\"Pong\")\n",
        "  if boolean==True:\n",
        "    liste.append(\"Pong\") \n",
        "  return liste\n",
        "  \n",
        "print(yerlestir([\"Ping\",\"Ping\"],True))\n",
        "print(yerlestir([\"Ping\",\"Ping\",\"Ping\",\"Ping\",\"Ping\",\"Ping\"],False))"
      ],
      "execution_count": 14,
      "outputs": [
        {
          "output_type": "stream",
          "text": [
            "['Ping', 'Pong', 'Ping', 'Pong']\n",
            "['Ping', 'Pong', 'Ping', 'Pong', 'Ping', 'Pong', 'Ping', 'Pong', 'Ping', 'Pong', 'Ping']\n"
          ],
          "name": "stdout"
        }
      ]
    },
    {
      "cell_type": "markdown",
      "metadata": {
        "id": "MRZ6DoEgZeeD"
      },
      "source": [
        "Bir stringi(kelime) alan ve birbirini izleyen aynı harfleri çıkaran bir fonksiyon oluşturun."
      ]
    },
    {
      "cell_type": "code",
      "metadata": {
        "colab": {
          "base_uri": "https://localhost:8080/"
        },
        "id": "IhlEQoKbZd_p",
        "outputId": "9b315100-6367-410e-a9c3-d877e167dfe1"
      },
      "source": [
        "def cıkar(kelime):\n",
        "  yeni=\"\"\n",
        "  for i in range(len(kelime)-1):\n",
        "    if kelime[i]!=kelime[i+1]:\n",
        "      yeni+=kelime[i]\n",
        "  yeni+=kelime[-1]\n",
        "  return yeni\n",
        "print(cıkar(\"mmmeeerrhhhaaabbbaaa\"))\n",
        "print(cıkar(\"ssseeellllaaammm\"))"
      ],
      "execution_count": 27,
      "outputs": [
        {
          "output_type": "stream",
          "text": [
            "merhaba\n",
            "selam\n"
          ],
          "name": "stdout"
        }
      ]
    }
  ]
}