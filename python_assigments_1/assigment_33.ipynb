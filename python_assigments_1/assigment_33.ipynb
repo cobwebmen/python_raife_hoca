{
  "nbformat": 4,
  "nbformat_minor": 0,
  "metadata": {
    "colab": {
      "name": "assigment_33.ipynb",
      "provenance": [],
      "collapsed_sections": []
    },
    "kernelspec": {
      "name": "python3",
      "display_name": "Python 3"
    },
    "language_info": {
      "name": "python"
    }
  },
  "cells": [
    {
      "cell_type": "markdown",
      "metadata": {
        "id": "mpawLP9CuLFu"
      },
      "source": [
        "Telefon numarası(strin biçimde) doğru formatta ise True değilse False döndüren bir fonksiyon yazalım\n",
        "\n",
        "doğru format--> (123) 456-789"
      ]
    },
    {
      "cell_type": "code",
      "metadata": {
        "colab": {
          "base_uri": "https://localhost:8080/"
        },
        "id": "QLjuIe6di3zK",
        "outputId": "52135b0c-a263-4dcb-faed-0650172f3326"
      },
      "source": [
        "def dogru_mu(numara):\n",
        "  rakam=\"0123456789\"\n",
        "  return numara[0]==\"(\" and numara[4:6]==\") \" and numara[9]==\"-\" and set(numara[1:4]+numara[6:9]+numara[10:]).issubset(set(rakam))==True\n",
        "\n",
        "print(dogru_mu(\"(123) 456-789\"))\n",
        "print(dogru_mu(\"(123)456-789\"))\n",
        "print(dogru_mu(\"(123) 456 789\"))\n",
        "print(dogru_mu(\"(12a) 4b6-789\"))"
      ],
      "execution_count": 13,
      "outputs": [
        {
          "output_type": "stream",
          "text": [
            "True\n",
            "False\n",
            "False\n",
            "False\n"
          ],
          "name": "stdout"
        }
      ]
    },
    {
      "cell_type": "markdown",
      "metadata": {
        "id": "QmwzJ_RHAukl"
      },
      "source": [
        "Stringin ilk kelimesinin hepsini küçük harfe dönüştüren diğer kelimelerin sadece ilk harfini büyük harf yapan ve kelimeleri boşlukları kaldırarak sıralayan bir fonksiyon yazalım.(camelCase)"
      ]
    },
    {
      "cell_type": "code",
      "metadata": {
        "colab": {
          "base_uri": "https://localhost:8080/"
        },
        "id": "ccxJ5MEE-xww",
        "outputId": "ae1be2d9-51ed-4c7b-ffa9-7c071f64a59f"
      },
      "source": [
        "def camelCase(cümle):\n",
        "  a=cümle.split()\n",
        "  yeni=\"\"\n",
        "  for i in a:\n",
        "    if a.index(i)==0:\n",
        "      yeni+=i.lower()\n",
        "    else:\n",
        "      yeni+=i.capitalize()\n",
        "  return yeni\n",
        "print(camelCase(\"Hello World\"))\n",
        "print(camelCase(\"How are you? Don't ask me how I am.\"))\n",
        "print(camelCase(\"why are you so upset?\"))"
      ],
      "execution_count": 18,
      "outputs": [
        {
          "output_type": "stream",
          "text": [
            "helloWorld\n",
            "howAreYou?Don'tAskMeHowIAm.\n",
            "whyAreYouSoUpset?\n"
          ],
          "name": "stdout"
        }
      ]
    }
  ]
}