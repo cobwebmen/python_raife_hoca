{
  "nbformat": 4,
  "nbformat_minor": 0,
  "metadata": {
    "colab": {
      "name": "Directions_Reduction.ipynb",
      "provenance": []
    },
    "kernelspec": {
      "name": "python3",
      "display_name": "Python 3"
    },
    "language_info": {
      "name": "python"
    }
  },
  "cells": [
    {
      "cell_type": "markdown",
      "metadata": {
        "id": "QilmXKmkST9_"
      },
      "source": [
        "```\n",
        "Once upon a time, on a way through the old wild mountainous west,…\n",
        "… a man was given directions to go from one point to another. The directions were \"NORTH\", \"SOUTH\", \"WEST\", \"EAST\". Clearly \"NORTH\" and \"SOUTH\" are opposite, \"WEST\" and \"EAST\" too.\n",
        "\n",
        "Going to one direction and coming back the opposite direction right away is a needless effort. Since this is the wild west, with dreadfull weather and not much water, it's important to save yourself some energy, otherwise you might die of thirst!\n",
        "\n",
        "How I crossed a mountainous desert the smart way.\n",
        "The directions given to the man are, for example, the following (depending on the language):\n",
        "\n",
        "[\"NORTH\", \"SOUTH\", \"SOUTH\", \"EAST\", \"WEST\", \"NORTH\", \"WEST\"].\n",
        "or\n",
        "{ \"NORTH\", \"SOUTH\", \"SOUTH\", \"EAST\", \"WEST\", \"NORTH\", \"WEST\" };\n",
        "or\n",
        "[North, South, South, East, West, North, West]\n",
        "You can immediatly see that going \"NORTH\" and immediately \"SOUTH\" is not reasonable, better stay to the same place! So the task is to give to the man a simplified version of the plan. A better plan in this case is simply:\n",
        "\n",
        "[\"WEST\"]\n",
        "or\n",
        "{ \"WEST\" }\n",
        "or\n",
        "[West]\n",
        "Other examples:\n",
        "In [\"NORTH\", \"SOUTH\", \"EAST\", \"WEST\"], the direction \"NORTH\" + \"SOUTH\" is going north and coming back right away.\n",
        "\n",
        "The path becomes [\"EAST\", \"WEST\"], now \"EAST\" and \"WEST\" annihilate each other, therefore, the final result is [] (nil in Clojure).\n",
        "\n",
        "In [\"NORTH\", \"EAST\", \"WEST\", \"SOUTH\", \"WEST\", \"WEST\"], \"NORTH\" and \"SOUTH\" are not directly opposite but they become directly opposite after the reduction of \"EAST\" and \"WEST\" so the whole path is reducible to [\"WEST\", \"WEST\"].\n",
        "\n",
        "Task\n",
        "Write a function dirReduc which will take an array of strings and returns an array of strings with the needless directions removed (W<->E or S<->N side by side).\n",
        "\n",
        "The Haskell version takes a list of directions with data Direction = North | East | West | South.\n",
        "The Clojure version returns nil when the path is reduced to nothing.\n",
        "The Rust version takes a slice of enum Direction {North, East, West, South}.\n",
        "See more examples in \"Sample Tests:\"\n",
        "Notes\n",
        "Not all paths can be made simpler. The path [\"NORTH\", \"WEST\", \"SOUTH\", \"EAST\"] is not reducible. \"NORTH\" and \"WEST\", \"WEST\" and \"SOUTH\", \"SOUTH\" and \"EAST\" are not directly opposite of each other and can't become such. Hence the result path is itself : [\"NORTH\", \"WEST\", \"SOUTH\", \"EAST\"].\n",
        "\n",
        "```"
      ]
    },
    {
      "cell_type": "code",
      "metadata": {
        "colab": {
          "base_uri": "https://localhost:8080/"
        },
        "id": "HAtAAd-cR_7_",
        "outputId": "c3d7963d-b501-4b23-911c-6844cf7fea52"
      },
      "source": [
        "def yon(l):\n",
        "    s={\"NORTH\":\"SOUTH\",\"SOUTH\":\"NORTH\",\"EAST\":\"WEST\",\"WEST\":\"EAST\"}\n",
        "    i=0 \n",
        "    while i<len(l)-1:\n",
        "        if s[l[i]]==l[i+1]:\n",
        "            del l[i:i+2]\n",
        "            i=0\n",
        "        else:\n",
        "            i+=1\n",
        "    return l           \n",
        "        \n",
        "yon([\"NORTH\", \"SOUTH\", \"SOUTH\", \"EAST\", \"WEST\", \"NORTH\", \"WEST\"])"
      ],
      "execution_count": 2,
      "outputs": [
        {
          "output_type": "execute_result",
          "data": {
            "text/plain": [
              "['WEST']"
            ]
          },
          "metadata": {
            "tags": []
          },
          "execution_count": 2
        }
      ]
    }
  ]
}