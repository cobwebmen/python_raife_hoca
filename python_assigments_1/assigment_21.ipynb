{
  "nbformat": 4,
  "nbformat_minor": 0,
  "metadata": {
    "colab": {
      "name": "assigment_21.ipynb",
      "provenance": [],
      "collapsed_sections": []
    },
    "kernelspec": {
      "name": "python3",
      "display_name": "Python 3"
    },
    "language_info": {
      "name": "python"
    }
  },
  "cells": [
    {
      "cell_type": "markdown",
      "metadata": {
        "id": "XFq27Kx7xjgs"
      },
      "source": [
        "Cümledeki sayı ve harflerin sayısını bulan bir fonksiyon yazalım"
      ]
    },
    {
      "cell_type": "code",
      "metadata": {
        "colab": {
          "base_uri": "https://localhost:8080/"
        },
        "id": "OD6j2jvRxjE8",
        "outputId": "edaf71a3-b4bc-43f3-b7a4-ba30f8c15ee8"
      },
      "source": [
        "def harf_sayi_sayisi(cümle):\n",
        "  sayilar=\"0123456789\"\n",
        "  h=0\n",
        "  s=0\n",
        "  for i in cümle:\n",
        "    if i.isalpha()==True:\n",
        "      h+=1\n",
        "    elif i in sayilar:\n",
        "      s+=1\n",
        "  return f\"Harfler: {h}, Sayılar: {s}\"\n",
        "\n",
        "print(harf_sayi_sayisi(\"10'a kadar saysam ve sonrasında hayat bayram olsa.\"))"
      ],
      "execution_count": 9,
      "outputs": [
        {
          "output_type": "stream",
          "text": [
            "Harfler: 39, Sayılar: 2\n"
          ],
          "name": "stdout"
        }
      ]
    },
    {
      "cell_type": "markdown",
      "metadata": {
        "id": "DGn-tbJ4xknZ"
      },
      "source": [
        "Yılı da verilen ayın gün sayısını hesaplayan bir fonksiyon yazalım."
      ]
    },
    {
      "cell_type": "code",
      "metadata": {
        "colab": {
          "base_uri": "https://localhost:8080/"
        },
        "id": "Rlb_hrPzxczu",
        "outputId": "b6459285-94d5-47fd-e4ce-f9244126f810"
      },
      "source": [
        "def kac_gün(ay,yıl):\n",
        "  if ay==2:\n",
        "    if yıl%400==0:\n",
        "      return 29\n",
        "    elif yıl%100==0:\n",
        "      return 28\n",
        "    elif yıl%4==0:\n",
        "      return 29\n",
        "    else:\n",
        "      return 28\n",
        "  elif ay==1 or ay==3 or ay==5 or ay==7 or ay==8 or ay==10 or ay==12:\n",
        "    return 31\n",
        "  else:\n",
        "    return 30\n",
        "\n",
        "print(kac_gün( 4, 654))\n",
        "print(kac_gün( 2, 1737))\n",
        "print(kac_gün( 1, 2021))"
      ],
      "execution_count": 23,
      "outputs": [
        {
          "output_type": "stream",
          "text": [
            "30\n",
            "28\n",
            "31\n"
          ],
          "name": "stdout"
        }
      ]
    }
  ]
}