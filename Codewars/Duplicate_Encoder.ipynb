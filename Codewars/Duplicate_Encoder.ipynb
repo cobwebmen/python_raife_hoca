{
  "nbformat": 4,
  "nbformat_minor": 0,
  "metadata": {
    "colab": {
      "name": "Duplicate_Encoder.ipynb",
      "provenance": []
    },
    "kernelspec": {
      "name": "python3",
      "display_name": "Python 3"
    },
    "language_info": {
      "name": "python"
    }
  },
  "cells": [
    {
      "cell_type": "markdown",
      "metadata": {
        "id": "Xav4zuKJZ22C"
      },
      "source": [
        "```\n",
        "The goal of this exercise is to convert a string to a new string where each character in the new string is \"(\" if that character appears only once in the original string, or \")\" if that character appears more than once in the original string. Ignore capitalization when determining if a character is a duplicate.\n",
        "\n",
        "Examples\n",
        "\"din\"      =>  \"(((\"\n",
        "\"recede\"   =>  \"()()()\"\n",
        "\"Success\"  =>  \")())())\"\n",
        "\"(( @\"     =>  \"))((\" \n",
        "Notes\n",
        "\n",
        "Assertion messages may be unclear about what they display in some languages. If you read \"...It Should encode XXX\", the \"XXX\" is the expected result, not the input!\n",
        "\n",
        "```"
      ]
    },
    {
      "cell_type": "code",
      "metadata": {
        "colab": {
          "base_uri": "https://localhost:8080/",
          "height": 34
        },
        "id": "4YiDB1thWeSM",
        "outputId": "8c2d4e89-f15c-4087-d08d-ebf368234108"
      },
      "source": [
        "def duplicate_encode(s):\n",
        "    s=s.lower()\n",
        "    y=\"\"\n",
        "    for i in s:\n",
        "        if s.count(i)==1:\n",
        "            y+=\"(\"\n",
        "        else:\n",
        "            y+=\")\"\n",
        "    return y\n",
        "duplicate_encode(\"bkbbumxzeuQcd)dGlkHT\")"
      ],
      "execution_count": 1,
      "outputs": [
        {
          "output_type": "execute_result",
          "data": {
            "application/vnd.google.colaboratory.intrinsic+json": {
              "type": "string"
            },
            "text/plain": [
              "')))))(((()(()()(()(('"
            ]
          },
          "metadata": {
            "tags": []
          },
          "execution_count": 1
        }
      ]
    },
    {
      "cell_type": "code",
      "metadata": {
        "colab": {
          "base_uri": "https://localhost:8080/",
          "height": 34
        },
        "id": "YoGBjFLwaNZx",
        "outputId": "088388eb-8229-4458-eb20-ab3f6eb1c4d7"
      },
      "source": [
        "def duplicate_encode(s):\n",
        "  s=s.lower()\n",
        "  return \"\".join([\"(\" if s.count(i)==1 else \")\" for i in s])\n",
        "duplicate_encode(\"bkbbumxzeuQcd)dGlkHT\") "
      ],
      "execution_count": 3,
      "outputs": [
        {
          "output_type": "execute_result",
          "data": {
            "application/vnd.google.colaboratory.intrinsic+json": {
              "type": "string"
            },
            "text/plain": [
              "')))))(((()(()()(()(('"
            ]
          },
          "metadata": {
            "tags": []
          },
          "execution_count": 3
        }
      ]
    }
  ]
}