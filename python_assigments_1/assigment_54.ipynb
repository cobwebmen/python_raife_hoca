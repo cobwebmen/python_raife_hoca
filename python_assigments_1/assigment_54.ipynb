{
  "nbformat": 4,
  "nbformat_minor": 0,
  "metadata": {
    "colab": {
      "name": "assigment_54.ipynb",
      "provenance": []
    },
    "kernelspec": {
      "name": "python3",
      "display_name": "Python 3"
    },
    "language_info": {
      "name": "python"
    }
  },
  "cells": [
    {
      "cell_type": "markdown",
      "metadata": {
        "id": "xnFrhHfY3Imo"
      },
      "source": [
        "**Asama 1.**\n",
        "·     Encode isimli bir fonksiyon olusturacagiz.\n",
        "·     Bu fonksiyonla, bize verilen string de yer alan tum kucuk sesli harfleri numaralarla degistirecegiz.\n",
        "a -> 1\n",
        "e -> 2\n",
        "i -> 3\n",
        "o -> 4\n",
        "u -> 5\n",
        "Ornek: string = ‘hello’  istenilen sonuc ‘h2ll4’\n",
        "\n",
        "**Asama 2.**\n",
        "·     Decode isimli bir fonksiyon olusturacagiz\n",
        "·     Bize verilen stringde yer alan numaralari kucuk sesli harflere cevirecegiz.\n",
        "1 -> a\n",
        "2 -> e\n",
        "3-> i\n",
        "4 -> o\n",
        "5 -> u\n",
        "Ornek: string = ‘h3 th2r2’ istenilen sonuc ‘hi there’\n",
        "Testler:\n",
        "string = 'hello' ,  encode = 'h2ll4' decode = ‘hello’\n",
        "string = 'How are you today?' encode = 'H4w 1r2 y45 t4d1y?' decode =  'How are you today?' \n",
        "string = 'This is an encoding test.'  ' encode = ‘Th3s 3s 1n 2nc4d3ng t2st.' decode = 'This is an encoding test.'"
      ]
    },
    {
      "cell_type": "code",
      "metadata": {
        "colab": {
          "base_uri": "https://localhost:8080/"
        },
        "id": "ctcxoZKJ3GaW",
        "outputId": "aaf480c9-57e2-4d38-8baf-01d69a4fda2f"
      },
      "source": [
        "def encode(cumle):\n",
        "  sozluk={\"a\":\"1\", \"e\":\"2\", \"i\":\"3\",\"o\":\"4\",\"u\":\"5\"}\n",
        "  for i in cumle:\n",
        "    for key,value in sozluk.items():\n",
        "      if i==key:\n",
        "        cumle=cumle.replace(i,value)\n",
        "      elif i==value:\n",
        "        cumle=cumle.replace(i,key)\n",
        "  return cumle\n",
        "print(encode(\"how are you today?\"))\n",
        "print(encode(\"h3 th2r2\"))"
      ],
      "execution_count": 1,
      "outputs": [
        {
          "output_type": "stream",
          "text": [
            "h4w 1r2 y45 t4d1y?\n",
            "hi there\n"
          ],
          "name": "stdout"
        }
      ]
    },
    {
      "cell_type": "code",
      "metadata": {
        "colab": {
          "base_uri": "https://localhost:8080/"
        },
        "id": "LrLYOSL03-h2",
        "outputId": "eb346e5d-2d24-4072-b7a7-b104ace2ccf7"
      },
      "source": [
        "def encode(st):\n",
        "  transTable = st.maketrans('aeiou', '12345')\n",
        "  return st.translate(transTable)\n",
        "print(encode(\"how are you today?\"))\n",
        "def decode(st):\n",
        "  transTable = st.maketrans('12345', 'aeiou')\n",
        "  return st.translate(transTable)\n",
        "print(decode(\"h3 th2r2\"))"
      ],
      "execution_count": 3,
      "outputs": [
        {
          "output_type": "stream",
          "text": [
            "h4w 1r2 y45 t4d1y?\n",
            "hi there\n"
          ],
          "name": "stdout"
        }
      ]
    }
  ]
}