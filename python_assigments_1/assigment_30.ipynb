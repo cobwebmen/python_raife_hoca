{
  "nbformat": 4,
  "nbformat_minor": 0,
  "metadata": {
    "colab": {
      "name": "assigment_30.ipynb",
      "provenance": [],
      "collapsed_sections": []
    },
    "kernelspec": {
      "name": "python3",
      "display_name": "Python 3"
    },
    "language_info": {
      "name": "python"
    }
  },
  "cells": [
    {
      "cell_type": "markdown",
      "metadata": {
        "id": "zIubEWtpfzJu"
      },
      "source": [
        "Sekiz tane 1 veya 0 dan oluşan bir liste verilecek. 8 bit ikili sayıyı alan ve onlu sisteme dönüştüren bir fonsiyon yazalım"
      ]
    },
    {
      "cell_type": "code",
      "metadata": {
        "colab": {
          "base_uri": "https://localhost:8080/"
        },
        "id": "VmXav5NCfr6r",
        "outputId": "4daa5bcb-e505-4f91-dfd5-dd6a576b03eb"
      },
      "source": [
        "def onluga_cevir(liste):\n",
        "  sum=liste[-1]*1+liste[-2]*2+liste[-3]*4+liste[-4]*8+liste[-5]*16+liste[-6]*32+liste[-7]*64+liste[-8]*128\n",
        "  return sum\n",
        "\n",
        "print(onluga_cevir([1,1,1,1,1,1,1,1]))\n",
        "print(onluga_cevir([1,0,0,1,0,1,0,1]))"
      ],
      "execution_count": null,
      "outputs": [
        {
          "output_type": "stream",
          "text": [
            "255\n",
            "149\n"
          ],
          "name": "stdout"
        }
      ]
    },
    {
      "cell_type": "markdown",
      "metadata": {
        "id": "HzkfitmHiY4f"
      },
      "source": [
        "sayıalr listesini alan ve içerisinde 5 varsa \"yuppi\", yoksa \"malesef\" yazdıran bir fonksiyon yazalım."
      ]
    },
    {
      "cell_type": "code",
      "metadata": {
        "colab": {
          "base_uri": "https://localhost:8080/"
        },
        "id": "AWDu5yEiiZZ-",
        "outputId": "be98f649-3719-4c48-fb41-d81845710f95"
      },
      "source": [
        "def bes_var(liste):\n",
        "  yeni=\"\"\n",
        "  for i in liste:\n",
        "    yeni+=str(i)\n",
        "  if \"7\" in yeni:\n",
        "    return \"yuppi\"\n",
        "  elif \"7\" not in yeni:\n",
        "    return \"malesef\"\n",
        "print(bes_var([23,17,54,9,45]))\n",
        "print(bes_var([1,2,3,4,5,6,8]))\n",
        "print(bes_var([1,2,3,4,5,6,7,8]))"
      ],
      "execution_count": 14,
      "outputs": [
        {
          "output_type": "stream",
          "text": [
            "yuppi\n",
            "malesef\n",
            "yuppi\n"
          ],
          "name": "stdout"
        }
      ]
    }
  ]
}