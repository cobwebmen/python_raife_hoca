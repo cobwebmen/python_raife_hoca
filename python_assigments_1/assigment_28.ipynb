{
  "nbformat": 4,
  "nbformat_minor": 0,
  "metadata": {
    "colab": {
      "name": "assigment_28.ipynb",
      "provenance": [],
      "collapsed_sections": []
    },
    "kernelspec": {
      "name": "python3",
      "display_name": "Python 3"
    },
    "language_info": {
      "name": "python"
    }
  },
  "cells": [
    {
      "cell_type": "markdown",
      "metadata": {
        "id": "m6mpeZD3uY5A"
      },
      "source": [
        "Example:\n",
        "\n",
        "Input:\n",
        "\n",
        "[\"eat\", \"tea\", \"tan\", \"ate\", \"nat\", \"bat\"]\n",
        "\n",
        "Output:\n",
        "\n",
        "[\n",
        "  [\"ate\",\"eat\",\"tea\"],\n",
        "  [\"nat\",\"tan\"],\n",
        "  [\"bat\"]\n",
        "]\n",
        "\n",
        "Note:\n",
        "All inputs will be in lowercase.\n",
        "The order of your output does not matter."
      ]
    },
    {
      "cell_type": "code",
      "metadata": {
        "colab": {
          "base_uri": "https://localhost:8080/"
        },
        "id": "DuYyKKekGoOh",
        "outputId": "f51c8432-f5d8-40e5-ee45-16895391be0c"
      },
      "source": [
        "liste=[\"eat\", \"tea\", \"tan\",\"ate\", \"nat\", \"bat\"]\n",
        "sorted_list=[]\n",
        "sonuc=[]\n",
        "for i in liste:\n",
        "  if sorted(i) not in sorted_list:\n",
        "    sorted_list.append(sorted(i))\n",
        "for a in range(len(sorted_list)):\n",
        "  sonuc.append([i for i in liste if sorted(i)==sorted_list[a]])\n",
        "\n",
        "print(sonuc)    \n"
      ],
      "execution_count": null,
      "outputs": [
        {
          "output_type": "stream",
          "text": [
            "[['eat', 'tea', 'ate'], ['tan', 'nat'], ['bat']]\n"
          ],
          "name": "stdout"
        }
      ]
    }
  ]
}