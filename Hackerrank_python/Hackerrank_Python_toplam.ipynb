{
  "nbformat": 4,
  "nbformat_minor": 0,
  "metadata": {
    "colab": {
      "name": "Hackerrank_Python_toplam.ipynb",
      "provenance": [],
      "collapsed_sections": []
    },
    "kernelspec": {
      "name": "python3",
      "display_name": "Python 3"
    },
    "language_info": {
      "name": "python"
    }
  },
  "cells": [
    {
      "cell_type": "markdown",
      "metadata": {
        "id": "1QByhatgmqFC"
      },
      "source": [
        "**1-Python If-Else**\n",
        "\n",
        "Given an integer,n , perform the following conditional actions:\n",
        "\n",
        "If n is odd, print Weird\n",
        "\n",
        "If n is even and in the inclusive range of 2 to 5, print Not Weird\n",
        "\n",
        "If n is even and in the inclusive range of 6 to 20, print Weird\n",
        "\n",
        "If n is even and greater than 20, print Not Weird\n",
        "\n",
        "1<=n<=100"
      ]
    },
    {
      "cell_type": "code",
      "metadata": {
        "id": "FFc2XEdFmppO"
      },
      "source": [
        "n = int(input(\"Lütfen bir sayı giriniz \"))\n",
        "if n%2==1:\n",
        "    print(\"Weird\")\n",
        "elif n%2==0 and 2<=n<=5:\n",
        "    print(\"Not Weird\")\n",
        "elif n%2==0 and 6<=n<=20:\n",
        "    print(\"Weird\")\n",
        "elif n%2==0 and n>20:\n",
        "    print(\"Not Weird\")"
      ],
      "execution_count": null,
      "outputs": []
    },
    {
      "cell_type": "markdown",
      "metadata": {
        "id": "lswe6Ibxm81Q"
      },
      "source": [
        "**2-What's_your_name** \n",
        "\n",
        "You are given the firstname and lastname of a person on two different lines. Your task is to read them and print the following:\n",
        "\n",
        "Hello firstname lastname! You just delved into python."
      ]
    },
    {
      "cell_type": "code",
      "metadata": {
        "id": "HUSzBz2zmNne"
      },
      "source": [
        "def print_full_name(first, last):\n",
        "    print(\"Hello\", first, last + \"! You just delved into python.\")\n",
        "if __name__ == '__main__':\n",
        "    first_name = input()\n",
        "    last_name = input()\n",
        "    print_full_name(first_name, last_name)"
      ],
      "execution_count": null,
      "outputs": []
    },
    {
      "cell_type": "markdown",
      "metadata": {
        "id": "LhMaXtFWnS2N"
      },
      "source": [
        "**3-Arithmetic Operators**\n",
        "\n",
        "The provided code stub reads two integers from STDIN,  and . Add code to print three lines where:\n",
        "\n",
        "The first line contains the sum of the two numbers.\n",
        "\n",
        "The second line contains the difference of the two numbers (first - second).\n",
        "\n",
        "The third line contains the product of the two numbers."
      ]
    },
    {
      "cell_type": "code",
      "metadata": {
        "colab": {
          "base_uri": "https://localhost:8080/"
        },
        "id": "6BG2CCtYnk4J",
        "outputId": "eb3a39d4-8482-42ab-84c0-9c44d8ab2f36"
      },
      "source": [
        "a = int(input())\n",
        "b = int(input())\n",
        "print(a+b)\n",
        "print(a-b)\n",
        "print(a*b)"
      ],
      "execution_count": null,
      "outputs": [
        {
          "output_type": "stream",
          "text": [
            "3\n",
            "2\n",
            "5\n",
            "1\n",
            "6\n"
          ],
          "name": "stdout"
        }
      ]
    },
    {
      "cell_type": "markdown",
      "metadata": {
        "id": "t0C9Nm12nvVH"
      },
      "source": [
        "**4- Mutate String**\n",
        "\n",
        "Read a given string, change the character at a given index and then print the modified string.\n",
        "\n",
        "```\n",
        "# Sample Input\n",
        "\n",
        "# STDIN           Function\n",
        "# -----           --------\n",
        "# abracadabra     s = 'abracadabra'\n",
        "# 5 k             position = 5, character = 'k'\n",
        "\n",
        "# Sample Output\n",
        "\n",
        "# abrackdabra\n",
        "\n",
        "```"
      ]
    },
    {
      "cell_type": "code",
      "metadata": {
        "id": "_RaYpH5zoBCm"
      },
      "source": [
        "def mutate_string(string, position, character):\n",
        "    a=list(s)\n",
        "    a[int(i)]=c\n",
        "    a=\"\".join(a)\n",
        "    return a\n",
        "\n",
        "if __name__ == '__main__':\n",
        "    s = input()\n",
        "    i, c = input().split()\n",
        "    s_new = mutate_string(s, int(i), c)\n",
        "    print(s_new)"
      ],
      "execution_count": null,
      "outputs": []
    },
    {
      "cell_type": "markdown",
      "metadata": {
        "id": "i-eQy-0BoPCO"
      },
      "source": [
        "**5-Split and join**\n",
        "\n",
        "Task You are given a string. Split the string on a \" \" (space) delimiter and join using a - hyphen.\n",
        "\n",
        "Sample Input\n",
        "\n",
        "this is a string\n",
        "\n",
        "Sample Output\n",
        "\n",
        "this-is-a-string"
      ]
    },
    {
      "cell_type": "code",
      "metadata": {
        "id": "SzFQNAeZofX_"
      },
      "source": [
        "def split_and_join(line):\n",
        "    return \"-\".join(line.split(\" \"))\n",
        "\n",
        "if __name__ == '__main__':\n",
        "    line = input()\n",
        "    result = split_and_join(line)\n",
        "    print(result)"
      ],
      "execution_count": null,
      "outputs": []
    },
    {
      "cell_type": "markdown",
      "metadata": {
        "id": "4rKQJYPFogks"
      },
      "source": [
        "**6-count substring**\n",
        "\n",
        "In this challenge, the user enters a string and a substring. You have to print the number of times that the substring occurs in the given string. String traversal will take place from left to right, not from right to left.\n",
        "\n",
        "NOTE: String letters are case-sensitive."
      ]
    },
    {
      "cell_type": "code",
      "metadata": {
        "id": "ShJQ1zb2oye9"
      },
      "source": [
        "def count_substring(string, sub_string):\n",
        "  sum=0\n",
        "  for i in range(0,len(string)+1):\n",
        "    if string[i:(i+len(sub_string))]==sub_string:\n",
        "      sum+=1 \n",
        "  return sum\n",
        "     \n",
        "if __name__ == '__main__':\n",
        "    string = input().strip()\n",
        "    sub_string = input().strip()\n",
        "    \n",
        "    count = count_substring(string, sub_string)\n",
        "    print(count) "
      ],
      "execution_count": null,
      "outputs": []
    },
    {
      "cell_type": "markdown",
      "metadata": {
        "id": "torVLrPGo0-W"
      },
      "source": [
        "**7-**\n",
        "Given the names and grades for each student in a class of N students, store them in a nested list and print the name(s) of any student(s) having the second lowest grade.\n",
        "\n",
        "Note: If there are multiple students with the second lowest grade, order their names alphabetically and print each name on a new line."
      ]
    },
    {
      "cell_type": "code",
      "metadata": {
        "id": "62jsQuIypBra"
      },
      "source": [
        "if __name__ == '__main__':  \n",
        "    liste=[]\n",
        "    liste_n=[]\n",
        "    for _ in range(int(input())):\n",
        "        name = input()\n",
        "        score = float(input())\n",
        "        liste.append([name,score])\n",
        "        liste.sort()\n",
        "    for i in liste:\n",
        "      liste_n.append(i[1])\n",
        "      notlar = list(set(liste_n))\n",
        "      notlar.sort()\n",
        "    for j in liste:\n",
        "      if j[1]==notlar[1]:\n",
        "        print(j[0]) "
      ],
      "execution_count": null,
      "outputs": []
    },
    {
      "cell_type": "markdown",
      "metadata": {
        "id": "fB0OhpBSpNxn"
      },
      "source": [
        "**8-**The provided code stub will read in a dictionary containing key/value pairs of name:[marks] for a list of students. Print the average of the marks array for the student name provided, showing 2 places after the decimal.\n",
        "\n",
        "Input Format\n",
        "\n",
        "The first line contains the integer , the number of students' records. The next lines contain the names and marks obtained by a student, each value separated by a space. The final line contains query_name, the name of a student to query.\n",
        "\n",
        "Output Format\n",
        "\n",
        "Print one line: The average of the marks obtained by the particular student correct to 2 decimal places."
      ]
    },
    {
      "cell_type": "code",
      "metadata": {
        "id": "IQRvnqZnpRG4"
      },
      "source": [
        "if __name__ == '__main__':\n",
        "  n = int(input())\n",
        "  student_marks = {}   \n",
        "  for _ in range(n):\n",
        "    name, *line = input().split()    \n",
        "    scores = list(map(float, line))\n",
        "    student_marks[name]=sum(scores)/len(scores)\n",
        "  query_name = input()      \n",
        "print(\"{:.2f}\".format(student_marks[query_name]))"
      ],
      "execution_count": null,
      "outputs": []
    },
    {
      "cell_type": "markdown",
      "metadata": {
        "id": "emtFewFDpUL-"
      },
      "source": [
        "**9-Loops**\n",
        "\n",
        "The provided code stub reads and integer,n , from STDIN. For all non-negative integers i<n, print i**2 .\n",
        "\n",
        "Sample Input\n",
        "\n",
        "5\n",
        "\n",
        "Sample Output 0\n",
        "\n",
        "0\n",
        "\n",
        "1\n",
        "\n",
        "4\n",
        "\n",
        "9\n",
        "\n",
        "16"
      ]
    },
    {
      "cell_type": "code",
      "metadata": {
        "id": "cXR8zX1vpTrQ"
      },
      "source": [
        "if __name__ == '__main__':\n",
        "    n = int(input())\n",
        "    i=0\n",
        "    while i<n:\n",
        "        print(i**2)\n",
        "        i+=1"
      ],
      "execution_count": null,
      "outputs": []
    },
    {
      "cell_type": "markdown",
      "metadata": {
        "id": "yRgoHyPUprxT"
      },
      "source": [
        "**10-Text alignment**\n",
        "\n",
        "You are given a partial code that is used for generating the HackerRank Logo of variable thickness. Your task is to replace the blank (__) with rjust, ljust or center."
      ]
    },
    {
      "cell_type": "code",
      "metadata": {
        "colab": {
          "base_uri": "https://localhost:8080/"
        },
        "id": "1odQQVaIqJhs",
        "outputId": "8af72541-1142-47f3-a31c-e6ebfcfe9ea0"
      },
      "source": [
        "thickness = int(input()) #This must be an odd number\n",
        "c = 'H'\n",
        "\n",
        "#Top Cone\n",
        "for i in range(thickness):\n",
        "    print((c*i).rjust(thickness-1)+c+(c*i).ljust(thickness-1))\n",
        "\n",
        "#Top Pillars\n",
        "for i in range(thickness+1):\n",
        "    print((c*thickness).center(thickness*2)+(c*thickness).center(thickness*6))\n",
        "\n",
        "#Middle Belt\n",
        "for i in range((thickness+1)//2):\n",
        "    print((c*thickness*5).center(thickness*6))    \n",
        "\n",
        "#Bottom Pillars\n",
        "for i in range(thickness+1):\n",
        "    print((c*thickness).center(thickness*2)+(c*thickness).center(thickness*6))    \n",
        "\n",
        "#Bottom Cone\n",
        "for i in range(thickness):\n",
        "    print(((c*(thickness-i-1)).rjust(thickness)+c+(c*(thickness-i-1)).ljust(thickness)).rjust(thickness*6))\n"
      ],
      "execution_count": null,
      "outputs": [
        {
          "output_type": "stream",
          "text": [
            "5\n",
            "    H    \n",
            "   HHH   \n",
            "  HHHHH  \n",
            " HHHHHHH \n",
            "HHHHHHHHH\n",
            "  HHHHH               HHHHH             \n",
            "  HHHHH               HHHHH             \n",
            "  HHHHH               HHHHH             \n",
            "  HHHHH               HHHHH             \n",
            "  HHHHH               HHHHH             \n",
            "  HHHHH               HHHHH             \n",
            "  HHHHHHHHHHHHHHHHHHHHHHHHH   \n",
            "  HHHHHHHHHHHHHHHHHHHHHHHHH   \n",
            "  HHHHHHHHHHHHHHHHHHHHHHHHH   \n",
            "  HHHHH               HHHHH             \n",
            "  HHHHH               HHHHH             \n",
            "  HHHHH               HHHHH             \n",
            "  HHHHH               HHHHH             \n",
            "  HHHHH               HHHHH             \n",
            "  HHHHH               HHHHH             \n",
            "                    HHHHHHHHH \n",
            "                     HHHHHHH  \n",
            "                      HHHHH   \n",
            "                       HHH    \n",
            "                        H     \n"
          ],
          "name": "stdout"
        }
      ]
    },
    {
      "cell_type": "markdown",
      "metadata": {
        "id": "8YjtU-y7qNvm"
      },
      "source": [
        "**11-Swap case**\n",
        "\n",
        "You are given a string and your task is to swap cases. In other words, convert all lowercase letters to uppercase letters and vice versa."
      ]
    },
    {
      "cell_type": "code",
      "metadata": {
        "colab": {
          "base_uri": "https://localhost:8080/"
        },
        "id": "noq8H9ppqZKS",
        "outputId": "564759b1-fbaa-45ee-d477-e7ef1c6c8d4b"
      },
      "source": [
        "def swap_case(s):\n",
        "    return s.swapcase()\n",
        "\n",
        "if __name__ == '__main__':\n",
        "    s = input()\n",
        "    result = swap_case(s)\n",
        "    print(result)"
      ],
      "execution_count": null,
      "outputs": [
        {
          "output_type": "stream",
          "text": [
            "HackerRank.com presents \"Pythonist 2\"\n",
            "hACKERrANK.COM PRESENTS \"pYTHONIST 2\"\n"
          ],
          "name": "stdout"
        }
      ]
    },
    {
      "cell_type": "markdown",
      "metadata": {
        "id": "toJw1T97qj3_"
      },
      "source": [
        "**12-string_validators**\n",
        "\n",
        "You are given a string . Your task is to find out if the string contains: alphanumeric characters, alphabetical characters, digits, lowercase and uppercase characters\n",
        "\n",
        "str.isalnum()\n",
        "\n",
        "str.isalpha()\n",
        "\n",
        "str.isdigit()\n",
        "\n",
        "str.islower()\n",
        "\n",
        "str.isupper()\n",
        "\n",
        "Sample Input\n",
        "\n",
        "qA2\n",
        "\n",
        "Sample Output\n",
        "\n",
        "True\n",
        "\n",
        "True\n",
        "\n",
        "True\n",
        "\n",
        "True\n",
        "\n",
        "True\n"
      ]
    },
    {
      "cell_type": "code",
      "metadata": {
        "id": "q8Qf6bYcqs27"
      },
      "source": [
        "if __name__ == '__main__':\n",
        "  s=input()\n",
        "n=0\n",
        "while n<len(s):\n",
        "  if s[n].isalnum()!=True:\n",
        "    n+=1\n",
        "    if n==len(s)-1 and s[len(s)-1].isalnum()!=True:\n",
        "      print(False)\n",
        "  elif s[n].isalnum()==True:\n",
        "    print(True)\n",
        "    break\n",
        "  else:\n",
        "    print(False)\n",
        "    break\n",
        "n=0\n",
        "while n<len(s):\n",
        "  if s[n].isalpha()!=True:\n",
        "    n+=1\n",
        "    if n==len(s)-1 and s[len(s)-1].isalpha()!=True:\n",
        "      print(False)\n",
        "  elif s[n].isalpha()==True:\n",
        "    print(True)\n",
        "    break\n",
        "  else:\n",
        "    print(False)\n",
        "    break\n",
        "n=0\n",
        "while n<len(s):\n",
        "  if s[n].isdigit()!=True:\n",
        "    n+=1\n",
        "    if n==len(s)-1 and s[len(s)-1].isdigit()!=True:\n",
        "      print(False)\n",
        "  elif s[n].isdigit()==True:\n",
        "    print(True)\n",
        "    break\n",
        "  else:\n",
        "    print(False)\n",
        "    break\n",
        "n=0\n",
        "while n<len(s):\n",
        "  if s[n].islower()!=True:\n",
        "    n+=1\n",
        "    if n==len(s)-1 and s[len(s)-1].islower()!=True:\n",
        "      print(False)\n",
        "  elif s[n].islower()==True:\n",
        "    print(True)\n",
        "    break\n",
        "  else:\n",
        "    print(False)\n",
        "    break\n",
        "n=0\n",
        "while n<len(s):\n",
        "  if s[n].isupper()!=True:\n",
        "    n+=1\n",
        "    if n==len(s)-1 and s[len(s)-1].isupper()!=True:\n",
        "      print(False)\n",
        "  elif s[n].isupper()==True:\n",
        "    print(True)\n",
        "    break\n",
        "  else:\n",
        "    print(False)\n",
        "    break"
      ],
      "execution_count": null,
      "outputs": []
    },
    {
      "cell_type": "markdown",
      "metadata": {
        "id": "fdQEV-vdq36a"
      },
      "source": [
        "**13-textwrap**\n",
        "\n",
        "You are given a S string and width w. Your task is to wrap the string into a paragraph of width w.\n",
        "\n",
        "Sample Input\n",
        "\n",
        "ABCDEFGHIJKLIMNOQRSTUVWXYZ\n",
        "\n",
        "4\n",
        "\n",
        "Sample Output\n",
        "\n",
        "ABCD\n",
        "\n",
        "EFGH\n",
        "\n",
        "IJKL\n",
        "\n",
        "IMNO\n",
        "\n",
        "QRST\n",
        "\n",
        "UVWX\n",
        "\n",
        "YZ"
      ]
    },
    {
      "cell_type": "code",
      "metadata": {
        "id": "-MCmfTlNrFxR"
      },
      "source": [
        "import textwrap\n",
        "def wrap(string, max_width):\n",
        "  new_string=\"\"  \n",
        "  for i in range(len(string)//max_width):\n",
        "    new_string+= (string[i*max_width:max_width*(i+1)]+\"\\n\")\n",
        "  new_string+= (string[-(len(string)%max_width): ])\n",
        "  return new_string\n",
        "\n",
        "if __name__ == '__main__':\n",
        "    string, max_width = input(), int(input())\n",
        "    result = wrap(string, max_width)\n",
        "    print(result)"
      ],
      "execution_count": null,
      "outputs": []
    },
    {
      "cell_type": "markdown",
      "metadata": {
        "id": "3hrEZWykrMlf"
      },
      "source": [
        "**14-leap year**\n",
        "\n",
        "An extra day is added to the calendar almost every four years as February 29, and the day is called a leap day. It corrects the calendar for the fact that our planet takes approximately 365.25 days to orbit the sun. A leap year contains a leap day.\n",
        "\n",
        "In the Gregorian calendar, three conditions are used to identify leap years:\n",
        "\n",
        "The year can be evenly divided by 4, is a leap year, unless: The year can be evenly divided by 100, it is NOT a leap year, unless: The year is also evenly divisible by 400. Then it is a leap year. This means that in the Gregorian calendar, the years 2000 and 2400 are leap years, while 1800, 1900, 2100, 2200, 2300 and 2500 are NOT leap years. Source\n",
        "\n",
        "Task\n",
        "\n",
        "Given a year, determine whether it is a leap year. If it is a leap year, return the Boolean True, otherwise return False.\n",
        "\n",
        "Note that the code stub provided reads from STDIN and passes arguments to the is_leap function. It is only necessary to complete the is_leap function"
      ]
    },
    {
      "cell_type": "code",
      "metadata": {
        "id": "R7a9zbM2ram3"
      },
      "source": [
        "def is_leap(year):\n",
        "    leap = False\n",
        "      \n",
        "    if year % 400 == 0:\n",
        "        return (not leap) \n",
        "    elif year % 100 == 0:\n",
        "        return (leap)\n",
        "    elif year%4==0:\n",
        "        return not leap \n",
        "    else:\n",
        "        return (leap)\n",
        "            \n",
        "\n",
        "year = int(input())\n",
        "print(is_leap(year))"
      ],
      "execution_count": null,
      "outputs": []
    },
    {
      "cell_type": "markdown",
      "metadata": {
        "id": "pYomS09xrhEr"
      },
      "source": [
        "**15-Tuples**\n",
        "\n",
        "Given an integer,n , and n space-separated integers as input, create a tuple,t , of those n integers. Then compute and print the result of hash(t).\n",
        "\n",
        "Sample Input\n",
        "\n",
        "2\n",
        "\n",
        "1 2\n",
        "\n",
        "Sample Output\n",
        "\n",
        "3713081631934410656\n"
      ]
    },
    {
      "cell_type": "code",
      "metadata": {
        "id": "MNAe1w0Ur3O6"
      },
      "source": [
        "if __name__ == '__main__':\n",
        "    n = int(input())\n",
        "    integer_list = map(int, input().split())\n",
        "    t=tuple(integer_list)\n",
        "    print(hash(t))\n",
        "  "
      ],
      "execution_count": null,
      "outputs": []
    },
    {
      "cell_type": "markdown",
      "metadata": {
        "id": "ydAj1wR3r6v3"
      },
      "source": [
        "**16-Lists**\n",
        "\n",
        "Consider a list (list = []). You can perform the following commands:\n",
        "\n",
        "insert i e: Insert integer at position .\n",
        "\n",
        "print: Print the list.\n",
        "\n",
        "remove e: Delete the first occurrence of integer .\n",
        "\n",
        "append e: Insert integer at the end of the list.\n",
        "\n",
        "sort: Sort the list.\n",
        "\n",
        "pop: Pop the last element from the list.\n",
        "\n",
        "reverse: Reverse the list.\n",
        "\n",
        "Initialize your list and read in the value of followed by lines of commands where each command will be of the types listed above. Iterate through each command in order and perform the corresponding operation on your list.\n",
        "\n",
        "Sample Input\n",
        "\n",
        "12\n",
        "\n",
        "insert 0 5\n",
        "\n",
        "insert 1 10\n",
        "\n",
        "insert 0 6\n",
        "\n",
        "print\n",
        "\n",
        "remove 6\n",
        "\n",
        "append 9\n",
        "\n",
        "append 1\n",
        "\n",
        "sort\n",
        "\n",
        "print\n",
        "\n",
        "pop\n",
        "\n",
        "reverse\n",
        "\n",
        "print\n",
        "\n",
        "Sample Output\n",
        "\n",
        "[6, 5, 10]\n",
        "\n",
        "[1, 5, 9, 10]\n",
        "\n",
        "[9, 5, 1]"
      ]
    },
    {
      "cell_type": "code",
      "metadata": {
        "id": "sijOd3W_r6VL"
      },
      "source": [
        "if __name__ == '__main__':\n",
        "  N = int(input())\n",
        "  liste=[]\n",
        "  for _ in range(N):\n",
        "    name, *line = input().split()    \n",
        "    scores = str(tuple(map(int, line)))\n",
        "    result=\"liste.\"+name+scores\n",
        "    if name==\"print\":\n",
        "      print(liste)\n",
        "    else:   \n",
        "      eval(result)"
      ],
      "execution_count": null,
      "outputs": []
    },
    {
      "cell_type": "markdown",
      "metadata": {
        "id": "oIG-2HKIsLjn"
      },
      "source": [
        "**17-Print the functions**\n",
        "\n",
        "Sample Input\n",
        "\n",
        "3\n",
        "\n",
        "Sample Output\n",
        "\n",
        "123\n",
        "\n",
        "example\n",
        "\n",
        "n=5\n",
        "\n",
        "print the string 12345\n"
      ]
    },
    {
      "cell_type": "code",
      "metadata": {
        "id": "mXq69z8gsaEa"
      },
      "source": [
        "if __name__ == '__main__':\n",
        "    n = int(input())\n",
        "    i=1\n",
        "    sayi=\"\"\n",
        "    for i in range(1,(n+1)):\n",
        "        sayi+=str(i)\n",
        "    print(sayi)"
      ],
      "execution_count": null,
      "outputs": []
    },
    {
      "cell_type": "markdown",
      "metadata": {
        "id": "-K91oEpvsc3y"
      },
      "source": [
        "**18-Nested Lists**\n",
        "\n",
        "Given the names and grades for each student in a class of N students, store them in a nested list and print the name(s) of any student(s) having the second lowest grade.\n",
        "\n",
        "Note: If there are multiple students with the second lowest grade, order their names alphabetically and print each name on a new line.\n",
        "\n",
        "Sample Input\n",
        "\n",
        "5\n",
        "\n",
        "Harry\n",
        "\n",
        "37.21\n",
        "\n",
        "Berry\n",
        "\n",
        "37.21\n",
        "\n",
        "Tina\n",
        "\n",
        "37.2\n",
        "\n",
        "Akriti\n",
        "\n",
        "41\n",
        "\n",
        "Harsh\n",
        "\n",
        "39\n",
        "\n",
        "Sample Output\n",
        "\n",
        "Berry\n",
        "\n",
        "Harry"
      ]
    },
    {
      "cell_type": "code",
      "metadata": {
        "id": "318XBMPKsodE"
      },
      "source": [
        "if __name__ == '__main__':   \n",
        "    liste=[]\n",
        "    liste_n=[]\n",
        "    for _ in range(int(input())):\n",
        "        name = input()\n",
        "        score = float(input())\n",
        "        liste.append([name,score])\n",
        "        liste.sort()\n",
        "    for i in liste:\n",
        "      liste_n.append(i[1])\n",
        "      notlar = list(set(liste_n))\n",
        "      notlar.sort()\n",
        "    for j in liste:\n",
        "      if j[1]==notlar[1]:\n",
        "        print(j[0])"
      ],
      "execution_count": null,
      "outputs": []
    },
    {
      "cell_type": "markdown",
      "metadata": {
        "id": "qquapCgFstyg"
      },
      "source": [
        "**19-Symetricdiffirence_Introductiontosets**\n",
        "\n",
        "Ms. Gabriel Williams is a botany professor at District College. One day, she asked her student Mickey to compute the average of all the plants with distinct heights in her greenhouse.\n",
        "\n",
        "Input Format\n",
        "\n",
        "The first line contains the integer,N , the size of arr. The second line contains the N space-separated integers,arr[i]"
      ]
    },
    {
      "cell_type": "code",
      "metadata": {
        "id": "cGI6WAGms5eE"
      },
      "source": [
        "def average(array):\n",
        "    return sum(set(arr))/len(set(arr))\n",
        "  \n",
        "if __name__ == '__main__':\n",
        "    n = int(input())\n",
        "    arr = list(map(int, input().split()))\n",
        "    result = average(arr)\n",
        "    print(result)"
      ],
      "execution_count": null,
      "outputs": []
    },
    {
      "cell_type": "code",
      "metadata": {
        "id": "2nWrBAiKs8_M"
      },
      "source": [
        "a_sayisi=int(input())\n",
        "a_set=set(input().split())\n",
        "b_sayisi=int(input())\n",
        "b_set=set(input().split())\n",
        "str_list=(a_set.difference(b_set)).union(b_set.difference(a_set))\n",
        "int_list=[]\n",
        "for i in str_list:\n",
        "  int_list.append(int(i))\n",
        "print(*sorted(int_list), sep=\"\\n\")"
      ],
      "execution_count": null,
      "outputs": []
    },
    {
      "cell_type": "markdown",
      "metadata": {
        "id": "MsxjaBbLs_5o"
      },
      "source": [
        "**20-Alpahabet_Rangoli**\n",
        "#size 3\n",
        "\n",
        "----c----\n",
        "\n",
        "--c-b-c--\n",
        "\n",
        "c-b-a-b-c\n",
        "\n",
        "--c-b-c--\n",
        "\n",
        "----c----\n",
        "\n",
        "\n",
        "#size 5\n",
        "\n",
        "--------e--------\n",
        "\n",
        "------e-d-e------\n",
        "\n",
        "----e-d-c-d-e----\n",
        "\n",
        "--e-d-c-b-c-d-e--\n",
        "\n",
        "e-d-c-b-a-b-c-d-e\n",
        "\n",
        "--e-d-c-b-c-d-e--\n",
        "\n",
        "----e-d-c-d-e----\n",
        "\n",
        "------e-d-e------\n",
        "\n",
        "--------e--------\n",
        "\n",
        "İşlemin daha iyi anlaşılması için string ve listeyi yazdırdım."
      ]
    },
    {
      "cell_type": "code",
      "metadata": {
        "colab": {
          "base_uri": "https://localhost:8080/"
        },
        "id": "uhNUzPoXtJat",
        "outputId": "c32959ab-dead-44db-e82f-77a8f977fdc1"
      },
      "source": [
        "def print_rangoli(size):\n",
        "    alpha=\"abcdefghijklmnopqrstuvwxyz\"\n",
        "    liste = []\n",
        "    for i in range(n):\n",
        "        string = \"-\".join(alpha[i:n])\n",
        "        liste.append((string[::-1]+string[1:]).center(4*n-3, \"-\"))\n",
        "    print('\\n'.join(liste[:0:-1]+liste))\n",
        "\n",
        "if __name__ == '__main__':\n",
        "    n = int(input())\n",
        "    print_rangoli(n)"
      ],
      "execution_count": null,
      "outputs": [
        {
          "output_type": "stream",
          "text": [
            "4\n",
            "------d------\n",
            "----d-c-d----\n",
            "--d-c-b-c-d--\n",
            "d-c-b-a-b-c-d\n",
            "--d-c-b-c-d--\n",
            "----d-c-d----\n",
            "------d------\n"
          ],
          "name": "stdout"
        }
      ]
    },
    {
      "cell_type": "markdown",
      "metadata": {
        "id": "ezgveopZtTLf"
      },
      "source": [
        "**21-collctionsCounter()**\n",
        "\n",
        "Task\n",
        "\n",
        "Ra is a shoe shop owner. His shop has X number of shoes. He has a list containing the size of each shoe he has in his shop. There are N number of customers who are willing to pay x amount of money only if they get the shoe of their desired size.\n",
        "\n",
        "Your task is to compute how much money Ra earned\n"
      ]
    },
    {
      "cell_type": "code",
      "metadata": {
        "id": "CB8dOxdwttwX"
      },
      "source": [
        "liste_eleman_sayi=input()\n",
        "liste=[int(i) for i in input().split()]\n",
        "musteri_sayi=int(input())\n",
        "istek_liste=[]\n",
        "for i in range(musteri_sayi):\n",
        "  istek_liste.append([int(k) for k in input().split()])\n",
        "szlk={}\n",
        "top=0\n",
        "for i in liste:\n",
        "  szlk[i]=liste.count(i)\n",
        "for key, value in list(szlk.items()):\n",
        "  for istek, fiyat in istek_liste:\n",
        "    if istek==key and value!=0:\n",
        "      top += fiyat\n",
        "      value-=1\n",
        "print(top)"
      ],
      "execution_count": null,
      "outputs": []
    },
    {
      "cell_type": "markdown",
      "metadata": {
        "id": "JrQrRsBUt2sp"
      },
      "source": [
        "**22-itertools product**\n",
        "\n",
        "You are given a two lists A and B. Your task is to compute their cartesian product AxB.\n",
        "\n",
        "Sample Input\n",
        "\n",
        "1 2\n",
        "\n",
        "3 4\n",
        "\n",
        "Sample Output\n",
        "\n",
        "(1, 3) (1, 4) (2, 3) (2, 4)"
      ]
    },
    {
      "cell_type": "code",
      "metadata": {
        "id": "DbgSpBPMuAaZ"
      },
      "source": [
        "from itertools import product\n",
        "liste_a = list((map(int, input().split())))\n",
        "liste_b = list(map(int, input().split()))\n",
        "a=list(product(liste_a,liste_b))\n",
        "for i in a:\n",
        "    print(i, end= \" \")"
      ],
      "execution_count": null,
      "outputs": []
    },
    {
      "cell_type": "markdown",
      "metadata": {
        "id": "Ef-9lsjOmCR2"
      },
      "source": [
        "**23-itertools permutations**\n",
        "\n",
        "Task\n",
        "\n",
        "You are given a string S. Your task is to print all possible permutations of size k of the string in lexicographic sorted order.\n",
        "\n",
        "Sample Input\n",
        "\n",
        "HACK 2\n",
        "\n",
        "Sample Output\n",
        "\n",
        "AC\n",
        "\n",
        "AH\n",
        "\n",
        "AK\n",
        "\n",
        "CA\n",
        "\n",
        "CH\n",
        "\n",
        "CK\n",
        "\n",
        "HA\n",
        "\n",
        "HC\n",
        "\n",
        "HK\n",
        "\n",
        "KA\n",
        "\n",
        "KC\n",
        "\n",
        "KH"
      ]
    },
    {
      "cell_type": "code",
      "metadata": {
        "id": "sjeoGTXHmX-b"
      },
      "source": [
        "from itertools import permutations\n",
        "strng,sayi=input().split()\n",
        "sayi=int(sayi)\n",
        "liste=list(permutations(strng,sayi))\n",
        "liste.sort()\n",
        "for i in liste:\n",
        "  print(\"\".join(i))"
      ],
      "execution_count": null,
      "outputs": []
    },
    {
      "cell_type": "markdown",
      "metadata": {
        "id": "LATBkXFZmfcR"
      },
      "source": [
        "**24_set_add**\n",
        "\n",
        "Rupal has a huge collection of country stamps. She decided to count the total number of distinct country stamps in her collection. She asked for your help. You pick the stamps one by one from a stack of **N** country stamps.\n",
        "\n",
        "Find the total number of distinct country stamps.\n"
      ]
    },
    {
      "cell_type": "code",
      "metadata": {
        "id": "8NnYcRtMmsfc"
      },
      "source": [
        "n=int(input())\n",
        "liste=[]\n",
        "for i in range(n):\n",
        "  liste.append(input())\n",
        "print(len(set(liste)))"
      ],
      "execution_count": null,
      "outputs": []
    },
    {
      "cell_type": "markdown",
      "metadata": {
        "id": "NdQn0jrMmwDs"
      },
      "source": [
        "**25_Calendar_module**\n",
        "\n",
        "You are given a date. Your task is to find what the day is on that date.\n",
        "\n",
        "Input Format\n",
        "\n",
        "A single line of input containing the space separated month, day and year, \n",
        "\n",
        "Sample Input\n",
        "\n",
        "08 05 2015\n",
        "\n",
        "Sample Output\n",
        "\n",
        "WEDNESDAY"
      ]
    },
    {
      "cell_type": "code",
      "metadata": {
        "id": "grVvCTIzm92U"
      },
      "source": [
        "import calendar\n",
        "month,day,year=map(int, input().split())\n",
        "day=calendar.weekday(year, month, day)\n",
        "if day==0:\n",
        "  print(\"MONDAY\")\n",
        "elif day==1:\n",
        "  print(\"TUESDAY\")\n",
        "elif day==2:\n",
        "  print(\"WEDNESDAY\")\n",
        "elif day==3:\n",
        "  print(\"THURSDAY\")\n",
        "elif day==4:\n",
        "  print(\"FRIDAY\")\n",
        "elif day==5:\n",
        "  print(\"SATURDAY\")\n",
        "elif day==6:\n",
        "  print(\"SUNDAY\")"
      ],
      "execution_count": null,
      "outputs": []
    },
    {
      "cell_type": "markdown",
      "metadata": {
        "id": "gKr3bwXHnFRb"
      },
      "source": [
        "**26_Set_union()**\n",
        "\n",
        "The students of District College have subscriptions to English and French newspapers. Some students have subscribed only to English, some have subscribed to only French and some have subscribed to both newspapers.\n",
        "\n",
        "You are given two sets of student roll numbers. One set has subscribed to the English newspaper, and the other set is subscribed to the French newspaper. The same student could be in both sets. Your task is to find the total number of students who have subscribed to at least one newspaper.\n",
        "\n",
        "Sample Input\n",
        "\n",
        "9\n",
        "\n",
        "1 2 3 4 5 6 7 8 9\n",
        "\n",
        "9\n",
        "\n",
        "10 1 2 3 11 21 55 6 8\n",
        "\n",
        "Sample Output\n",
        "\n",
        "13"
      ]
    },
    {
      "cell_type": "code",
      "metadata": {
        "id": "Iczn1CAYnQtd"
      },
      "source": [
        "a=int(input())\n",
        "b=set(map(int, input().split()))\n",
        "c=int(input())\n",
        "d=set(map(int, input().split()))\n",
        "top=b.union(d)\n",
        "print(len(top))"
      ],
      "execution_count": null,
      "outputs": []
    },
    {
      "cell_type": "markdown",
      "metadata": {
        "id": "znw6JILvnXCU"
      },
      "source": [
        "**27_Set_intersection()Operation**\n",
        "\n",
        "The students of District College have subscriptions to English and French newspapers. Some students have subscribed only to English, some have subscribed only to French, and some have subscribed to both newspapers.\n",
        "\n",
        "You are given two sets of student roll numbers. One set has subscribed to the English newspaper, one set has subscribed to the French newspaper. Your task is to find the total number of students who have subscribed to both newspapers.\n",
        "\n",
        "Sample Input\n",
        "\n",
        "9\n",
        "\n",
        "1 2 3 4 5 6 7 8 9\n",
        "\n",
        "9\n",
        "\n",
        "10 1 2 3 11 21 55 6 8\n",
        "\n",
        "Sample Output\n",
        "\n",
        "5"
      ]
    },
    {
      "cell_type": "code",
      "metadata": {
        "id": "voaMKPkdnkCC"
      },
      "source": [
        "a=int(input())\n",
        "b=set(map(int, input().split()))\n",
        "c=int(input())\n",
        "d=set(map(int, input().split()))\n",
        "print(len(d.intersection(b)))"
      ],
      "execution_count": null,
      "outputs": []
    },
    {
      "cell_type": "markdown",
      "metadata": {
        "id": "VMMVMxKfn05S"
      },
      "source": [
        "**28-input()**\n",
        "```\n",
        "Sample Input\n",
        "1 4\n",
        "x**3 + x**2 + x + 1\n",
        "\n",
        "Sample Output\n",
        "True\n",
        "\n",
        "Explanation\n",
        "P(1)=1**3+1**2+1+1=4=k\n",
        "Hence, the output is True.\n",
        "# ```\n"
      ]
    },
    {
      "cell_type": "code",
      "metadata": {
        "id": "1T9fMXtDoMkW"
      },
      "source": [
        "x,k=map(int, input().split())\n",
        "islem=eval(input())\n",
        "if islem==k:\n",
        "  print(True)\n",
        "else:\n",
        "  print(False)  "
      ],
      "execution_count": null,
      "outputs": []
    },
    {
      "cell_type": "markdown",
      "metadata": {
        "id": "iiGYQv76oQIU"
      },
      "source": [
        "**29_Python_Evaluation**\n",
        "\n",
        "Task\n",
        "\n",
        "You are given an expression in a line. Read that line as a string variable, such as var, and print the result using eval(var)."
      ]
    },
    {
      "cell_type": "code",
      "metadata": {
        "id": "HCWQBu4RocFp"
      },
      "source": [
        "eval(input())"
      ],
      "execution_count": null,
      "outputs": []
    },
    {
      "cell_type": "markdown",
      "metadata": {
        "id": "ezj9rzrLohUa"
      },
      "source": [
        "**30-Set_difference()**\n",
        "\n",
        "Students of District College have a subscription to English and French newspapers. Some students have subscribed to only the English newspaper, some have subscribed to only the French newspaper, and some have subscribed to both newspapers.\n",
        "\n",
        "You are given two sets of student roll numbers. One set has subscribed to the English newspaper, and one set has subscribed to the French newspaper. Your task is to find the total number of students who have subscribed to only English newspapers.\n",
        "\n",
        "Sample Input\n",
        "\n",
        "9\n",
        "\n",
        "1 2 3 4 5 6 7 8 9\n",
        "\n",
        "9\n",
        "\n",
        "10 1 2 3 11 21 55 6 8\n",
        "\n",
        "Sample Output\n",
        "\n",
        "4"
      ]
    },
    {
      "cell_type": "code",
      "metadata": {
        "id": "mIYe_ZKAo_KC"
      },
      "source": [
        "a=int(input())\n",
        "b=set(map(int, input().split()))\n",
        "c=int(input())\n",
        "d=set(map(int, input().split()))\n",
        "print(len(b.difference(d)))"
      ],
      "execution_count": null,
      "outputs": []
    },
    {
      "cell_type": "markdown",
      "metadata": {
        "id": "u63l0X8qpDlH"
      },
      "source": [
        "**31_symmetric_difference()**\n",
        "\n",
        "Students of District College have subscriptions to English and French newspapers. Some students have subscribed to English only, some have subscribed to French only, and some have subscribed to both newspapers.\n",
        "\n",
        "You are given two sets of student roll numbers. One set has subscribed to the English newspaper, and one set has subscribed to the French newspaper. Your task is to find the total number of students who have subscribed to either the English or the French newspaper but not both."
      ]
    },
    {
      "cell_type": "code",
      "metadata": {
        "id": "FiOFjfCopR1w"
      },
      "source": [
        "a=int(input())\n",
        "b=set(map(int, input().split()))\n",
        "c=int(input())\n",
        "d=set(map(int, input().split()))\n",
        "print(len(b.symmetric_difference(d)))"
      ],
      "execution_count": null,
      "outputs": []
    },
    {
      "cell_type": "markdown",
      "metadata": {
        "id": "ng-oh1vwpVSc"
      },
      "source": [
        "**32-Power_Mod_Power**\n",
        "\n",
        "Task\n",
        "You are given three integers: , , and . Print two lines.\n",
        "On the first line, print the result of pow(a,b). On the second line, print the result of pow(a,b,m).\n",
        "\n",
        "Sample Input\n",
        "\n",
        "3\n",
        "\n",
        "4\n",
        "\n",
        "5\n",
        "\n",
        "Sample Output\n",
        "\n",
        "81\n",
        "\n",
        "1"
      ]
    },
    {
      "cell_type": "code",
      "metadata": {
        "id": "aBJKgFu0px_y"
      },
      "source": [
        "a=int(input())\n",
        "b=int(input())\n",
        "m=int(input())\n",
        "print(pow(a,b))\n",
        "print(pow(a,b,m))"
      ],
      "execution_count": null,
      "outputs": []
    },
    {
      "cell_type": "markdown",
      "metadata": {
        "id": "7Kna8y6Sp166"
      },
      "source": [
        "**33-IntegersComeInAllSizes**\n",
        "\n",
        "Task\n",
        "Read four numbers,a ,b ,c , and d, and print the result of (a üssü b) + (c üssü d)\n",
        "\n",
        "Sample Input\n",
        "\n",
        "9\n",
        "\n",
        "29\n",
        "\n",
        "7\n",
        "\n",
        "27\n",
        "\n",
        "Sample Output\n",
        "\n",
        "4710194409608608369201743232"
      ]
    },
    {
      "cell_type": "code",
      "metadata": {
        "id": "5SFBAg9RqDz1"
      },
      "source": [
        "a=int(input())\n",
        "b=int(input())\n",
        "c=int(input())\n",
        "d=int(input())\n",
        "print(pow(a,b)+pow(c,d))"
      ],
      "execution_count": null,
      "outputs": []
    },
    {
      "cell_type": "markdown",
      "metadata": {
        "id": "3e0eV5HiqSNv"
      },
      "source": [
        "**34_Designer_Door_Maat**"
      ]
    },
    {
      "cell_type": "code",
      "metadata": {
        "colab": {
          "base_uri": "https://localhost:8080/"
        },
        "id": "MZtVCdiVqUkx",
        "outputId": "9cbe6694-faa2-4ccf-a9cf-315ef606fe54"
      },
      "source": [
        "a,b=map(int, input().split())\n",
        "str=\".|.\"\n",
        "for i in range(1,a,2):\n",
        "  if i==0:\n",
        "    print(str.center(b,\"-\"))\n",
        "  else:\n",
        "    print((str*i).center(b,\"-\"))\n",
        "print(\"WELCOME\".center(b,\"-\"))\n",
        "for i in range(a-2,0,-2):\n",
        "  if i==0:\n",
        "    print(str.center(b,\"-\"))\n",
        "  else:\n",
        "    print((str*i).center(b,\"-\"))"
      ],
      "execution_count": 2,
      "outputs": [
        {
          "output_type": "stream",
          "text": [
            "5 19\n",
            "--------.|.--------\n",
            "-----.|..|..|.-----\n",
            "------WELCOME------\n",
            "-----.|..|..|.-----\n",
            "--------.|.--------\n"
          ],
          "name": "stdout"
        }
      ]
    },
    {
      "cell_type": "markdown",
      "metadata": {
        "id": "Jvvy90j1qjNQ"
      },
      "source": [
        "**35-CheckStringSuperset**\n",
        "\n",
        "Sample Input\n",
        "\n",
        "1 2 3 4 5 6 7 8 9 10 11 12 23 45 84 78\n",
        "\n",
        "2\n",
        "\n",
        "1 2 3 4 5\n",
        "\n",
        "100 11 12\n",
        "\n",
        "Sample Output\n",
        "\n",
        "False\n",
        "\n",
        "Explanation\n",
        "\n",
        "Set A is the strict superset of the set([1,2,3,4,5]) but not of the set ([100,11,12])because 100 is not in set A.\n",
        "Hence, the output is False."
      ]
    },
    {
      "cell_type": "code",
      "metadata": {
        "id": "Q7i8m8u3qwb7"
      },
      "source": [
        "a=set(map(int, input().split()))\n",
        "b=int(input())\n",
        "liste=[]\n",
        "for i in range(b):\n",
        "  liste.append(a.issuperset(set(map(int,input().split()))))\n",
        "if False in liste:\n",
        "  print(False)\n",
        "else:\n",
        "  print(True)"
      ],
      "execution_count": null,
      "outputs": []
    },
    {
      "cell_type": "markdown",
      "metadata": {
        "id": "a9IaRgZeq1le"
      },
      "source": [
        "**36-Mod_Divmod**\n",
        "\n",
        "Task\n",
        "Read in two integers, a and b, and print three lines.\n",
        "The first line is the integer division a//b (While using Python2 remember to import division from __future__).\n",
        "The second line is the result of the modulo operator: a%b.\n",
        "The third line prints the divmod of a and b.\n",
        "\n",
        "Sample Input\n",
        "\n",
        "177\n",
        "\n",
        "10\n",
        "\n",
        "Sample Output\n",
        "\n",
        "17\n",
        "\n",
        "7\n",
        "\n",
        "(17, 7)"
      ]
    },
    {
      "cell_type": "code",
      "metadata": {
        "id": "S6F-JcBkrCi8"
      },
      "source": [
        "a=int(input())\n",
        "b=int(input())\n",
        "print(a//b,a%b,(a//b, a%b), sep=\"\\n\")"
      ],
      "execution_count": null,
      "outputs": []
    },
    {
      "cell_type": "markdown",
      "metadata": {
        "id": "mmtL3bEerGXS"
      },
      "source": [
        "**37-Zipped!**\n",
        "\n",
        "The National University conducts an examination of N students in X subjects.\n",
        "Your task is to compute the average scores of each student.\n",
        "\n",
        "Sample Input\n",
        "\n",
        "5 3\n",
        "\n",
        "89 90 78 93 80\n",
        "\n",
        "90 91 85 88 86  \n",
        "\n",
        "91 92 83 89 90.5\n",
        "\n",
        "Sample Output\n",
        "\n",
        "90.0 \n",
        "\n",
        "91.0 \n",
        "\n",
        "82.0\n",
        "\n",
        "90.0 \n",
        "\n",
        "85.5 "
      ]
    },
    {
      "cell_type": "code",
      "metadata": {
        "id": "XkZ69DY1rYFp"
      },
      "source": [
        "student, lesson=map(int,input().split())\n",
        "liste=[]\n",
        "for i in range(lesson):\n",
        "  liste.append(map(float, input().split()))\n",
        "\n",
        "for i in zip(*liste):\n",
        "  print(sum(i)/lesson)"
      ],
      "execution_count": null,
      "outputs": []
    },
    {
      "cell_type": "markdown",
      "metadata": {
        "id": "4TfKuMbarmr-"
      },
      "source": [
        "**38-Company_Lego**\n",
        "\n",
        "Sample Input\n",
        "\n",
        "aabbbccde\n",
        "\n",
        "Sample Output\n",
        "\n",
        "b 3\n",
        "\n",
        "a 2\n",
        "\n",
        "c 2\n",
        "\n",
        "Explanation \n",
        "\n",
        "Here, b occurs 3 times. It is printed first.\n",
        "Both a and c occur 2 times. So, a is printed in the second line and c in the third line because a comes before c in the alphabet.\n",
        "\n",
        "Note: The string S has at least 3 distinct characters."
      ]
    },
    {
      "cell_type": "code",
      "metadata": {
        "id": "WUqnEp-1rz61"
      },
      "source": [
        "word=input()\n",
        "alpha_dict={}\n",
        "for i in word:\n",
        "    alpha_dict[i]=word.count(i)\n",
        "a = sorted(sorted(alpha_dict.items()), key=lambda x: x[1], reverse=True) \n",
        "print(a)\n",
        "for key,value in a[:3]:\n",
        "  print(key,value)"
      ],
      "execution_count": null,
      "outputs": []
    },
    {
      "cell_type": "markdown",
      "metadata": {
        "id": "h1Q0TSqAr3ik"
      },
      "source": [
        "**39_Collections_OrderedDict()**\n",
        "\n",
        "Sample Input\n",
        "\n",
        "9\n",
        "\n",
        "BANANA FRIES 12\n",
        "\n",
        "POTATO CHIPS 30\n",
        "\n",
        "APPLE JUICE 10\n",
        "\n",
        "CANDY 5\n",
        "\n",
        "APPLE JUICE 10\n",
        "\n",
        "CANDY 5\n",
        "\n",
        "CANDY 5\n",
        "\n",
        "CANDY 5\n",
        "\n",
        "POTATO CHIPS 30\n",
        "\n",
        "Sample Output\n",
        "\n",
        "BANANA FRIES 12\n",
        "\n",
        "POTATO CHIPS 60\n",
        "\n",
        "APPLE JUICE 20\n",
        "\n",
        "CANDY 20\n",
        "\n",
        "Explanation\n",
        "\n",
        "BANANA FRIES: Quantity bought: 1,Price:12 Net Price: 12\n",
        "\n",
        "POTATO CHIPS: Quantity bought:2 , Price: 30 Net Price: 60\n",
        "\n",
        "APPLE JUICE: Quantity bought:2 , Price:10 Net Price: 20\n",
        "\n",
        "CANDY: Quantity bought:4 , Price: 5\n",
        "Net Price: 20"
      ]
    },
    {
      "cell_type": "code",
      "metadata": {
        "id": "6-ssIJuEsHL5"
      },
      "source": [
        "sayi=int(input())\n",
        "sozluk={}\n",
        "for i in range(sayi):\n",
        "  toplam=input().split()\n",
        "  fiyat=int(toplam[-1])\n",
        "  malzeme=\" \".join(toplam[:-1])\n",
        "  if malzeme in sozluk:\n",
        "    sozluk[malzeme].append(fiyat)\n",
        "  else:\n",
        "    sozluk[malzeme]=[fiyat]\n",
        "for m,f in sozluk.items():\n",
        "  print(m,sum(f))"
      ],
      "execution_count": null,
      "outputs": []
    },
    {
      "cell_type": "markdown",
      "metadata": {
        "id": "WQiefw0WsLjv"
      },
      "source": [
        "**40_Merge_the_Tools!**\n",
        "\n",
        "Sample Input\n",
        "\n",
        "AABCAAADA   \n",
        "3         \n",
        "\n",
        "Sample Output\n",
        "\n",
        "AB\n",
        "\n",
        "CA\n",
        "\n",
        "AD"
      ]
    },
    {
      "cell_type": "code",
      "metadata": {
        "id": "_nHLMQiZsfJP"
      },
      "source": [
        "if __name__ == '__main__':\n",
        "    string, k = input(), int(input())\n",
        "    merge_the_tools(string, k)\n",
        "liste=[]\n",
        "\n",
        "if k==1:\n",
        "  for i in string:\n",
        "    print(i)\n",
        "else:\n",
        "  for i in range(0,len(string),k):\n",
        "    liste.append(string[i:i+k])\n",
        "\n",
        "sozluk={}\n",
        "for i in liste:\n",
        "  for k in i:\n",
        "    if i in sozluk:\n",
        "      if k not in sozluk[i]:\n",
        "        sozluk[i]+=k\n",
        "    else:\n",
        "      sozluk[i]=k\n",
        "for i in sozluk:\n",
        "  print(sozluk[i])"
      ],
      "execution_count": null,
      "outputs": []
    },
    {
      "cell_type": "markdown",
      "metadata": {
        "id": "2bT7UCCaskAG"
      },
      "source": [
        "**41-Sum_and_Prod**\n",
        "\n",
        "Task\n",
        "\n",
        "You are given a 2-D array with NxM \n",
        "Your task is to perform the sum tool over axis 0 and then find the profuct of that result.\n",
        "\n",
        "Sample Input\n",
        "\n",
        "2 2\n",
        "\n",
        "1 2\n",
        "\n",
        "3 4\n",
        "\n",
        "Sample Output\n",
        "\n",
        "24\n",
        "\n",
        "Explanation\n",
        "\n",
        "The sum along axis  0= [4,6]\n",
        "\n",
        "The product of this sum = 24"
      ]
    },
    {
      "cell_type": "code",
      "metadata": {
        "id": "we2ugtcwtWgd"
      },
      "source": [
        "import numpy\n",
        "a,b=map(int, input().split())\n",
        "liste=[]\n",
        "for i in range(a):\n",
        "  liste.append(list(map(int,input().split())))\n",
        "top=numpy.sum(liste,axis=0)\n",
        "sonuc=1\n",
        "for i in top:\n",
        "  sonuc*=i\n",
        "print(sonuc)"
      ],
      "execution_count": null,
      "outputs": []
    },
    {
      "cell_type": "markdown",
      "metadata": {
        "id": "Fss3kTqxtqXt"
      },
      "source": [
        "**42_Exceptions**\n",
        "\n",
        "Task\n",
        "\n",
        "You are given two values a and b.\n",
        "Perform integer division and print a//b .\n",
        "Sample Input\n",
        "\n",
        "3\n",
        "\n",
        "1 0\n",
        "\n",
        "2 $\n",
        "\n",
        "3 1\n",
        "\n",
        "Sample Output\n",
        "\n",
        "Error Code: integer division or modulo by zero\n",
        "\n",
        "Error Code: invalid literal for int() with base 10: '$'\n",
        "\n",
        "3"
      ]
    },
    {
      "cell_type": "code",
      "metadata": {
        "id": "wgdiiVIct52h"
      },
      "source": [
        "c=int(input())\n",
        "for i in range(c):\n",
        "  a,b = input().split()\n",
        "  if b.isdigit() and a.isdigit():\n",
        "    try:\n",
        "      print(int(a)//int(b))\n",
        "    except :\n",
        "      if int(b) == 0:\n",
        "        print(\"Error Code: integer division or modulo by zero\")\n",
        "  else:\n",
        "    if not b.isdigit():\n",
        "      print(f\"Error Code: invalid literal for int() with base 10: '{b}'\")\n",
        "    elif not a.isdigit():\n",
        "      print(f\"Error Code: invalid literal for int() with base 10: '{a}'\")  "
      ],
      "execution_count": null,
      "outputs": []
    },
    {
      "cell_type": "markdown",
      "metadata": {
        "id": "RyZlK7GCuSN1"
      },
      "source": [
        "**43_Compress_the_String**\n",
        "\n",
        "Sample Input\n",
        "\n",
        "1222311\n",
        "\n",
        "Sample Output\n",
        "\n",
        "(1, 1) (3, 2) (1, 3) (2, 1)\n",
        "\n",
        "Explanation\n",
        "\n",
        "First, the character 1 occurs only once. It is replaced by (1,1) . Then the character 2 occurs three times, and it is replaced by (3,2) and so on.\n",
        "\n",
        "Also, note the single space within each compression and between the compressions."
      ]
    },
    {
      "cell_type": "code",
      "metadata": {
        "id": "OO0GKjiKug9V"
      },
      "source": [
        "a=input()\n",
        "count=1\n",
        "for i in range(len(a)):\n",
        "  if i==len(a)-1:\n",
        "    print((count,int(a[i])), end=\" \")\n",
        "  else:  \n",
        "    if a[i]==a[i+1]:\n",
        "      count+=1\n",
        "    else:\n",
        "      print((count,int(a[i])), end=\" \")\n",
        "      count=1"
      ],
      "execution_count": null,
      "outputs": []
    },
    {
      "cell_type": "markdown",
      "metadata": {
        "id": "Z44J_v3eumRs"
      },
      "source": [
        "**44_String_Formatting**\n",
        "\n",
        "Given an integer, n, print the following values for each integer  i from 1 to n:\n",
        "```\n",
        "Decimal\n",
        "Octal\n",
        "Hexadecimal (capitalized)\n",
        "Binary\n",
        "```\n",
        "Sample Input\n",
        "\n",
        "17\n",
        "\n",
        "Sample Output\n",
        "```\n",
        "    1     1     1     1\n",
        "    2     2     2    10\n",
        "    3     3     3    11\n",
        "    4     4     4   100\n",
        "    5     5     5   101\n",
        "    6     6     6   110\n",
        "    7     7     7   111\n",
        "    8    10     8  1000\n",
        "    9    11     9  1001\n",
        "   10    12     A  1010\n",
        "   11    13     B  1011\n",
        "   12    14     C  1100\n",
        "   13    15     D  1101\n",
        "   14    16     E  1110\n",
        "   15    17     F  1111\n",
        "   16    20    10 10000\n",
        "   17    21    11 10001\n",
        "```"
      ]
    },
    {
      "cell_type": "code",
      "metadata": {
        "id": "xOOUeGibul3X"
      },
      "source": [
        "def print_formatted(number):\n",
        "    a=len(str(bin(n)))-2\n",
        "    for i in range(1,n+1):\n",
        "        print((str(i).rjust(a)),(str(oct(i))[2:].rjust(a)),(str(hex(i))[2:].rjust(a)).upper(),(str(bin(i))[2:].rjust(a)))\n",
        "if __name__ == '__main__':\n",
        "    n = int(input())\n",
        "    print_formatted(n)"
      ],
      "execution_count": 9,
      "outputs": []
    },
    {
      "cell_type": "markdown",
      "metadata": {
        "id": "VAJTFMqyweri"
      },
      "source": [
        "**45-Words_Score**\n",
        "\n",
        "Sample Input\n",
        "\n",
        "2\n",
        "\n",
        "hacker book\n",
        "\n",
        "Sample Output\n",
        "\n",
        "4\n",
        "\n",
        "Explanation\n",
        "\n",
        "There are two words in the input: hacker and book. The score of the word hacker is 2 because it contains an even number of vowels, i.e. 2  vowels, and the score of book is 2 for the same reason. Thus the total score is 2+2=4.\n",
        "\n",
        "Sample Input\n",
        "\n",
        "3\n",
        "\n",
        "programming is awesome\n",
        "\n",
        "Sample Output\n",
        "\n",
        "4\n",
        "\n",
        "Explanation\n",
        "\n",
        "There are 3 words in the input: programming, is and awesome. The score of programming is 1 since it contains 3 vowels, an odd number of vowels. The score of is is also 1 because it has an odd number of vowels. The score of awesome is 2 since it contains 4 vowels, an even number of vowels. Thus, the total score is 1+1+2=4."
      ]
    },
    {
      "cell_type": "code",
      "metadata": {
        "id": "ETIfCdeqwzPm"
      },
      "source": [
        "def is_vowel(letter):\n",
        "    return letter in ['a', 'e', 'i', 'o', 'u', 'y']\n",
        "\n",
        "def score_words(words):\n",
        "    score = 0\n",
        "    for word in words:\n",
        "        num_vowels = 0\n",
        "        for letter in word:\n",
        "            if is_vowel(letter):\n",
        "                num_vowels += 1\n",
        "        if num_vowels % 2 == 0:\n",
        "            score += 2\n",
        "        else:\n",
        "            score+=1\n",
        "    return score\n",
        "\n",
        "\n",
        "n = int(input())\n",
        "words = input().split()\n",
        "print(score_words(words))"
      ],
      "execution_count": null,
      "outputs": []
    },
    {
      "cell_type": "markdown",
      "metadata": {
        "id": "uhtcM6Mgw9yN"
      },
      "source": [
        "**46-Capitalize!**\n",
        "\n",
        "You are asked to ensure that the first and last names of people begin with a capital letter in their passports. For example, alison heck should be capitalised correctly as Alison Heck.\n",
        "alison heck-->Alison Heck\n",
        "\n",
        "Given a full name, your task is to capitalize the name appropriately.\n",
        "\n",
        "Input Format\n",
        "\n",
        "A single line of input containing the full name, S.\n",
        "\n",
        "\n",
        "\n",
        "The string consists of alphanumeric characters and spaces.\n",
        "Note: in a word only the first character is capitalized. Example 12abc when capitalized remains 12abc.\n",
        "\n",
        "Output Format\n",
        "\n",
        "Print the capitalized string, S.\n",
        "\n",
        "Sample Input\n",
        "\n",
        "```\n",
        "aaa    12abd     bbbb\n",
        "```\n",
        "\n",
        "Sample Output\n",
        "\n",
        "```\n",
        "Aaa    12abd     Bbbb \n",
        "```      \n"
      ]
    },
    {
      "cell_type": "code",
      "metadata": {
        "id": "PrioyEbyxOPA"
      },
      "source": [
        "def solve(s):\n",
        "  for i in s.split():\n",
        "    s=s.replace(i,i.capitalize())\n",
        "  return s    \n",
        "if __name__ == '__main__':\n",
        "  s = input()\n",
        "print(solve(s))"
      ],
      "execution_count": null,
      "outputs": []
    },
    {
      "cell_type": "markdown",
      "metadata": {
        "id": "UsGbXMspxRuE"
      },
      "source": [
        "**47-Polar_Coordinates**\n",
        "\n",
        "Task\n",
        "You are given a complex z. Your task is to convert it to polar coordinates.\n",
        "\n",
        "**Sample Input**\n",
        "\n",
        "  1+2j\n",
        "\n",
        "**Sample Output**\n",
        "\n",
        " 2.23606797749979 \n",
        "\n",
        " 1.1071487177940904"
      ]
    },
    {
      "cell_type": "code",
      "metadata": {
        "id": "ciXlOg5Gxfhq"
      },
      "source": [
        "import cmath\n",
        "comp=eval(input())\n",
        "print(abs(complex(comp.real, comp.imag)))\n",
        "print(cmath.phase(complex(comp.real, comp.imag)))"
      ],
      "execution_count": null,
      "outputs": []
    },
    {
      "cell_type": "markdown",
      "metadata": {
        "id": "CtErGguYxmTp"
      },
      "source": [
        "**48-DefaultDict_Tutorial**\n",
        "\n",
        "\n",
        "Sample Input\n",
        "```\n",
        "STDIN   Function\n",
        "-----   --------\n",
        "5 2     group A size n = 5, group B size m = 2\n",
        "a       group A contains 'a', 'a', 'b', 'a', 'b'\n",
        "a\n",
        "b\n",
        "a\n",
        "b\n",
        "a       group B contains 'a', 'b'\n",
        "b\n",
        "```\n",
        "Sample Output\n",
        "\n",
        "1 2 4\n",
        "\n",
        "3 5\n",
        "\n",
        "Explanation\n",
        "\n",
        "'a' appeared 3 times in positions 1,2  and 4.\n",
        "'b' appeared 2 times in positions 3 and 5.\n",
        "In the sample problem, if 'c' also appeared in word group B, you would print -1."
      ]
    },
    {
      "cell_type": "code",
      "metadata": {
        "id": "5uvqHzyux3ma"
      },
      "source": [
        "from collections import defaultdict\n",
        "a, b = map(int,input().split())\n",
        "sozluk = defaultdict(list)\n",
        "for i in range(1, a + 1):\n",
        "    sozluk[input()].append(i)\n",
        "for i in range(1, b + 1):\n",
        "    key = input()\n",
        "    if len(sozluk[key]) > 0:\n",
        "        print(\" \".join(str(c) for c in sozluk[key]))\n",
        "    else:\n",
        "        print(-1)"
      ],
      "execution_count": null,
      "outputs": []
    },
    {
      "cell_type": "markdown",
      "metadata": {
        "id": "Qls9ejnhx7HM"
      },
      "source": [
        "**49-Any_or_All**\n",
        "\n",
        "Task\n",
        "\n",
        "You are given a space separated list of integers. If all the integers are positive, then you need to check if any integer is a palindromic integer.\n",
        "\n",
        "**Sample Input**\n",
        "\n",
        "5\n",
        "\n",
        "12 9 61 5 14 \n",
        "\n",
        "**Sample Output**\n",
        "\n",
        "True\n",
        "\n",
        "**Explanation**\n",
        "\n",
        "**Condition 1**: All the integers in the list are positive.\n",
        "\n",
        "**Condition 2:** 5 is a palindromic integer.\n",
        "\n",
        "Hence, the output is **True**."
      ]
    },
    {
      "cell_type": "code",
      "metadata": {
        "id": "9nr4RDmSyJSL"
      },
      "source": [
        "n=int(input())\n",
        "liste=list(map(int, input().split()))\n",
        "def pozitif_mi(a):\n",
        "  if a>=0:\n",
        "    return True\n",
        "  else:\n",
        "    return False \n",
        "def palindromic_mi(a):\n",
        "  if int(str(a)[::-1])==a:\n",
        "    return True\n",
        "  else:\n",
        "    return False\n",
        "\n",
        "if all(positif_mi(i) for i in liste):\n",
        "  if any(palindromic_mi(i) for i in liste):\n",
        "    print(True)\n",
        "  else:\n",
        "    print(False)\n",
        "else:\n",
        "  print(False)"
      ],
      "execution_count": null,
      "outputs": []
    },
    {
      "cell_type": "markdown",
      "metadata": {
        "id": "9eYqGmbgyMsE"
      },
      "source": [
        "**50-ginortS**\n",
        "\n",
        "You are given a string S .\n",
        "S contains alphanumeric characters only.\n",
        " Your task is to sort the string S in the following manner:\n",
        "\n",
        "All sorted lowercase letters are ahead of uppercase letters.\n",
        "All sorted uppercase letters are ahead of digits.\n",
        "All sorted odd digits are ahead of sorted even digits.\n",
        "\n",
        "**Sample Input**\n",
        "\n",
        "Sorting1234\n",
        "\n",
        "**Sample Output**\n",
        "\n",
        "ginortS1324"
      ]
    },
    {
      "cell_type": "code",
      "metadata": {
        "id": "1ZYYqj0HyZ4F"
      },
      "source": [
        "s=input()\n",
        "low=[]\n",
        "up=[]\n",
        "odd=[]\n",
        "even=[]\n",
        "for i in s:\n",
        "  if i==i.lower() and not i.isdigit():\n",
        "    low.append(i)\n",
        "  elif i==i.upper() and not i.isdigit():\n",
        "    up.append(i)\n",
        "  elif int(i) % 2:\n",
        "    odd.append(i)\n",
        "  elif not int(i) % 2:\n",
        "    even.append(i)\n",
        "result=\"\".join(sorted(low)) + \"\".join(sorted(up)) + \"\".join(sorted(odd)) + \"\".join(sorted(even))\n",
        "print(result)"
      ],
      "execution_count": null,
      "outputs": []
    },
    {
      "cell_type": "markdown",
      "metadata": {
        "id": "kSSXnU1kyd1V"
      },
      "source": [
        "**51-Default_Arguments**\n",
        "\n",
        "In this challenge, the task is to debug the existing code to successfully execute all provided test files.\n",
        "Sample Input\n",
        "\n",
        "3\n",
        "\n",
        "odd 2\n",
        "\n",
        "even 3\n",
        "\n",
        "odd 5\n",
        "\n",
        "Sample Output\n",
        "\n",
        "1\n",
        "\n",
        "3\n",
        "\n",
        "0\n",
        "\n",
        "2\n",
        "\n",
        "4\n",
        "\n",
        "1\n",
        "\n",
        "3\n",
        "\n",
        "5\n",
        "\n",
        "7\n",
        "\n",
        "9\n",
        "\n",
        "Explanation\n",
        "\n",
        "There are 3 queries in the sample.\n",
        "\n",
        "In the first query, the function print_from_stream(2, OddStream()) is exectuted, which leads to printing values 1 and 3 in separated lines as the first two non-negative odd numbers.\n",
        "\n",
        "In the second query, the function print_from_stream(3) is exectuted, which leads to printing values 2,4 and 6 in separated lines as the first three non-negative even numbers.\n",
        "\n",
        "In the third query, the function print_from_stream(5, OddStream()) is exectuted, which leads to printing values 1,3,5,7 and 9 in separated lines as the first five non-negative odd numbers."
      ]
    },
    {
      "cell_type": "code",
      "metadata": {
        "id": "asHu_66uydG3"
      },
      "source": [
        "class EvenStream(object):\n",
        "    def __init__(self):\n",
        "        self.current = 0\n",
        "\n",
        "    def get_next(self):\n",
        "        to_return = self.current\n",
        "        self.current += 2\n",
        "        return to_return\n",
        "\n",
        "class OddStream(object):\n",
        "    def __init__(self):\n",
        "        self.current = 1\n",
        "\n",
        "    def get_next(self):\n",
        "        to_return = self.current\n",
        "        self.current += 2\n",
        "        return to_return\n",
        "\n",
        "def print_from_stream(n, stream=None):\n",
        "  if stream==None:\n",
        "    stream=EvenStream()\n",
        "  for _ in range(n):\n",
        "    print(stream.get_next())\n",
        "queries = int(input())\n",
        "for _ in range(queries):\n",
        "    stream_name, n = input().split()\n",
        "    n = int(n)\n",
        "    if stream_name == \"even\":\n",
        "        print_from_stream(n)\n",
        "    else:\n",
        "        print_from_stream(n, OddStream())\n"
      ],
      "execution_count": null,
      "outputs": []
    },
    {
      "cell_type": "markdown",
      "metadata": {
        "id": "qesz-N-MzB4s"
      },
      "source": [
        "**52-Validating_Email_Adresses_With_a_Filter**\n",
        "\n",
        "\n",
        "Valid email addresses must follow these rules:\n",
        "\n",
        "It must have the username@websitename.extension format type.\n",
        "\n",
        "The username can only contain letters, digits, dashes and underscores .\n",
        "\n",
        "The website name can only have letters and digits .\n",
        "\n",
        "The extension can only contain letters .\n",
        "\n",
        "The maximum length of the extension is 3."
      ]
    },
    {
      "cell_type": "code",
      "metadata": {
        "id": "m44UkHZOzOsF"
      },
      "source": [
        "def fun(s):\n",
        "  try:\n",
        "    username, url = s.split('@')\n",
        "    website,extension = url.split('.')\n",
        "  except:\n",
        "    return False   \n",
        "  if username.replace('-','').replace('_','').isalnum()==False:\n",
        "    return False    \n",
        "  elif website.isalnum() == False:\n",
        "    return False  \n",
        "  elif len(extension) > 3:\n",
        "    return False  \n",
        "  else :\n",
        "    return True\n",
        "def filter_mail(emails):\n",
        "    return list(filter(fun, emails))\n",
        "\n",
        "if __name__ == '__main__':\n",
        "    n = int(input())\n",
        "    emails = []\n",
        "    for _ in range(n):\n",
        "        emails.append(input())\n",
        "\n",
        "filtered_emails = filter_mail(emails)\n",
        "filtered_emails.sort()\n",
        "print(filtered_emails)"
      ],
      "execution_count": null,
      "outputs": []
    }
  ]
}