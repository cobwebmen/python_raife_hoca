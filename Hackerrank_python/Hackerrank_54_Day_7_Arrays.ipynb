{
  "nbformat": 4,
  "nbformat_minor": 0,
  "metadata": {
    "colab": {
      "name": "Hackerrank_54_Day-7:Arrays.ipynb",
      "provenance": []
    },
    "kernelspec": {
      "name": "python3",
      "display_name": "Python 3"
    },
    "language_info": {
      "name": "python"
    }
  },
  "cells": [
    {
      "cell_type": "markdown",
      "metadata": {
        "id": "EwSPbCFvTNVw"
      },
      "source": [
        "```\n",
        "Objective\n",
        "Today, we will learn about the Array data structure. Check out the Tutorial tab for learning materials and an instructional video.\n",
        "\n",
        "Task\n",
        "Given an array,A ,N of  integers, print A's elements in reverse order as a single line of space-separated numbers.\n",
        "\n",
        "Example\n",
        "\n",
        "A=[1,2,3,4]\n",
        "Print 4 3 2 1. Each integer is separated by one space.\n",
        "\n",
        "Input Format\n",
        "\n",
        "The first line contains N an integer,  (the size of our array).\n",
        "The second N line contains  space-separated integers that describe array 's elements.\n",
        "\n",
        "Output Format\n",
        "\n",
        "Print the elements of array  in reverse order as a single line of space-separated numbers.\n",
        "\n",
        "Sample Input\n",
        "4\n",
        "1 4 3 2\n",
        "\n",
        "Sample Output\n",
        "2 3 4 1\n",
        "```\n",
        "\n"
      ]
    },
    {
      "cell_type": "code",
      "metadata": {
        "colab": {
          "base_uri": "https://localhost:8080/"
        },
        "id": "G4nXFSvNTABV",
        "outputId": "138cb4ee-6711-4d01-ca6b-9057ca3ab461"
      },
      "source": [
        "if __name__ == '__main__':\n",
        "    n = int(input().strip())\n",
        "\n",
        "    arr = list(map(int, input().rstrip().split()))\n",
        "for i in reversed(arr):\n",
        "   print(i, end=\" \")"
      ],
      "execution_count": 1,
      "outputs": [
        {
          "output_type": "stream",
          "text": [
            "4\n",
            "1 4 3 2\n",
            "2 3 4 1 "
          ],
          "name": "stdout"
        }
      ]
    }
  ]
}