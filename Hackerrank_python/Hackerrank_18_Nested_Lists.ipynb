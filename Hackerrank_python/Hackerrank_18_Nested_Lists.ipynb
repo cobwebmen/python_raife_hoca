{
  "nbformat": 4,
  "nbformat_minor": 0,
  "metadata": {
    "colab": {
      "name": "Hackerrank_18_Nested_Lists.ipynb",
      "provenance": [],
      "collapsed_sections": []
    },
    "kernelspec": {
      "name": "python3",
      "display_name": "Python 3"
    },
    "language_info": {
      "name": "python"
    }
  },
  "cells": [
    {
      "cell_type": "markdown",
      "metadata": {
        "id": "G4Tkh20Ojx4e"
      },
      "source": [
        "Given the names and grades for each student in a class of N students, store them in a nested list and print the name(s) of any student(s) having the second lowest grade.\n",
        "\n",
        "Note: If there are multiple students with the second lowest grade, order their names alphabetically and print each name on a new line.\n",
        "\n",
        "Sample Input\n",
        "\n",
        "5\n",
        "\n",
        "Harry\n",
        "\n",
        "37.21\n",
        "\n",
        "Berry\n",
        "\n",
        "37.21\n",
        "\n",
        "Tina\n",
        "\n",
        "37.2\n",
        "\n",
        "Akriti\n",
        "\n",
        "41\n",
        "\n",
        "Harsh\n",
        "\n",
        "39\n",
        "\n",
        "Sample Output\n",
        "\n",
        "Berry\n",
        "\n",
        "Harry"
      ]
    },
    {
      "cell_type": "code",
      "metadata": {
        "id": "lDFS-ygsjcAZ"
      },
      "source": [
        "if __name__ == '__main__':\n",
        "    \n",
        "    liste=[]\n",
        "    liste_n=[]\n",
        "    for _ in range(int(input())):\n",
        "        name = input()\n",
        "        score = float(input())\n",
        "        liste.append([name,score])\n",
        "        liste.sort()\n",
        "    for i in liste:\n",
        "      liste_n.append(i[1])\n",
        "      notlar = list(set(liste_n))\n",
        "      notlar.sort()\n",
        "    for j in liste:\n",
        "      if j[1]==notlar[1]:\n",
        "        print(j[0]) \n",
        "    "
      ],
      "execution_count": null,
      "outputs": []
    }
  ]
}