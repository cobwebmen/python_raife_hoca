{
  "nbformat": 4,
  "nbformat_minor": 0,
  "metadata": {
    "colab": {
      "name": "Rot13.ipynb",
      "provenance": []
    },
    "kernelspec": {
      "name": "python3",
      "display_name": "Python 3"
    },
    "language_info": {
      "name": "python"
    }
  },
  "cells": [
    {
      "cell_type": "markdown",
      "metadata": {
        "id": "VXIKzhwS1aof"
      },
      "source": [
        "```\n",
        "ROT13 is a simple letter substitution cipher that replaces a letter with the letter 13 letters after it in the alphabet. ROT13 is an example of the Caesar cipher.\n",
        "\n",
        "Create a function that takes a string and returns the string ciphered with Rot13. If there are numbers or special characters included in the string, they should be returned as they are. Only letters from the latin/english alphabet should be shifted, like in the original Rot13 \"implementation\".\n",
        "\n",
        "Please note that using encode is considered cheating.\n",
        "```"
      ]
    },
    {
      "cell_type": "code",
      "metadata": {
        "id": "Xj3MXi4J1Y30"
      },
      "source": [
        "def rot13(s):\n",
        "    Input=\"ABCDEFGHIJKLMNOPQRSTUVWXYZabcdefghijklmnopqrstuvwxyz\"\n",
        "    Output=\"NOPQRSTUVWXYZABCDEFGHIJKLMnopqrstuvwxyzabcdefghijklm\"\n",
        "    y=\"\"\n",
        "    for i in s:\n",
        "        if i.isalpha():\n",
        "            y+=Output[Input.index(i)]\n",
        "        else:\n",
        "            y+=i\n",
        "    return y\n",
        "        \n",
        "rot13(\"Avoid success at all costs!\") "
      ],
      "execution_count": null,
      "outputs": []
    }
  ]
}