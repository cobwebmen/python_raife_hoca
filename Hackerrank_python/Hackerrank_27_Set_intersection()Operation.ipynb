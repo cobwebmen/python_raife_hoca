{
  "nbformat": 4,
  "nbformat_minor": 0,
  "metadata": {
    "colab": {
      "name": "Hackerank_27_Set.intersection()Operation.ipynb",
      "provenance": []
    },
    "kernelspec": {
      "name": "python3",
      "display_name": "Python 3"
    },
    "language_info": {
      "name": "python"
    }
  },
  "cells": [
    {
      "cell_type": "markdown",
      "metadata": {
        "id": "QbgPvaeViG9m"
      },
      "source": [
        "The students of District College have subscriptions to English and French newspapers. Some students have subscribed only to English, some have subscribed only to French, and some have subscribed to both newspapers.\n",
        "\n",
        "You are given two sets of student roll numbers. One set has subscribed to the English newspaper, one set has subscribed to the French newspaper. Your task is to find the total number of students who have subscribed to both newspapers.\n",
        "\n",
        "Sample Input\n",
        "\n",
        "9\n",
        "\n",
        "1 2 3 4 5 6 7 8 9\n",
        "\n",
        "9\n",
        "\n",
        "10 1 2 3 11 21 55 6 8\n",
        "\n",
        "Sample Output\n",
        "\n",
        "5"
      ]
    },
    {
      "cell_type": "code",
      "metadata": {
        "colab": {
          "base_uri": "https://localhost:8080/"
        },
        "id": "2TVp2CNnh0Di",
        "outputId": "a32c1373-5d96-43b7-b57c-99de22081e3a"
      },
      "source": [
        "a=int(input())\n",
        "b=set(map(int, input().split()))\n",
        "c=int(input())\n",
        "d=set(map(int, input().split()))\n",
        "print(len(d.intersection(b)))"
      ],
      "execution_count": 3,
      "outputs": [
        {
          "output_type": "stream",
          "text": [
            "9\n",
            "1 2 3 4 5 6 7 8 9\n",
            "9\n",
            "10 1 2 3 11 21 55 6 8\n",
            "5\n"
          ],
          "name": "stdout"
        }
      ]
    }
  ]
}