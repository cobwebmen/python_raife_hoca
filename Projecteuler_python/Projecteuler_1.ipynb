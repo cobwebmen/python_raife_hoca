{
  "nbformat": 4,
  "nbformat_minor": 0,
  "metadata": {
    "colab": {
      "name": "Projecteuler_1.ipynb",
      "provenance": [],
      "collapsed_sections": []
    },
    "kernelspec": {
      "name": "python3",
      "display_name": "Python 3"
    },
    "language_info": {
      "name": "python"
    }
  },
  "cells": [
    {
      "cell_type": "markdown",
      "metadata": {
        "id": "e351WiMA5m9g"
      },
      "source": [
        "If we list all the natural numbers below 10 that are multiples of 3 or 5, we get 3, 5, 6 and 9. The sum of these multiples is 23.\n",
        "\n",
        "Find the sum of all the multiples of 3 or 5 below 1000."
      ]
    },
    {
      "cell_type": "code",
      "metadata": {
        "colab": {
          "base_uri": "https://localhost:8080/"
        },
        "id": "pXj75Knv5hcc",
        "outputId": "3a0ff84a-637a-48b4-82ad-cde2477b4f39"
      },
      "source": [
        "top = 0\n",
        "for i in range(1000):\n",
        "  if i%3==0:\n",
        "    top+=i\n",
        "  elif i%5==0:\n",
        "    top+=i\n",
        "  \n",
        "print(top) \n"
      ],
      "execution_count": 5,
      "outputs": [
        {
          "output_type": "stream",
          "text": [
            "233168\n"
          ],
          "name": "stdout"
        }
      ]
    }
  ]
}