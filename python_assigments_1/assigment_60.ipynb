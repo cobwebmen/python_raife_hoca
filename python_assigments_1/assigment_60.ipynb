{
  "nbformat": 4,
  "nbformat_minor": 0,
  "metadata": {
    "colab": {
      "name": "assigment_60.ipynb",
      "provenance": []
    },
    "kernelspec": {
      "name": "python3",
      "display_name": "Python 3"
    },
    "language_info": {
      "name": "python"
    }
  },
  "cells": [
    {
      "cell_type": "markdown",
      "metadata": {
        "id": "uDLlVBiI_bqj"
      },
      "source": [
        "Gorev:\n",
        "\n",
        "Bize verilen rakami string olarak acik sekilde yaziyoruz.\n",
        "\n",
        "Verilen = 1.24  istenen=  '1 + 2/10 + 4/100'\n",
        "\n",
        "Test 1 : 70304 =  ‘70000 + 300 +4’\n",
        "\n",
        "Test 2 : 7.304  istenen = '7 + 3/10 + 4/1000'\n",
        "\n",
        "Test 3 :  0.04  istenen = '4/100'"
      ]
    },
    {
      "cell_type": "code",
      "metadata": {
        "colab": {
          "base_uri": "https://localhost:8080/",
          "height": 34
        },
        "id": "an6Oa50agyiM",
        "outputId": "952947a5-7e3e-4fd3-d4c6-73391a0c9e22"
      },
      "source": [
        "def acıkla(n):\n",
        "  sn=str(n)\n",
        "  if \".\" in sn: \n",
        "    t=sn[:sn.index(\".\")]\n",
        "    o=sn[sn.index(\".\")+1:]\n",
        "    yeni= \"+\".join(list(map(str,[int(t[-k])*10**(k-1) for k in range(len(t),0,-1) if int(t[-k])!=0])))+\"+\"+\"+\".join([f\"{int(o[k])}/{10**(k+1)}\" for k in range(0,len(o)) if int(o[k])!=0])\n",
        "  else:\n",
        "    yeni= \"+\".join(list(map(str,[int(sn[-k])*10**(k-1) for k in range(len(sn),0,-1) if int(sn[-k])!=0])))\n",
        "  return yeni.strip(\"+\")  \n",
        "acıkla(70304)"
      ],
      "execution_count": 60,
      "outputs": [
        {
          "output_type": "execute_result",
          "data": {
            "application/vnd.google.colaboratory.intrinsic+json": {
              "type": "string"
            },
            "text/plain": [
              "'70000+300+4'"
            ]
          },
          "metadata": {
            "tags": []
          },
          "execution_count": 60
        }
      ]
    }
  ]
}