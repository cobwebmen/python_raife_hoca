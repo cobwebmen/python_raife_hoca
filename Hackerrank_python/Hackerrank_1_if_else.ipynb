{
  "nbformat": 4,
  "nbformat_minor": 0,
  "metadata": {
    "colab": {
      "name": "Hackerrank_if_else_1.ipynb",
      "provenance": [],
      "collapsed_sections": []
    },
    "kernelspec": {
      "name": "python3",
      "display_name": "Python 3"
    },
    "language_info": {
      "name": "python"
    }
  },
  "cells": [
    {
      "cell_type": "markdown",
      "metadata": {
        "id": "cyPkhs1ug4X1"
      },
      "source": [
        "**Python If-Else**\n",
        "\n",
        "Given an integer,n , perform the following conditional actions:\n",
        "\n",
        "If n is odd, print Weird\n",
        "\n",
        "If n is even and in the inclusive range of 2 to 5, print Not Weird\n",
        "\n",
        "If n is even and in the inclusive range of 6 to 20, print Weird\n",
        "\n",
        "If n is even and greater than 20, print Not Weird\n",
        "\n",
        "1<=n<=100"
      ]
    },
    {
      "cell_type": "code",
      "metadata": {
        "id": "cj50rJx8g3lL"
      },
      "source": [
        "n = int(input(\"Lütfen bir sayı giriniz \"))\n",
        "if n%2==1:\n",
        "    print(\"Weird\")\n",
        "elif n%2==0 and 2<=n<=5:\n",
        "    print(\"Not Weird\")\n",
        "elif n%2==0 and 6<=n<=20:\n",
        "    print(\"Weird\")\n",
        "elif n%2==0 and n>20:\n",
        "    print(\"Not Weird\")"
      ],
      "execution_count": null,
      "outputs": []
    }
  ]
}