{
  "nbformat": 4,
  "nbformat_minor": 0,
  "metadata": {
    "colab": {
      "name": "Hackerrank_37_Zipped!.ipynb",
      "provenance": []
    },
    "kernelspec": {
      "name": "python3",
      "display_name": "Python 3"
    },
    "language_info": {
      "name": "python"
    }
  },
  "cells": [
    {
      "cell_type": "markdown",
      "metadata": {
        "id": "gOl4mnY2kULA"
      },
      "source": [
        "The National University conducts an examination of N students in X subjects.\n",
        "Your task is to compute the average scores of each student.\n",
        "\n",
        "Sample Input\n",
        "\n",
        "5 3\n",
        "\n",
        "89 90 78 93 80\n",
        "\n",
        "90 91 85 88 86  \n",
        "\n",
        "91 92 83 89 90.5\n",
        "\n",
        "Sample Output\n",
        "\n",
        "90.0 \n",
        "\n",
        "91.0 \n",
        "\n",
        "82.0\n",
        "\n",
        "90.0 \n",
        "\n",
        "85.5      "
      ]
    },
    {
      "cell_type": "code",
      "metadata": {
        "colab": {
          "base_uri": "https://localhost:8080/"
        },
        "id": "kt0hTFkOX8Cc",
        "outputId": "52bb130e-653b-4ebb-d00a-3afb9c863efc"
      },
      "source": [
        "student, lesson=map(int,input().split())\n",
        "liste=[]\n",
        "for i in range(lesson):\n",
        "  liste.append(map(float, input().split()))\n",
        "\n",
        "for i in zip(*liste):\n",
        "  print(sum(i)/lesson)"
      ],
      "execution_count": 13,
      "outputs": [
        {
          "output_type": "stream",
          "text": [
            "5 3\n",
            "89 90 78 93 80\n",
            "90 91 83 89 90.5\n",
            "91 92 85 88 86\n",
            "90.0\n",
            "91.0\n",
            "82.0\n",
            "90.0\n",
            "85.5\n"
          ],
          "name": "stdout"
        }
      ]
    }
  ]
}