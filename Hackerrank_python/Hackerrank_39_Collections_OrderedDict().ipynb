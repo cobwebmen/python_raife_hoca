{
  "nbformat": 4,
  "nbformat_minor": 0,
  "metadata": {
    "colab": {
      "name": "Hackerrank_39_Collections.OrderedDict().ipynb",
      "provenance": []
    },
    "kernelspec": {
      "name": "python3",
      "display_name": "Python 3"
    },
    "language_info": {
      "name": "python"
    }
  },
  "cells": [
    {
      "cell_type": "markdown",
      "metadata": {
        "id": "yMFM2IYoq9lA"
      },
      "source": [
        "Sample Input\n",
        "\n",
        "9\n",
        "\n",
        "BANANA FRIES 12\n",
        "\n",
        "POTATO CHIPS 30\n",
        "\n",
        "APPLE JUICE 10\n",
        "\n",
        "CANDY 5\n",
        "\n",
        "APPLE JUICE 10\n",
        "\n",
        "CANDY 5\n",
        "\n",
        "CANDY 5\n",
        "\n",
        "CANDY 5\n",
        "\n",
        "POTATO CHIPS 30\n",
        "\n",
        "Sample Output\n",
        "\n",
        "BANANA FRIES 12\n",
        "\n",
        "POTATO CHIPS 60\n",
        "\n",
        "APPLE JUICE 20\n",
        "\n",
        "CANDY 20\n",
        "\n",
        "Explanation\n",
        "\n",
        "BANANA FRIES: Quantity bought: 1,Price:12 Net Price: 12\n",
        "\n",
        "POTATO CHIPS: Quantity bought:2 , Price: 30 Net Price: 60\n",
        "\n",
        "APPLE JUICE: Quantity bought:2 , Price:10 Net Price: 20\n",
        "\n",
        "CANDY: Quantity bought:4 , Price: 5\n",
        "Net Price: 20"
      ]
    },
    {
      "cell_type": "code",
      "metadata": {
        "colab": {
          "base_uri": "https://localhost:8080/"
        },
        "id": "XVUy9eabJZzy",
        "outputId": "fdc90d40-5f63-40b5-8f8a-c85f2d3041f5"
      },
      "source": [
        "sayi=int(input())\n",
        "sozluk={}\n",
        "for i in range(sayi):\n",
        "  toplam=input().split()\n",
        "  fiyat=int(toplam[-1])\n",
        "  malzeme=\" \".join(toplam[:-1])\n",
        "  if malzeme in sozluk:\n",
        "    sozluk[malzeme].append(fiyat)\n",
        "  else:\n",
        "    sozluk[malzeme]=[fiyat]\n",
        "for m,f in sozluk.items():\n",
        "  print(m,sum(f))"
      ],
      "execution_count": 2,
      "outputs": [
        {
          "output_type": "stream",
          "text": [
            "4\n",
            "BANANA FRIES 12\n",
            "CANDY 5\n",
            "BANANA FRIES 12\n",
            "CANDY 5\n",
            "BANANA FRIES 24\n",
            "CANDY 10\n"
          ],
          "name": "stdout"
        }
      ]
    }
  ]
}