{
  "nbformat": 4,
  "nbformat_minor": 0,
  "metadata": {
    "colab": {
      "name": "assigment_37.ipynb",
      "provenance": [],
      "collapsed_sections": []
    },
    "kernelspec": {
      "name": "python3",
      "display_name": "Python 3"
    },
    "language_info": {
      "name": "python"
    }
  },
  "cells": [
    {
      "cell_type": "markdown",
      "metadata": {
        "id": "I0NZeFJ6OlDH"
      },
      "source": [
        "tamamlanır_mı(\"gzel\", \"güzel\")-->True \n",
        "\n",
        "g ve zel arasına ü eklenebilir.\n",
        "\n",
        "tamamlanır_mı(\"gzela\", \"güzel\")-->False\n",
        "\n",
        "a harfi çıkarılmış.\n",
        "\n",
        "tamamlanır_mı(\"ggzl\", \"güzel\")-->False\n",
        "\n",
        "g harfi çıkarılmış.\n",
        "\n",
        "tamamlanır_mı(\"zül\", \"güzel\")-->False\n",
        "\n",
        "kelime sıralaması doğru değil."
      ]
    },
    {
      "cell_type": "code",
      "metadata": {
        "id": "9ZeLHqAYKh5S"
      },
      "source": [
        "def tamamlanır_mı(ilk,son):\n",
        "  y_ilk=list(ilk)[::-1]\n",
        "  for i in son:\n",
        "    if i == y_ilk[-1]:\n",
        "      y_ilk.pop()\n",
        "  return not y_ilk"
      ],
      "execution_count": null,
      "outputs": []
    },
    {
      "cell_type": "markdown",
      "metadata": {
        "id": "RIAcBaogPlIX"
      },
      "source": [
        "Cümlenin harlerden oluşan kısımlarının alfabedeki yerindeki sayılarının toplamına, rakamlar var ise sayı değerlerin toplamı asal ise asal değil ise asal değil yazdıran fonksiyon yazalım.\n",
        "\n"
      ]
    },
    {
      "cell_type": "code",
      "metadata": {
        "colab": {
          "base_uri": "https://localhost:8080/"
        },
        "id": "M2rwbi3nQU0m",
        "outputId": "40d6bdfb-0275-4faa-b89c-008c49bcf9d2"
      },
      "source": [
        "def sayısal_asallıgı(cümle):\n",
        "  harf=\"0abcdefghijklmnopqrstuvwxyz\"\n",
        "  rakam=\"0123456789\"\n",
        "  sum=0\n",
        "  islem=0\n",
        "  for i in cümle.lower():\n",
        "    if i in harf:\n",
        "      sum+=harf.index(i)\n",
        "    elif i in rakam:\n",
        "      sum+=rakam.index(i)\n",
        "  \n",
        "  for i in range(2,sum):\n",
        "    if sum % i==0:\n",
        "      islem+=1\n",
        "  if islem == 0:\n",
        "    return \"Asal\"\n",
        "  else:\n",
        "    return \"Asal değil\"\n",
        "\n",
        "print(sayısal_asallıgı(\"Help me!\"))\n",
        "print(sayısal_asallıgı(\"42 is THE ANSWER...\"))\n",
        "print(sayısal_asallıgı(\"ABC!123@abc...\"))\n"
      ],
      "execution_count": 12,
      "outputs": [
        {
          "output_type": "stream",
          "text": [
            "Asal\n",
            "Asal değil\n",
            "Asal değil\n"
          ],
          "name": "stdout"
        }
      ]
    }
  ]
}