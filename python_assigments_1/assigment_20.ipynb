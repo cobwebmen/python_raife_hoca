{
  "nbformat": 4,
  "nbformat_minor": 0,
  "metadata": {
    "colab": {
      "name": "assigment_20.ipynb",
      "provenance": []
    },
    "kernelspec": {
      "name": "python3",
      "display_name": "Python 3"
    },
    "language_info": {
      "name": "python"
    }
  },
  "cells": [
    {
      "cell_type": "markdown",
      "metadata": {
        "id": "iZh7bH09u9nZ"
      },
      "source": [
        "Tarihi yüzyıla çeviren bir fonksiyon yazalım."
      ]
    },
    {
      "cell_type": "code",
      "metadata": {
        "colab": {
          "base_uri": "https://localhost:8080/"
        },
        "id": "gjZY0V02u5xR",
        "outputId": "10a3c961-6bdc-4437-a18f-a4504ea881cd"
      },
      "source": [
        "def yüzyıl_yap(yıl):\n",
        "  return f\"{(yıl//100)+1}. yüzyıl\"\n",
        "print(yüzyıl_yap(1738))"
      ],
      "execution_count": 1,
      "outputs": [
        {
          "output_type": "stream",
          "text": [
            "18. yüzyıl\n"
          ],
          "name": "stdout"
        }
      ]
    },
    {
      "cell_type": "markdown",
      "metadata": {
        "id": "5r5n5UsHwLvk"
      },
      "source": [
        "Listedeki her elemanı kendi indexi ile çarpıp toplamı veren bir fonksiyon yazalım."
      ]
    },
    {
      "cell_type": "code",
      "metadata": {
        "colab": {
          "base_uri": "https://localhost:8080/"
        },
        "id": "UMVfd9opweOZ",
        "outputId": "7a4a6161-794e-4628-dc6f-f009bf64dd66"
      },
      "source": [
        "def carpip_topla(liste):\n",
        "  toplam=0\n",
        "  for i in liste:\n",
        "    toplam+=i*liste.index(i)\n",
        "  return toplam\n",
        "\n",
        "print(carpip_topla([1,2,3,4,5,6,7,8,9,10]))"
      ],
      "execution_count": 3,
      "outputs": [
        {
          "output_type": "stream",
          "text": [
            "330\n"
          ],
          "name": "stdout"
        }
      ]
    }
  ]
}