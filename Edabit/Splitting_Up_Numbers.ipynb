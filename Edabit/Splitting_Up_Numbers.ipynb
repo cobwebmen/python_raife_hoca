{
  "nbformat": 4,
  "nbformat_minor": 0,
  "metadata": {
    "colab": {
      "name": "Splitting_Up_Numbers.ipynb",
      "provenance": []
    },
    "kernelspec": {
      "name": "python3",
      "display_name": "Python 3"
    },
    "language_info": {
      "name": "python"
    }
  },
  "cells": [
    {
      "cell_type": "markdown",
      "metadata": {
        "id": "uDLlVBiI_bqj"
      },
      "source": [
        "Create a function that takes a number num and returns each place value in the number.\n",
        "\n",
        "Examples\n",
        "\n",
        "num_split(39) ➞ [30, 9]\n",
        "\n",
        "num_split(-434) ➞ [-400, -30, -4]\n",
        "\n",
        "num_split(100) ➞ [100, 0, 0]"
      ]
    },
    {
      "cell_type": "code",
      "metadata": {
        "colab": {
          "base_uri": "https://localhost:8080/"
        },
        "id": "8iMcLxfD_SBE",
        "outputId": "4faef085-87b2-4069-9b44-983d869c9692"
      },
      "source": [
        "def num_split(num):\n",
        "    numm=str(num).strip(\"-\")\n",
        "    liste=[int(numm[-k])*10**(k-1) for k in range(len(numm),0,-1)]\n",
        "    if \"-\" in str(num):\n",
        "        liste=list(map(lambda x:-x , liste))\n",
        "    return liste\n",
        "num_split(-256)"
      ],
      "execution_count": 2,
      "outputs": [
        {
          "output_type": "execute_result",
          "data": {
            "text/plain": [
              "[-200, -50, -6]"
            ]
          },
          "metadata": {
            "tags": []
          },
          "execution_count": 2
        }
      ]
    }
  ]
}