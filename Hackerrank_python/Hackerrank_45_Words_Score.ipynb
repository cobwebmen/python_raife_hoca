{
  "nbformat": 4,
  "nbformat_minor": 0,
  "metadata": {
    "colab": {
      "name": "Hackerrank_45_Words_Score.ipynb",
      "provenance": [],
      "collapsed_sections": []
    },
    "kernelspec": {
      "name": "python3",
      "display_name": "Python 3"
    },
    "language_info": {
      "name": "python"
    }
  },
  "cells": [
    {
      "cell_type": "markdown",
      "metadata": {
        "id": "7amhmFk_VM9O"
      },
      "source": [
        "Sample Input\n",
        "\n",
        "2\n",
        "\n",
        "hacker book\n",
        "\n",
        "Sample Output\n",
        "\n",
        "4\n",
        "\n",
        "Explanation\n",
        "\n",
        "There are two words in the input: hacker and book. The score of the word hacker is 2 because it contains an even number of vowels, i.e. 2  vowels, and the score of book is 2 for the same reason. Thus the total score is 2+2=4.\n",
        "\n",
        "Sample Input\n",
        "\n",
        "3\n",
        "\n",
        "programming is awesome\n",
        "\n",
        "Sample Output\n",
        "\n",
        "4\n",
        "\n",
        "Explanation\n",
        "\n",
        "There are 3 words in the input: programming, is and awesome. The score of programming is 1 since it contains 3 vowels, an odd number of vowels. The score of is is also 1 because it has an odd number of vowels. The score of awesome is 2 since it contains 4 vowels, an even number of vowels. Thus, the total score is 1+1+2=4."
      ]
    },
    {
      "cell_type": "code",
      "metadata": {
        "id": "MUg9O94b2_rU"
      },
      "source": [
        "def is_vowel(letter):\n",
        "    return letter in ['a', 'e', 'i', 'o', 'u', 'y']\n",
        "\n",
        "def score_words(words):\n",
        "    score = 0\n",
        "    for word in words:\n",
        "        num_vowels = 0\n",
        "        for letter in word:\n",
        "            if is_vowel(letter):\n",
        "                num_vowels += 1\n",
        "        if num_vowels % 2 == 0:\n",
        "            score += 2\n",
        "        else:\n",
        "            score+=1\n",
        "    return score\n",
        "\n",
        "\n",
        "n = int(input())\n",
        "words = input().split()\n",
        "print(score_words(words))"
      ],
      "execution_count": null,
      "outputs": []
    }
  ]
}