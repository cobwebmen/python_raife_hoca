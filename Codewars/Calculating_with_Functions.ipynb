{
  "nbformat": 4,
  "nbformat_minor": 0,
  "metadata": {
    "colab": {
      "name": "Calculating_with_Functions.ipynb",
      "provenance": []
    },
    "kernelspec": {
      "name": "python3",
      "display_name": "Python 3"
    },
    "language_info": {
      "name": "python"
    }
  },
  "cells": [
    {
      "cell_type": "markdown",
      "metadata": {
        "id": "-Z4qTQ_1h1Uf"
      },
      "source": [
        "\n",
        "```\n",
        "This time we want to write calculations using functions and get the results. Let's have a look at some examples:\n",
        "\n",
        "seven(times(five())) # must return 35\n",
        "four(plus(nine())) # must return 13\n",
        "eight(minus(three())) # must return 5\n",
        "six(divided_by(two())) # must return 3\n",
        "Requirements:\n",
        "\n",
        "There must be a function for each number from 0 (\"zero\") to 9 (\"nine\")\n",
        "There must be a function for each of the following mathematical operations: plus, minus, times, dividedBy (divided_by in Ruby and Python)\n",
        "Each calculation consist of exactly one operation and two numbers\n",
        "The most outer function represents the left operand, the most inner function represents the right operand\n",
        "Division should be integer division. For example, this should return 2, not 2.666666...:\n",
        "eight(divided_by(three()))\n",
        "```"
      ]
    },
    {
      "cell_type": "code",
      "metadata": {
        "id": "ZU2odDI5hhhh"
      },
      "source": [
        "def plus(y): \n",
        "    return lambda x: x + y\n",
        "def minus(y): \n",
        "    return lambda x: x - y\n",
        "def times(y): \n",
        "    return lambda x: x * y\n",
        "def divided_by(y): \n",
        "    return lambda x: x // y\n",
        "def zero(a=None):\n",
        "    if a == None:\n",
        "        return 0\n",
        "    else:\n",
        "        return a(0)\n",
        "def one(a = None): \n",
        "    if a == None:\n",
        "        return 1  \n",
        "    else:\n",
        "        return a(1)\n",
        "def two(a = None):\n",
        "    if a == None:\n",
        "        return 2  \n",
        "    else:\n",
        "        return a(2)\n",
        "def three(a = None):\n",
        "    if a == None:\n",
        "        return 3  \n",
        "    else:\n",
        "        return a(3)\n",
        "def four(a = None):\n",
        "    if a == None:\n",
        "        return 4  \n",
        "    else:\n",
        "        return a(4)\n",
        "def five(a = None):\n",
        "    if a == None:\n",
        "        return 5  \n",
        "    else:\n",
        "        return a(5)\n",
        "def six(a=None):\n",
        "    if a == None:\n",
        "        return 6\n",
        "    else:\n",
        "        return a(6)\n",
        "def seven(a=None):\n",
        "    if a== None:\n",
        "        return 7\n",
        "    else:\n",
        "        return a(7)\n",
        "def eight(a = None):\n",
        "    if a == None:\n",
        "        return 8  \n",
        "    else:\n",
        "        return a(8)\n",
        "def nine(a = None):\n",
        "    if a == None:\n",
        "        return 9  \n",
        "    else:\n",
        "        return a(9)"
      ],
      "execution_count": null,
      "outputs": []
    }
  ]
}