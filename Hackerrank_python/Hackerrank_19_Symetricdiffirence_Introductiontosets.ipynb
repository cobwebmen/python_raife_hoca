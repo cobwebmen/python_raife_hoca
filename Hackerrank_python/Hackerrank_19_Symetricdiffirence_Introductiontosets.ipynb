{
  "nbformat": 4,
  "nbformat_minor": 0,
  "metadata": {
    "colab": {
      "name": "Hackerrank_19_Symetricdiffirence_Introductiontosets.ipynb",
      "provenance": [],
      "collapsed_sections": []
    },
    "kernelspec": {
      "name": "python3",
      "display_name": "Python 3"
    },
    "language_info": {
      "name": "python"
    }
  },
  "cells": [
    {
      "cell_type": "markdown",
      "metadata": {
        "id": "0eZ2rlYocGx3"
      },
      "source": [
        "Ms. Gabriel Williams is a botany professor at District College. One day, she asked her student Mickey to compute the average of all the plants with distinct heights in her greenhouse.\n",
        "\n",
        "Input Format\n",
        "\n",
        "The first line contains the integer,N , the size of arr.\n",
        "The second line contains the N  space-separated integers,arr[i] ."
      ]
    },
    {
      "cell_type": "code",
      "metadata": {
        "id": "w8qVAiuTb8AT"
      },
      "source": [
        "def average(array):\n",
        "    return sum(set(arr))/len(set(arr))\n",
        "  \n",
        "if __name__ == '__main__':\n",
        "    n = int(input())\n",
        "    arr = list(map(int, input().split()))\n",
        "    result = average(arr)\n",
        "    print(result)"
      ],
      "execution_count": null,
      "outputs": []
    },
    {
      "cell_type": "markdown",
      "metadata": {
        "id": "O2G-kO9zkb30"
      },
      "source": [
        "Sample Input\n",
        "   \n",
        "4       \n",
        "set a size M = 4 \n",
        "2 4 5 9  \n",
        "a = {2, 4, 5, 9}  \n",
        "4   \n",
        "set b size N = 4         \n",
        "2 4 11 12\n",
        "b = {2, 4, 11, 12}  \n",
        "\n",
        "Sample Output\n",
        "\n",
        "5\n",
        "\n",
        "9\n",
        "\n",
        "11\n",
        "\n",
        "12"
      ]
    },
    {
      "cell_type": "code",
      "metadata": {
        "colab": {
          "base_uri": "https://localhost:8080/"
        },
        "id": "nWwxF1HrgEbj",
        "outputId": "b5429d91-290b-40b5-a53d-3ddbd2aeefbd"
      },
      "source": [
        "a_sayisi=int(input())\n",
        "a_set=set(input().split())\n",
        "b_sayisi=int(input())\n",
        "b_set=set(input().split())\n",
        "str_list=(a_set.difference(b_set)).union(b_set.difference(a_set))\n",
        "int_list=[]\n",
        "for i in str_list:\n",
        "  int_list.append(int(i))\n",
        "print(*sorted(int_list), sep=\"\\n\")"
      ],
      "execution_count": 14,
      "outputs": [
        {
          "output_type": "stream",
          "text": [
            "4\n",
            "2 4 5 9\n",
            "4\n",
            "2 4 11 12\n",
            "5\n",
            "9\n",
            "11\n",
            "12\n"
          ],
          "name": "stdout"
        }
      ]
    }
  ]
}