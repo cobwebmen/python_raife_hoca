{
  "nbformat": 4,
  "nbformat_minor": 0,
  "metadata": {
    "colab": {
      "name": "Hackerrank_42_Exceptions.ipynb",
      "provenance": [],
      "collapsed_sections": []
    },
    "kernelspec": {
      "name": "python3",
      "display_name": "Python 3"
    },
    "language_info": {
      "name": "python"
    }
  },
  "cells": [
    {
      "cell_type": "markdown",
      "metadata": {
        "id": "3H6ldrfegZi5"
      },
      "source": [
        "Task\n",
        "\n",
        "You are given two values a and b.\n",
        "Perform integer division and print a//b .\n",
        "Sample Input\n",
        "\n",
        "3\n",
        "\n",
        "1 0\n",
        "\n",
        "2 $\n",
        "\n",
        "3 1\n",
        "\n",
        "Sample Output\n",
        "\n",
        "Error Code: integer division or modulo by zero\n",
        "\n",
        "Error Code: invalid literal for int() with base 10: '$'\n",
        "\n",
        "3"
      ]
    },
    {
      "cell_type": "code",
      "metadata": {
        "colab": {
          "base_uri": "https://localhost:8080/"
        },
        "id": "PWko9LIBapLj",
        "outputId": "45c95526-e3f7-4039-cc77-a95056426731"
      },
      "source": [
        "c=int(input())\n",
        "for i in range(c):\n",
        "  a,b = input().split()\n",
        "  if b.isdigit() and a.isdigit():\n",
        "    try:\n",
        "      print(int(a)//int(b))\n",
        "    except :\n",
        "      if int(b) == 0:\n",
        "        print(\"Error Code: integer division or modulo by zero\")\n",
        "  else:\n",
        "    if not b.isdigit():\n",
        "      print(f\"Error Code: invalid literal for int() with base 10: '{b}'\n",
        "      \")\n",
        "    elif not a.isdigit():\n",
        "      print(f\"Error Code: invalid literal for int() with base 10: '{a}'\")  "
      ],
      "execution_count": 7,
      "outputs": [
        {
          "output_type": "stream",
          "text": [
            "3\n",
            "1 0\n",
            "Error Code: integer division or modulo by zero\n",
            "2 $\n",
            "Error Code: invalid literal for int() with base 10: '$'\n",
            "3 1\n",
            "3\n"
          ],
          "name": "stdout"
        }
      ]
    }
  ]
}