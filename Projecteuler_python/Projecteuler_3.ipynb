{
  "nbformat": 4,
  "nbformat_minor": 0,
  "metadata": {
    "colab": {
      "name": "Projecteuler_3.ipynb",
      "provenance": [],
      "collapsed_sections": []
    },
    "kernelspec": {
      "name": "python3",
      "display_name": "Python 3"
    },
    "language_info": {
      "name": "python"
    }
  },
  "cells": [
    {
      "cell_type": "markdown",
      "metadata": {
        "id": "j8Cy6AKPT5Tz"
      },
      "source": [
        "The prime factors of 13195 are 5, 7, 13 and 29.\n",
        "\n",
        "What is the largest prime factor of the number 600851475143 ?"
      ]
    },
    {
      "cell_type": "code",
      "metadata": {
        "colab": {
          "base_uri": "https://localhost:8080/"
        },
        "id": "tBjI8vGjTkv4",
        "outputId": "379245b4-e4a3-4dd1-bc85-c45fdafa757d"
      },
      "source": [
        "n = 600851475143\n",
        "i=2\n",
        "while n>1:\n",
        "    while n%i==0:\n",
        "        n//=i\n",
        "        if n==1:\n",
        "            print (i)\n",
        "    i+=1"
      ],
      "execution_count": 1,
      "outputs": [
        {
          "output_type": "stream",
          "text": [
            "6857\n"
          ],
          "name": "stdout"
        }
      ]
    }
  ]
}