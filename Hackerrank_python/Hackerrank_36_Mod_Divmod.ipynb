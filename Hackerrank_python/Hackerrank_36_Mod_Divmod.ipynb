{
  "nbformat": 4,
  "nbformat_minor": 0,
  "metadata": {
    "colab": {
      "name": "Hackerrank_36_Mod_Divmod.ipynb",
      "provenance": []
    },
    "kernelspec": {
      "name": "python3",
      "display_name": "Python 3"
    },
    "language_info": {
      "name": "python"
    }
  },
  "cells": [
    {
      "cell_type": "markdown",
      "metadata": {
        "id": "pAZiAyYcWnl4"
      },
      "source": [
        "Task\n",
        "Read in two integers, a and b, and print three lines.\n",
        "The first line is the integer division a//b (While using Python2 remember to import division from __future__).\n",
        "The second line is the result of the modulo operator: a%b.\n",
        "The third line prints the divmod of a and b.\n",
        "\n",
        "Sample Input\n",
        "\n",
        "177\n",
        "\n",
        "10\n",
        "\n",
        "Sample Output\n",
        "\n",
        "17\n",
        "\n",
        "7\n",
        "\n",
        "(17, 7)\n"
      ]
    },
    {
      "cell_type": "code",
      "metadata": {
        "colab": {
          "base_uri": "https://localhost:8080/"
        },
        "id": "FJ76vzULV1ra",
        "outputId": "8c1e4b48-9e9d-457c-d17d-d2898d99fe7e"
      },
      "source": [
        "a=int(input())\n",
        "b=int(input())\n",
        "print(a//b,a%b,(a//b, a%b), sep=\"\\n\")"
      ],
      "execution_count": 2,
      "outputs": [
        {
          "output_type": "stream",
          "text": [
            "177\n",
            "10\n",
            "17\n",
            "7\n",
            "(17, 7)\n"
          ],
          "name": "stdout"
        }
      ]
    }
  ]
}