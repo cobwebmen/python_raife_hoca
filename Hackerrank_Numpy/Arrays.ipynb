{
  "nbformat": 4,
  "nbformat_minor": 0,
  "metadata": {
    "colab": {
      "name": "Arrays.ipynb",
      "provenance": []
    },
    "kernelspec": {
      "name": "python3",
      "display_name": "Python 3"
    },
    "language_info": {
      "name": "python"
    }
  },
  "cells": [
    {
      "cell_type": "markdown",
      "metadata": {
        "id": "3nB6z2SpXtVE"
      },
      "source": [
        "```\n",
        "The NumPy (Numeric Python) package helps us manipulate large arrays and matrices of numeric data.\n",
        "\n",
        "To use the NumPy module, we need to import it using:\n",
        "\n",
        "import numpy\n",
        "Arrays\n",
        "\n",
        "A NumPy array is a grid of values. They are similar to lists, except that every element of an array must be the same type.\n",
        "\n",
        "import numpy\n",
        "\n",
        "a = numpy.array([1,2,3,4,5])\n",
        "print a[1]          #2\n",
        "\n",
        "b = numpy.array([1,2,3,4,5],float)\n",
        "print b[1]          #2.0\n",
        "In the above example, numpy.array() is used to convert a list into a NumPy array. The second argument (float) can be used to set the type of array elements.\n",
        "\n",
        "Task\n",
        "\n",
        "You are given a space separated list of numbers.\n",
        "Your task is to print a reversed NumPy array with the element type float.\n",
        "\n",
        "Input Format\n",
        "\n",
        "A single line of input containing space separated numbers.\n",
        "\n",
        "Output Format\n",
        "\n",
        "Print the reverse NumPy array with type float.\n",
        "\n",
        "Sample Input\n",
        "\n",
        "1 2 3 4 -8 -10\n",
        "Sample Output\n",
        "\n",
        "[-10.  -8.   4.   3.   2.   1.]\n",
        "```"
      ]
    },
    {
      "cell_type": "code",
      "metadata": {
        "colab": {
          "base_uri": "https://localhost:8080/"
        },
        "id": "uhk2K05jXsj7",
        "outputId": "9f1dea31-bdad-475d-d3fc-d391a4da8d86"
      },
      "source": [
        "import numpy\n",
        "\n",
        "def arrays(arr):\n",
        "    return numpy.array(arr[::-1],float)\n",
        "     \n",
        "\n",
        "arr = input().strip().split(' ')\n",
        "result = arrays(arr)\n",
        "print(result)"
      ],
      "execution_count": 1,
      "outputs": [
        {
          "output_type": "stream",
          "text": [
            "1 2 3 4 -8 -10\n",
            "[-10.  -8.   4.   3.   2.   1.]\n"
          ],
          "name": "stdout"
        }
      ]
    }
  ]
}