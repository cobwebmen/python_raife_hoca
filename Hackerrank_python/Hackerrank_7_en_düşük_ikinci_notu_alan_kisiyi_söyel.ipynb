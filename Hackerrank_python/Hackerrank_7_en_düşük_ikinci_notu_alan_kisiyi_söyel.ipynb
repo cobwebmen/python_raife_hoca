{
  "nbformat": 4,
  "nbformat_minor": 0,
  "metadata": {
    "colab": {
      "name": "Hackerrank_7_en_düşük_ikinci_notu_alan_kisiyi_söyel.ipynb",
      "provenance": [],
      "collapsed_sections": []
    },
    "kernelspec": {
      "name": "python3",
      "display_name": "Python 3"
    },
    "language_info": {
      "name": "python"
    }
  },
  "cells": [
    {
      "cell_type": "markdown",
      "metadata": {
        "id": "YyX4mngHcuqT"
      },
      "source": [
        "Given the names and grades for each student in a class of N students, store them in a nested list and print the name(s) of any student(s) having the second lowest grade.\n",
        "\n",
        "Note: If there are multiple students with the second lowest grade, order their names alphabetically and print each name on a new line."
      ]
    },
    {
      "cell_type": "code",
      "metadata": {
        "colab": {
          "base_uri": "https://localhost:8080/"
        },
        "id": "LGp0iTKOwJSP",
        "outputId": "871dc7e7-b304-4a28-dc17-5893d8b00e46"
      },
      "source": [
        "if __name__ == '__main__':\n",
        "    \n",
        "    liste=[]\n",
        "    liste_n=[]\n",
        "    for _ in range(int(input())):\n",
        "        name = input()\n",
        "        score = float(input())\n",
        "        liste.append([name,score])\n",
        "        liste.sort()\n",
        "    for i in liste:\n",
        "      liste_n.append(i[1])\n",
        "      notlar = list(set(liste_n))\n",
        "      notlar.sort()\n",
        "    for j in liste:\n",
        "      if j[1]==notlar[1]:\n",
        "        print(j[0]) "
      ],
      "execution_count": 28,
      "outputs": [
        {
          "output_type": "stream",
          "text": [
            "5\n",
            "Harry\n",
            "37.21\n",
            "Berry\n",
            "37.21\n",
            "Tina\n",
            "37.2\n",
            "Akriti\n",
            "41\n",
            "Harsh\n",
            "39\n",
            "Berry\n",
            "Harry\n"
          ],
          "name": "stdout"
        }
      ]
    },
    {
      "cell_type": "code",
      "metadata": {
        "colab": {
          "base_uri": "https://localhost:8080/"
        },
        "id": "q-m-H-Bkb-Ck",
        "outputId": "9d7ceeaf-6417-4692-9401-bf40f4c9f70b"
      },
      "source": [
        "print(notlar)\n",
        "print(liste)\n",
        "print(liste_n) \n",
        "#oluşan listeleri görmek amacıyla bu print komutalrı eklenerek incelenebirlir."
      ],
      "execution_count": 29,
      "outputs": [
        {
          "output_type": "stream",
          "text": [
            "[37.2, 37.21, 39.0, 41.0]\n",
            "[['Akriti', 41.0], ['Berry', 37.21], ['Harry', 37.21], ['Harsh', 39.0], ['Tina', 37.2]]\n",
            "[41.0, 37.21, 37.21, 39.0, 37.2]\n"
          ],
          "name": "stdout"
        }
      ]
    }
  ]
}