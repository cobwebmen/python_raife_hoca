{
  "nbformat": 4,
  "nbformat_minor": 0,
  "metadata": {
    "colab": {
      "name": "Hackerrank_44_String_Formatting.ipynb",
      "provenance": [],
      "collapsed_sections": []
    },
    "kernelspec": {
      "name": "python3",
      "display_name": "Python 3"
    },
    "language_info": {
      "name": "python"
    }
  },
  "cells": [
    {
      "cell_type": "markdown",
      "metadata": {
        "id": "jURW2mj9TD4x"
      },
      "source": [
        "Given an integer, n, print the following values for each integer  i from 1 to n:\n",
        "```\n",
        "Decimal\n",
        "Octal\n",
        "Hexadecimal (capitalized)\n",
        "Binary\n",
        "```\n",
        "Sample Input\n",
        "\n",
        "17\n",
        "\n",
        "Sample Output\n",
        "```\n",
        "    1     1     1     1\n",
        "    2     2     2    10\n",
        "    3     3     3    11\n",
        "    4     4     4   100\n",
        "    5     5     5   101\n",
        "    6     6     6   110\n",
        "    7     7     7   111\n",
        "    8    10     8  1000\n",
        "    9    11     9  1001\n",
        "   10    12     A  1010\n",
        "   11    13     B  1011\n",
        "   12    14     C  1100\n",
        "   13    15     D  1101\n",
        "   14    16     E  1110\n",
        "   15    17     F  1111\n",
        "   16    20    10 10000\n",
        "   17    21    11 10001\n",
        "```\n",
        "\n"
      ]
    },
    {
      "cell_type": "code",
      "metadata": {
        "colab": {
          "base_uri": "https://localhost:8080/"
        },
        "id": "KQsOCh-JKSbR",
        "outputId": "3c9b39f8-7510-4fe9-fb44-5299ef5db807"
      },
      "source": [
        "def print_formatted(number):\n",
        "  a=len(str(bin(n)))-2\n",
        "  for i in range(1,n+1):\n",
        "    print((str(i).rjust(a)),(str(oct(i))[2:].rjust(a)),(str(hex(i))[2:].rjust(a)).upper(),(str(bin(i))[2:].rjust(a)))\n",
        "if __name__ == '__main__':\n",
        "  n = int(input())\n",
        "  print_formatted(n)"
      ],
      "execution_count": 11,
      "outputs": [
        {
          "output_type": "stream",
          "text": [
            "17\n",
            "    1     1     1     1\n",
            "    2     2     2    10\n",
            "    3     3     3    11\n",
            "    4     4     4   100\n",
            "    5     5     5   101\n",
            "    6     6     6   110\n",
            "    7     7     7   111\n",
            "    8    10     8  1000\n",
            "    9    11     9  1001\n",
            "   10    12     A  1010\n",
            "   11    13     B  1011\n",
            "   12    14     C  1100\n",
            "   13    15     D  1101\n",
            "   14    16     E  1110\n",
            "   15    17     F  1111\n",
            "   16    20    10 10000\n",
            "   17    21    11 10001\n"
          ],
          "name": "stdout"
        }
      ]
    }
  ]
}