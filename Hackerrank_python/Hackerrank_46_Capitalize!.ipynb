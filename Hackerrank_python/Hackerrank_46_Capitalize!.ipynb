{
  "nbformat": 4,
  "nbformat_minor": 0,
  "metadata": {
    "colab": {
      "name": "Hackerrank_46.ipynb",
      "provenance": []
    },
    "kernelspec": {
      "name": "python3",
      "display_name": "Python 3"
    },
    "language_info": {
      "name": "python"
    }
  },
  "cells": [
    {
      "cell_type": "markdown",
      "metadata": {
        "id": "EHbD-6B9EGBp"
      },
      "source": [
        "You are asked to ensure that the first and last names of people begin with a capital letter in their passports. For example, alison heck should be capitalised correctly as Alison Heck.\n",
        "alison heck-->Alison Heck\n",
        "\n",
        "Given a full name, your task is to capitalize the name appropriately.\n",
        "\n",
        "Input Format\n",
        "\n",
        "A single line of input containing the full name, S.\n",
        "\n",
        "\n",
        "\n",
        "The string consists of alphanumeric characters and spaces.\n",
        "Note: in a word only the first character is capitalized. Example 12abc when capitalized remains 12abc.\n",
        "\n",
        "Output Format\n",
        "\n",
        "Print the capitalized string, S.\n",
        "\n",
        "Sample Input\n",
        "\n",
        "```\n",
        "aaa    12abd     bbbb\n",
        "```\n",
        "\n",
        "Sample Output\n",
        "\n",
        "```\n",
        "Aaa    12abd     Bbbb \n",
        "```      \n"
      ]
    },
    {
      "cell_type": "code",
      "metadata": {
        "colab": {
          "base_uri": "https://localhost:8080/"
        },
        "id": "m7ufdPx0EDIg",
        "outputId": "47d4de36-c89f-414d-c1c6-f7f1d9c17554"
      },
      "source": [
        "def solve(s):\n",
        "  for i in s.split():\n",
        "    s=s.replace(i,i.capitalize())\n",
        "  return s    \n",
        "if __name__ == '__main__':\n",
        "  s = input()\n",
        "print(solve(s))"
      ],
      "execution_count": 6,
      "outputs": [
        {
          "output_type": "stream",
          "text": [
            "alison     heck\n",
            "Alison     Heck\n"
          ],
          "name": "stdout"
        }
      ]
    }
  ]
}