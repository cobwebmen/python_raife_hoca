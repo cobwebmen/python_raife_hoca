{
  "nbformat": 4,
  "nbformat_minor": 0,
  "metadata": {
    "colab": {
      "name": "Human_Readable_Time.ipynb",
      "provenance": []
    },
    "kernelspec": {
      "name": "python3",
      "display_name": "Python 3"
    },
    "language_info": {
      "name": "python"
    }
  },
  "cells": [
    {
      "cell_type": "markdown",
      "metadata": {
        "id": "Pc_anF85LX3Z"
      },
      "source": [
        "```\n",
        "Write a function, which takes a non-negative integer (seconds) as input and returns the time in a human-readable format (HH:MM:SS)\n",
        "\n",
        "HH = hours, padded to 2 digits, range: 00 - 99\n",
        "MM = minutes, padded to 2 digits, range: 00 - 59\n",
        "SS = seconds, padded to 2 digits, range: 00 - 59\n",
        "The maximum time never exceeds 359999 (99:59:59)\n",
        "\n",
        "You can find some examples in the test fixtures.\n",
        "\n",
        "```\n",
        "\n",
        "\n"
      ]
    },
    {
      "cell_type": "code",
      "metadata": {
        "colab": {
          "base_uri": "https://localhost:8080/"
        },
        "id": "AMMqaBpTLWee",
        "outputId": "8da41db2-36ed-4aec-cd7d-953aad958d09"
      },
      "source": [
        "def make_readable(s):\n",
        "    ss=s%60\n",
        "    mm=(s//60)%60\n",
        "    hh=(s//60)//60\n",
        "    return f\"{hh:02d}:{mm:02d}:{ss:02d}\"\n",
        "print(make_readable(5))"
      ],
      "execution_count": 1,
      "outputs": [
        {
          "output_type": "stream",
          "text": [
            "00:00:05\n"
          ],
          "name": "stdout"
        }
      ]
    }
  ]
}