{
  "nbformat": 4,
  "nbformat_minor": 0,
  "metadata": {
    "colab": {
      "name": "assigment_57.ipynb",
      "provenance": []
    },
    "kernelspec": {
      "name": "python3",
      "display_name": "Python 3"
    },
    "language_info": {
      "name": "python"
    }
  },
  "cells": [
    {
      "cell_type": "markdown",
      "metadata": {
        "id": "MzTXWerCfuAw"
      },
      "source": [
        "**Comparing arrays**\n",
        "\n",
        "This problem helps one to understand the key concepts of an array(list) in Python. Two arrays are said to be the same if they contain the same elements and in the same order. However, in this problem, we will compare two arrays to see if they are same, but with a slight twist. Here, two arrays are the same if the elements of one array are squares of elements of other arrays and regardless of the order. Consider two arrays a and b.\n",
        "\n",
        "a = [121, 144, 19, 161, 19, 144, 19, 11]\n",
        "\n",
        "b = [121, 14641, 20736, 361, 25921, 361, 20736, 361]\n",
        "\n",
        "Here b can be written as:\n",
        "\n",
        "b = [11*11, 121*121, 144*144, 19*19, 161*161, 19*19, 144*144, 19*19]\n",
        "\n",
        "which is a square of every element of a. Hence, they are same. If a or b are None, our program should written False"
      ]
    },
    {
      "cell_type": "code",
      "metadata": {
        "colab": {
          "base_uri": "https://localhost:8080/"
        },
        "id": "X2ghL1t_KDKS",
        "outputId": "10198498-4e71-40bb-fc34-c0f401aff96e"
      },
      "source": [
        "def aynı_mı(a,b):\n",
        "  sonuc=True\n",
        "  if len(a)==0 or len(b)==0:\n",
        "    sonuc=False\n",
        "  for i in a:\n",
        "    if sum(a)>sum(b) :\n",
        "      if (i**0.5 not in b) or a.count(i)!=b.count(i**0.5):\n",
        "        sonuc=False \n",
        "    else: \n",
        "      if (i**2 not in b) or a.count(i)!=b.count(i**2):\n",
        "        sonuc=False \n",
        "  return sonuc\n",
        "aynı_mı([1,1,0,0],[1,1,1,1])     "
      ],
      "execution_count": 2,
      "outputs": [
        {
          "output_type": "execute_result",
          "data": {
            "text/plain": [
              "False"
            ]
          },
          "metadata": {
            "tags": []
          },
          "execution_count": 2
        }
      ]
    },
    {
      "cell_type": "code",
      "metadata": {
        "colab": {
          "base_uri": "https://localhost:8080/"
        },
        "id": "BBLRIj1JWuvX",
        "outputId": "cc5ed53e-45fa-46b4-a35b-bbe0fbdbf4c0"
      },
      "source": [
        "def same_list(l1,l2):\n",
        "  l1_s = [x**0.5 for x in l1]\n",
        "  l2_s = [x**0.5 for x in l2]\n",
        "  if  not l1 or not l2:\n",
        "    return False\n",
        "  else:\n",
        "    return sorted(l1_s) == sorted(l2) or sorted(l2_s) == sorted(l1)\n",
        "same_list([1,4,],[2,1])"
      ],
      "execution_count": null,
      "outputs": [
        {
          "output_type": "execute_result",
          "data": {
            "text/plain": [
              "True"
            ]
          },
          "metadata": {
            "tags": []
          },
          "execution_count": 65
        }
      ]
    }
  ]
}