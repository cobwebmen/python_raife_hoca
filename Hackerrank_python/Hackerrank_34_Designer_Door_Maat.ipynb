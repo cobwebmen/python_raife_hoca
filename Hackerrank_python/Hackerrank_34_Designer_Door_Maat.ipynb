{
  "nbformat": 4,
  "nbformat_minor": 0,
  "metadata": {
    "colab": {
      "name": "Hackerrank_34_Designer_Door_Maat.ipynb",
      "provenance": []
    },
    "kernelspec": {
      "name": "python3",
      "display_name": "Python 3"
    },
    "language_info": {
      "name": "python"
    }
  },
  "cells": [
    {
      "cell_type": "code",
      "metadata": {
        "colab": {
          "base_uri": "https://localhost:8080/"
        },
        "id": "UYojLLegzOEd",
        "outputId": "dfae2723-2d74-4512-a4ea-64466cd5e25a"
      },
      "source": [
        "a,b=map(int, input().split())\n",
        "str=\".|.\"\n",
        "for i in range(1,a,2):\n",
        "  if i==0:\n",
        "    print(str.center(b,\"-\"))\n",
        "  else:\n",
        "    print((str*i).center(b,\"-\"))\n",
        "print(\"WELCOME\".center(b,\"-\"))\n",
        "for i in range(a-2,0,-2):\n",
        "  if i==0:\n",
        "    print(str.center(b,\"-\"))\n",
        "  else:\n",
        "    print((str*i).center(b,\"-\"))\n"
      ],
      "execution_count": 33,
      "outputs": [
        {
          "output_type": "stream",
          "text": [
            "7 21\n",
            "---------.|.---------\n",
            "------.|..|..|.------\n",
            "---.|..|..|..|..|.---\n",
            "-------WELCOME-------\n",
            "---.|..|..|..|..|.---\n",
            "------.|..|..|.------\n",
            "---------.|.---------\n"
          ],
          "name": "stdout"
        }
      ]
    },
    {
      "cell_type": "code",
      "metadata": {
        "id": "CJiIdZ-iz-bA"
      },
      "source": [
        ""
      ],
      "execution_count": null,
      "outputs": []
    }
  ]
}