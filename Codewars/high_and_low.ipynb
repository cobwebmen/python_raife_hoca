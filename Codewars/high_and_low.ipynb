{
  "nbformat": 4,
  "nbformat_minor": 0,
  "metadata": {
    "colab": {
      "name": "high_and_low.ipynb",
      "provenance": []
    },
    "kernelspec": {
      "name": "python3",
      "display_name": "Python 3"
    },
    "language_info": {
      "name": "python"
    }
  },
  "cells": [
    {
      "cell_type": "code",
      "metadata": {
        "colab": {
          "base_uri": "https://localhost:8080/",
          "height": 35
        },
        "id": "sSfaVd2zyE7p",
        "outputId": "48645469-30ce-4881-e2d3-258c2f5a482c"
      },
      "source": [
        "def high_and_low(numbers):\n",
        "  a=list(map(int, numbers.split()))\n",
        "  return f\"{max(a)} {min(a)}\"\n",
        "high_and_low(\"4 5 29 54 4 0 -214 542 -64 1 -3 6 -6\")"
      ],
      "execution_count": 12,
      "outputs": [
        {
          "output_type": "execute_result",
          "data": {
            "application/vnd.google.colaboratory.intrinsic+json": {
              "type": "string"
            },
            "text/plain": [
              "'542, -214'"
            ]
          },
          "metadata": {
            "tags": []
          },
          "execution_count": 12
        }
      ]
    }
  ]
}