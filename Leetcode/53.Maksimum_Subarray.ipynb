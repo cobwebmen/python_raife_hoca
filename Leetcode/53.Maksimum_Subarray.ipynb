{
  "nbformat": 4,
  "nbformat_minor": 0,
  "metadata": {
    "colab": {
      "name": "Maksimum_Subarray.ipynb",
      "provenance": []
    },
    "kernelspec": {
      "name": "python3",
      "display_name": "Python 3"
    },
    "language_info": {
      "name": "python"
    }
  },
  "cells": [
    {
      "cell_type": "markdown",
      "metadata": {
        "id": "SSD3lKcbjnTp"
      },
      "source": [
        "\n",
        "```\n",
        "53. Maximum Subarray\n",
        "\n",
        "Given an integer array nums, find the contiguous subarray (containing at least one number) which has the largest sum and return its sum.\n",
        "\n",
        "Example 1:\n",
        "\n",
        "Input: nums = [-2,1,-3,4,-1,2,1,-5,4]\n",
        "Output: 6\n",
        "Explanation: [4,-1,2,1] has the largest sum = 6.\n",
        "Example 2:\n",
        "\n",
        "Input: nums = [1]\n",
        "Output: 1\n",
        "Example 3:\n",
        "\n",
        "Input: nums = [5,4,-1,7,8]\n",
        "Output: 23\n",
        " \n",
        "Constraints:\n",
        "\n",
        "1 <= nums.length <= 3 * 104\n",
        "-105 <= nums[i] <= 105\n",
        " \n",
        "Follow up: If you have figured out the O(n) solution, try coding another solution using the divide and conquer approach, which is more subtle.\n",
        "```"
      ]
    },
    {
      "cell_type": "code",
      "metadata": {
        "id": "r4jjhLFNjmkI"
      },
      "source": [
        "def maxSubArray(l): \n",
        "        count = 0\n",
        "        max_count = max(l)\n",
        "        for x in l:\n",
        "            count+=x\n",
        "            if count <0:\n",
        "                count=0\n",
        "            elif count > max_count:\n",
        "                max_count = count\n",
        "        return max_count"
      ],
      "execution_count": null,
      "outputs": []
    },
    {
      "cell_type": "code",
      "metadata": {
        "id": "YW1_tpHRkLh2"
      },
      "source": [
        "def max_sum(l):\n",
        "    if len(l)==0:\n",
        "        return 0\n",
        "    else:\n",
        "        top=max(l)\n",
        "        for i in range(len(l)):\n",
        "            k=i\n",
        "            while k<len(l):\n",
        "                if sum(l[i:k+1])>top:\n",
        "                    top=sum(l[i:k+1])\n",
        "                k+=1\n",
        "    return top"
      ],
      "execution_count": null,
      "outputs": []
    },
    {
      "cell_type": "code",
      "metadata": {
        "id": "nqUPGWKIkVdE"
      },
      "source": [
        "def maxSubArray(l): \n",
        "    for i in range(1, len(l)):\n",
        "        if l[i - 1] > 0:\n",
        "            l[i] += l[i - 1]\n",
        "    return max(l)"
      ],
      "execution_count": 1,
      "outputs": []
    }
  ]
}