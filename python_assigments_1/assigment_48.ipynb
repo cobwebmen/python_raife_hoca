{
  "nbformat": 4,
  "nbformat_minor": 0,
  "metadata": {
    "colab": {
      "name": "assigment_48.ipynb",
      "provenance": []
    },
    "kernelspec": {
      "name": "python3",
      "display_name": "Python 3"
    },
    "language_info": {
      "name": "python"
    }
  },
  "cells": [
    {
      "cell_type": "markdown",
      "metadata": {
        "id": "FEQvJ54lmdWk"
      },
      "source": [
        "Sayının kendinden önceki asal sayıların toplamını veren fonksiyon"
      ]
    },
    {
      "cell_type": "code",
      "metadata": {
        "colab": {
          "base_uri": "https://localhost:8080/"
        },
        "id": "DF0zvXX1BxEm",
        "outputId": "0da6f28b-6acf-4d32-ba38-5549c1ebc29e"
      },
      "source": [
        "def asal_mı(sayi):\n",
        "  asal_mı=True\n",
        "  for i in range(2,sayi):\n",
        "    if sayi==2:\n",
        "      asal_mı==True\n",
        "    elif sayi%i==0:\n",
        "      asal_mı= False\n",
        "  return asal_mı\n",
        "def asal_toplam(sayi):\n",
        "  toplam=0\n",
        "  for i in range(2,sayi):\n",
        "    if asal_mı(i):\n",
        "      toplam+=i\n",
        "  return toplam\n",
        "print(asal_toplam(15))  \n"
      ],
      "execution_count": 48,
      "outputs": [
        {
          "output_type": "stream",
          "text": [
            "41\n"
          ],
          "name": "stdout"
        }
      ]
    }
  ]
}