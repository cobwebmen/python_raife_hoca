{
  "nbformat": 4,
  "nbformat_minor": 0,
  "metadata": {
    "colab": {
      "name": "Weight_for_weight.ipynb",
      "provenance": []
    },
    "kernelspec": {
      "name": "python3",
      "display_name": "Python 3"
    },
    "language_info": {
      "name": "python"
    }
  },
  "cells": [
    {
      "cell_type": "markdown",
      "metadata": {
        "id": "kdaoTH-veHzj"
      },
      "source": [
        "\n",
        "```\n",
        "\n",
        "My friend John and I are members of the \"Fat to Fit Club (FFC)\". John is worried because each month a list with the weights of members is published and each month he is the last on the list which means he is the heaviest.\n",
        "\n",
        "I am the one who establishes the list so I told him: \"Don't worry any more, I will modify the order of the list\". It was decided to attribute a \"weight\" to numbers. The weight of a number will be from now on the sum of its digits.\n",
        "\n",
        "For example 99 will have \"weight\" 18, 100 will have \"weight\" 1 so in the list 100 will come before 99.\n",
        "\n",
        "Given a string with the weights of FFC members in normal order can you give this string ordered by \"weights\" of these numbers?\n",
        "\n",
        "Example:\n",
        "\"56 65 74 100 99 68 86 180 90\" ordered by numbers weights becomes: \n",
        "\n",
        "\"100 180 90 56 65 74 68 86 99\"\n",
        "When two numbers have the same \"weight\", let us class them as if they were strings (alphabetical ordering) and not numbers:\n",
        "\n",
        "180 is before 90 since, having the same \"weight\" (9), it comes before as a string.\n",
        "\n",
        "All numbers in the list are positive numbers and the list can be empty.\n",
        "\n",
        "Notes\n",
        "it may happen that the input string have leading, trailing whitespaces and more than a unique whitespace between two consecutive numbers\n",
        "For C: The result is freed.\n",
        "```"
      ]
    },
    {
      "cell_type": "code",
      "metadata": {
        "colab": {
          "base_uri": "https://localhost:8080/"
        },
        "id": "U0x3pxylaeMI",
        "outputId": "0471cc4f-e977-482f-b336-1e8c1c66e993"
      },
      "source": [
        "def agırlıklı_sırala(l):\n",
        "    l= l.split()\n",
        "    l1=[]\n",
        "    t=0\n",
        "    for i in l:\n",
        "        for k in i:\n",
        "            t+=int(k)\n",
        "        l1.append(t)\n",
        "        t=0\n",
        "    return \" \".join([v for k,v in sorted(zip(l1,l))])\n",
        "print(agırlıklı_sırala(\"56 65 74 100 99 68 86 180 90\"))"
      ],
      "execution_count": 2,
      "outputs": [
        {
          "output_type": "stream",
          "text": [
            "100 180 90 56 65 74 68 86 99\n"
          ],
          "name": "stdout"
        }
      ]
    }
  ]
}