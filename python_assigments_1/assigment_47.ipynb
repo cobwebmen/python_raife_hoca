{
  "nbformat": 4,
  "nbformat_minor": 0,
  "metadata": {
    "colab": {
      "name": "assigment_47.ipynb",
      "provenance": []
    },
    "kernelspec": {
      "name": "python3",
      "display_name": "Python 3"
    },
    "language_info": {
      "name": "python"
    }
  },
  "cells": [
    {
      "cell_type": "markdown",
      "metadata": {
        "id": "MkPdPZ3SyU0W"
      },
      "source": [
        "listede verilen sayılar çift sayıda ise True ve çift sayıda olan elemanları döndüren, çift sayıda yok ise False döndüren fonksiyon."
      ]
    },
    {
      "cell_type": "code",
      "metadata": {
        "id": "hfDNIf9_5qot",
        "colab": {
          "base_uri": "https://localhost:8080/"
        },
        "outputId": "5c1b10f3-5671-4142-fa93-ca7713f1b246"
      },
      "source": [
        "def cift_bul(liste):\n",
        "  yeni=[liste[i] for i in range(len(liste))if liste.count(liste[i])%2==0]\n",
        "  if any(yeni):\n",
        "    return (True, *set(yeni))\n",
        "  else:\n",
        "    return False\n",
        "print(cift_bul([3,5,6,5,7,8]))\n",
        "print(cift_bul([3,5,6,9,7,8]))"
      ],
      "execution_count": 26,
      "outputs": [
        {
          "output_type": "stream",
          "text": [
            "(True, 5)\n",
            "False\n"
          ],
          "name": "stdout"
        }
      ]
    }
  ]
}