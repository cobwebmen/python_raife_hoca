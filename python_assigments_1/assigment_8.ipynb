{
  "nbformat": 4,
  "nbformat_minor": 0,
  "metadata": {
    "colab": {
      "name": "assigment_8.ipynb",
      "provenance": [],
      "collapsed_sections": []
    },
    "kernelspec": {
      "name": "python3",
      "display_name": "Python 3"
    },
    "language_info": {
      "name": "python"
    }
  },
  "cells": [
    {
      "cell_type": "markdown",
      "metadata": {
        "id": "O_Qb9ZF6Z_Gj"
      },
      "source": [
        " Write a program to prompt for a score between 0.0 and 1.0. If the score is out of range, print an error. If the score is between 0.0 and 1.0, print a grade using the following table:\n",
        "Score Grade\n",
        "\n",
        "0.9 A\n",
        "\n",
        "0.8 B\n",
        "\n",
        "0.7 C\n",
        "\n",
        "0.6 D\n",
        "\n",
        "0.6 F\n",
        "\n",
        "If the user enters a value out of range, print a suitable error message and exit. For the test, enter a score of 0.85."
      ]
    },
    {
      "cell_type": "code",
      "metadata": {
        "id": "OzFsz79tZ-Ic"
      },
      "source": [
        "score = input(\"Enter Score: \")\n",
        "s = float(score)\n",
        "if s>=0.0 and s<=1.0:\n",
        "\tif s>=0.9:\n",
        "\t\tprint(\"A\")\n",
        "\telif s>=0.8:\n",
        "\t\tprint(\"B\")\n",
        "\telif s>=0.7:\n",
        "\t\tprint(\"C\")\n",
        "\telif s>=0.6:\n",
        "\t\tprint(\"D\")\n",
        "\telif s<0.6:\n",
        "\t\tprint(\"F\")\n",
        "else:\n",
        "    print(\"Error\")"
      ],
      "execution_count": null,
      "outputs": []
    }
  ]
}