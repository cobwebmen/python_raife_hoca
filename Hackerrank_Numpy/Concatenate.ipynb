{
  "nbformat": 4,
  "nbformat_minor": 0,
  "metadata": {
    "colab": {
      "name": "Concatenate.ipynb",
      "provenance": []
    },
    "kernelspec": {
      "name": "python3",
      "display_name": "Python 3"
    },
    "language_info": {
      "name": "python"
    }
  },
  "cells": [
    {
      "cell_type": "markdown",
      "metadata": {
        "id": "S0S-vSNKnBky"
      },
      "source": [
        "```\n",
        "Concatenate\n",
        "\n",
        "Two or more arrays can be concatenated together using the concatenate function with a tuple of the arrays to be joined:\n",
        "\n",
        "import numpy\n",
        "\n",
        "array_1 = numpy.array([1,2,3])\n",
        "array_2 = numpy.array([4,5,6])\n",
        "array_3 = numpy.array([7,8,9])\n",
        "\n",
        "print numpy.concatenate((array_1, array_2, array_3))    \n",
        "\n",
        "#Output\n",
        "[1 2 3 4 5 6 7 8 9]\n",
        "If an array has more than one dimension, it is possible to specify the axis along which multiple arrays are concatenated. By default, it is along the first dimension.\n",
        "\n",
        "import numpy\n",
        "\n",
        "array_1 = numpy.array([[1,2,3],[0,0,0]])\n",
        "array_2 = numpy.array([[0,0,0],[7,8,9]])\n",
        "\n",
        "print numpy.concatenate((array_1, array_2), axis = 1)   \n",
        "\n",
        "#Output\n",
        "[[1 2 3 0 0 0]\n",
        " [0 0 0 7 8 9]]    \n",
        "Task\n",
        "\n",
        "You are given two integer arrays of size X and X ( &  are rows, and  is the column). Your task is to concatenate the arrays along axis .\n",
        "\n",
        "Input Format\n",
        "\n",
        "The first line contains space separated integers ,  and .\n",
        "The next  lines contains the space separated elements of the  columns.\n",
        "After that, the next  lines contains the space separated elements of the  columns.\n",
        "\n",
        "Output Format\n",
        "\n",
        "Print the concatenated array of size X.\n",
        "\n",
        "Sample Input\n",
        "\n",
        "4 3 2\n",
        "1 2\n",
        "1 2 \n",
        "1 2\n",
        "1 2\n",
        "3 4\n",
        "3 4\n",
        "3 4 \n",
        "Sample Output\n",
        "\n",
        "[[1 2]\n",
        " [1 2]\n",
        " [1 2]\n",
        " [1 2]\n",
        " [3 4]\n",
        " [3 4]\n",
        " [3 4]] \n",
        "```"
      ]
    },
    {
      "cell_type": "code",
      "metadata": {
        "colab": {
          "base_uri": "https://localhost:8080/"
        },
        "id": "Tv0NTISOPo1j",
        "outputId": "98d0494e-6128-4c07-932a-08ae397a002f"
      },
      "source": [
        "import numpy\n",
        "a,b,c=tuple(map(int, input().split(\" \")))\n",
        "new=numpy.array([input().split() for i in range(a)], int)\n",
        "new1=numpy.array([input().split() for i in range(b)], int)\n",
        "print(numpy.concatenate([new,new1], axis=0))"
      ],
      "execution_count": 1,
      "outputs": [
        {
          "output_type": "stream",
          "text": [
            "4 3 2\n",
            "1 2\n",
            "1 2\n",
            "1 2\n",
            "1 2\n",
            "3 4\n",
            "3 4\n",
            "3 4\n",
            "[[1 2]\n",
            " [1 2]\n",
            " [1 2]\n",
            " [1 2]\n",
            " [3 4]\n",
            " [3 4]\n",
            " [3 4]]\n"
          ],
          "name": "stdout"
        }
      ]
    },
    {
      "cell_type": "code",
      "metadata": {
        "colab": {
          "base_uri": "https://localhost:8080/"
        },
        "id": "kB1wsMFXnuzK",
        "outputId": "aceba39d-1f39-4554-996f-17d966c0f9e7"
      },
      "source": [
        "import numpy\n",
        "a,b,c=tuple(map(int, input().split(\" \")))\n",
        "new=[]\n",
        "new1=[]\n",
        "for i in range(a):\n",
        "    new.append(list(map(int, input().split(\" \"))))\n",
        "for i in range(b):\n",
        "    new1.append(list(map(int, input().split(\" \"))))\n",
        "print(numpy.concatenate([new,new1], axis=0))"
      ],
      "execution_count": null,
      "outputs": [
        {
          "output_type": "stream",
          "text": [
            "4 3 2\n",
            "1 2\n",
            "1 2\n",
            "1 2\n",
            "1 2\n",
            "3 4\n",
            "3 4\n",
            "3 4\n",
            "[[1 2]\n",
            " [1 2]\n",
            " [1 2]\n",
            " [1 2]\n",
            " [3 4]\n",
            " [3 4]\n",
            " [3 4]]\n"
          ],
          "name": "stdout"
        }
      ]
    },
    {
      "cell_type": "code",
      "metadata": {
        "colab": {
          "base_uri": "https://localhost:8080/"
        },
        "id": "tN8IBTt0m6lb",
        "outputId": "6a55cd3c-f20e-4fac-8270-2c09673f4b5c"
      },
      "source": [
        "import numpy\n",
        "a,b,c=tuple(map(int, input().split(\" \")))\n",
        "new=[]\n",
        "for i in range(a):\n",
        "    new.append(list(map(int, input().split(\" \"))))\n",
        "for i in range(b):\n",
        "    new.append(list(map(int, input().split(\" \"))))\n",
        "print(numpy.array(new))"
      ],
      "execution_count": null,
      "outputs": [
        {
          "output_type": "stream",
          "text": [
            "4 3 2\n",
            "1 2\n",
            "1 2\n",
            "1 2\n",
            "1 2\n",
            "3 4\n",
            "3 4\n",
            "3 4\n",
            "[[1 2]\n",
            " [1 2]\n",
            " [1 2]\n",
            " [1 2]\n",
            " [3 4]\n",
            " [3 4]\n",
            " [3 4]]\n"
          ],
          "name": "stdout"
        }
      ]
    }
  ]
}