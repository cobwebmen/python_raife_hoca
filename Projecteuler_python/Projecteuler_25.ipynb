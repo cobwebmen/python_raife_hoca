{
  "nbformat": 4,
  "nbformat_minor": 0,
  "metadata": {
    "colab": {
      "name": "Projecteuler_25.ipynb",
      "provenance": []
    },
    "kernelspec": {
      "name": "python3",
      "display_name": "Python 3"
    },
    "language_info": {
      "name": "python"
    }
  },
  "cells": [
    {
      "cell_type": "markdown",
      "metadata": {
        "id": "HGQ--pDKbsIn"
      },
      "source": [
        "The Fibonacci sequence is defined by the recurrence relation:\n",
        "\n",
        "Fn = Fn−1 + Fn−2, where F1 = 1 and F2 = 1.\n",
        "Hence the first 12 terms will be:\n",
        "```\n",
        "F1 = 1\n",
        "F2 = 1\n",
        "F3 = 2\n",
        "F4 = 3\n",
        "F5 = 5\n",
        "F6 = 8\n",
        "F7 = 13\n",
        "F8 = 21\n",
        "F9 = 34\n",
        "F10 = 55\n",
        "F11 = 89\n",
        "F12 = 144\n",
        "\n",
        "```\n",
        "\n",
        "The 12th term, F12, is the first term to contain three digits.\n",
        "\n",
        "What is the index of the first term in the Fibonacci sequence to contain 1000 digits?"
      ]
    },
    {
      "cell_type": "code",
      "metadata": {
        "colab": {
          "base_uri": "https://localhost:8080/"
        },
        "id": "tJ4V2ehgYTt0",
        "outputId": "df141f8b-fff8-4a25-fca4-96434fe63c50"
      },
      "source": [
        "fib=[1,1]\n",
        "while len(str(fib[-1]))<1000:\n",
        "  fib.append(fib[-1]+fib[-2])\n",
        "print(fib.index(fib[-1])+1)"
      ],
      "execution_count": 5,
      "outputs": [
        {
          "output_type": "stream",
          "text": [
            "4782\n"
          ],
          "name": "stdout"
        }
      ]
    }
  ]
}