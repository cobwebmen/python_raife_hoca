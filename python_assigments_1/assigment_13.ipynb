{
  "nbformat": 4,
  "nbformat_minor": 0,
  "metadata": {
    "colab": {
      "name": "assigment_13.ipynb",
      "provenance": [],
      "collapsed_sections": [],
      "authorship_tag": "ABX9TyMnFB4uGmHOYcJK2VPfTFma",
      "include_colab_link": true
    },
    "kernelspec": {
      "name": "python3",
      "display_name": "Python 3"
    },
    "language_info": {
      "name": "python"
    }
  },
  "cells": [
    {
      "cell_type": "markdown",
      "metadata": {
        "id": "view-in-github",
        "colab_type": "text"
      },
      "source": [
        "<a href=\"https://colab.research.google.com/github/raifehizlan/python_assigments/blob/main/assigment_13.ipynb\" target=\"_parent\"><img src=\"https://colab.research.google.com/assets/colab-badge.svg\" alt=\"Open In Colab\"/></a>"
      ]
    },
    {
      "cell_type": "markdown",
      "metadata": {
        "id": "E6xo2y2fUUZ_"
      },
      "source": [
        "Task : Find out the most frequent number and its frequency.\n",
        "\n",
        "Write a program that;\n",
        "\n",
        "Finds out the most frequent number in the given list.\n",
        "Calculates its frequency.\n",
        "Prints out the result such as :\n",
        "\n",
        "Example\n",
        "\n",
        "Given list\n",
        "\n",
        "numbers = [1, 3, 7, 4, 3, 0, 3, 6, 3]\n",
        "\n",
        "Output\n",
        "\n",
        "The most frequent number is 3 and it was 4 times repeated"
      ]
    },
    {
      "cell_type": "code",
      "metadata": {
        "colab": {
          "base_uri": "https://localhost:8080/"
        },
        "id": "e_EXTm93Trxd",
        "outputId": "7cc5d226-e52e-4aec-deb1-bb07a3fcc8fd"
      },
      "source": [
        "numbers=[1, 3, 7, 4, 3, 0, 3, 6, 3]\n",
        "a=max(numbers, key = numbers.count)\n",
        "b= numbers.count(a)\n",
        "print(f\"The most frequent number is {a} and it was {b} times repeated\")"
      ],
      "execution_count": 1,
      "outputs": [
        {
          "output_type": "stream",
          "text": [
            "The most frequent number is 3 and it was 4 times repeated\n"
          ],
          "name": "stdout"
        }
      ]
    },
    {
      "cell_type": "code",
      "metadata": {
        "colab": {
          "base_uri": "https://localhost:8080/"
        },
        "id": "XPGy13mruQ-Q",
        "outputId": "2a9d9d2c-1079-4f63-83e5-a46f2252b59e"
      },
      "source": [
        "numbers=[1, 3, 7, 4, 3, 0, 3, 6, 3]\n",
        "kac_kere=[]\n",
        "for i in numbers:\n",
        "  kac_kere.append(numbers.count(i))\n",
        "if numbers.count(i)==max(kac_kere):\n",
        "  print(f\"The most frequent number is {i} and it was {max(kac_kere)} times repeated\")"
      ],
      "execution_count": null,
      "outputs": [
        {
          "output_type": "stream",
          "text": [
            "The most frequent number is 3 and it was 4 times repeated\n"
          ],
          "name": "stdout"
        }
      ]
    },
    {
      "cell_type": "code",
      "metadata": {
        "colab": {
          "base_uri": "https://localhost:8080/"
        },
        "id": "AOirz0mvTlvp",
        "outputId": "6fd8c55e-f5e2-4ead-baf5-132bcb9d713e"
      },
      "source": [
        "numbers=list(map(int,input(\"Lütfen sayıları boşluk bırakarak giriniz: \").split()))\n",
        "kac_kere=[]\n",
        "for i in numbers:\n",
        "  kac_kere.append(numbers.count(i))\n",
        "if numbers.count(i)==max(kac_kere):\n",
        "  print(f\"The most frequent number is {i} and it was {max(kac_kere)} times repeated\")"
      ],
      "execution_count": null,
      "outputs": [
        {
          "output_type": "stream",
          "text": [
            "Lütfen sayıları boşluk bırakarak giriniz: 1 3 7 4 3 0 3 6 3\n",
            "The most frequent number is 3 and it was 4 times repeated\n"
          ],
          "name": "stdout"
        }
      ]
    },
    {
      "cell_type": "code",
      "metadata": {
        "colab": {
          "base_uri": "https://localhost:8080/"
        },
        "id": "4WPYmfppLYjm",
        "outputId": "09872af4-f31e-4946-e876-734d3bc1aff2"
      },
      "source": [
        "numbers=[1, 3, 7, 4, 3, 0, 3, 6, 3]\n",
        "a=sorted(numbers, key=numbers.count, reverse=True)\n",
        "b=numbers.count(a[0])\n",
        "print(f\"The most frequent number is {a[0]} and it was {b} times repeated\")"
      ],
      "execution_count": 24,
      "outputs": [
        {
          "output_type": "stream",
          "text": [
            "[3, 3, 3, 3, 1, 7, 4, 0, 6]\n",
            "4\n",
            "The most frequent number is 3 and it was 4 times repeated\n"
          ],
          "name": "stdout"
        }
      ]
    }
  ]
}