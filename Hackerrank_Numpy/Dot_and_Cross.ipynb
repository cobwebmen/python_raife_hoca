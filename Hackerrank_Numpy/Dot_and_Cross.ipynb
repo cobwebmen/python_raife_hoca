{
  "nbformat": 4,
  "nbformat_minor": 0,
  "metadata": {
    "colab": {
      "name": "Dot_and_Cross.ipynb",
      "provenance": []
    },
    "kernelspec": {
      "name": "python3",
      "display_name": "Python 3"
    },
    "language_info": {
      "name": "python"
    }
  },
  "cells": [
    {
      "cell_type": "markdown",
      "metadata": {
        "id": "3dhuZ5Vz-wXO"
      },
      "source": [
        "```\n",
        "dot\n",
        "\n",
        "The dot tool returns the dot product of two arrays.\n",
        "\n",
        "import numpy\n",
        "\n",
        "A = numpy.array([ 1, 2 ])\n",
        "B = numpy.array([ 3, 4 ])\n",
        "\n",
        "print numpy.dot(A, B)       #Output : 11\n",
        "cross\n",
        "\n",
        "The cross tool returns the cross product of two arrays.\n",
        "\n",
        "import numpy\n",
        "\n",
        "A = numpy.array([ 1, 2 ])\n",
        "B = numpy.array([ 3, 4 ])\n",
        "\n",
        "print numpy.cross(A, B)     #Output : -2\n",
        "Task\n",
        "\n",
        "You are given two arrays  and . Both have dimensions of X.\n",
        "Your task is to compute their matrix product.\n",
        "\n",
        "Input Format\n",
        "\n",
        "The first line contains the integer .\n",
        "The next  lines contains  space separated integers of array .\n",
        "The following  lines contains  space separated integers of array .\n",
        "\n",
        "Output Format\n",
        "\n",
        "Print the matrix multiplication of  and .\n",
        "\n",
        "Sample Input\n",
        "\n",
        "2\n",
        "1 2\n",
        "3 4\n",
        "1 2\n",
        "3 4\n",
        "Sample Output\n",
        "\n",
        "[[ 7 10]\n",
        " [15 22]]\n",
        "```"
      ]
    },
    {
      "cell_type": "code",
      "metadata": {
        "colab": {
          "base_uri": "https://localhost:8080/"
        },
        "id": "4Scl_sL07Pue",
        "outputId": "c859a3cd-97fa-4418-d0a7-90fb26246b82"
      },
      "source": [
        "import numpy\n",
        "a=int(input())\n",
        "arr1=numpy.array([input().split() for i in range(a)], int)\n",
        "arr2=numpy.array([input().split() for i in range(a)], int)\n",
        "print(numpy.dot(arr1,arr2))\n"
      ],
      "execution_count": 4,
      "outputs": [
        {
          "output_type": "stream",
          "text": [
            "2\n",
            "1 2\n",
            "3 4\n",
            "1 2\n",
            "3 4\n",
            "[[ 7 10]\n",
            " [15 22]]\n"
          ],
          "name": "stdout"
        }
      ]
    }
  ]
}