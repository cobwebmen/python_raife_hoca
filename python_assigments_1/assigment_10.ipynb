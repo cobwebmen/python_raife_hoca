{
  "nbformat": 4,
  "nbformat_minor": 0,
  "metadata": {
    "colab": {
      "name": "assigment_10.ipynb",
      "provenance": [],
      "collapsed_sections": []
    },
    "kernelspec": {
      "name": "python3",
      "display_name": "Python 3"
    },
    "language_info": {
      "name": "python"
    }
  },
  "cells": [
    {
      "cell_type": "markdown",
      "metadata": {
        "id": "plYOxaFxRolS"
      },
      "source": [
        "Sayıyı kalansız bölen sayıları bulan bir fonksiyon yazalım"
      ]
    },
    {
      "cell_type": "code",
      "metadata": {
        "colab": {
          "base_uri": "https://localhost:8080/"
        },
        "id": "n-Pb0hXlFhG9",
        "outputId": "7ff76afd-25fa-4312-c316-583c887ce649"
      },
      "source": [
        "def carpanlarina_ayir(sayi):\n",
        "  carpanlar=[]\n",
        "  for i in range(1,sayi+1):\n",
        "    if sayi % i ==0:\n",
        "      carpanlar.append(i)\n",
        "      \n",
        "  return carpanlar\n",
        "\n",
        "\n",
        "print(carpanlarina_ayir(250))"
      ],
      "execution_count": 5,
      "outputs": [
        {
          "output_type": "stream",
          "text": [
            "[1, 2, 5, 10, 25, 50, 125, 250]\n"
          ],
          "name": "stdout"
        }
      ]
    }
  ]
}