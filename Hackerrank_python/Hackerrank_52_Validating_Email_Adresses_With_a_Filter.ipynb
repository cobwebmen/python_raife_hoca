{
  "nbformat": 4,
  "nbformat_minor": 0,
  "metadata": {
    "colab": {
      "name": "Hackerrank_52_Validating_Email_Adresses_With_a_Filter.ipynb",
      "provenance": []
    },
    "kernelspec": {
      "name": "python3",
      "display_name": "Python 3"
    },
    "language_info": {
      "name": "python"
    }
  },
  "cells": [
    {
      "cell_type": "markdown",
      "metadata": {
        "id": "fO_pyyCwxeLc"
      },
      "source": [
        "\n",
        "Valid email addresses must follow these rules:\n",
        "\n",
        "It must have the username@websitename.extension format type.\n",
        "\n",
        "The username can only contain letters, digits, dashes and underscores .\n",
        "\n",
        "The website name can only have letters and digits .\n",
        "\n",
        "The extension can only contain letters .\n",
        "\n",
        "The maximum length of the extension is 3."
      ]
    },
    {
      "cell_type": "code",
      "metadata": {
        "colab": {
          "base_uri": "https://localhost:8080/"
        },
        "id": "fp29LKOnahU7",
        "outputId": "3f49b464-b83d-4688-d774-0b1936b205a0"
      },
      "source": [
        "def fun(s):\n",
        "  try:\n",
        "    username, url = s.split('@')\n",
        "    website,extension = url.split('.')\n",
        "  except:\n",
        "    return False   \n",
        "  if username.replace('-','').replace('_','').isalnum()==False:\n",
        "    return False    \n",
        "  elif website.isalnum() == False:\n",
        "    return False  \n",
        "  elif len(extension) > 3:\n",
        "    return False  \n",
        "  else :\n",
        "    return True\n",
        "def filter_mail(emails):\n",
        "    return list(filter(fun, emails))\n",
        "\n",
        "if __name__ == '__main__':\n",
        "    n = int(input())\n",
        "    emails = []\n",
        "    for _ in range(n):\n",
        "        emails.append(input())\n",
        "\n",
        "filtered_emails = filter_mail(emails)\n",
        "filtered_emails.sort()\n",
        "print(filtered_emails)"
      ],
      "execution_count": 37,
      "outputs": [
        {
          "output_type": "stream",
          "text": [
            "2\n",
            "harsh@gmail\n",
            "iota_98@hackerrank.com\n",
            "['iota_98@hackerrank.com']\n"
          ],
          "name": "stdout"
        }
      ]
    }
  ]
}