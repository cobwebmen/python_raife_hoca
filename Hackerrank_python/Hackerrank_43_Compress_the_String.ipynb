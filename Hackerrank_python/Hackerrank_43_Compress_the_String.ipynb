{
  "nbformat": 4,
  "nbformat_minor": 0,
  "metadata": {
    "colab": {
      "name": "Hackerrank_43_Compress_the_String.ipynb",
      "provenance": []
    },
    "kernelspec": {
      "name": "python3",
      "display_name": "Python 3"
    },
    "language_info": {
      "name": "python"
    }
  },
  "cells": [
    {
      "cell_type": "markdown",
      "metadata": {
        "id": "uCeD048mwcP4"
      },
      "source": [
        "Sample Input\n",
        "\n",
        "1222311\n",
        "\n",
        "Sample Output\n",
        "\n",
        "(1, 1) (3, 2) (1, 3) (2, 1)\n",
        "\n",
        "Explanation\n",
        "\n",
        "First, the character 1 occurs only once. It is replaced by (1,1) . Then the character 2 occurs three times, and it is replaced by (3,2) and so on.\n",
        "\n",
        "Also, note the single space within each compression and between the compressions."
      ]
    },
    {
      "cell_type": "code",
      "metadata": {
        "colab": {
          "base_uri": "https://localhost:8080/"
        },
        "id": "F9uY7oE5sKyK",
        "outputId": "dfa50e61-19d4-4daa-96e5-2de42a2d2ec0"
      },
      "source": [
        "a=input()\n",
        "count=1\n",
        "for i in range(len(a)):\n",
        "  if i==len(a)-1:\n",
        "    print((count,int(a[i])), end=\" \")\n",
        "  else:  \n",
        "    if a[i]==a[i+1]:\n",
        "      count+=1\n",
        "    else:\n",
        "      print((count,int(a[i])), end=\" \")\n",
        "      count=1"
      ],
      "execution_count": 10,
      "outputs": [
        {
          "output_type": "stream",
          "text": [
            "1222311\n",
            "(1, 1) (3, 2) (1, 3) (2, 1) "
          ],
          "name": "stdout"
        }
      ]
    }
  ]
}