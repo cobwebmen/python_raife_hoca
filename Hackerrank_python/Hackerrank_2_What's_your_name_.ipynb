{
  "nbformat": 4,
  "nbformat_minor": 0,
  "metadata": {
    "colab": {
      "name": "Hackerrank_2_What's_your_name?.ipynb",
      "provenance": [],
      "collapsed_sections": []
    },
    "kernelspec": {
      "name": "python3",
      "display_name": "Python 3"
    },
    "language_info": {
      "name": "python"
    }
  },
  "cells": [
    {
      "cell_type": "markdown",
      "metadata": {
        "id": "q9FOLCU5kJT6"
      },
      "source": [
        ""
      ]
    },
    {
      "cell_type": "markdown",
      "metadata": {
        "id": "aUjTUYHzuq4Z"
      },
      "source": [
        "You are given the firstname and lastname of a person on two different lines. Your task is to read them and print the following:\n",
        "\n",
        "Hello firstname lastname! You just delved into python."
      ]
    },
    {
      "cell_type": "code",
      "metadata": {
        "colab": {
          "base_uri": "https://localhost:8080/"
        },
        "id": "yi53m8y_kIXs",
        "outputId": "b66929b0-a68f-4ff1-d3c8-b6b0962b1e9c"
      },
      "source": [
        "def print_full_name(first, last):\n",
        "    print(\"Hello\", first, last + \"! You just delved into python.\")\n",
        "if __name__ == '__main__':\n",
        "    first_name = input()\n",
        "    last_name = input()\n",
        "    print_full_name(first_name, last_name)"
      ],
      "execution_count": 2,
      "outputs": [
        {
          "output_type": "stream",
          "text": [
            "Rose\n",
            "Taylor\n",
            "Hello Rose Taylor! You just delved into python.\n"
          ],
          "name": "stdout"
        }
      ]
    }
  ]
}