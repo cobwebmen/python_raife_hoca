{
  "nbformat": 4,
  "nbformat_minor": 0,
  "metadata": {
    "colab": {
      "name": "Hackerrank_Numpy_All.ipynb",
      "provenance": [],
      "collapsed_sections": []
    },
    "kernelspec": {
      "name": "python3",
      "display_name": "Python 3"
    },
    "language_info": {
      "name": "python"
    }
  },
  "cells": [
    {
      "cell_type": "markdown",
      "metadata": {
        "id": "NQITOgmWLHur"
      },
      "source": [
        "```\n",
        "**Array Mathematics**\n",
        "Basic mathematical functions operate element-wise on arrays. They are available both as operator overloads and as functions in the NumPy module.\n",
        "\n",
        "import numpy\n",
        "\n",
        "a = numpy.array([1,2,3,4], float)\n",
        "b = numpy.array([5,6,7,8], float)\n",
        "\n",
        "print a + b                     #[  6.   8.  10.  12.]\n",
        "print numpy.add(a, b)           #[  6.   8.  10.  12.]\n",
        "\n",
        "print a - b                     #[-4. -4. -4. -4.]\n",
        "print numpy.subtract(a, b)      #[-4. -4. -4. -4.]\n",
        "\n",
        "print a * b                     #[  5.  12.  21.  32.]\n",
        "print numpy.multiply(a, b)      #[  5.  12.  21.  32.]\n",
        "\n",
        "print a / b                     #[ 0.2         0.33333333  0.42857143  0.5       ]\n",
        "print numpy.divide(a, b)        #[ 0.2         0.33333333  0.42857143  0.5       ]\n",
        "\n",
        "print a % b                     #[ 1.  2.  3.  4.]\n",
        "print numpy.mod(a, b)           #[ 1.  2.  3.  4.]\n",
        "\n",
        "print a**b                      #[  1.00000000e+00   6.40000000e+01   2.18700000e+03   6.55360000e+04]\n",
        "print numpy.power(a, b)         #[  1.00000000e+00   6.40000000e+01   2.18700000e+03   6.55360000e+04]\n",
        "Task\n",
        "\n",
        "You are given two integer arrays,  and  of dimensions X.\n",
        "Your task is to perform the following operations:\n",
        "\n",
        "Add ( + )\n",
        "Subtract ( - )\n",
        "Multiply ( * )\n",
        "Integer Division ( / )\n",
        "Mod ( % )\n",
        "Power ( ** )\n",
        "Note\n",
        "There is a method numpy.floor_divide() that works like numpy.divide() except it performs a floor division.\n",
        "\n",
        "Input Format\n",
        "\n",
        "The first line contains two space separated integers,  and .\n",
        "The next  lines contains  space separated integers of array .\n",
        "The following  lines contains  space separated integers of array .\n",
        "\n",
        "Output Format\n",
        "\n",
        "Print the result of each operation in the given order under Task.\n",
        "\n",
        "Sample Input\n",
        "\n",
        "1 4\n",
        "1 2 3 4\n",
        "5 6 7 8\n",
        "Sample Output\n",
        "\n",
        "[[ 6  8 10 12]]\n",
        "[[-4 -4 -4 -4]]\n",
        "[[ 5 12 21 32]]\n",
        "[[0 0 0 0]]\n",
        "[[1 2 3 4]]\n",
        "[[    1    64  2187 65536]] \n",
        "Use // for division in Python 3.\n",
        "```\n",
        "\n",
        "\n",
        "\n"
      ]
    },
    {
      "cell_type": "code",
      "metadata": {
        "colab": {
          "base_uri": "https://localhost:8080/"
        },
        "id": "7PmQJ9yRK9K6",
        "outputId": "0d485956-c05f-4dfc-a980-020dfba90d8c"
      },
      "source": [
        "import numpy\n",
        "N,M = map(int, input().split())\n",
        "A = numpy.array([input().split() for i in range(N)],int)\n",
        "B = numpy.array([input().split() for i in range(N)],int)\n",
        "print(A + B)\n",
        "print(A - B)\n",
        "print(A * B)\n",
        "print(A // B)\n",
        "print(A % B)\n",
        "print(A ** B)"
      ],
      "execution_count": 2,
      "outputs": [
        {
          "output_type": "stream",
          "text": [
            "1 4\n",
            "1 2 3 4\n",
            "5 6 7 8\n",
            "[[ 6  8 10 12]]\n",
            "[[-4 -4 -4 -4]]\n",
            "[[ 5 12 21 32]]\n",
            "[[0 0 0 0]]\n",
            "[[1 2 3 4]]\n",
            "[[    1    64  2187 65536]]\n"
          ],
          "name": "stdout"
        }
      ]
    },
    {
      "cell_type": "markdown",
      "metadata": {
        "id": "gBY_yR2jNs0g"
      },
      "source": [
        "```\n",
        "**Arrays**\n",
        "The NumPy (Numeric Python) package helps us manipulate large arrays and matrices of numeric data.\n",
        "\n",
        "To use the NumPy module, we need to import it using:\n",
        "\n",
        "import numpy\n",
        "Arrays\n",
        "\n",
        "A NumPy array is a grid of values. They are similar to lists, except that every element of an array must be the same type.\n",
        "\n",
        "import numpy\n",
        "\n",
        "a = numpy.array([1,2,3,4,5])\n",
        "print a[1]          #2\n",
        "\n",
        "b = numpy.array([1,2,3,4,5],float)\n",
        "print b[1]          #2.0\n",
        "In the above example, numpy.array() is used to convert a list into a NumPy array. The second argument (float) can be used to set the type of array elements.\n",
        "\n",
        "Task\n",
        "\n",
        "You are given a space separated list of numbers.\n",
        "Your task is to print a reversed NumPy array with the element type float.\n",
        "\n",
        "Input Format\n",
        "\n",
        "A single line of input containing space separated numbers.\n",
        "\n",
        "Output Format\n",
        "\n",
        "Print the reverse NumPy array with type float.\n",
        "\n",
        "Sample Input\n",
        "\n",
        "1 2 3 4 -8 -10\n",
        "Sample Output\n",
        "\n",
        "[-10.  -8.   4.   3.   2.   1.]\n",
        "```"
      ]
    },
    {
      "cell_type": "code",
      "metadata": {
        "id": "kIUNgt9DN39U"
      },
      "source": [
        "import numpy\n",
        "\n",
        "def arrays(arr):\n",
        "    return numpy.array(arr[::-1],float)\n",
        "     \n",
        "arr = input().strip().split(' ')\n",
        "result = arrays(arr)\n",
        "print(result)"
      ],
      "execution_count": null,
      "outputs": []
    },
    {
      "cell_type": "markdown",
      "metadata": {
        "id": "TPLDX5lpOCL_"
      },
      "source": [
        "```\n",
        "Concatenate\n",
        "\n",
        "Two or more arrays can be concatenated together using the concatenate function with a tuple of the arrays to be joined:\n",
        "\n",
        "import numpy\n",
        "\n",
        "array_1 = numpy.array([1,2,3])\n",
        "array_2 = numpy.array([4,5,6])\n",
        "array_3 = numpy.array([7,8,9])\n",
        "\n",
        "print numpy.concatenate((array_1, array_2, array_3))    \n",
        "\n",
        "#Output\n",
        "[1 2 3 4 5 6 7 8 9]\n",
        "If an array has more than one dimension, it is possible to specify the axis along which multiple arrays are concatenated. By default, it is along the first dimension.\n",
        "\n",
        "import numpy\n",
        "\n",
        "array_1 = numpy.array([[1,2,3],[0,0,0]])\n",
        "array_2 = numpy.array([[0,0,0],[7,8,9]])\n",
        "\n",
        "print numpy.concatenate((array_1, array_2), axis = 1)   \n",
        "\n",
        "#Output\n",
        "[[1 2 3 0 0 0]\n",
        " [0 0 0 7 8 9]]    \n",
        "Task\n",
        "\n",
        "You are given two integer arrays of size X and X ( &  are rows, and  is the column). Your task is to concatenate the arrays along axis .\n",
        "\n",
        "Input Format\n",
        "\n",
        "The first line contains space separated integers ,  and .\n",
        "The next  lines contains the space separated elements of the  columns.\n",
        "After that, the next  lines contains the space separated elements of the  columns.\n",
        "\n",
        "Output Format\n",
        "\n",
        "Print the concatenated array of size X.\n",
        "\n",
        "Sample Input\n",
        "\n",
        "4 3 2\n",
        "1 2\n",
        "1 2 \n",
        "1 2\n",
        "1 2\n",
        "3 4\n",
        "3 4\n",
        "3 4 \n",
        "Sample Output\n",
        "\n",
        "[[1 2]\n",
        " [1 2]\n",
        " [1 2]\n",
        " [1 2]\n",
        " [3 4]\n",
        " [3 4]\n",
        " [3 4]] \n",
        "```"
      ]
    },
    {
      "cell_type": "code",
      "metadata": {
        "colab": {
          "base_uri": "https://localhost:8080/"
        },
        "id": "YTpSrlf4OZV0",
        "outputId": "f4295878-697c-418a-cee0-4400b90820b2"
      },
      "source": [
        "import numpy\n",
        "a,b,c=tuple(map(int, input().split(\" \")))\n",
        "new=numpy.array([input().split() for i in range(a)], int)\n",
        "new1=numpy.array([input().split() for i in range(b)], int)\n",
        "print(numpy.concatenate([new,new1], axis=0))"
      ],
      "execution_count": 3,
      "outputs": [
        {
          "output_type": "stream",
          "text": [
            "4 3 2\n",
            "1 2\n",
            "1 2\n",
            "1 2\n",
            "1 2\n",
            "3 4\n",
            "3 4\n",
            "3 4\n",
            "[[1 2]\n",
            " [1 2]\n",
            " [1 2]\n",
            " [1 2]\n",
            " [3 4]\n",
            " [3 4]\n",
            " [3 4]]\n"
          ],
          "name": "stdout"
        }
      ]
    },
    {
      "cell_type": "code",
      "metadata": {
        "colab": {
          "base_uri": "https://localhost:8080/"
        },
        "id": "ZJ3qeV2QOUs0",
        "outputId": "df1d5357-2598-4054-b90d-f707ffe74434"
      },
      "source": [
        "import numpy\n",
        "a,b,c=tuple(map(int, input().split(\" \")))\n",
        "new=[]\n",
        "for i in range(a):\n",
        "    new.append(list(map(int, input().split(\" \"))))\n",
        "for i in range(b):\n",
        "    new.append(list(map(int, input().split(\" \"))))\n",
        "print(numpy.array(new))"
      ],
      "execution_count": 4,
      "outputs": [
        {
          "output_type": "stream",
          "text": [
            "4 3 2\n",
            "1 2\n",
            "1 2\n",
            "1 2\n",
            "1 2\n",
            "3 4\n",
            "3 4\n",
            "3 4\n",
            "[[1 2]\n",
            " [1 2]\n",
            " [1 2]\n",
            " [1 2]\n",
            " [3 4]\n",
            " [3 4]\n",
            " [3 4]]\n"
          ],
          "name": "stdout"
        }
      ]
    },
    {
      "cell_type": "code",
      "metadata": {
        "colab": {
          "base_uri": "https://localhost:8080/"
        },
        "id": "Dg9-8xBLOL6K",
        "outputId": "7fb01c5b-3ffc-4500-af65-b0ffeb90b58c"
      },
      "source": [
        "import numpy\n",
        "a,b,c=tuple(map(int, input().split(\" \")))\n",
        "new=[]\n",
        "new1=[]\n",
        "for i in range(a):\n",
        "    new.append(list(map(int, input().split(\" \"))))\n",
        "for i in range(b):\n",
        "    new1.append(list(map(int, input().split(\" \"))))\n",
        "print(numpy.concatenate([new,new1], axis=0))"
      ],
      "execution_count": 5,
      "outputs": [
        {
          "output_type": "stream",
          "text": [
            "4 3 2\n",
            "1 2\n",
            "1 2\n",
            "1 2\n",
            "1 2\n",
            "3 4\n",
            "3 4\n",
            "3 4\n",
            "[[1 2]\n",
            " [1 2]\n",
            " [1 2]\n",
            " [1 2]\n",
            " [3 4]\n",
            " [3 4]\n",
            " [3 4]]\n"
          ],
          "name": "stdout"
        }
      ]
    },
    {
      "cell_type": "markdown",
      "metadata": {
        "id": "EiVT5y1IQXqb"
      },
      "source": [
        "```\n",
        "dot\n",
        "\n",
        "The dot tool returns the dot product of two arrays.\n",
        "\n",
        "import numpy\n",
        "\n",
        "A = numpy.array([ 1, 2 ])\n",
        "B = numpy.array([ 3, 4 ])\n",
        "\n",
        "print numpy.dot(A, B)       #Output : 11\n",
        "cross\n",
        "\n",
        "The cross tool returns the cross product of two arrays.\n",
        "\n",
        "import numpy\n",
        "\n",
        "A = numpy.array([ 1, 2 ])\n",
        "B = numpy.array([ 3, 4 ])\n",
        "\n",
        "print numpy.cross(A, B)     #Output : -2\n",
        "Task\n",
        "\n",
        "You are given two arrays  and . Both have dimensions of X.\n",
        "Your task is to compute their matrix product.\n",
        "\n",
        "Input Format\n",
        "\n",
        "The first line contains the integer .\n",
        "The next  lines contains  space separated integers of array .\n",
        "The following  lines contains  space separated integers of array .\n",
        "\n",
        "Output Format\n",
        "\n",
        "Print the matrix multiplication of  and .\n",
        "\n",
        "Sample Input\n",
        "\n",
        "2\n",
        "1 2\n",
        "3 4\n",
        "1 2\n",
        "3 4\n",
        "Sample Output\n",
        "\n",
        "[[ 7 10]\n",
        " [15 22]]\n",
        "```"
      ]
    },
    {
      "cell_type": "code",
      "metadata": {
        "colab": {
          "base_uri": "https://localhost:8080/"
        },
        "id": "_ZSvpeegQc0V",
        "outputId": "075501f9-d371-41d1-d850-fa3968717891"
      },
      "source": [
        "import numpy\n",
        "a=int(input())\n",
        "arr1=numpy.array([input().split() for i in range(a)], int)\n",
        "arr2=numpy.array([input().split() for i in range(a)], int)\n",
        "print(numpy.dot(arr1,arr2))"
      ],
      "execution_count": 6,
      "outputs": [
        {
          "output_type": "stream",
          "text": [
            "2\n",
            "1 2\n",
            "3 4\n",
            "1 2\n",
            "3 4\n",
            "[[ 7 10]\n",
            " [15 22]]\n"
          ],
          "name": "stdout"
        }
      ]
    },
    {
      "cell_type": "markdown",
      "metadata": {
        "id": "UC8MpwPjT7DH"
      },
      "source": [
        "```\n",
        "Eye and identity\n",
        "\n",
        "The identity tool returns an identity array. An identity array is a square matrix with all the main diagonal elements as  and the rest as . The default type of elements is float.\n",
        "\n",
        "import numpy\n",
        "print numpy.identity(3) #3 is for  dimension 3 X 3\n",
        "\n",
        "#Output\n",
        "[[ 1.  0.  0.]\n",
        " [ 0.  1.  0.]\n",
        " [ 0.  0.  1.]]\n",
        "eye\n",
        "\n",
        "The eye tool returns a 2-D array with 's as the diagonal and 's elsewhere. The diagonal can be main, upper or lower depending on the optional parameter . A positive  is for the upper diagonal, a negative  is for the lower, and a   (default) is for the main diagonal.\n",
        "\n",
        "import numpy\n",
        "print numpy.eye(8, 7, k = 1)    # 8 X 7 Dimensional array with first upper diagonal 1.\n",
        "\n",
        "#Output\n",
        "[[ 0.  1.  0.  0.  0.  0.  0.]\n",
        " [ 0.  0.  1.  0.  0.  0.  0.]\n",
        " [ 0.  0.  0.  1.  0.  0.  0.]\n",
        " [ 0.  0.  0.  0.  1.  0.  0.]\n",
        " [ 0.  0.  0.  0.  0.  1.  0.]\n",
        " [ 0.  0.  0.  0.  0.  0.  1.]\n",
        " [ 0.  0.  0.  0.  0.  0.  0.]\n",
        " [ 0.  0.  0.  0.  0.  0.  0.]]\n",
        "\n",
        "print numpy.eye(8, 7, k = -2)   # 8 X 7 Dimensional array with second lower diagonal 1.\n",
        "Task\n",
        "\n",
        "Your task is to print an array of size X with its main diagonal elements as 's and 's everywhere else.\n",
        "\n",
        "Note\n",
        "\n",
        "In order to get alignment correct, please insert the line  below the numpy import.\n",
        "\n",
        "Input Format\n",
        "\n",
        "A single line containing the space separated values of  and .\n",
        " denotes the rows.\n",
        " denotes the columns.\n",
        "\n",
        "Output Format\n",
        "\n",
        "Print the desired X array.\n",
        "\n",
        "Sample Input\n",
        "\n",
        "3 3\n",
        "Sample Output\n",
        "\n",
        "[[ 1.  0.  0.]\n",
        " [ 0.  1.  0.]\n",
        " [ 0.  0.  1.]]\n",
        "```\n",
        "\n"
      ]
    },
    {
      "cell_type": "code",
      "metadata": {
        "colab": {
          "base_uri": "https://localhost:8080/"
        },
        "id": "ccRsLORlT6lw",
        "outputId": "72ab7a89-1d31-420e-a021-78fcfc103d7c"
      },
      "source": [
        "import numpy\n",
        "numpy.set_printoptions(legacy=\"1.13\")\n",
        "N,M=tuple(map(int, input().split(\" \")))\n",
        "print(numpy.eye(N,M))"
      ],
      "execution_count": 7,
      "outputs": [
        {
          "output_type": "stream",
          "text": [
            "3 3\n",
            "[[ 1.  0.  0.]\n",
            " [ 0.  1.  0.]\n",
            " [ 0.  0.  1.]]\n"
          ],
          "name": "stdout"
        }
      ]
    },
    {
      "cell_type": "markdown",
      "metadata": {
        "id": "jb0iJFZ7USev"
      },
      "source": [
        "```\n",
        "inner\n",
        "\n",
        "The inner tool returns the inner product of two arrays.\n",
        "\n",
        "import numpy\n",
        "\n",
        "A = numpy.array([0, 1])\n",
        "B = numpy.array([3, 4])\n",
        "\n",
        "print numpy.inner(A, B)     #Output : 4\n",
        "outer\n",
        "\n",
        "The outer tool returns the outer product of two arrays.\n",
        "\n",
        "import numpy\n",
        "\n",
        "A = numpy.array([0, 1])\n",
        "B = numpy.array([3, 4])\n",
        "\n",
        "print numpy.outer(A, B)     #Output : [[0 0]\n",
        "                            #          [3 4]]\n",
        "Task\n",
        "\n",
        "You are given two arrays:  and .\n",
        "Your task is to compute their inner and outer product.\n",
        "\n",
        "Input Format\n",
        "\n",
        "The first line contains the space separated elements of array .\n",
        "The second line contains the space separated elements of array .\n",
        "\n",
        "Output Format\n",
        "\n",
        "First, print the inner product.\n",
        "Second, print the outer product.\n",
        "\n",
        "Sample Input\n",
        "\n",
        "0 1\n",
        "2 3\n",
        "Sample Output\n",
        "\n",
        "3\n",
        "[[0 0]\n",
        " [2 3]]\n",
        "```\n"
      ]
    },
    {
      "cell_type": "code",
      "metadata": {
        "colab": {
          "base_uri": "https://localhost:8080/"
        },
        "id": "_eDomqI2UU3c",
        "outputId": "bb6a3a17-522e-4c39-8b4a-90a370540426"
      },
      "source": [
        "import numpy\n",
        "arr1=numpy.array(input().split(), int)\n",
        "arr2=numpy.array(input().split(), int)\n",
        "print(numpy.inner(arr1,arr2))\n",
        "print(numpy.outer(arr1,arr2))"
      ],
      "execution_count": 9,
      "outputs": [
        {
          "output_type": "stream",
          "text": [
            "0 1\n",
            "2 3\n",
            "3\n",
            "[[0 0]\n",
            " [2 3]]\n"
          ],
          "name": "stdout"
        }
      ]
    },
    {
      "cell_type": "markdown",
      "metadata": {
        "id": "jQBs8PNbUdrd"
      },
      "source": [
        "```\n",
        "mean var and std\n",
        "\n",
        "The mean tool computes the arithmetic mean along the specified axis.\n",
        "\n",
        "import numpy\n",
        "\n",
        "my_array = numpy.array([ [1, 2], [3, 4] ])\n",
        "\n",
        "print numpy.mean(my_array, axis = 0)        #Output : [ 2.  3.]\n",
        "print numpy.mean(my_array, axis = 1)        #Output : [ 1.5  3.5]\n",
        "print numpy.mean(my_array, axis = None)     #Output : 2.5\n",
        "print numpy.mean(my_array)                  #Output : 2.5\n",
        "By default, the axis is None. Therefore, it computes the mean of the flattened array.\n",
        "\n",
        "var\n",
        "\n",
        "The var tool computes the arithmetic variance along the specified axis.\n",
        "\n",
        "import numpy\n",
        "\n",
        "my_array = numpy.array([ [1, 2], [3, 4] ])\n",
        "\n",
        "print numpy.var(my_array, axis = 0)         #Output : [ 1.  1.]\n",
        "print numpy.var(my_array, axis = 1)         #Output : [ 0.25  0.25]\n",
        "print numpy.var(my_array, axis = None)      #Output : 1.25\n",
        "print numpy.var(my_array)                   #Output : 1.25\n",
        "By default, the axis is None. Therefore, it computes the variance of the flattened array.\n",
        "\n",
        "std\n",
        "\n",
        "The std tool computes the arithmetic standard deviation along the specified axis.\n",
        "\n",
        "import numpy\n",
        "\n",
        "my_array = numpy.array([ [1, 2], [3, 4] ])\n",
        "\n",
        "print numpy.std(my_array, axis = 0)         #Output : [ 1.  1.]\n",
        "print numpy.std(my_array, axis = 1)         #Output : [ 0.5  0.5]\n",
        "print numpy.std(my_array, axis = None)      #Output : 1.11803398875\n",
        "print numpy.std(my_array)                   #Output : 1.11803398875\n",
        "By default, the axis is None. Therefore, it computes the standard deviation of the flattened array.\n",
        "\n",
        "Task\n",
        "\n",
        "You are given a 2-D array of size X.\n",
        "Your task is to find:\n",
        "\n",
        "The mean along axis \n",
        "The var along axis \n",
        "The std along axis \n",
        "Input Format\n",
        "\n",
        "The first line contains the space separated values of  and .\n",
        "The next  lines contains  space separated integers.\n",
        "\n",
        "Output Format\n",
        "\n",
        "First, print the mean.\n",
        "Second, print the var.\n",
        "Third, print the std.\n",
        "\n",
        "Sample Input\n",
        "\n",
        "2 2\n",
        "1 2\n",
        "3 4\n",
        "Sample Output\n",
        "\n",
        "[ 1.5  3.5]\n",
        "[ 1.  1.]\n",
        "1.11803398875\n",
        "```\n",
        "\n"
      ]
    },
    {
      "cell_type": "code",
      "metadata": {
        "colab": {
          "base_uri": "https://localhost:8080/"
        },
        "id": "3LoEjeAAUnmj",
        "outputId": "316d30bb-e0d3-403a-e39c-303f16a4dba7"
      },
      "source": [
        "import numpy\n",
        "a,b=tuple(map(int,input().split()))\n",
        "arr=numpy.array([input().split() for i in range(a)],int)\n",
        "print(numpy.mean(arr,axis=1))\n",
        "print(numpy.var(arr,axis=0))\n",
        "print(round(numpy.std(arr, axis=None),11))"
      ],
      "execution_count": 10,
      "outputs": [
        {
          "output_type": "stream",
          "text": [
            "2 2\n",
            "1 2\n",
            "3 4\n",
            "[ 1.5  3.5]\n",
            "[ 1.  1.]\n",
            "1.11803398875\n"
          ],
          "name": "stdout"
        }
      ]
    },
    {
      "cell_type": "markdown",
      "metadata": {
        "id": "Wht0ysmMUzf-"
      },
      "source": [
        "```\n",
        "shape\n",
        "\n",
        "The shape tool gives a tuple of array dimensions and can be used to change the dimensions of an array.\n",
        "\n",
        "(a). Using shape to get array dimensions\n",
        "\n",
        "import numpy\n",
        "\n",
        "my__1D_array = numpy.array([1, 2, 3, 4, 5])\n",
        "print my_1D_array.shape     #(5,) -> 1 row and 5 columns\n",
        "\n",
        "my__2D_array = numpy.array([[1, 2],[3, 4],[6,5]])\n",
        "print my_2D_array.shape     #(3, 2) -> 3 rows and 2 columns \n",
        "(b). Using shape to change array dimensions\n",
        "\n",
        "import numpy\n",
        "\n",
        "change_array = numpy.array([1,2,3,4,5,6])\n",
        "change_array.shape = (3, 2)\n",
        "print change_array      \n",
        "\n",
        "#Output\n",
        "[[1 2]\n",
        "[3 4]\n",
        "[5 6]]\n",
        "reshape\n",
        "\n",
        "The reshape tool gives a new shape to an array without changing its data. It creates a new array and does not modify the original array itself.\n",
        "\n",
        "import numpy\n",
        "\n",
        "my_array = numpy.array([1,2,3,4,5,6])\n",
        "print numpy.reshape(my_array,(3,2))\n",
        "\n",
        "#Output\n",
        "[[1 2]\n",
        "[3 4]\n",
        "[5 6]]\n",
        "Task\n",
        "\n",
        "You are given a space separated list of nine integers. Your task is to convert this list into a X NumPy array.\n",
        "\n",
        "Input Format\n",
        "\n",
        "A single line of input containing  space separated integers.\n",
        "\n",
        "Output Format\n",
        "\n",
        "Print the X NumPy array.\n",
        "\n",
        "Sample Input\n",
        "\n",
        "1 2 3 4 5 6 7 8 9\n",
        "Sample Output\n",
        "\n",
        "[[1 2 3]\n",
        " [4 5 6]\n",
        " [7 8 9]]\n",
        "```"
      ]
    },
    {
      "cell_type": "code",
      "metadata": {
        "colab": {
          "base_uri": "https://localhost:8080/"
        },
        "id": "gm1XOM_jU012",
        "outputId": "efb65594-eea8-4bf9-9eb5-b44308800c7f"
      },
      "source": [
        "import numpy\n",
        "print(numpy.array(input().split(\" \"), int).reshape(3,3))"
      ],
      "execution_count": 11,
      "outputs": [
        {
          "output_type": "stream",
          "text": [
            "1 2 3 4 5 6 7 8 9\n",
            "[[1 2 3]\n",
            " [4 5 6]\n",
            " [7 8 9]]\n"
          ],
          "name": "stdout"
        }
      ]
    },
    {
      "cell_type": "markdown",
      "metadata": {
        "id": "iIMaHYn5U9TB"
      },
      "source": [
        "```\n",
        "Transpose\n",
        "\n",
        "We can generate the transposition of an array using the tool numpy.transpose.\n",
        "It will not affect the original array, but it will create a new array.\n",
        "\n",
        "import numpy\n",
        "\n",
        "my_array = numpy.array([[1,2,3],\n",
        "                        [4,5,6]])\n",
        "print numpy.transpose(my_array)\n",
        "\n",
        "#Output\n",
        "[[1 4]\n",
        " [2 5]\n",
        " [3 6]]\n",
        "Flatten\n",
        "\n",
        "The tool flatten creates a copy of the input array flattened to one dimension.\n",
        "\n",
        "import numpy\n",
        "\n",
        "my_array = numpy.array([[1,2,3],\n",
        "                        [4,5,6]])\n",
        "print my_array.flatten()\n",
        "\n",
        "#Output\n",
        "[1 2 3 4 5 6]\n",
        "Task\n",
        "\n",
        "You are given a X integer array matrix with space separated elements ( = rows and  = columns).\n",
        "Your task is to print the transpose and flatten results.\n",
        "\n",
        "Input Format\n",
        "\n",
        "The first line contains the space separated values of  and .\n",
        "The next  lines contains the space separated elements of  columns.\n",
        "\n",
        "Output Format\n",
        "\n",
        "First, print the transpose array and then print the flatten.\n",
        "\n",
        "Sample Input\n",
        "\n",
        "2 2\n",
        "1 2\n",
        "3 4\n",
        "Sample Output\n",
        "\n",
        "[[1 3]\n",
        " [2 4]]\n",
        "[1 2 3 4]\n",
        "\n",
        "```"
      ]
    },
    {
      "cell_type": "code",
      "metadata": {
        "colab": {
          "base_uri": "https://localhost:8080/"
        },
        "id": "YLqs13ryVDV3",
        "outputId": "4a21ead8-1c94-44ef-b2f3-2ffcd743ac8f"
      },
      "source": [
        "import numpy\n",
        "a,b=tuple(map(int, input().split()))\n",
        "arr=numpy.array([input().split() for i in range(a)],int)\n",
        "print(numpy.transpose(arr))\n",
        "print(arr.flatten())"
      ],
      "execution_count": 12,
      "outputs": [
        {
          "output_type": "stream",
          "text": [
            "2 2\n",
            "1 2\n",
            "3 4\n",
            "[[1 3]\n",
            " [2 4]]\n",
            "[1 2 3 4]\n"
          ],
          "name": "stdout"
        }
      ]
    },
    {
      "cell_type": "code",
      "metadata": {
        "colab": {
          "base_uri": "https://localhost:8080/"
        },
        "id": "GkdkKq0WVL5U",
        "outputId": "13592f1e-a250-4d18-d0ea-5fec89c73c5b"
      },
      "source": [
        "import numpy\n",
        "a,b=tuple(map(int, input().split()))\n",
        "n=[]\n",
        "for i in range(a):\n",
        "    n.append(list(map(int,input().split())))\n",
        "arr=numpy.array(n)\n",
        "print(numpy.transpose(arr))\n",
        "print(arr.flatten())"
      ],
      "execution_count": 13,
      "outputs": [
        {
          "output_type": "stream",
          "text": [
            "2 2\n",
            "1 2\n",
            "3 4\n",
            "[[1 3]\n",
            " [2 4]]\n",
            "[1 2 3 4]\n"
          ],
          "name": "stdout"
        }
      ]
    },
    {
      "cell_type": "markdown",
      "metadata": {
        "id": "M1gch_tQVWbH"
      },
      "source": [
        "```\n",
        "zeros and ones\n",
        "\n",
        "The zeros tool returns a new array with a given shape and type filled with 's.\n",
        "\n",
        "import numpy\n",
        "\n",
        "print numpy.zeros((1,2))                    #Default type is float\n",
        "#Output : [[ 0.  0.]] \n",
        "\n",
        "print numpy.zeros((1,2), dtype = numpy.int) #Type changes to int\n",
        "#Output : [[0 0]]\n",
        "ones\n",
        "\n",
        "The ones tool returns a new array with a given shape and type filled with 's.\n",
        "\n",
        "import numpy\n",
        "\n",
        "print numpy.ones((1,2))                    #Default type is float\n",
        "#Output : [[ 1.  1.]] \n",
        "\n",
        "print numpy.ones((1,2), dtype = numpy.int) #Type changes to int\n",
        "#Output : [[1 1]]   \n",
        "Task\n",
        "\n",
        "You are given the shape of the array in the form of space-separated integers, each integer representing the size of different dimensions, your task is to print an array of the given shape and integer type using the tools numpy.zeros and numpy.ones.\n",
        "\n",
        "Input Format\n",
        "\n",
        "A single line containing the space-separated integers.\n",
        "\n",
        "Constraints\n",
        "\n",
        "\n",
        "Output Format\n",
        "\n",
        "First, print the array using the numpy.zeros tool and then print the array with the numpy.ones tool.\n",
        "\n",
        "Sample Input\n",
        "\n",
        "3 3 3\n",
        "Sample Output\n",
        "\n",
        "[[[0 0 0]\n",
        "  [0 0 0]\n",
        "  [0 0 0]]\n",
        "\n",
        " [[0 0 0]\n",
        "  [0 0 0]\n",
        "  [0 0 0]]\n",
        "\n",
        " [[0 0 0]\n",
        "  [0 0 0]\n",
        "  [0 0 0]]]\n",
        "[[[1 1 1]\n",
        "  [1 1 1]\n",
        "  [1 1 1]]\n",
        "\n",
        " [[1 1 1]\n",
        "  [1 1 1]\n",
        "  [1 1 1]]\n",
        "\n",
        " [[1 1 1]\n",
        "  [1 1 1]\n",
        "  [1 1 1]]]\n",
        "Explanation\n",
        "\n",
        "Print the array built using numpy.zeros and numpy.ones tools and you get the result as shown.\n",
        "```"
      ]
    },
    {
      "cell_type": "code",
      "metadata": {
        "colab": {
          "base_uri": "https://localhost:8080/"
        },
        "id": "z-GB_acdVoE8",
        "outputId": "ffaf3b29-3266-44ad-bdf9-0ee3c3e9fb0f"
      },
      "source": [
        "import numpy\n",
        "N = tuple(map(int, input().split()))\n",
        "print(numpy.zeros(N, int))\n",
        "print(numpy.ones(N, int))"
      ],
      "execution_count": 14,
      "outputs": [
        {
          "output_type": "stream",
          "text": [
            "3 3 3\n",
            "[[[0 0 0]\n",
            "  [0 0 0]\n",
            "  [0 0 0]]\n",
            "\n",
            " [[0 0 0]\n",
            "  [0 0 0]\n",
            "  [0 0 0]]\n",
            "\n",
            " [[0 0 0]\n",
            "  [0 0 0]\n",
            "  [0 0 0]]]\n",
            "[[[1 1 1]\n",
            "  [1 1 1]\n",
            "  [1 1 1]]\n",
            "\n",
            " [[1 1 1]\n",
            "  [1 1 1]\n",
            "  [1 1 1]]\n",
            "\n",
            " [[1 1 1]\n",
            "  [1 1 1]\n",
            "  [1 1 1]]]\n"
          ],
          "name": "stdout"
        }
      ]
    },
    {
      "cell_type": "markdown",
      "metadata": {
        "id": "T3PVC4uzV64P"
      },
      "source": [
        "```\n",
        "min\n",
        "\n",
        "The tool min returns the minimum value along a given axis.\n",
        "\n",
        "import numpy\n",
        "\n",
        "my_array = numpy.array([[2, 5], \n",
        "                        [3, 7],\n",
        "                        [1, 3],\n",
        "                        [4, 0]])\n",
        "\n",
        "print numpy.min(my_array, axis = 0)         #Output : [1 0]\n",
        "print numpy.min(my_array, axis = 1)         #Output : [2 3 1 0]\n",
        "print numpy.min(my_array, axis = None)      #Output : 0\n",
        "print numpy.min(my_array)                   #Output : 0\n",
        "By default, the axis value is None. Therefore, it finds the minimum over all the dimensions of the input array.\n",
        "\n",
        "max\n",
        "\n",
        "The tool max returns the maximum value along a given axis.\n",
        "\n",
        "import numpy\n",
        "\n",
        "my_array = numpy.array([[2, 5], \n",
        "                        [3, 7],\n",
        "                        [1, 3],\n",
        "                        [4, 0]])\n",
        "\n",
        "print numpy.max(my_array, axis = 0)         #Output : [4 7]\n",
        "print numpy.max(my_array, axis = 1)         #Output : [5 7 3 4]\n",
        "print numpy.max(my_array, axis = None)      #Output : 7\n",
        "print numpy.max(my_array)                   #Output : 7\n",
        "By default, the axis value is None. Therefore, it finds the maximum over all the dimensions of the input array.\n",
        "\n",
        "Task\n",
        "\n",
        "You are given a 2-D array with dimensions N X M.\n",
        "Your task is to perform the min function over axis  and then find the max of that.\n",
        "\n",
        "Input Format\n",
        "\n",
        "The first line of input contains the space separated values of  and .\n",
        "The next  lines contains  space separated integers.\n",
        "\n",
        "Output Format\n",
        "\n",
        "Compute the min along axis  and then print the max of that result.\n",
        "\n",
        "Sample Input\n",
        "\n",
        "4 2\n",
        "2 5\n",
        "3 7\n",
        "1 3\n",
        "4 0\n",
        "Sample Output\n",
        "\n",
        "3\n",
        "```"
      ]
    },
    {
      "cell_type": "code",
      "metadata": {
        "colab": {
          "base_uri": "https://localhost:8080/"
        },
        "id": "CkdOLHQBV6IM",
        "outputId": "40bf52f6-c3ba-4465-974f-12d49c1555fc"
      },
      "source": [
        "import numpy\n",
        "a,b=tuple(map(int, input().split()))\n",
        "arr=numpy.array([input().split() for i in range(a)], int)\n",
        "minn=numpy.min(arr,axis=1)\n",
        "print(numpy.max(minn))"
      ],
      "execution_count": 15,
      "outputs": [
        {
          "output_type": "stream",
          "text": [
            "4 2\n",
            "2 5\n",
            "3 7\n",
            "1 3\n",
            "4 0\n",
            "3\n"
          ],
          "name": "stdout"
        }
      ]
    }
  ]
}