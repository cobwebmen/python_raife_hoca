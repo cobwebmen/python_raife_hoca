{
  "nbformat": 4,
  "nbformat_minor": 0,
  "metadata": {
    "colab": {
      "name": "Advanced_List_Sort.ipynb",
      "provenance": []
    },
    "kernelspec": {
      "name": "python3",
      "display_name": "Python 3"
    },
    "language_info": {
      "name": "python"
    }
  },
  "cells": [
    {
      "cell_type": "markdown",
      "metadata": {
        "id": "oeKuG3MCrwD4"
      },
      "source": [
        "Create a function that takes a list of numbers or strings and returns a list with the items from the original list stored into sublists. Items of the same value should be in the same sublist.\n",
        "\n",
        "Examples\n",
        "\n",
        "advanced_sort([2, 1, 2, 1]) ➞ [[2, 2], [1, 1]]\n",
        "\n",
        "advanced_sort([5, 4, 5, 5, 4, 3]) ➞ [[5, 5, 5], [4, 4], [3]]\n",
        "\n",
        "advanced_sort([\"b\", \"a\", \"b\", \"a\", \"c\"]) ➞ [[\"b\", \"b\"], [\"a\", \"a\"], [\"c\"]]\n",
        "\n",
        "Notes\n",
        "The sublists should be returned in the order of each element's first appearance in the given list."
      ]
    },
    {
      "cell_type": "code",
      "metadata": {
        "colab": {
          "base_uri": "https://localhost:8080/"
        },
        "id": "14mdD6lPrqY0",
        "outputId": "a17142b5-32f4-4ab4-b6b7-9ec46f1c44ef"
      },
      "source": [
        "def advanced_sort(liste):\n",
        "    sozluk={}\n",
        "    for i in liste:\n",
        "        if i not in sozluk:\n",
        "            sozluk[i]=[i]\n",
        "        else:\n",
        "            sozluk[i].append(i)\n",
        "    return list(sozluk.values())\n",
        "advanced_sort([\"b\", \"a\", \"b\", \"a\", \"c\"])"
      ],
      "execution_count": 1,
      "outputs": [
        {
          "output_type": "execute_result",
          "data": {
            "text/plain": [
              "[['b', 'b'], ['a', 'a'], ['c']]"
            ]
          },
          "metadata": {
            "tags": []
          },
          "execution_count": 1
        }
      ]
    }
  ]
}