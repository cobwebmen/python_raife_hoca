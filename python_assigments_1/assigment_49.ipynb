{
  "nbformat": 4,
  "nbformat_minor": 0,
  "metadata": {
    "colab": {
      "name": "assigment_49.ipynb",
      "provenance": []
    },
    "kernelspec": {
      "name": "python3",
      "display_name": "Python 3"
    },
    "language_info": {
      "name": "python"
    }
  },
  "cells": [
    {
      "cell_type": "markdown",
      "metadata": {
        "id": "N0bvDYzZyGFL"
      },
      "source": [
        "listeyi sondan alarak çevirdiğimizde yeni hali nasıl olur."
      ]
    },
    {
      "cell_type": "code",
      "metadata": {
        "colab": {
          "base_uri": "https://localhost:8080/"
        },
        "id": "ee87zJR5gfFl",
        "outputId": "ed4e4980-1435-4a98-c490-cfb71027c344"
      },
      "source": [
        "def listeyi_cevir():\n",
        "  liste=list(map(int, input(\"head= \").split(\"->\")))\n",
        "  k=int(input(\"k=\"))\n",
        "  print(\"->\".join(map(str,liste[-k:]))+\"->\"+\"->\".join(map(str,liste[0:-k])))\n",
        "listeyi_cevir()  "
      ],
      "execution_count": 15,
      "outputs": [
        {
          "output_type": "stream",
          "text": [
            "head= 1->2->3->4->5->6->7->8->9\n",
            "k=4\n",
            "6->7->8->9->1->2->3->4->5\n"
          ],
          "name": "stdout"
        }
      ]
    }
  ]
}