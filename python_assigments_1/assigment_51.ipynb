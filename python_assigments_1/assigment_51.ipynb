{
  "nbformat": 4,
  "nbformat_minor": 0,
  "metadata": {
    "colab": {
      "name": "assigment_51.ipynb",
      "provenance": []
    },
    "kernelspec": {
      "name": "python3",
      "display_name": "Python 3"
    },
    "language_info": {
      "name": "python"
    }
  },
  "cells": [
    {
      "cell_type": "markdown",
      "metadata": {
        "id": "H0zQXr2LEQMG"
      },
      "source": [
        "a < b < c olmak üzere a^2 + b^2 = c^2 olan tam sayılara Pisagor üçlüsü denir. a + b + c = 1 000 olacak şekilde tek bir Pisagor üçlüsü vardır. Onu bulmanız istenmektedir."
      ]
    },
    {
      "cell_type": "code",
      "metadata": {
        "colab": {
          "base_uri": "https://localhost:8080/"
        },
        "id": "bDFHd1eniBJp",
        "outputId": "0313fab9-864d-40b0-a22f-42dc73d6eb15"
      },
      "source": [
        "for a in range(1,500):\n",
        "  for b in range(a+1,500): \n",
        "    c=1000-a-b\n",
        "    if c**2==a**2+b**2:\n",
        "      print(a,b,c)"
      ],
      "execution_count": 14,
      "outputs": [
        {
          "output_type": "stream",
          "text": [
            "200 375 425\n"
          ],
          "name": "stdout"
        }
      ]
    },
    {
      "cell_type": "markdown",
      "metadata": {
        "id": "uJI2MXhb5G-g"
      },
      "source": [
        "Parola asağıdaki kurallara uyuyor mu kontrol et\n",
        "\n",
        "[A-z] arasında en az 1 harf ile [A-Z] arasında 1 harf.\n",
        "\n",
        "[0-9] arasında en az 1 sayı.\n",
        "\n",
        "[$ # @] 'Den en az 1 karakter.\n",
        "\n",
        "Minimum uzunluk 6 karakter.\n",
        "\n",
        "Maksimum uzunluk 16 karakter."
      ]
    },
    {
      "cell_type": "code",
      "metadata": {
        "colab": {
          "base_uri": "https://localhost:8080/"
        },
        "id": "RaK7A_Uf4igX",
        "outputId": "47fe0ade-11d8-426a-88f2-6cb8d8e99622"
      },
      "source": [
        "parola=input()\n",
        "harf=\"abcçdefgğhıijklmnoöprsştuüvwyzq\"\n",
        "rakam=\"0123456789\"\n",
        "krk=\"$#@\"\n",
        "if set(parola).intersection(harf) and set(parola).intersection(harf.upper())\\\n",
        "  and set(parola).intersection(rakam) and set(parola).intersection(krk)\\\n",
        "  and len(parola)>=6 and len(parola)<=16:\n",
        "  print(\"Süper\")\n",
        "else:\n",
        "  print(\"Olmadı\")"
      ],
      "execution_count": 34,
      "outputs": [
        {
          "output_type": "stream",
          "text": [
            "üiI12@#\n",
            "Süper\n"
          ],
          "name": "stdout"
        }
      ]
    }
  ]
}