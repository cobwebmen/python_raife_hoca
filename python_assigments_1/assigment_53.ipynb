{
  "nbformat": 4,
  "nbformat_minor": 0,
  "metadata": {
    "colab": {
      "name": "assigment_53.ipynb",
      "provenance": []
    },
    "kernelspec": {
      "name": "python3",
      "display_name": "Python 3"
    },
    "language_info": {
      "name": "python"
    }
  },
  "cells": [
    {
      "cell_type": "markdown",
      "metadata": {
        "id": "9loRRQ8Lp3W3"
      },
      "source": [
        "Write a function that takes in a single letter, and returns a 5x5 representation of that letter¶\n",
        "print_big('a')\n",
        "\n",
        "```\n",
        "       *  \n",
        "      * *\n",
        "     *****\n",
        "     *   *\n",
        "     *   *\n",
        "```\n",
        "\n",
        "HINT: Consider making a dictionary of possible patterns, and mapping the alphabet to specific 5-line combinations of patterns.\n",
        "For purposes of this exercise, it's ok if your dictionary stops at \"E\"."
      ]
    },
    {
      "cell_type": "code",
      "metadata": {
        "id": "RkAeQIc9k83u",
        "outputId": "ff7088af-7899-4009-cb15-d29e510e92b5",
        "colab": {
          "base_uri": "https://localhost:8080/"
        }
      },
      "source": [
        "def print_big(letter):\n",
        "  patterns = {1:'  *  ',2:' * * ',3:'*   *',4:'*****',5:'**** ',6:'   * ',7:' *   ',8:'*   * ',9:'*    ',10:\"*  *\"}\n",
        "  alpha={\"a\":(1,2,4,8,8),\"b\":(10,8,10,8,10),\"c\":(1,3,9,3,1),\"d\":(10,8,3,8,10),\"e\":(4,9,4,9,4)}\n",
        "  for i in alpha[letter]:\n",
        "    for k in patterns:\n",
        "      if i==k:\n",
        "        print(patterns[k])\n",
        "print_big(\"e\")"
      ],
      "execution_count": 50,
      "outputs": [
        {
          "output_type": "stream",
          "text": [
            "*****\n",
            "*    \n",
            "*****\n",
            "*    \n",
            "*****\n"
          ],
          "name": "stdout"
        }
      ]
    }
  ]
}