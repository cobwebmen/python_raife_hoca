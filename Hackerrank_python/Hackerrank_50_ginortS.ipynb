{
  "nbformat": 4,
  "nbformat_minor": 0,
  "metadata": {
    "colab": {
      "name": "Hackerrank_50_ginortS.ipynb",
      "provenance": []
    },
    "kernelspec": {
      "name": "python3",
      "display_name": "Python 3"
    },
    "language_info": {
      "name": "python"
    }
  },
  "cells": [
    {
      "cell_type": "markdown",
      "metadata": {
        "id": "6FqqAB7pFFWD"
      },
      "source": [
        "You are given a string S .\n",
        "S contains alphanumeric characters only.\n",
        " Your task is to sort the string S in the following manner:\n",
        "\n",
        "All sorted lowercase letters are ahead of uppercase letters.\n",
        "All sorted uppercase letters are ahead of digits.\n",
        "All sorted odd digits are ahead of sorted even digits.\n",
        "\n",
        "**Sample Input**\n",
        "\n",
        "Sorting1234\n",
        "\n",
        "**Sample Output**\n",
        "\n",
        "ginortS1324"
      ]
    },
    {
      "cell_type": "code",
      "metadata": {
        "colab": {
          "base_uri": "https://localhost:8080/"
        },
        "id": "M9thdhU6Cyww",
        "outputId": "c077b836-f3d4-44de-c545-8b4cc27a1416"
      },
      "source": [
        "s=input()\n",
        "low=[]\n",
        "up=[]\n",
        "odd=[]\n",
        "even=[]\n",
        "for i in s:\n",
        "  if i==i.lower() and not i.isdigit():\n",
        "    low.append(i)\n",
        "  elif i==i.upper() and not i.isdigit():\n",
        "    up.append(i)\n",
        "  elif int(i) % 2:\n",
        "    odd.append(i)\n",
        "  elif not int(i) % 2:\n",
        "    even.append(i)\n",
        "result=\"\".join(sorted(low)) + \"\".join(sorted(up)) + \"\".join(sorted(odd)) + \"\".join(sorted(even))\n",
        "print(result)"
      ],
      "execution_count": 3,
      "outputs": [
        {
          "output_type": "stream",
          "text": [
            "Sorting1234\n",
            "ginortS1324\n"
          ],
          "name": "stdout"
        }
      ]
    }
  ]
}