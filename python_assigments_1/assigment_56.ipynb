{
  "nbformat": 4,
  "nbformat_minor": 0,
  "metadata": {
    "colab": {
      "name": "assigment_56.ipynb",
      "provenance": []
    },
    "kernelspec": {
      "name": "python3",
      "display_name": "Python 3"
    },
    "language_info": {
      "name": "python"
    }
  },
  "cells": [
    {
      "cell_type": "markdown",
      "metadata": {
        "id": "j-G-Ck8OhajT"
      },
      "source": [
        "We have a loud talking parrot. We are in trouble if the parrot is talking and the hour is before 6 or after 21.\n",
        "Define a function taking two parameters (talking and hour) to return True if we are in trouble. The argument to  talking parameter can only be True or False whether it is talking or not. The argument to hour parameter should be the current hour time in the range of 0 to 23.\n",
        "\n",
        "For example:\n",
        "\n",
        "print(parrot_trouble(True, 5))\n",
        "True\n",
        "print(parrot_trouble(True, 8))\n",
        "False\n",
        "print(parrot_trouble(False, 22))\n",
        "False"
      ]
    },
    {
      "cell_type": "code",
      "metadata": {
        "colab": {
          "base_uri": "https://localhost:8080/"
        },
        "id": "1jAlWjqdK3M3",
        "outputId": "8cc7ddd5-edd6-4fac-8b41-7416ef941c74"
      },
      "source": [
        "def parrot_trouble(talking, hour):\n",
        "  return  True if talking and (hour<6 or hour>21) else False\n",
        "print(parrot_trouble(True, 5))\n",
        "print(parrot_trouble(True, 8))\n",
        "print(parrot_trouble(False, 22))"
      ],
      "execution_count": 10,
      "outputs": [
        {
          "output_type": "stream",
          "text": [
            "True\n",
            "False\n",
            "False\n"
          ],
          "name": "stdout"
        }
      ]
    }
  ]
}