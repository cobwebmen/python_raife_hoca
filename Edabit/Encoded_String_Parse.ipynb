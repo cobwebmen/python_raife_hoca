{
  "nbformat": 4,
  "nbformat_minor": 0,
  "metadata": {
    "colab": {
      "name": "Encoded_String_Parse.ipynb",
      "provenance": []
    },
    "kernelspec": {
      "name": "python3",
      "display_name": "Python 3"
    },
    "language_info": {
      "name": "python"
    }
  },
  "cells": [
    {
      "cell_type": "markdown",
      "metadata": {
        "id": "2osPzTYRywHs"
      },
      "source": [
        "reate a function which takes in an encoded string and returns a dictionary according to the following example:\n",
        "\n",
        "Examples\n",
        "parse_code(\"John000Doe000123\") ➞ {\n",
        "  \"first_name\": \"John\",\n",
        "  \"last_name\": \"Doe\",\n",
        "  \"id\": \"123\"\n",
        "}\n",
        "\n",
        "parse_code(\"michael0smith004331\") ➞ {\n",
        "  \"first_name\": \"michael\",\n",
        "  \"last_name\": \"smith\",\n",
        "  \"id\": \"4331\"\n",
        "}\n",
        "\n",
        "parse_code(\"Thomas00LEE0000043\") ➞ {\n",
        "  \"first_name\": \"Thomas\",\n",
        "  \"last_name\": \"LEE\",\n",
        "  \"id\": \"43\"\n",
        "}\n",
        "Notes\n",
        "The string will always be in the same format: first name, last name and id with zeros between them.\n",
        "id numbers will not contain any zeros.\n",
        "Bonus: Try solving this using RegEx."
      ]
    },
    {
      "cell_type": "code",
      "metadata": {
        "colab": {
          "base_uri": "https://localhost:8080/"
        },
        "id": "q7k10A37UDzo",
        "outputId": "8bd2683a-8072-4e70-dce6-cf94caea3a88"
      },
      "source": [
        "def parse_code(s):\n",
        "  liste=s.replace(\"0\",\" \").split()\n",
        "  return {\"first_name\":liste[0], \"last_name\":liste[1], \"id\":liste[2]}\n",
        "print(parse_code(\"Thomas00LEE0000043\"))\n",
        "print(parse_code(\"michael0smith004331\"))\n",
        "print(parse_code(\"John000Doe000123\"))"
      ],
      "execution_count": 3,
      "outputs": [
        {
          "output_type": "stream",
          "text": [
            "{'first_name': 'Thomas', 'last_name': 'LEE', 'id': '43'}\n",
            "{'first_name': 'michael', 'last_name': 'smith', 'id': '4331'}\n",
            "{'first_name': 'John', 'last_name': 'Doe', 'id': '123'}\n"
          ],
          "name": "stdout"
        }
      ]
    }
  ]
}