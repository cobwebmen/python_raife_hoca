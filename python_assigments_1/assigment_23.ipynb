{
  "nbformat": 4,
  "nbformat_minor": 0,
  "metadata": {
    "colab": {
      "name": "assigment_23.ipynb",
      "provenance": [],
      "collapsed_sections": []
    },
    "kernelspec": {
      "name": "python3",
      "display_name": "Python 3"
    },
    "language_info": {
      "name": "python"
    }
  },
  "cells": [
    {
      "cell_type": "markdown",
      "metadata": {
        "id": "9svj1RfFTUui"
      },
      "source": [
        "Task : Find out if the given word is \"comfortable words\" in relation to the ten-finger keyboard use.\n",
        "\n",
        "A comfortable word is a word which you can type always alternating the hand you type with (assuming you type using a Q-keyboard and use of the ten-fingers standard).\n",
        "The word will always be a string consisting of only letters from a to z.\n",
        "Write a program which returns True if it's a comfortable word or False otherwise.\n",
        "\n",
        "Examples\n",
        "\n",
        "Given  word\t\n",
        "tester\t\n",
        "Desired Output (explanation)\n",
        "\n",
        "False (uses only left-hand fingers)*\n",
        "Given  word\n",
        "polly\t\n",
        "Desired Output (explanation)\n",
        "\n",
        "False (uses only right-hand fingers)*\n",
        "\n",
        "Given  word\n",
        "\n",
        "clarusway\t\n",
        "Desired Output (explanation)\n",
        "\n",
        "True (uses both hand fingers)*\n",
        "\n",
        "Note : Do a quick research on ten-fingers keyboard usage. (*) the explanation doesn't need to be in the output."
      ]
    },
    {
      "cell_type": "code",
      "metadata": {
        "colab": {
          "base_uri": "https://localhost:8080/"
        },
        "id": "tYxUUVXJEOyJ",
        "outputId": "0fc35199-92ef-4539-ab0a-b6e941b2134a"
      },
      "source": [
        "left=set(\"qazwsxedcrfvtbg\")\n",
        "right=set(\"yhnujmıkoölpşüçi\")\n",
        "word=set(input())\n",
        "print((left.intersection(word) != word and right.intersection(word)!=word) and (left.union(right)).intersection(word)==word )\n"
      ],
      "execution_count": 51,
      "outputs": [
        {
          "output_type": "stream",
          "text": [
            "clarusway\n",
            "True\n"
          ],
          "name": "stdout"
        }
      ]
    }
  ]
}