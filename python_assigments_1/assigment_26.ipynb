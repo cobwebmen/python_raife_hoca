{
  "nbformat": 4,
  "nbformat_minor": 0,
  "metadata": {
    "colab": {
      "name": "assigment_27.ipynb",
      "provenance": [],
      "collapsed_sections": []
    },
    "kernelspec": {
      "name": "python3",
      "display_name": "Python 3"
    },
    "language_info": {
      "name": "python"
    }
  },
  "cells": [
    {
      "cell_type": "markdown",
      "metadata": {
        "id": "Lq2ND6R8MLb6"
      },
      "source": [
        "Bir stringde ikinci kez zip geçen indexi, eğer en az iki kere geçmiyorsa -1 döndüren fonksiyon yazalım."
      ]
    },
    {
      "cell_type": "code",
      "metadata": {
        "colab": {
          "base_uri": "https://localhost:8080/"
        },
        "id": "bBO97HFnMATP",
        "outputId": "4ecc96b0-9902-4cf3-a5be-74298209b13c"
      },
      "source": [
        "def zip(yazi):\n",
        "  a=yazi.count(\"zip\")\n",
        "  if a<2:\n",
        "    return -1\n",
        "  elif a>=2:\n",
        "    return yazi.index(\"zip\", yazi.index(\"zip\")+3)\n",
        "print(zip(\"pythonda zip kullanımı varmış,zipi araitırıp öğrendim.\"))\n",
        "print(zip(\"burada -1 döndürecek\"))\n",
        "print(zip(\"zip yine -1 döndürecek\"))"
      ],
      "execution_count": 25,
      "outputs": [
        {
          "output_type": "stream",
          "text": [
            "30\n",
            "-1\n",
            "-1\n"
          ],
          "name": "stdout"
        }
      ]
    },
    {
      "cell_type": "markdown",
      "metadata": {
        "id": "r2Zzi0obS7Go"
      },
      "source": [
        "Yazının içersindeki kelimelerin ilk ve son karakterleri sabit tutup diğer karakterleri yerine - çizgi koyan fonksiyon yazalım."
      ]
    },
    {
      "cell_type": "code",
      "metadata": {
        "colab": {
          "base_uri": "https://localhost:8080/"
        },
        "id": "xHXW_O2VPbVG",
        "outputId": "794e68ce-bbe7-400b-85a9-286e9b31072e"
      },
      "source": [
        "def dönüstür(yazi):\n",
        "  liste=yazi.split()\n",
        "  yeni=\"\"\n",
        "  for i in liste:\n",
        "    for k in i:\n",
        "      if i.index(k)==0:\n",
        "        yeni+=k\n",
        "      elif i.index(k)== len(i)-1:\n",
        "        yeni+=k+\" \"\n",
        "      else:\n",
        "        yeni+=\"-\"\n",
        "  return yeni\n",
        "print(dönüstür(\"hello world\"))  "
      ],
      "execution_count": 31,
      "outputs": [
        {
          "output_type": "stream",
          "text": [
            "h---o w---d \n"
          ],
          "name": "stdout"
        }
      ]
    },
    {
      "cell_type": "markdown",
      "metadata": {
        "id": "LVX-dYiuWD_F"
      },
      "source": [
        "Çok fazla alt listesi olan bir listede  değeri veren bir fonksiyon yazalım\n",
        "\n"
      ]
    },
    {
      "cell_type": "code",
      "metadata": {
        "colab": {
          "base_uri": "https://localhost:8080/"
        },
        "id": "pOZysdC-WEcw",
        "outputId": "13a9cdb3-dc65-41f9-9922-87d9373e9f79"
      },
      "source": [
        "def sadelestir(deger):\n",
        "  if type(deger)==list:\n",
        "    return sadelestir(deger[0])\n",
        "  else:\n",
        "    return deger\n",
        "print(sadelestir([[[[[[[[[[[18]]]]]]]]]]]))\n",
        "print(sadelestir([3]))\n",
        "print(sadelestir([[[[[[[[[[[[[[[[12]]]]]]]]]]]]]]]]))"
      ],
      "execution_count": 34,
      "outputs": [
        {
          "output_type": "stream",
          "text": [
            "18\n",
            "3\n",
            "12\n"
          ],
          "name": "stdout"
        }
      ]
    }
  ]
}