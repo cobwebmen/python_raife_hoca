{
  "nbformat": 4,
  "nbformat_minor": 0,
  "metadata": {
    "colab": {
      "name": "Basic_Arithmetic_Operations_on_a_String_Number.ipynb",
      "provenance": []
    },
    "kernelspec": {
      "name": "python3",
      "display_name": "Python 3"
    },
    "language_info": {
      "name": "python"
    }
  },
  "cells": [
    {
      "cell_type": "markdown",
      "metadata": {
        "id": "RVzRZPZ26u1E"
      },
      "source": [
        "Create a function to perform basic arithmetic operations that includes addition, subtraction, multiplication and division on a string number (e.g. \"12 + 24\" or \"23 - 21\" or \"12 // 12\" or \"12 * 21\").\n",
        "\n",
        "Here, we have 1 followed by a space, operator followed by another space and 2. For the challenge, we are going to have only two numbers between 1 valid operator. The return value should be a number.\n",
        "\n",
        "eval() is not allowed. In case of division, whenever the second number equals \"0\" return -1.\n",
        "\n",
        "For example:\n",
        "\n",
        "\"15 // 0\"  ➞ -1\n",
        "Examples\n",
        "arithmetic_operation(\"12 + 12\") ➞ 24 // 12 + 12 = 24\n",
        "\n",
        "arithmetic_operation(\"12 - 12\") ➞ 24 // 12 - 12 = 0\n",
        "\n",
        "arithmetic_operation(\"12 * 12\") ➞ 144 // 12 * 12 = 144\n",
        "\n",
        "arithmetic_operation(\"12 // 0\") ➞ -1 // 12 / 0 = -1\n",
        "Notes\n",
        "All the inputs are only integers.\n",
        "The operators are * - + and //.\n",
        "Hint: Think about the single space that appears before and after the arithmetic operator."
      ]
    },
    {
      "cell_type": "code",
      "metadata": {
        "colab": {
          "base_uri": "https://localhost:8080/"
        },
        "id": "ZiLx_uEl6TZX",
        "outputId": "08a98f08-9117-4403-908c-2485c0a755cb"
      },
      "source": [
        "def arithmetic_operation(s):\n",
        "  l=s.split()\n",
        "  if \"+\" in l:\n",
        "    return int(l[0])+int(l[2])\n",
        "  elif \"-\" in l:\n",
        "    return int(l[0])-int(l[2])\n",
        "  elif \"*\" in l:\n",
        "    return int(l[0])*int(l[2])\n",
        "  elif \"//\" in l:\n",
        "    if l[2]==\"0\":\n",
        "      return -1\n",
        "    else:\n",
        "      return int(l[0])//int(l[2])\n",
        "print(arithmetic_operation(\"12 - 12\"))\n",
        "print(arithmetic_operation(\"12 * 12\"))\n",
        "print(arithmetic_operation(\"12 // 0\"))"
      ],
      "execution_count": 3,
      "outputs": [
        {
          "output_type": "stream",
          "text": [
            "0\n",
            "144\n",
            "-1\n"
          ],
          "name": "stdout"
        }
      ]
    }
  ]
}