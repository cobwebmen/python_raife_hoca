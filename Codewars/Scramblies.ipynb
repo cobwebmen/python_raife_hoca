{
  "nbformat": 4,
  "nbformat_minor": 0,
  "metadata": {
    "colab": {
      "name": "Scramblies.ipynb",
      "provenance": []
    },
    "kernelspec": {
      "name": "python3",
      "display_name": "Python 3"
    },
    "language_info": {
      "name": "python"
    }
  },
  "cells": [
    {
      "cell_type": "markdown",
      "metadata": {
        "id": "yMW0kwih8DVP"
      },
      "source": [
        "```\n",
        "Complete the function scramble(str1, str2) that returns true if a portion of str1 characters can be rearranged to match str2, otherwise returns false.\n",
        "\n",
        "Notes:\n",
        "\n",
        "Only lower case letters will be used (a-z). No punctuation or digits will be included.\n",
        "Performance needs to be considered\n",
        "Input strings s1 and s2 are null terminated.\n",
        "Examples\n",
        "scramble('rkqodlw', 'world') ==> True\n",
        "scramble('cedewaraaossoqqyt', 'codewars') ==> True\n",
        "scramble('katas', 'steak') ==> False\n",
        "```"
      ]
    },
    {
      "cell_type": "code",
      "metadata": {
        "id": "hewYZuLI8CYV"
      },
      "source": [
        "def scramble(s1, s2):\n",
        "    return all([True if s2.count(i)<=s1.count(i) else False for i in set(s2)])"
      ],
      "execution_count": null,
      "outputs": []
    },
    {
      "cell_type": "code",
      "metadata": {
        "id": "nxnP0SXo8_lS"
      },
      "source": [
        "def scramble(s1,s2):\n",
        "    s=True\n",
        "    for i in set(s2):\n",
        "        if s2.count(i)>s1.count(i):\n",
        "            s=False\n",
        "            break\n",
        "    return s"
      ],
      "execution_count": null,
      "outputs": []
    }
  ]
}