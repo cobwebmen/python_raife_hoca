{
  "nbformat": 4,
  "nbformat_minor": 0,
  "metadata": {
    "colab": {
      "name": "assigment_43.ipynb",
      "provenance": []
    },
    "kernelspec": {
      "name": "python3",
      "display_name": "Python 3"
    },
    "language_info": {
      "name": "python"
    }
  },
  "cells": [
    {
      "cell_type": "markdown",
      "metadata": {
        "id": "yMFM2IYoq9lA"
      },
      "source": [
        "ilk inputumuz bir sayı ve O sayıda malzeme ve fiyatı olacak şekilde input giriliyor. Bazı malzemeler birden fazla giriliyor. Tüm malzemelerin malzeme ve toplam fiyatları olacak şekilde kodumuzu yazalım\n",
        "\n",
        "**Input**\n",
        "\n",
        "9\n",
        "\n",
        "banana 12\n",
        "\n",
        "potato 30\n",
        "\n",
        "apple 10\n",
        "\n",
        "candy 5\n",
        "\n",
        "apple 10\n",
        "\n",
        "candy 5\n",
        "\n",
        "candy 5\n",
        "\n",
        "candy 5\n",
        "\n",
        "**Output**\n",
        "\n",
        "potato 30\n",
        "\n",
        "banana 12\n",
        "\n",
        "potato 60\n",
        "\n",
        "apple 20\n",
        "\n",
        "candy 20"
      ]
    },
    {
      "cell_type": "code",
      "metadata": {
        "colab": {
          "base_uri": "https://localhost:8080/"
        },
        "id": "XVUy9eabJZzy",
        "outputId": "ba073499-111c-4288-f4db-f0d1e406558b"
      },
      "source": [
        "sayi=int(input())\n",
        "sözlük={}\n",
        "for i in range(sayi):\n",
        "  malzeme,fiyat=input().split()\n",
        "  fiyat=int(fiyat)\n",
        "  if malzeme in sözlük:\n",
        "    sözlük[malzeme].append(fiyat)\n",
        "  else:\n",
        "    sözlük[malzeme]=[fiyat]\n",
        "for m,f in sözlük.items():\n",
        "  print(m,sum(f))"
      ],
      "execution_count": null,
      "outputs": [
        {
          "output_type": "stream",
          "text": [
            "9\n",
            "banana 12\n",
            "potato 30\n",
            "apple 10\n",
            "candy 5\n",
            "apple 10\n",
            "candy 5\n",
            "candy 5\n",
            "candy 5\n",
            "potato 30\n",
            "banana 12\n",
            "potato 60\n",
            "apple 20\n",
            "candy 20\n"
          ],
          "name": "stdout"
        }
      ]
    }
  ]
}