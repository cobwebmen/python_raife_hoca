{
  "nbformat": 4,
  "nbformat_minor": 0,
  "metadata": {
    "colab": {
      "name": "assigment_32.ipynb",
      "provenance": [],
      "collapsed_sections": []
    },
    "kernelspec": {
      "name": "python3",
      "display_name": "Python 3"
    },
    "language_info": {
      "name": "python"
    }
  },
  "cells": [
    {
      "cell_type": "markdown",
      "metadata": {
        "id": "JEeVLrQFkCw6"
      },
      "source": [
        "12 saatlik formatta verilen stringi 24 saatlik formata, eğer 24 saatlik verilmişse 12 saate çeviren fonksiyon yazalım\n"
      ]
    },
    {
      "cell_type": "code",
      "metadata": {
        "colab": {
          "base_uri": "https://localhost:8080/"
        },
        "id": "tsh13GYEjdcC",
        "outputId": "838818d1-1cc9-42bb-846f-be2ac63f18f4"
      },
      "source": [
        "def saat_cevir(saat):\n",
        "  if \"am\" in saat:\n",
        "    if saat[:2]==\"12\":\n",
        "      return \"00:\"+saat[3:5]\n",
        "    else:\n",
        "      return saat[:5]\n",
        "  elif \"pm\" in saat:\n",
        "    return str(int(saat[:saat.index(\":\")])+12)+saat[saat.index(\":\"):(saat.index(\":\")+3)]\n",
        "  elif int(saat[:saat.index(\":\")])>=12:\n",
        "    return str(int(saat[:saat.index(\":\")])-12)+ saat[saat.index(\":\"):]+\" pm\"\n",
        "  elif int(saat[:saat.index(\":\")])<12:\n",
        "    return saat+\" am\" \n",
        "\n",
        "print(saat_cevir(\"12:00 am\"))\n",
        "print(saat_cevir(\"15:15\"))\n",
        "print(saat_cevir(\"2:00\"))\n",
        "print(saat_cevir(\"2:00 pm\"))"
      ],
      "execution_count": 3,
      "outputs": [
        {
          "output_type": "stream",
          "text": [
            "00:00\n",
            "3:15 pm\n",
            "2:00 am\n",
            "14:00\n"
          ],
          "name": "stdout"
        }
      ]
    },
    {
      "cell_type": "markdown",
      "metadata": {
        "id": "xbPTpsPip6ZX"
      },
      "source": [
        "Kenar uzunlukları verilen üçgen dik üçgen ise True, değilse False yazdıran fonksiyon yazalım"
      ]
    },
    {
      "cell_type": "code",
      "metadata": {
        "colab": {
          "base_uri": "https://localhost:8080/"
        },
        "id": "2WyrtEhnqS6A",
        "outputId": "a887f917-b459-49d5-9ed5-e1c525cb345c"
      },
      "source": [
        "def dik_ücgen(a,b,c):\n",
        "  h=max(a,b,c)\n",
        "  kenarlar=[a,b,c]\n",
        "  kenarlar.remove(h)\n",
        "  top=0\n",
        "  for i in kenarlar:\n",
        "    top+=i**2\n",
        "  if h**2==top:\n",
        "    return True\n",
        "  else:\n",
        "    return False\n",
        "print(dik_ücgen(70,130,110))\n",
        "print(dik_ücgen(3,4,5))\n",
        "print(dik_ücgen(24,7,25))"
      ],
      "execution_count": 7,
      "outputs": [
        {
          "output_type": "stream",
          "text": [
            "False\n",
            "True\n",
            "True\n"
          ],
          "name": "stdout"
        }
      ]
    }
  ]
}