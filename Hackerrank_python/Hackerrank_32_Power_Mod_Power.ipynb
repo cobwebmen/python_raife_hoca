{
  "nbformat": 4,
  "nbformat_minor": 0,
  "metadata": {
    "colab": {
      "name": "Hackerrank_32_Power-Mod_Power.ipynb",
      "provenance": []
    },
    "kernelspec": {
      "name": "python3",
      "display_name": "Python 3"
    },
    "language_info": {
      "name": "python"
    }
  },
  "cells": [
    {
      "cell_type": "markdown",
      "metadata": {
        "id": "n5KumhBFt96M"
      },
      "source": [
        "Task\n",
        "You are given three integers: , , and . Print two lines.\n",
        "On the first line, print the result of pow(a,b). On the second line, print the result of pow(a,b,m).\n",
        "\n",
        "Sample Input\n",
        "\n",
        "3\n",
        "\n",
        "4\n",
        "\n",
        "5\n",
        "\n",
        "Sample Output\n",
        "\n",
        "81\n",
        "\n",
        "1"
      ]
    },
    {
      "cell_type": "code",
      "metadata": {
        "colab": {
          "base_uri": "https://localhost:8080/"
        },
        "id": "AN74dtHWpkNE",
        "outputId": "d4e8bba4-b622-4fe1-d440-6d39c479f119"
      },
      "source": [
        "a=int(input())\n",
        "b=int(input())\n",
        "m=int(input())\n",
        "print(pow(a,b))\n",
        "print(pow(a,b,m))"
      ],
      "execution_count": 2,
      "outputs": [
        {
          "output_type": "stream",
          "text": [
            "3\n",
            "4\n",
            "5\n",
            "81\n",
            "1\n"
          ],
          "name": "stdout"
        }
      ]
    }
  ]
}