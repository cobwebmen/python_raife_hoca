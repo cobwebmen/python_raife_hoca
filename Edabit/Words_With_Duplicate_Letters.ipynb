{
  "nbformat": 4,
  "nbformat_minor": 0,
  "metadata": {
    "colab": {
      "name": "Words_With_Duplicate_Letters.ipynb",
      "provenance": []
    },
    "kernelspec": {
      "name": "python3",
      "display_name": "Python 3"
    },
    "language_info": {
      "name": "python"
    }
  },
  "cells": [
    {
      "cell_type": "markdown",
      "metadata": {
        "id": "3wsqVystO96r"
      },
      "source": [
        "Given a common phrase, return False if any individual word in the phrase contains duplicate letters. Return True otherwise.\n",
        "\n",
        "Examples\n",
        "\n",
        "no_duplicate_letters(\"Fortune favours the bold.\") ➞ True\n",
        "\n",
        "no_duplicate_letters(\"You can lead a horse to water, but you can't make him drink.\") ➞ True\n",
        "\n",
        "no_duplicate_letters(\"Look before you leap.\") ➞ False\n",
        "\n",
        " Duplicate letters in \"Look\" and \"before\".\n",
        "\n",
        "no_duplicate_letters(\"An apple a day keeps the doctor away.\") ➞ False\n",
        "\n",
        "Duplicate letters in \"apple\", \"keeps\", \"doctor\", and \"away\"."
      ]
    },
    {
      "cell_type": "code",
      "metadata": {
        "colab": {
          "base_uri": "https://localhost:8080/"
        },
        "id": "d-X6vWuqKVBc",
        "outputId": "b2eec051-e2ca-46f9-8b73-de33b0eb810a"
      },
      "source": [
        "def no_duplicate_letters(phrase):\n",
        "  liste=phrase.lower().split()\n",
        "  sonuc=True\n",
        "  for i in liste:\n",
        "    for k in i:\n",
        "      if k.isalpha():\n",
        "        if i.count(k)>1:\n",
        "          sonuc= False\n",
        "  return sonuc\n",
        "no_duplicate_letters(\"Fortune favours the bold..\")"
      ],
      "execution_count": 30,
      "outputs": [
        {
          "output_type": "stream",
          "text": [
            "['fortune', 'favours', 'the', 'bold..']\n"
          ],
          "name": "stdout"
        },
        {
          "output_type": "execute_result",
          "data": {
            "text/plain": [
              "True"
            ]
          },
          "metadata": {
            "tags": []
          },
          "execution_count": 30
        }
      ]
    }
  ]
}