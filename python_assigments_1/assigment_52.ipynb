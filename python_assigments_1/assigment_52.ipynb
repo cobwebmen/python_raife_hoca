{
  "nbformat": 4,
  "nbformat_minor": 0,
  "metadata": {
    "colab": {
      "name": "assigment_52.ipynb",
      "provenance": []
    },
    "kernelspec": {
      "name": "python3",
      "display_name": "Python 3"
    },
    "language_info": {
      "name": "python"
    }
  },
  "cells": [
    {
      "cell_type": "markdown",
      "metadata": {
        "id": "Bi5qcK8UeHtS"
      },
      "source": [
        "Sayının veya stringin palindrome olup olmadığını kontrol eden fonksiyon"
      ]
    },
    {
      "cell_type": "code",
      "metadata": {
        "colab": {
          "base_uri": "https://localhost:8080/"
        },
        "id": "-ulloTBJPviu",
        "outputId": "d5c95826-a437-4543-c300-11d68e13b5f9"
      },
      "source": [
        "def isPalindrome(x) -> bool:\n",
        "  if str(x)[::]==str(x)[::-1]:\n",
        "    return True\n",
        "  else:\n",
        "    return False\n",
        "print(isPalindrome(\"ara\"))\n",
        "print(isPalindrome(-22))\n",
        "print(isPalindrome(22))"
      ],
      "execution_count": 7,
      "outputs": [
        {
          "output_type": "stream",
          "text": [
            "True\n",
            "False\n",
            "True\n"
          ],
          "name": "stdout"
        }
      ]
    },
    {
      "cell_type": "markdown",
      "metadata": {
        "id": "5FnnCjPIjJ4U"
      },
      "source": [
        "You are given two non-empty linked lists representing two non-negative integers. The digits are stored in reverse order, and each of their nodes contains a single digit. Add the two numbers and return the sum as a linked list.\n",
        "\n",
        "You may assume the two numbers do not contain any leading zero, except the number 0 itself.\n",
        "\n",
        "Example 1:\n",
        "\n",
        "Input: l1 = [2,4,3], l2 = [5,6,4]\n",
        "\n",
        "Output: [7,0,8]\n",
        "\n",
        "Explanation: 342 + 465 = 807.\n",
        "\n",
        "Example 2:\n",
        "\n",
        "Input: l1 = [0], l2 = [0]\n",
        "\n",
        "Output: [0]\n",
        "\n",
        "Example 3:\n",
        "\n",
        "Input: l1 = [9,9,9,9,9,9,9], l2 = [9,9,9,9]\n",
        "\n",
        "Output: [8,9,9,9,0,0,0,1]\n",
        " "
      ]
    },
    {
      "cell_type": "code",
      "metadata": {
        "colab": {
          "base_uri": "https://localhost:8080/"
        },
        "id": "LeGgiPXajJSz",
        "outputId": "fa3ec77b-62c2-4f5e-8a7f-e76cd4b048b6"
      },
      "source": [
        "#listelerin input olarak verilmesi durumundaki çözüm\n",
        "l1=input()\n",
        "l2=input()\n",
        "yenil1=\"\"\n",
        "yenil2=\"\"\n",
        "for i in range(len(eval(l1))-1,-1,-1):\n",
        "  yenil1+=str(eval(l1)[i])\n",
        "for i in range(len(eval(l2))-1,-1,-1):\n",
        "  yenil2+=str(eval(l2)[i])\n",
        "sonuc=int(yenil1)+int(yenil2)\n",
        "sonuc=list(map(int,list(str(sonuc)[::-1])))\n",
        "print(sonuc)\n"
      ],
      "execution_count": 18,
      "outputs": [
        {
          "output_type": "stream",
          "text": [
            "[9,9,9,9,9,9,9]\n",
            "[9,9,9,9]\n",
            "[8, 9, 9, 9, 0, 0, 0, 1]\n"
          ],
          "name": "stdout"
        }
      ]
    },
    {
      "cell_type": "markdown",
      "metadata": {
        "id": "k5jPKDfaqVWQ"
      },
      "source": [
        ""
      ]
    },
    {
      "cell_type": "code",
      "metadata": {
        "colab": {
          "base_uri": "https://localhost:8080/"
        },
        "id": "hOSffP99qVz5",
        "outputId": "a81f5eea-89d2-4d90-8e96-e989dbcaa15d"
      },
      "source": [
        "#listelerin fonksiyon içinde verilmesi halindeki çözüm\n",
        "def tersten(liste1,liste2):\n",
        "  str1=\"\"\n",
        "  str2=\"\"\n",
        "  for i in range(len(liste1)-1,-1,-1):\n",
        "    str1+=str(liste1[i])\n",
        "  for i in range(len(liste2)-1,-1,-1):\n",
        "    str2+=str(liste2[i])\n",
        "  sonuc=int(str1)+int(str2)\n",
        "  sonuc=list(map(int,list(str(sonuc)[::-1])))\n",
        "  return sonuc\n",
        "print(tersten([9,9,9,9,9,9,9],[9,9,9,9]))"
      ],
      "execution_count": 20,
      "outputs": [
        {
          "output_type": "stream",
          "text": [
            "[8, 9, 9, 9, 0, 0, 0, 1]\n"
          ],
          "name": "stdout"
        }
      ]
    }
  ]
}