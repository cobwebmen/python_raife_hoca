{
  "nbformat": 4,
  "nbformat_minor": 0,
  "metadata": {
    "colab": {
      "name": "Hackerrank_15_Tuples.ipynb",
      "provenance": [],
      "collapsed_sections": []
    },
    "kernelspec": {
      "name": "python3",
      "display_name": "Python 3"
    },
    "language_info": {
      "name": "python"
    }
  },
  "cells": [
    {
      "cell_type": "markdown",
      "metadata": {
        "id": "h1U9fGr59noj"
      },
      "source": [
        "Given an integer,n , and  n space-separated integers as input, create a tuple,t , of those n integers. Then compute and print the result of hash(t).\n",
        "\n",
        "Sample Input\n",
        "\n",
        "2\n",
        "\n",
        "1 2\n",
        "\n",
        "Sample Output\n",
        "\n",
        "3713081631934410656"
      ]
    },
    {
      "cell_type": "code",
      "metadata": {
        "colab": {
          "base_uri": "https://localhost:8080/"
        },
        "id": "t_nz_AjH9hJH",
        "outputId": "79bfdd69-64d2-4d96-a953-fcfaf475a8d8"
      },
      "source": [
        "if __name__ == '__main__':\n",
        "    n = int(input())\n",
        "    integer_list = map(int, input().split())\n",
        "    t=tuple(integer_list)\n",
        "    print(hash(t))\n",
        "  "
      ],
      "execution_count": 1,
      "outputs": [
        {
          "output_type": "stream",
          "text": [
            "2\n",
            "1 2\n",
            "3713081631934410656\n"
          ],
          "name": "stdout"
        }
      ]
    }
  ]
}