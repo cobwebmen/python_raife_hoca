{
  "nbformat": 4,
  "nbformat_minor": 0,
  "metadata": {
    "colab": {
      "name": "Prime_Factorization_of_an_Integer.ipynb",
      "provenance": []
    },
    "kernelspec": {
      "name": "python3",
      "display_name": "Python 3"
    },
    "language_info": {
      "name": "python"
    }
  },
  "cells": [
    {
      "cell_type": "markdown",
      "metadata": {
        "id": "DgJ13iVNJ2eO"
      },
      "source": [
        "Create a function that returns a list containing the prime factors of whatever integer is passed to it.\n",
        "\n",
        "Examples\n",
        "prime_factors(20) ➞ [2, 2, 5]\n",
        "\n",
        "prime_factors(100) ➞ [2, 2, 5, 5]\n",
        "\n",
        "prime_factors(8912234) ➞ [2, 47, 94811]\n",
        "Notes\n",
        "\n",
        "Your solution should not require recursion."
      ]
    },
    {
      "cell_type": "code",
      "metadata": {
        "colab": {
          "base_uri": "https://localhost:8080/"
        },
        "id": "x6sg4xA0BY0H",
        "outputId": "f61e7908-91a9-47df-8e0a-4038f88c5228"
      },
      "source": [
        "def isPrime(sayi):\n",
        "  prime=True\n",
        "  for i in range(2,sayi):\n",
        "    if i==2:\n",
        "      prime= True\n",
        "    elif not sayi%i:\n",
        "      prime=False  \n",
        "  return prime\n",
        "def prime_factors(sayi):\n",
        "  liste=[]\n",
        "  sonuc=[]\n",
        "  [liste.append(i) for i in range(2,sayi) if not sayi%i and isPrime(i)]   \n",
        "  for i in liste:\n",
        "    while not sayi%i:\n",
        "      sonuc.append(i) \n",
        "      sayi=sayi//i     \n",
        "  return sonuc  \n",
        "prime_factors(8912234)"
      ],
      "execution_count": 16,
      "outputs": [
        {
          "output_type": "execute_result",
          "data": {
            "text/plain": [
              "[2, 47, 94811]"
            ]
          },
          "metadata": {
            "tags": []
          },
          "execution_count": 16
        }
      ]
    }
  ]
}