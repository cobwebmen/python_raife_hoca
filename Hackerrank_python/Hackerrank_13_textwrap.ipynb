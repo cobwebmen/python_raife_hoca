{
  "nbformat": 4,
  "nbformat_minor": 0,
  "metadata": {
    "colab": {
      "name": "Hackerrank_13_textwrap.ipynb",
      "provenance": [],
      "collapsed_sections": []
    },
    "kernelspec": {
      "name": "python3",
      "display_name": "Python 3"
    },
    "language_info": {
      "name": "python"
    }
  },
  "cells": [
    {
      "cell_type": "markdown",
      "metadata": {
        "id": "5JPyhTsRmYu5"
      },
      "source": [
        "You are given a S string  and width w.\n",
        "Your task is to wrap the string into a paragraph of width w.\n",
        "\n",
        "Sample Input \n",
        "\n",
        "ABCDEFGHIJKLIMNOQRSTUVWXYZ\n",
        "\n",
        "4\n",
        "\n",
        "Sample Output\n",
        "\n",
        "ABCD\n",
        "\n",
        "EFGH\n",
        "\n",
        "IJKL\n",
        "\n",
        "IMNO\n",
        "\n",
        "QRST\n",
        "\n",
        "UVWX\n",
        "\n",
        "YZ"
      ]
    },
    {
      "cell_type": "code",
      "metadata": {
        "colab": {
          "base_uri": "https://localhost:8080/"
        },
        "id": "5pQAR5eodMu8",
        "outputId": "5cc7e841-4a83-449d-a379-4023eb6d1655"
      },
      "source": [
        "import textwrap\n",
        "def wrap(string, max_width):\n",
        "  new_string=\"\"  \n",
        "  for i in range(len(string)//max_width):\n",
        "    new_string+= (string[i*max_width:max_width*(i+1)]+\"\\n\")\n",
        "  new_string+= (string[-(len(string)%max_width): ])\n",
        "  return new_string\n",
        "\n",
        "if __name__ == '__main__':\n",
        "    string, max_width = input(), int(input())\n",
        "    result = wrap(string, max_width)\n",
        "    print(result)"
      ],
      "execution_count": 22,
      "outputs": [
        {
          "output_type": "stream",
          "text": [
            "ABCDEFGHIJKLIMNOQRSTUVWXYZ\n",
            "4\n",
            "ABCD\n",
            "EFGH\n",
            "IJKL\n",
            "IMNO\n",
            "QRST\n",
            "UVWX\n",
            "YZ\n"
          ],
          "name": "stdout"
        }
      ]
    }
  ]
}