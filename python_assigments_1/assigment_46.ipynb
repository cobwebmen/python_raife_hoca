{
  "nbformat": 4,
  "nbformat_minor": 0,
  "metadata": {
    "colab": {
      "name": "assigment_46.ipynb",
      "provenance": []
    },
    "kernelspec": {
      "name": "python3",
      "display_name": "Python 3"
    },
    "language_info": {
      "name": "python"
    }
  },
  "cells": [
    {
      "cell_type": "markdown",
      "metadata": {
        "id": "WUIf0wmVyOaY"
      },
      "source": [
        "Elinde içinde sayılardan oluşan bir dizi var. Bu dizi içinde çift sayıda olmayan elemanları (tek sayıda olan elemanları) listeleyen algoritmayı yaz"
      ]
    },
    {
      "cell_type": "code",
      "metadata": {
        "colab": {
          "base_uri": "https://localhost:8080/"
        },
        "id": "_nX-fryStQsQ",
        "outputId": "954dfbaf-d1c3-40b4-c0c3-9a7acde48c41"
      },
      "source": [
        "liste = [2,3,4,12,11,2,3,5,12,2]\n",
        "kac={}\n",
        "yeni=[]\n",
        "for i in range(len(liste)):\n",
        "  if liste[i] not in kac:\n",
        "    kac[liste[i]]=liste.count(liste[i])\n",
        "yeni=[i for i,count in kac.items() if count % 2]\n",
        "print(yeni)\n"
      ],
      "execution_count": 9,
      "outputs": [
        {
          "output_type": "stream",
          "text": [
            "[2, 4, 11, 5]\n"
          ],
          "name": "stdout"
        }
      ]
    },
    {
      "cell_type": "code",
      "metadata": {
        "colab": {
          "base_uri": "https://localhost:8080/"
        },
        "id": "e-ZOgA9U1wTA",
        "outputId": "694a6073-16d2-412c-8e48-bd1c79c40f32"
      },
      "source": [
        "liste = [2,3,4,12,11,2,3,5,12,2]\n",
        "print(set([i for i in liste if liste.count(i)%2]))"
      ],
      "execution_count": 10,
      "outputs": [
        {
          "output_type": "stream",
          "text": [
            "{2, 11, 4, 5}\n"
          ],
          "name": "stdout"
        }
      ]
    },
    {
      "cell_type": "markdown",
      "metadata": {
        "id": "VStH1e1EzSRc"
      },
      "source": [
        "Mesajı anlamlı hale getirelim."
      ]
    },
    {
      "cell_type": "code",
      "metadata": {
        "colab": {
          "base_uri": "https://localhost:8080/"
        },
        "id": "y33f1Li7zRdD",
        "outputId": "ffb985a2-db57-4701-f246-f4868ea3258f"
      },
      "source": [
        "mesaj='   Gungectikce        iyamaldok   daha  koc    seviyorum.   '\n",
        "yeni=\"\"\n",
        "a=mesaj.split() #boşluklara göre böldüm\n",
        "for i in range(len(a)):  #boşluklara göre bölünmüş uzunluğu\n",
        "  if i%2: #tek indexlerde\n",
        "    yeni+=a[i][::-1]+\" \"  #kelimenin tersini aldım\n",
        "  else:\n",
        "    yeni+=a[i]+\" \"  #çiftlerde aynısını aldım\n",
        "print(yeni.strip())"
      ],
      "execution_count": 11,
      "outputs": [
        {
          "output_type": "stream",
          "text": [
            "Gungectikce kodlamayi daha cok seviyorum.\n"
          ],
          "name": "stdout"
        }
      ]
    }
  ]
}