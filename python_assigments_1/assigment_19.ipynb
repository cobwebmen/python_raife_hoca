{
  "nbformat": 4,
  "nbformat_minor": 0,
  "metadata": {
    "colab": {
      "name": "assigment_19.ipynb",
      "provenance": [],
      "collapsed_sections": []
    },
    "kernelspec": {
      "name": "python3",
      "display_name": "Python 3"
    },
    "language_info": {
      "name": "python"
    }
  },
  "cells": [
    {
      "cell_type": "markdown",
      "metadata": {
        "id": "6sBYoFKWtbww"
      },
      "source": [
        "Cümlenin içindeki sesli harfleri kaldıran bir fonksiyon yazalım."
      ]
    },
    {
      "cell_type": "code",
      "metadata": {
        "colab": {
          "base_uri": "https://localhost:8080/"
        },
        "id": "4gyMYSWGs5Qx",
        "outputId": "c3eb4ec5-5b40-4253-e24d-c67bbe7c2f82"
      },
      "source": [
        "def sessiz_yap(cümle):\n",
        "  sesli=\"aeıioöuüAEIİOÖUÜ\"\n",
        "  yeni=\"\"\n",
        "  for i in cümle:\n",
        "    if i not in sesli:\n",
        "      yeni+=i\n",
        "  return yeni\n",
        "print(sessiz_yap(\"Hayat beni neden yoruyosun?:)\"))"
      ],
      "execution_count": 1,
      "outputs": [
        {
          "output_type": "stream",
          "text": [
            "Hyt bn ndn yrysn?:)\n"
          ],
          "name": "stdout"
        }
      ]
    }
  ]
}