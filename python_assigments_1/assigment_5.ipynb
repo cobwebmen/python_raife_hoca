{
  "nbformat": 4,
  "nbformat_minor": 0,
  "metadata": {
    "colab": {
      "name": "assigment_5.ipynb",
      "provenance": [],
      "collapsed_sections": []
    },
    "kernelspec": {
      "name": "python3",
      "display_name": "Python 3"
    },
    "language_info": {
      "name": "python"
    }
  },
  "cells": [
    {
      "cell_type": "markdown",
      "metadata": {
        "id": "rNmFRL1wrXr0"
      },
      "source": [
        "Şubat ayının 29 çektiği yıllar artık yıllardır. Girilen input değerinin artık yıl olup olmadığını bulalım"
      ]
    },
    {
      "cell_type": "code",
      "metadata": {
        "id": "cnRo0_jDY6T1"
      },
      "source": [
        "while True:\n",
        "  leap_year = input(\"Lütfen dört haneli bir yıl giriniz. \")\n",
        "  try:\n",
        "    ileap_year = int(leap_year)\n",
        "  except:\n",
        "    print(\"Geçersiz veri! Lütfen rakamlarla dört haneli bir yıl giriniz.\")\n",
        "    continue\n",
        "    if ileap_year %400==0:\n",
        "      print(f\"{ileap_year} artık yıldır.\")\n",
        "    elif ileap_year %100 ==0:\n",
        "      print(f\"{ileap_year} artık yıl değildir.\")\n",
        "    elif ileap_year % 4 ==0:\n",
        "      print(f\"{ileap_year} artık yıldır.\")\n",
        "    else:\n",
        "      print(f\"{ileap_year} artık yıl değildir.\")\n",
        "    break    "
      ],
      "execution_count": null,
      "outputs": []
    }
  ]
}