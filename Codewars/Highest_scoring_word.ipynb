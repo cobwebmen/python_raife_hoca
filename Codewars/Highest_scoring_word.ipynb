{
  "nbformat": 4,
  "nbformat_minor": 0,
  "metadata": {
    "colab": {
      "name": "Highest_scoring_word.ipynb",
      "provenance": []
    },
    "kernelspec": {
      "name": "python3",
      "display_name": "Python 3"
    },
    "language_info": {
      "name": "python"
    }
  },
  "cells": [
    {
      "cell_type": "markdown",
      "metadata": {
        "id": "UZdGgbqcSN-I"
      },
      "source": [
        "```\n",
        "Given a string of words, you need to find the highest scoring word.\n",
        "\n",
        "Each letter of a word scores points according to its position in the alphabet: a = 1, b = 2, c = 3 etc.\n",
        "\n",
        "You need to return the highest scoring word as a string.\n",
        "\n",
        "If two words score the same, return the word that appears earliest in the original string.\n",
        "\n",
        "All letters will be lowercase and all inputs will be valid.\n",
        "\n",
        "```"
      ]
    },
    {
      "cell_type": "code",
      "metadata": {
        "colab": {
          "base_uri": "https://localhost:8080/"
        },
        "id": "vriPkfwifleI",
        "outputId": "1310913c-e756-4e75-8b21-0a33384a2d85"
      },
      "source": [
        "def high(s):\n",
        "    a=\"abcdefghijklmnopqrstuvwxyz\"\n",
        "    s=s.split()\n",
        "    t=[]\n",
        "    top=0\n",
        "    for i in s:\n",
        "        for k in i:\n",
        "            top+=a.index(k)+1\n",
        "        t.append(top)\n",
        "        top=0\n",
        "    return s[t.index(max(t))]\n",
        "        \n",
        "print(high('man i need a taxi up to ubud'))\n",
        "print(high('what time are we climbing up the volcano'))\n",
        "print(high('aa b'))\n"
      ],
      "execution_count": 1,
      "outputs": [
        {
          "output_type": "stream",
          "text": [
            "taxi\n",
            "volcano\n",
            "aa\n"
          ],
          "name": "stdout"
        }
      ]
    }
  ]
}