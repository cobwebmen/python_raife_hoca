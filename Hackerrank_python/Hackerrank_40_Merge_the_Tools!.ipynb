{
  "nbformat": 4,
  "nbformat_minor": 0,
  "metadata": {
    "colab": {
      "name": "Hackerrank_40_Merge_the_Tools!.ipynb",
      "provenance": []
    },
    "kernelspec": {
      "name": "python3",
      "display_name": "Python 3"
    },
    "language_info": {
      "name": "python"
    }
  },
  "cells": [
    {
      "cell_type": "markdown",
      "metadata": {
        "id": "h-lUjIOU2kEa"
      },
      "source": [
        "Sample Input\n",
        "\n",
        "STDIN       \n",
        "-----      \n",
        "AABCAAADA   \n",
        "3         \n",
        "\n",
        "Sample Output\n",
        "\n",
        "AB\n",
        "CA\n",
        "AD"
      ]
    },
    {
      "cell_type": "code",
      "metadata": {
        "colab": {
          "base_uri": "https://localhost:8080/"
        },
        "id": "lCEaElOCg-4W",
        "outputId": "0a24f62d-b8cd-4b12-ba6a-20c286a71147"
      },
      "source": [
        "if __name__ == '__main__':\n",
        "    string, k = input(), int(input())\n",
        "    merge_the_tools(string, k)\n",
        "liste=[]\n",
        "\n",
        "if k==1:\n",
        "  for i in string:\n",
        "    print(i)\n",
        "else:\n",
        "  for i in range(0,len(string),k):\n",
        "    liste.append(string[i:i+k])\n",
        "\n",
        "sozluk={}\n",
        "for i in liste:\n",
        "  for k in i:\n",
        "    if i in sozluk:\n",
        "      if k not in sozluk[i]:\n",
        "        sozluk[i]+=k\n",
        "    else:\n",
        "      sozluk[i]=k\n",
        "for i in sozluk:\n",
        "  print(sozluk[i])\n"
      ],
      "execution_count": 54,
      "outputs": [
        {
          "output_type": "stream",
          "text": [
            "AABCAAADA\n",
            "3\n",
            "AB\n",
            "CA\n",
            "AD\n"
          ],
          "name": "stdout"
        }
      ]
    }
  ]
}