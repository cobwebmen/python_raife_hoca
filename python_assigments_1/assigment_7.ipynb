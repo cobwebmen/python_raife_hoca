{
  "nbformat": 4,
  "nbformat_minor": 0,
  "metadata": {
    "colab": {
      "name": "assigment_7.ipynb",
      "provenance": [],
      "collapsed_sections": []
    },
    "kernelspec": {
      "name": "python3",
      "display_name": "Python 3"
    },
    "language_info": {
      "name": "python"
    }
  },
  "cells": [
    {
      "cell_type": "markdown",
      "metadata": {
        "id": "zZeyGEQtYlq8"
      },
      "source": [
        "Write a program to prompt the user for hours and rate per hour using input to compute gross pay. Pay should be the normal rate for hours up to 40 and time-and-a-half for the hourly rate for all hours worked above 40 hours. Put the logic to do the computation of pay in a function called computepay() and use the function to do the computation. The function should return a value. Use 45 hours and a rate of 10.50 per hour to test the program (the pay should be 498.75). You should use input to read a string and float() to convert the string to a number. Do not worry about error checking the user input unless you want to - you can assume the user types numbers properly. Do not name your variable sum or use the sum() function"
      ]
    },
    {
      "cell_type": "code",
      "metadata": {
        "id": "lTjJ77diYlD-"
      },
      "source": [
        "h = float(input(\"Enter Hours:\"))\n",
        "r = float(input(\"Enter rate: \"))\n",
        "\n",
        "def computepay(h,r):\n",
        "    if h>40:\n",
        "        p=40*r+(h-40)*r*1.5\n",
        "    else:\n",
        "        p=h*r\n",
        "    return p\n",
        "\n",
        "print(\"Pay\",computepay(h,r))"
      ],
      "execution_count": null,
      "outputs": []
    }
  ]
}