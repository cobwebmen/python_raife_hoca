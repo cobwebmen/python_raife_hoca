{
  "nbformat": 4,
  "nbformat_minor": 0,
  "metadata": {
    "colab": {
      "name": "assigment_36.ipynb",
      "provenance": [],
      "collapsed_sections": []
    },
    "kernelspec": {
      "name": "python3",
      "display_name": "Python 3"
    },
    "language_info": {
      "name": "python"
    }
  },
  "cells": [
    {
      "cell_type": "markdown",
      "metadata": {
        "id": "w1aKKWHVIjbO"
      },
      "source": [
        "Sayının eklemeli devamlılığını ve sürekli devamlılığını bulan fonksiyonlar yazalım\n",
        "\n",
        "eklemeli_devamlılık(1679583)\n",
        "\n",
        "1+6+7+9+5+8+3=39\n",
        "\n",
        "3+9=12\n",
        "\n",
        "1+2=3\n",
        "\n",
        "Tek basamaklı sayıya ulaşmak için 3 tekrar gerekiyor"
      ]
    },
    {
      "cell_type": "code",
      "metadata": {
        "colab": {
          "base_uri": "https://localhost:8080/"
        },
        "id": "I96KgxUEAhVB",
        "outputId": "be81cfc0-aefa-48f2-c40c-5067a9aee93e"
      },
      "source": [
        "def eklemeli_devamlılık(sayi):\n",
        "  islem=0\n",
        "  while len(str(sayi))>1:\n",
        "    sayi=sum([int(i) for i in str(sayi)])\n",
        "    islem+=1\n",
        "  return islem\n",
        "\n",
        "print(eklemeli_devamlılık(1679583))\n",
        "print(eklemeli_devamlılık(123456))"
      ],
      "execution_count": 15,
      "outputs": [
        {
          "output_type": "stream",
          "text": [
            "3\n",
            "2\n"
          ],
          "name": "stdout"
        }
      ]
    },
    {
      "cell_type": "markdown",
      "metadata": {
        "id": "wWb5MLpXJVvF"
      },
      "source": [
        "carpan devamlılığı(123456)-->2\n",
        "\n",
        "1*2*3*4*5*6=720\n",
        "\n",
        "7*2*0=0\n",
        "\n",
        "Tek basamaklı sayıya ulaşmak için 2 tekrar gerekiyor."
      ]
    },
    {
      "cell_type": "code",
      "metadata": {
        "colab": {
          "base_uri": "https://localhost:8080/"
        },
        "id": "Ar5eqGhKGhvd",
        "outputId": "3cde6645-bb60-485e-9a5a-c5aca54a52d7"
      },
      "source": [
        "def carpan_devamlılık(sayi):\n",
        "  islem=0\n",
        "  carpım=1\n",
        "  while len(str(sayi))>1:\n",
        "    for i in str(sayi):\n",
        "      sayi*=int(i)\n",
        "    islem+=1\n",
        "  return islem\n",
        "\n",
        "print(carpan_devamlılık(123456))\n",
        "print(carpan_devamlılık(4))\n",
        "print(carpan_devamlılık(77))"
      ],
      "execution_count": 16,
      "outputs": [
        {
          "output_type": "stream",
          "text": [
            "2\n",
            "0\n",
            "4\n"
          ],
          "name": "stdout"
        }
      ]
    }
  ]
}