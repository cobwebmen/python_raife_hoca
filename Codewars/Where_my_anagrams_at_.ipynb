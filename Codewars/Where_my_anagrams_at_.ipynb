{
  "nbformat": 4,
  "nbformat_minor": 0,
  "metadata": {
    "colab": {
      "name": "Where_my_anagrams_at?.ipynb",
      "provenance": []
    },
    "kernelspec": {
      "name": "python3",
      "display_name": "Python 3"
    },
    "language_info": {
      "name": "python"
    }
  },
  "cells": [
    {
      "cell_type": "markdown",
      "metadata": {
        "id": "pDtZjmbsolgq"
      },
      "source": [
        "```\n",
        "What is an anagram? Well, two words are anagrams of each other if they both contain the same letters. For example:\n",
        "\n",
        "'abba' & 'baab' == true\n",
        "\n",
        "'abba' & 'bbaa' == true\n",
        "\n",
        "'abba' & 'abbba' == false\n",
        "\n",
        "'abba' & 'abca' == false\n",
        "Write a function that will find all the anagrams of a word from a list. You will be given two inputs a word and an array with words. You should return an array of all the anagrams or an empty array if there are none. For example:\n",
        "\n",
        "anagrams('abba', ['aabb', 'abcd', 'bbaa', 'dada']) => ['aabb', 'bbaa']\n",
        "\n",
        "anagrams('racer', ['crazer', 'carer', 'racar', 'caers', 'racer']) => ['carer', 'racer']\n",
        "\n",
        "anagrams('laser', ['lazing', 'lazy',  'lacer']) => []\n",
        "\n",
        "```"
      ]
    },
    {
      "cell_type": "code",
      "metadata": {
        "colab": {
          "base_uri": "https://localhost:8080/"
        },
        "id": "pPTHLkB-oMw3",
        "outputId": "ebd29b2a-bb1a-42e3-9c25-cf31f54f6b01"
      },
      "source": [
        "def anagrams(word, words):\n",
        "    return [i for i in words  if sorted(word)==sorted(i)]\n",
        "anagrams('abba', ['aabb', 'abcd', 'bbaa', 'dada'])"
      ],
      "execution_count": 1,
      "outputs": [
        {
          "output_type": "execute_result",
          "data": {
            "text/plain": [
              "['aabb', 'bbaa']"
            ]
          },
          "metadata": {
            "tags": []
          },
          "execution_count": 1
        }
      ]
    }
  ]
}