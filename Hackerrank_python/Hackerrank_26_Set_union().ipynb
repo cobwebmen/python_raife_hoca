{
  "nbformat": 4,
  "nbformat_minor": 0,
  "metadata": {
    "colab": {
      "name": "Hackerrank_26_Set.union().ipynb",
      "provenance": [],
      "collapsed_sections": []
    },
    "kernelspec": {
      "name": "python3",
      "display_name": "Python 3"
    },
    "language_info": {
      "name": "python"
    }
  },
  "cells": [
    {
      "cell_type": "markdown",
      "metadata": {
        "id": "BP6B00wcgEZR"
      },
      "source": [
        "The students of District College have subscriptions to English and French newspapers. Some students have subscribed only to English, some have subscribed to only French and some have subscribed to both newspapers.\n",
        "\n",
        "You are given two sets of student roll numbers. One set has subscribed to the English newspaper, and the other set is subscribed to the French newspaper. The same student could be in both sets. Your task is to find the total number of students who have subscribed to at least one newspaper.\n",
        "\n",
        "Sample Input\n",
        "\n",
        "9\n",
        "\n",
        "1 2 3 4 5 6 7 8 9\n",
        "\n",
        "9\n",
        "\n",
        "10 1 2 3 11 21 55 6 8\n",
        "\n",
        "Sample Output\n",
        "\n",
        "13"
      ]
    },
    {
      "cell_type": "code",
      "metadata": {
        "colab": {
          "base_uri": "https://localhost:8080/"
        },
        "id": "V7Eu8DBRFhuy",
        "outputId": "ee63a271-8a95-4173-fd91-94b82ce090dc"
      },
      "source": [
        "a=int(input())\n",
        "b=set(map(int, input().split()))\n",
        "c=int(input())\n",
        "d=set(map(int, input().split()))\n",
        "top=b.union(d)\n",
        "print(len(top))"
      ],
      "execution_count": 2,
      "outputs": [
        {
          "output_type": "stream",
          "text": [
            "9\n",
            "1 2 3 4 5 6 7 8 9\n",
            "9\n",
            "10 1 2 3 11 21 55 6 8\n",
            "13\n"
          ],
          "name": "stdout"
        }
      ]
    }
  ]
}