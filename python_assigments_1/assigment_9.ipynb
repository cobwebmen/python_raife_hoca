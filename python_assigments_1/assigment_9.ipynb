{
  "nbformat": 4,
  "nbformat_minor": 0,
  "metadata": {
    "colab": {
      "name": "assigment_9.ipynb",
      "provenance": [],
      "collapsed_sections": []
    },
    "kernelspec": {
      "name": "python3",
      "display_name": "Python 3"
    },
    "language_info": {
      "name": "python"
    }
  },
  "cells": [
    {
      "cell_type": "markdown",
      "metadata": {
        "id": "CW-HryzzDn1S"
      },
      "source": [
        "yazi olarak girilen string ifadenin içindeki harfler tamamen büyük veya tamamen küçük ise True, küçük ve büyük harlerden oluşmuş ise False veren bir fonksiyon yazalım. "
      ]
    },
    {
      "cell_type": "code",
      "metadata": {
        "colab": {
          "base_uri": "https://localhost:8080/"
        },
        "id": "myhP7fxADune",
        "outputId": "07485e21-2c1b-42d6-ad67-84a53c597b6f"
      },
      "source": [
        "def büyük_kücük(yazi):\n",
        "  if yazi.upper()==yazi or yazi.lower()==yazi:\n",
        "    return True\n",
        "  else:\n",
        "    return False\n",
        "\n",
        " \n",
        "print(büyük_kücük(\"Merhaba\"))\n",
        "print(büyük_kücük(\"MERHABA\"))\n",
        "print(büyük_kücük(\"merhaba\"))\n",
        "print(büyük_kücük(\"merHaba\"))\n"
      ],
      "execution_count": 16,
      "outputs": [
        {
          "output_type": "stream",
          "text": [
            "False\n",
            "True\n",
            "True\n",
            "False\n"
          ],
          "name": "stdout"
        }
      ]
    }
  ]
}