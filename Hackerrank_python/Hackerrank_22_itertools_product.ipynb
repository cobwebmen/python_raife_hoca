{
  "nbformat": 4,
  "nbformat_minor": 0,
  "metadata": {
    "colab": {
      "name": "Hackerrank_22_itertools.product.ipynb",
      "provenance": []
    },
    "kernelspec": {
      "name": "python3",
      "display_name": "Python 3"
    },
    "language_info": {
      "name": "python"
    }
  },
  "cells": [
    {
      "cell_type": "markdown",
      "metadata": {
        "id": "bGdtF0P5lJ8a"
      },
      "source": [
        "You are given a two lists A and B. Your task is to compute their cartesian product AxB.\n",
        "\n",
        "Sample Input\n",
        "\n",
        " 1 2\n",
        "\n",
        " 3 4\n",
        "\n",
        "Sample Output\n",
        "\n",
        " (1, 3) (1, 4) (2, 3) (2, 4)"
      ]
    },
    {
      "cell_type": "code",
      "metadata": {
        "colab": {
          "base_uri": "https://localhost:8080/"
        },
        "id": "4ua8F_Wo8kQY",
        "outputId": "64b8dd40-8798-4e92-9b69-4c11f9671277"
      },
      "source": [
        "from itertools import product\n",
        "\n",
        "liste_a = list((map(int, input().split())))\n",
        "liste_b = list(map(int, input().split()))\n",
        "a=list(product(liste_a,liste_b))\n",
        "for i in a:\n",
        "    print(i, end= \" \")\n",
        "    "
      ],
      "execution_count": 3,
      "outputs": [
        {
          "output_type": "stream",
          "text": [
            "1 2\n",
            "3 4\n",
            "(1, 3) (1, 4) (2, 3) (2, 4) "
          ],
          "name": "stdout"
        }
      ]
    },
    {
      "cell_type": "code",
      "metadata": {
        "id": "eGyDycsi-GzM"
      },
      "source": [
        ""
      ],
      "execution_count": null,
      "outputs": []
    }
  ]
}