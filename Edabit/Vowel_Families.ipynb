{
  "nbformat": 4,
  "nbformat_minor": 0,
  "metadata": {
    "colab": {
      "name": "Vowel_Families.ipynb",
      "provenance": []
    },
    "kernelspec": {
      "name": "python3",
      "display_name": "Python 3"
    },
    "language_info": {
      "name": "python"
    }
  },
  "cells": [
    {
      "cell_type": "markdown",
      "metadata": {
        "id": "CytHZBEk8kGE"
      },
      "source": [
        "Write a function that selects all words that have all the same vowels (in any order and/or number) as the first word, including the first word.\n",
        "\n",
        "Examples\n",
        "same_vowel_group([\"toe\", \"ocelot\", \"maniac\"]) ➞ [\"toe\", \"ocelot\"]\n",
        "\n",
        "same_vowel_group([\"many\", \"carriage\", \"emit\", \"apricot\", \"animal\"]) ➞ [\"many\"]\n",
        "\n",
        "same_vowel_group([\"hoops\", \"chuff\", \"bot\", \"bottom\"]) ➞ [\"hoops\", \"bot\", \"bottom\"]\n",
        "\n",
        "Notes\n",
        "Words will contain only lowercase letters, and may contain whitespaces.\n",
        "Frequency does not matter (e.g. if the first word is \"loopy\", then you can include words with any number of o's, so long as they only contain o's, and not any other vowels)."
      ]
    },
    {
      "cell_type": "code",
      "metadata": {
        "colab": {
          "base_uri": "https://localhost:8080/"
        },
        "id": "LvxCjsHxJvSP",
        "outputId": "0bddd716-12e1-46db-f880-1d1b17a55743"
      },
      "source": [
        "def same_vowel_group(liste):\n",
        "  vowel=\"aeiou\"\n",
        "  sozluk={}\n",
        "  ilk_kelime=set(i for i in liste[0] if i in vowel)\n",
        "  for i in liste:\n",
        "    if i not in sozluk:\n",
        "      sozluk[i]=[]\n",
        "    for k in i:\n",
        "      if k in vowel and k not in sozluk[i]:\n",
        "        sozluk[i].append(k)\n",
        "  sonuc=[i for i in sozluk if set(sozluk[i])==ilk_kelime] \n",
        "  return sonuc\n",
        "same_vowel_group([\"many\", \"carriage\", \"emit\", \"apricot\", \"animal\"])"
      ],
      "execution_count": 50,
      "outputs": [
        {
          "output_type": "execute_result",
          "data": {
            "text/plain": [
              "['many']"
            ]
          },
          "metadata": {
            "tags": []
          },
          "execution_count": 50
        }
      ]
    }
  ]
}