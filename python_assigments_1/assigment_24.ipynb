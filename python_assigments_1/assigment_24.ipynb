{
  "nbformat": 4,
  "nbformat_minor": 0,
  "metadata": {
    "colab": {
      "name": "assigment_24.ipynb",
      "provenance": [],
      "collapsed_sections": []
    },
    "kernelspec": {
      "name": "python3",
      "display_name": "Python 3"
    },
    "language_info": {
      "name": "python"
    }
  },
  "cells": [
    {
      "cell_type": "markdown",
      "metadata": {
        "id": "-9rM5KrX-Lkb"
      },
      "source": [
        "Yazının uzunluğu tek ise orta karakteri çift ise orta iki karakteri veren fonksiyon yazalım"
      ]
    },
    {
      "cell_type": "code",
      "metadata": {
        "colab": {
          "base_uri": "https://localhost:8080/"
        },
        "id": "KferrcGI5b7w",
        "outputId": "66df8625-e8f4-42b8-8943-a357ebeb7037"
      },
      "source": [
        "def orta_karakter(yazi):\n",
        "  if len(yazi)%2==0:\n",
        "    return yazi[len(yazi)//2 -1 :len(yazi)//2 +1]\n",
        "  else:\n",
        "    return yazi[len(yazi)//2]\n",
        "\n",
        "print(orta_karakter(\"aşk\"))\n",
        "print(orta_karakter(\"sayı\"))\n",
        "print(orta_karakter(\"sabrın_sonu_selamet_mi?\"))"
      ],
      "execution_count": 14,
      "outputs": [
        {
          "output_type": "stream",
          "text": [
            "ş\n",
            "ay\n",
            "_\n"
          ],
          "name": "stdout"
        }
      ]
    },
    {
      "cell_type": "markdown",
      "metadata": {
        "id": "w8N4T-jrASrv"
      },
      "source": [
        "a sayının hangi üssü b sonucunu verir? sorusunu cevaplayan fonksiyon yazalım "
      ]
    },
    {
      "cell_type": "code",
      "metadata": {
        "colab": {
          "base_uri": "https://localhost:8080/"
        },
        "id": "wNsIf_PsATeL",
        "outputId": "93ec9096-c7f8-4978-8f61-aaa385d3d356"
      },
      "source": [
        "def üssü_bul(sayi,sonuc):\n",
        "  üs=0\n",
        "  while sonuc>=sayi:\n",
        "    sonuc//=sayi\n",
        "    üs+=1\n",
        "  return üs\n",
        "print(üssü_bul(2,32))\n",
        "print(üssü_bul(3,81))\n",
        "print(üssü_bul(5,125))"
      ],
      "execution_count": 20,
      "outputs": [
        {
          "output_type": "stream",
          "text": [
            "5\n",
            "4\n",
            "3\n"
          ],
          "name": "stdout"
        }
      ]
    }
  ]
}