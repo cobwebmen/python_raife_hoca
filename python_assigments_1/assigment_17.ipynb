{
  "nbformat": 4,
  "nbformat_minor": 0,
  "metadata": {
    "colab": {
      "name": "assigment_17.ipynb",
      "provenance": [],
      "collapsed_sections": []
    },
    "kernelspec": {
      "name": "python3",
      "display_name": "Python 3"
    },
    "language_info": {
      "name": "python"
    }
  },
  "cells": [
    {
      "cell_type": "markdown",
      "metadata": {
        "id": "s_BIBu5p7S02"
      },
      "source": [
        "sayı ve üs olarak iki parametre alan ve hesaplamanın sonucunu veren bir fonksiyon yazalım"
      ]
    },
    {
      "cell_type": "code",
      "metadata": {
        "colab": {
          "base_uri": "https://localhost:8080/"
        },
        "id": "V1f0UW9z5729",
        "outputId": "11329906-4f42-42fc-c274-18d8ae0765b9"
      },
      "source": [
        "def üs_hesapla(sayi,üs):\n",
        "  return sayi**üs\n",
        "\n",
        "print(üs_hesapla(7,3))"
      ],
      "execution_count": 1,
      "outputs": [
        {
          "output_type": "stream",
          "text": [
            "343\n"
          ],
          "name": "stdout"
        }
      ]
    },
    {
      "cell_type": "markdown",
      "metadata": {
        "id": "Y-hvCUgD8Bre"
      },
      "source": [
        "Sırasıyla tavuk, inek ve koyunların sayısı verildiğinde toplam bacak sayısını hesaplayan fonksiyon yazalım."
      ]
    },
    {
      "cell_type": "code",
      "metadata": {
        "colab": {
          "base_uri": "https://localhost:8080/"
        },
        "id": "aC-d_XOi8gS-",
        "outputId": "40c385e4-3796-4d8b-b3f7-dff688f1c139"
      },
      "source": [
        "def bacak_say(t,i,k):\n",
        "  return (t*2 + i*4 + k*4)\n",
        "print(bacak_say(3,4,2))"
      ],
      "execution_count": 3,
      "outputs": [
        {
          "output_type": "stream",
          "text": [
            "30\n"
          ],
          "name": "stdout"
        }
      ]
    }
  ]
}