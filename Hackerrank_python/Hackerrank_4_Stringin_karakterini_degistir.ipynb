{
  "nbformat": 4,
  "nbformat_minor": 0,
  "metadata": {
    "colab": {
      "name": "Hackerrank_4.ipynb",
      "provenance": [],
      "collapsed_sections": []
    },
    "kernelspec": {
      "name": "python3",
      "display_name": "Python 3"
    },
    "language_info": {
      "name": "python"
    }
  },
  "cells": [
    {
      "cell_type": "code",
      "metadata": {
        "id": "ktoAZhrofY-u"
      },
      "source": [
        "#Read a given string, change the character at a given index and then print the modified string.\n",
        "\n",
        "# Sample Input\n",
        "\n",
        "# STDIN           Function\n",
        "# -----           --------\n",
        "# abracadabra     s = 'abracadabra'\n",
        "# 5 k             position = 5, character = 'k'\n",
        "\n",
        "# Sample Output\n",
        "\n",
        "# abrackdabra\n",
        "\n",
        "---"
      ],
      "execution_count": null,
      "outputs": []
    },
    {
      "cell_type": "code",
      "metadata": {
        "id": "0XMt0jiXel6O"
      },
      "source": [
        "def mutate_string(string, position, character):\n",
        "    a=list(s)\n",
        "    a[int(i)]=c\n",
        "    a=\"\".join(a)\n",
        "    return a\n",
        "\n",
        "if __name__ == '__main__':\n",
        "    s = input()\n",
        "    i, c = input().split()\n",
        "    s_new = mutate_string(s, int(i), c)\n",
        "    print(s_new)"
      ],
      "execution_count": null,
      "outputs": []
    }
  ]
}