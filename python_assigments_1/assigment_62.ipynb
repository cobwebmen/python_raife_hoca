{
  "nbformat": 4,
  "nbformat_minor": 0,
  "metadata": {
    "colab": {
      "name": "assigment_62.ipynb",
      "provenance": []
    },
    "kernelspec": {
      "name": "python3",
      "display_name": "Python 3"
    },
    "language_info": {
      "name": "python"
    }
  },
  "cells": [
    {
      "cell_type": "markdown",
      "metadata": {
        "id": "I-nQjZjbnHX_"
      },
      "source": [
        "```\n",
        "Write a method that takes an array of consecutive (increasing) letters as input and that returns the missing letter in the array. You will always get an valid array. And it will be always exactly one letter be missing. The length of the array will always be at least 2. The array will always contain letters in only one case.\n",
        "Example:\n",
        "\n",
        "[\"a\",\"b\",\"c\",\"d\",\"f\"] -> \"e\"\n",
        "[\"O\",\"Q\",\"R\",\"S\"] -> \"P\"\n",
        "(Use the English alphabet with 26 letters!)\n",
        "\n",
        "```\n"
      ]
    },
    {
      "cell_type": "code",
      "metadata": {
        "colab": {
          "base_uri": "https://localhost:8080/"
        },
        "id": "CkYDs__RnGnl",
        "outputId": "eb4e9178-70bd-4226-b42e-fa502d37c147"
      },
      "source": [
        "def missing(l):\n",
        "    h=\"abcdefghijklmnopqrstuvwxyzABCDEFGHIJKLMNOPQRSTUVWXYZ\" \n",
        "    print(*filter(lambda x:x not in l, h[h.index(l[0]):h.index(l[-1])]))\n",
        "missing([\"a\",\"b\",\"c\",\"d\",\"f\"])"
      ],
      "execution_count": 1,
      "outputs": [
        {
          "output_type": "stream",
          "text": [
            "e\n"
          ],
          "name": "stdout"
        }
      ]
    }
  ]
}