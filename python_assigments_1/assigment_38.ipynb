{
  "nbformat": 4,
  "nbformat_minor": 0,
  "metadata": {
    "colab": {
      "name": "assigment_38.ipynb",
      "provenance": []
    },
    "kernelspec": {
      "name": "python3",
      "display_name": "Python 3"
    },
    "language_info": {
      "name": "python"
    }
  },
  "cells": [
    {
      "cell_type": "markdown",
      "metadata": {
        "id": "7We4yibQivMO"
      },
      "source": [
        "Verilen listedeki sayıların çarpan sayısını bulan  ve çarpan sayısına göre listeyi sıralayan fonksiyon yazalım."
      ]
    },
    {
      "cell_type": "code",
      "metadata": {
        "colab": {
          "base_uri": "https://localhost:8080/"
        },
        "id": "ocVwfyoRbHvM",
        "outputId": "9f88e3fa-624c-43a5-aeda-6c23735aefcc"
      },
      "source": [
        "def faktör_uzunlugu(liste):\n",
        "  s_f={}\n",
        "  for i in liste:\n",
        "    s_f[i]=len([k for k in range(1,i+1) if i%k==0])\n",
        "  a=sorted(s_f , key= lambda k :s_f[k], reverse=True)\n",
        "  return a\n",
        "\n",
        "print(faktör_uzunlugu([1,2,31,4]))\n",
        "print(faktör_uzunlugu([5,7,9]))     "
      ],
      "execution_count": 19,
      "outputs": [
        {
          "output_type": "stream",
          "text": [
            "[4, 2, 31, 1]\n",
            "[9, 5, 7]\n"
          ],
          "name": "stdout"
        }
      ]
    }
  ]
}