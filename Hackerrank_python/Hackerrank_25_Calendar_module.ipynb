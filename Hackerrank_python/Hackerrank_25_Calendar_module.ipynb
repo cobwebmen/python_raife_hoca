{
  "nbformat": 4,
  "nbformat_minor": 0,
  "metadata": {
    "colab": {
      "name": "Hackerrank_25_Calendar_module.ipynb",
      "provenance": []
    },
    "kernelspec": {
      "name": "python3",
      "display_name": "Python 3"
    },
    "language_info": {
      "name": "python"
    }
  },
  "cells": [
    {
      "cell_type": "markdown",
      "metadata": {
        "id": "EOllrP-iELcR"
      },
      "source": [
        "You are given a date. Your task is to find what the day is on that date.\n",
        "\n",
        "Input Format\n",
        "\n",
        "A single line of input containing the space separated month, day and year, \n",
        "\n",
        "Sample Input\n",
        "\n",
        "08 05 2015\n",
        "\n",
        "Sample Output\n",
        "\n",
        "WEDNESDAY"
      ]
    },
    {
      "cell_type": "code",
      "metadata": {
        "colab": {
          "base_uri": "https://localhost:8080/"
        },
        "id": "S0er0RgGAxjY",
        "outputId": "f78f2080-9ec9-40d6-f66a-a0af4dde5559"
      },
      "source": [
        "import calendar\n",
        "month,day,year=map(int, input().split())\n",
        "day=calendar.weekday(year, month, day)\n",
        "if day==0:\n",
        "  print(\"MONDAY\")\n",
        "elif day==1:\n",
        "  print(\"TUESDAY\")\n",
        "elif day==2:\n",
        "  print(\"WEDNESDAY\")\n",
        "elif day==3:\n",
        "  print(\"THURSDAY\")\n",
        "elif day==4:\n",
        "  print(\"FRIDAY\")\n",
        "elif day==5:\n",
        "  print(\"SATURDAY\")\n",
        "elif day==6:\n",
        "  print(\"SUNDAY\")"
      ],
      "execution_count": 5,
      "outputs": [
        {
          "output_type": "stream",
          "text": [
            "08 05 2015\n",
            "WEDNESDAY\n"
          ],
          "name": "stdout"
        }
      ]
    }
  ]
}