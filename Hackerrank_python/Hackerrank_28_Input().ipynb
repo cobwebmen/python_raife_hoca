{
  "nbformat": 4,
  "nbformat_minor": 0,
  "metadata": {
    "colab": {
      "name": "Hackerrank_28_Input().ipynb",
      "provenance": []
    },
    "kernelspec": {
      "name": "python3",
      "display_name": "Python 3"
    },
    "language_info": {
      "name": "python"
    }
  },
  "cells": [
    {
      "cell_type": "code",
      "metadata": {
        "id": "acOr-EK3MvgI"
      },
      "source": [
        "Sample Input\n",
        "1 4\n",
        "x**3 + x**2 + x + 1\n",
        "\n",
        "Sample Output\n",
        "True\n",
        "\n",
        "Explanation\n",
        "P(1)=1**3+1**2+1+1=4=k\n",
        "Hence, the output is True."
      ],
      "execution_count": null,
      "outputs": []
    },
    {
      "cell_type": "code",
      "metadata": {
        "colab": {
          "base_uri": "https://localhost:8080/"
        },
        "id": "k3omkJI6FSAt",
        "outputId": "bb92d433-ad6c-4f0f-84fc-8549cf90af35"
      },
      "source": [
        "x,k=map(int, input().split())\n",
        "islem=eval(input())\n",
        "if islem==k:\n",
        "  print(True)\n",
        "else:\n",
        "  print(False)  "
      ],
      "execution_count": 3,
      "outputs": [
        {
          "output_type": "stream",
          "text": [
            "1 4\n",
            "x**3+x**2+x+1\n",
            "True\n"
          ],
          "name": "stdout"
        }
      ]
    }
  ]
}