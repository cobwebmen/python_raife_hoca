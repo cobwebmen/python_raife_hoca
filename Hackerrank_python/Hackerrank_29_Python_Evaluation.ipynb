{
  "nbformat": 4,
  "nbformat_minor": 0,
  "metadata": {
    "colab": {
      "name": "Hackerrank_29_Python_Evaluation.ipynb",
      "provenance": []
    },
    "kernelspec": {
      "name": "python3",
      "display_name": "Python 3"
    },
    "language_info": {
      "name": "python"
    }
  },
  "cells": [
    {
      "cell_type": "markdown",
      "metadata": {
        "id": "lwUicrvFjWaI"
      },
      "source": [
        "Task\n",
        "\n",
        "You are given an expression in a line. Read that line as a string variable, such as var, and print the result using eval(var)."
      ]
    },
    {
      "cell_type": "code",
      "metadata": {
        "colab": {
          "base_uri": "https://localhost:8080/"
        },
        "id": "EEnQgiLJNRP9",
        "outputId": "71af8f62-a7df-48e2-f6a0-3abcf8186404"
      },
      "source": [
        "eval(input())\n"
      ],
      "execution_count": 1,
      "outputs": [
        {
          "output_type": "stream",
          "text": [
            "print(2+3)\n",
            "5\n"
          ],
          "name": "stdout"
        }
      ]
    }
  ]
}