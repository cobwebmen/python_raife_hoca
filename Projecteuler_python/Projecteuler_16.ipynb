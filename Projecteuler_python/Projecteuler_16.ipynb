{
  "nbformat": 4,
  "nbformat_minor": 0,
  "metadata": {
    "colab": {
      "name": "Projecteuler_16.ipynb",
      "provenance": []
    },
    "kernelspec": {
      "name": "python3",
      "display_name": "Python 3"
    },
    "language_info": {
      "name": "python"
    }
  },
  "cells": [
    {
      "cell_type": "markdown",
      "metadata": {
        "id": "ATAFCJ1JofuK"
      },
      "source": [
        "215 = 32768 and the sum of its digits is \n",
        "\n",
        "3 + 2 + 7 + 6 + 8 = 26.\n",
        "\n",
        "What is the sum of the digits of the number \n",
        "```\n",
        " 2**1000\n",
        "```\n",
        "\n"
      ]
    },
    {
      "cell_type": "code",
      "metadata": {
        "colab": {
          "base_uri": "https://localhost:8080/"
        },
        "id": "Lau0h0OwnnIa",
        "outputId": "2bd078f5-555a-481d-e1e2-c65b7888600a"
      },
      "source": [
        "a=2**1000\n",
        "toplam=0\n",
        "for i in str(a):\n",
        "  toplam+=int(i)\n",
        "print(toplam)\n"
      ],
      "execution_count": 1,
      "outputs": [
        {
          "output_type": "stream",
          "text": [
            "1366\n"
          ],
          "name": "stdout"
        }
      ]
    }
  ]
}