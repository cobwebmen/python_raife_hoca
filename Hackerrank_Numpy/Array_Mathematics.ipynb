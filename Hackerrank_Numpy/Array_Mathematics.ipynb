{
  "nbformat": 4,
  "nbformat_minor": 0,
  "metadata": {
    "colab": {
      "name": "Array_Mathematics.ipynb",
      "provenance": []
    },
    "kernelspec": {
      "name": "python3",
      "display_name": "Python 3"
    },
    "language_info": {
      "name": "python"
    }
  },
  "cells": [
    {
      "cell_type": "markdown",
      "metadata": {
        "id": "f09xK6ur6_i1"
      },
      "source": [
        "```\n",
        "Basic mathematical functions operate element-wise on arrays. They are available both as operator overloads and as functions in the NumPy module.\n",
        "\n",
        "import numpy\n",
        "\n",
        "a = numpy.array([1,2,3,4], float)\n",
        "b = numpy.array([5,6,7,8], float)\n",
        "\n",
        "print a + b                     #[  6.   8.  10.  12.]\n",
        "print numpy.add(a, b)           #[  6.   8.  10.  12.]\n",
        "\n",
        "print a - b                     #[-4. -4. -4. -4.]\n",
        "print numpy.subtract(a, b)      #[-4. -4. -4. -4.]\n",
        "\n",
        "print a * b                     #[  5.  12.  21.  32.]\n",
        "print numpy.multiply(a, b)      #[  5.  12.  21.  32.]\n",
        "\n",
        "print a / b                     #[ 0.2         0.33333333  0.42857143  0.5       ]\n",
        "print numpy.divide(a, b)        #[ 0.2         0.33333333  0.42857143  0.5       ]\n",
        "\n",
        "print a % b                     #[ 1.  2.  3.  4.]\n",
        "print numpy.mod(a, b)           #[ 1.  2.  3.  4.]\n",
        "\n",
        "print a**b                      #[  1.00000000e+00   6.40000000e+01   2.18700000e+03   6.55360000e+04]\n",
        "print numpy.power(a, b)         #[  1.00000000e+00   6.40000000e+01   2.18700000e+03   6.55360000e+04]\n",
        "Task\n",
        "\n",
        "You are given two integer arrays,  and  of dimensions X.\n",
        "Your task is to perform the following operations:\n",
        "\n",
        "Add ( + )\n",
        "Subtract ( - )\n",
        "Multiply ( * )\n",
        "Integer Division ( / )\n",
        "Mod ( % )\n",
        "Power ( ** )\n",
        "Note\n",
        "There is a method numpy.floor_divide() that works like numpy.divide() except it performs a floor division.\n",
        "\n",
        "Input Format\n",
        "\n",
        "The first line contains two space separated integers,  and .\n",
        "The next  lines contains  space separated integers of array .\n",
        "The following  lines contains  space separated integers of array .\n",
        "\n",
        "Output Format\n",
        "\n",
        "Print the result of each operation in the given order under Task.\n",
        "\n",
        "Sample Input\n",
        "\n",
        "1 4\n",
        "1 2 3 4\n",
        "5 6 7 8\n",
        "Sample Output\n",
        "\n",
        "[[ 6  8 10 12]]\n",
        "[[-4 -4 -4 -4]]\n",
        "[[ 5 12 21 32]]\n",
        "[[0 0 0 0]]\n",
        "[[1 2 3 4]]\n",
        "[[    1    64  2187 65536]] \n",
        "Use // for division in Python 3.\n",
        "```\n",
        "\n"
      ]
    },
    {
      "cell_type": "code",
      "metadata": {
        "colab": {
          "base_uri": "https://localhost:8080/"
        },
        "id": "AW4NCvtMAODz",
        "outputId": "a1149e9d-d4cd-4113-a69f-6e8e23c6a051"
      },
      "source": [
        "N,M = map(int, input().split())\n",
        "A = numpy.array([input().split() for i in range(N)],int)\n",
        "B = numpy.array([input().split() for i in range(N)],int)\n",
        "print(A + B)\n",
        "print(A - B)\n",
        "print(A * B)\n",
        "print(A // B)\n",
        "print(A % B)\n",
        "print(A ** B)"
      ],
      "execution_count": 2,
      "outputs": [
        {
          "output_type": "stream",
          "text": [
            "1 4\n",
            "1 2 3 4\n",
            "5 6 7 8\n",
            "[[ 6  8 10 12]]\n",
            "[[-4 -4 -4 -4]]\n",
            "[[ 5 12 21 32]]\n",
            "[[0 0 0 0]]\n",
            "[[1 2 3 4]]\n",
            "[[    1    64  2187 65536]]\n"
          ],
          "name": "stdout"
        }
      ]
    }
  ]
}