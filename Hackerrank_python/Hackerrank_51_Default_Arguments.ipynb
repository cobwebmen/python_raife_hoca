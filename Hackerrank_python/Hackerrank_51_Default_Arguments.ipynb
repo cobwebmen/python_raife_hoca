{
  "nbformat": 4,
  "nbformat_minor": 0,
  "metadata": {
    "colab": {
      "name": "Hackerrank_51_Default_Arguments.ipynb",
      "provenance": []
    },
    "kernelspec": {
      "name": "python3",
      "display_name": "Python 3"
    },
    "language_info": {
      "name": "python"
    }
  },
  "cells": [
    {
      "cell_type": "markdown",
      "metadata": {
        "id": "3rL9CaQ-ZYRS"
      },
      "source": [
        "In this challenge, the task is to debug the existing code to successfully execute all provided test files.\n",
        "Sample Input\n",
        "\n",
        "3\n",
        "\n",
        "odd 2\n",
        "\n",
        "even 3\n",
        "\n",
        "odd 5\n",
        "\n",
        "Sample Output\n",
        "\n",
        "1\n",
        "\n",
        "3\n",
        "\n",
        "0\n",
        "\n",
        "2\n",
        "\n",
        "4\n",
        "\n",
        "1\n",
        "\n",
        "3\n",
        "\n",
        "5\n",
        "\n",
        "7\n",
        "\n",
        "9\n",
        "\n",
        "Explanation\n",
        "\n",
        "There are 3 queries in the sample.\n",
        "\n",
        "In the first query, the function print_from_stream(2, OddStream()) is exectuted, which leads to printing values 1 and 3 in separated lines as the first two non-negative odd numbers.\n",
        "\n",
        "In the second query, the function print_from_stream(3) is exectuted, which leads to printing values 2,4 and 6 in separated lines as the first three non-negative even numbers.\n",
        "\n",
        "In the third query, the function print_from_stream(5, OddStream()) is exectuted, which leads to printing values 1,3,5,7 and 9 in separated lines as the first five non-negative odd numbers."
      ]
    },
    {
      "cell_type": "code",
      "metadata": {
        "colab": {
          "base_uri": "https://localhost:8080/"
        },
        "id": "2OOlVRHqAlc_",
        "outputId": "40844036-d8cc-49e2-ef4f-53aeef48fe26"
      },
      "source": [
        "class EvenStream(object):\n",
        "    def __init__(self):\n",
        "        self.current = 0\n",
        "\n",
        "    def get_next(self):\n",
        "        to_return = self.current\n",
        "        self.current += 2\n",
        "        return to_return\n",
        "\n",
        "class OddStream(object):\n",
        "    def __init__(self):\n",
        "        self.current = 1\n",
        "\n",
        "    def get_next(self):\n",
        "        to_return = self.current\n",
        "        self.current += 2\n",
        "        return to_return\n",
        "\n",
        "def print_from_stream(n, stream=None):\n",
        "  if stream==None:\n",
        "    stream=EvenStream()\n",
        "  for _ in range(n):\n",
        "    print(stream.get_next())\n",
        "queries = int(input())\n",
        "for _ in range(queries):\n",
        "    stream_name, n = input().split()\n",
        "    n = int(n)\n",
        "    if stream_name == \"even\":\n",
        "        print_from_stream(n)\n",
        "    else:\n",
        "        print_from_stream(n, OddStream())\n"
      ],
      "execution_count": 11,
      "outputs": [
        {
          "output_type": "stream",
          "text": [
            "3\n",
            "odd 2\n",
            "1\n",
            "3\n",
            "even 3\n",
            "0\n",
            "2\n",
            "4\n",
            "odd 3\n",
            "1\n",
            "3\n",
            "5\n"
          ],
          "name": "stdout"
        }
      ]
    }
  ]
}