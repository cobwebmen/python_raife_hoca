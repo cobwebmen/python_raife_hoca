{
  "nbformat": 4,
  "nbformat_minor": 0,
  "metadata": {
    "colab": {
      "name": "assigment_42.ipynb",
      "provenance": []
    },
    "kernelspec": {
      "name": "python3",
      "display_name": "Python 3"
    },
    "language_info": {
      "name": "python"
    }
  },
  "cells": [
    {
      "cell_type": "markdown",
      "metadata": {
        "id": "x23TmpKJhTfq"
      },
      "source": [
        "Task:\n",
        "Ornek olarak verilen stringin her bir karakteri sirasiyla buyuk harf haline gelecek ve sonuc bir liste seklinde olacak.\n",
        "Ornek 1:  \n",
        "\n",
        "test = ‘iki kelime’\n",
        "\n",
        "sonuc = ['Iki kelime', 'iKi kelime', 'ikI kelime', 'iki Kelime', 'iki kElime', 'iki keLime', 'iki kelIme', 'iki keliMe', 'iki kelimE']"
      ]
    },
    {
      "cell_type": "code",
      "metadata": {
        "colab": {
          "base_uri": "https://localhost:8080/"
        },
        "id": "ifiAuFogdZ54",
        "outputId": "bbaf6e8a-6283-48ea-e2dc-664103dfe603"
      },
      "source": [
        "test=\"hep beraber basaracagız\"\n",
        "liste=[]\n",
        "for k in range(len(test)):\n",
        "  if test[k].isalpha():\n",
        "    liste.append(test[:k]+test[k].upper()+test[k+1:])\n",
        "print(liste)"
      ],
      "execution_count": 17,
      "outputs": [
        {
          "output_type": "stream",
          "text": [
            "['Hep beraber basaracagız', 'hEp beraber basaracagız', 'heP beraber basaracagız', 'hep Beraber basaracagız', 'hep bEraber basaracagız', 'hep beRaber basaracagız', 'hep berAber basaracagız', 'hep beraBer basaracagız', 'hep berabEr basaracagız', 'hep berabeR basaracagız', 'hep beraber Basaracagız', 'hep beraber bAsaracagız', 'hep beraber baSaracagız', 'hep beraber basAracagız', 'hep beraber basaRacagız', 'hep beraber basarAcagız', 'hep beraber basaraCagız', 'hep beraber basaracAgız', 'hep beraber basaracaGız', 'hep beraber basaracagIz', 'hep beraber basaracagıZ']\n"
          ],
          "name": "stdout"
        }
      ]
    }
  ]
}