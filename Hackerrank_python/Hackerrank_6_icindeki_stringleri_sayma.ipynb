{
  "nbformat": 4,
  "nbformat_minor": 0,
  "metadata": {
    "colab": {
      "name": "Hackerrank_6_icindeki_stringleri_sayma.ipynb",
      "provenance": [],
      "collapsed_sections": []
    },
    "kernelspec": {
      "name": "python3",
      "display_name": "Python 3"
    },
    "language_info": {
      "name": "python"
    }
  },
  "cells": [
    {
      "cell_type": "markdown",
      "metadata": {
        "id": "11vaMcofS5v-"
      },
      "source": [
        "In this challenge, the user enters a string and a substring. You have to print the number of times that the substring occurs in the given string. String traversal will take place from left to right, not from right to left.\n",
        "\n",
        "NOTE: String letters are case-sensitive."
      ]
    },
    {
      "cell_type": "code",
      "metadata": {
        "colab": {
          "base_uri": "https://localhost:8080/"
        },
        "id": "1YxIzLzmJLn9",
        "outputId": "b1329eee-b691-41fe-f873-14b3e358f1a7"
      },
      "source": [
        "def count_substring(string, sub_string):\n",
        "  sum=0\n",
        "  for i in range(0,len(string)+1):\n",
        "    if string[i:(i+len(sub_string))]==sub_string:\n",
        "      sum+=1 \n",
        "  return sum\n",
        "\n",
        "    \n",
        "    \n",
        "      \n",
        "if __name__ == '__main__':\n",
        "    string = input().strip()\n",
        "    sub_string = input().strip()\n",
        "    \n",
        "    count = count_substring(string, sub_string)\n",
        "    print(count)            "
      ],
      "execution_count": 19,
      "outputs": [
        {
          "output_type": "stream",
          "text": [
            "ThIsisCoNfUsInG\n",
            "is\n",
            "1\n"
          ],
          "name": "stdout"
        }
      ]
    }
  ]
}