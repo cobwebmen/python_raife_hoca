{
  "nbformat": 4,
  "nbformat_minor": 0,
  "metadata": {
    "colab": {
      "name": "Hackerrank_9_Loops.ipynb",
      "provenance": [],
      "collapsed_sections": []
    },
    "kernelspec": {
      "name": "python3",
      "display_name": "Python 3"
    },
    "language_info": {
      "name": "python"
    }
  },
  "cells": [
    {
      "cell_type": "markdown",
      "metadata": {
        "id": "XNC0lrmEiFFp"
      },
      "source": [
        "The provided code stub reads and integer,n , from STDIN. For all non-negative integers i<n, print i**2 .\n",
        "\n",
        "Sample Input\n",
        "\n",
        "5\n",
        "\n",
        "Sample Output 0\n",
        "\n",
        "0\n",
        "\n",
        "1\n",
        "\n",
        "4\n",
        "\n",
        "9\n",
        "\n",
        "16"
      ]
    },
    {
      "cell_type": "code",
      "metadata": {
        "id": "RbSnDFrxchGN"
      },
      "source": [
        "if __name__ == '__main__':\n",
        "    n = int(input())\n",
        "    i=0\n",
        "    while i<n:\n",
        "        print(i**2)\n",
        "        i+=1"
      ],
      "execution_count": null,
      "outputs": []
    }
  ]
}