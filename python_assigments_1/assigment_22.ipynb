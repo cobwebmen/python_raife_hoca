{
  "nbformat": 4,
  "nbformat_minor": 0,
  "metadata": {
    "colab": {
      "name": "assigment_22.ipynb",
      "provenance": []
    },
    "kernelspec": {
      "name": "python3",
      "display_name": "Python 3"
    },
    "language_info": {
      "name": "python"
    }
  },
  "cells": [
    {
      "cell_type": "markdown",
      "metadata": {
        "id": "ePI-go-a9v2k"
      },
      "source": [
        "Sayıların içindeki en büyük ve en küçük sayıyı veren fonksiyon yazalım. \n",
        "deger -->\"3 4 7 -5 7-9\" gibi olmalı"
      ]
    },
    {
      "cell_type": "code",
      "metadata": {
        "colab": {
          "base_uri": "https://localhost:8080/"
        },
        "id": "3Dv35BSq79F4",
        "outputId": "a4809e5f-9cfe-4307-9412-9e5bffa4aefa"
      },
      "source": [
        "def büyük_kücük(deger):\n",
        "  liste=deger.split()\n",
        "  for i in liste:\n",
        "    liste[liste.index(i)]=int(i)\n",
        "  return f\"{max(liste)} {min(liste)}\"\n",
        "\n",
        "print(büyük_kücük(\"3 2 4 6 -1 12\"))\n"
      ],
      "execution_count": 14,
      "outputs": [
        {
          "output_type": "stream",
          "text": [
            "12 -1\n"
          ],
          "name": "stdout"
        }
      ]
    },
    {
      "cell_type": "markdown",
      "metadata": {
        "id": "ExBkEK4P_OWy"
      },
      "source": [
        "Harfler ve boşluklardan oluşan stringin içindeki kelime nin uzunluğu beş veya dah fazla ise o kelimeyi ters çeviren bir fonksiyon yazalım."
      ]
    },
    {
      "cell_type": "code",
      "metadata": {
        "colab": {
          "base_uri": "https://localhost:8080/"
        },
        "id": "EOCVNTY_AOpL",
        "outputId": "4f605656-58f7-4203-a22b-369ffbfee925"
      },
      "source": [
        "def ters_döndür(yazi):\n",
        "  liste=yazi.split()\n",
        "  yeni=\"\"\n",
        "  for i in liste:\n",
        "    if len(i)>=5:\n",
        "      yeni += i[::-1]+\" \"\n",
        "    else:\n",
        "      yeni+=i+\" \"\n",
        "  return yeni\n",
        "\n",
        "print(ters_döndür(\"Ah bir data scientist olabilsem:)\"))"
      ],
      "execution_count": 19,
      "outputs": [
        {
          "output_type": "stream",
          "text": [
            "Ah bir data tsitneics ):meslibalo \n"
          ],
          "name": "stdout"
        }
      ]
    }
  ]
}