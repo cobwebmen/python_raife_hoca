{
  "nbformat": 4,
  "nbformat_minor": 0,
  "metadata": {
    "colab": {
      "name": "Combined_Consecutive_Sequence.ipynb",
      "provenance": []
    },
    "kernelspec": {
      "name": "python3",
      "display_name": "Python 3"
    },
    "language_info": {
      "name": "python"
    }
  },
  "cells": [
    {
      "cell_type": "markdown",
      "metadata": {
        "id": "DvUUsrcGpc1I"
      },
      "source": [
        "Combined Consecutive Sequence\n",
        "Write a function that returns True if two arrays, when combined, form a consecutive sequence. A consecutive sequence is a sequence without any gaps in the integers, e.g. 1, 2, 3, 4, 5 is a consecutive sequence, but 1, 2, 4, 5 is not.\n",
        "\n",
        "Examples\n",
        "\n",
        "consecutive_combo([7, 4, 5, 1], [2, 3, 6]) ➞ True\n",
        "\n",
        "consecutive_combo([1, 4, 6, 5], [2, 7, 8, 9]) ➞ False\n",
        "\n",
        "consecutive_combo([1, 4, 5, 6], [2, 3, 7, 8, 10]) ➞ False\n",
        "\n",
        "consecutive_combo([44, 46], [45]) ➞ True\n",
        "\n",
        "Notes\n",
        "The input lists will have unique values.\n",
        "The input lists can be in any order."
      ]
    },
    {
      "cell_type": "code",
      "metadata": {
        "colab": {
          "base_uri": "https://localhost:8080/"
        },
        "id": "NgNdCo2dnTl5",
        "outputId": "12a9df91-e5b8-4b54-b9ce-480b7d9d7828"
      },
      "source": [
        "def consecutive_combo(l1,l2):\n",
        "  yeni=sorted(l1+l2)\n",
        "  return yeni==list(range(min(yeni),max(yeni)+1))\n",
        "print(consecutive_combo([7, 4, 5, 1], [2, 3, 6]))\n",
        "print(consecutive_combo([1, 4, 6, 5], [2, 7, 8, 9]))\n",
        "print(consecutive_combo([1, 4, 5, 6], [2, 3, 7, 8, 10]))\n",
        "print(consecutive_combo([44, 46], [45]))"
      ],
      "execution_count": 9,
      "outputs": [
        {
          "output_type": "stream",
          "text": [
            "True\n",
            "False\n",
            "False\n",
            "True\n"
          ],
          "name": "stdout"
        }
      ]
    }
  ]
}