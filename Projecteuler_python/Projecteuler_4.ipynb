{
  "nbformat": 4,
  "nbformat_minor": 0,
  "metadata": {
    "colab": {
      "name": "Projecteuler_4.ipynb",
      "provenance": [],
      "collapsed_sections": []
    },
    "kernelspec": {
      "name": "python3",
      "display_name": "Python 3"
    },
    "language_info": {
      "name": "python"
    }
  },
  "cells": [
    {
      "cell_type": "markdown",
      "metadata": {
        "id": "427T9jfecaKk"
      },
      "source": [
        "A palindromic number reads the same both ways. The largest palindrome made from the product of two 2-digit numbers is 9009 = 91 × 99.\n",
        "\n",
        "Find the largest palindrome made from the product of two 3-digit numbers.\n",
        "\n",
        "Üç haneli sayıların çarpımı ile oluşan en büyük palindrom sayısını(düz ve ters okunuşu aynı olan) bulalım."
      ]
    },
    {
      "cell_type": "code",
      "metadata": {
        "colab": {
          "base_uri": "https://localhost:8080/"
        },
        "id": "THv4wVfccYVR",
        "outputId": "69e42c62-750a-4958-fdc2-27207ceb8590"
      },
      "source": [
        "palindroms = list()\n",
        "for i in range(100,1000):\n",
        "  for k in range(100,1000):\n",
        "    carp = i*k\n",
        "    if str(carp) == str(carp)[::-1]:\n",
        "      palindroms.append(carp)\n",
        "\n",
        "print(max(palindroms))\n"
      ],
      "execution_count": 2,
      "outputs": [
        {
          "output_type": "stream",
          "text": [
            "906609\n"
          ],
          "name": "stdout"
        }
      ]
    }
  ]
}