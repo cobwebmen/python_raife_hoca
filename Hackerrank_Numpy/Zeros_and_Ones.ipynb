{
  "nbformat": 4,
  "nbformat_minor": 0,
  "metadata": {
    "colab": {
      "name": "Zeros_and_Ones.ipynb",
      "provenance": []
    },
    "kernelspec": {
      "name": "python3",
      "display_name": "Python 3"
    },
    "language_info": {
      "name": "python"
    }
  },
  "cells": [
    {
      "cell_type": "markdown",
      "metadata": {
        "id": "Cd6PDKFADLRp"
      },
      "source": [
        "```\n",
        "zeros\n",
        "\n",
        "The zeros tool returns a new array with a given shape and type filled with 's.\n",
        "\n",
        "import numpy\n",
        "\n",
        "print numpy.zeros((1,2))                    #Default type is float\n",
        "#Output : [[ 0.  0.]] \n",
        "\n",
        "print numpy.zeros((1,2), dtype = numpy.int) #Type changes to int\n",
        "#Output : [[0 0]]\n",
        "ones\n",
        "\n",
        "The ones tool returns a new array with a given shape and type filled with 's.\n",
        "\n",
        "import numpy\n",
        "\n",
        "print numpy.ones((1,2))                    #Default type is float\n",
        "#Output : [[ 1.  1.]] \n",
        "\n",
        "print numpy.ones((1,2), dtype = numpy.int) #Type changes to int\n",
        "#Output : [[1 1]]   \n",
        "Task\n",
        "\n",
        "You are given the shape of the array in the form of space-separated integers, each integer representing the size of different dimensions, your task is to print an array of the given shape and integer type using the tools numpy.zeros and numpy.ones.\n",
        "\n",
        "Input Format\n",
        "\n",
        "A single line containing the space-separated integers.\n",
        "\n",
        "Constraints\n",
        "\n",
        "\n",
        "Output Format\n",
        "\n",
        "First, print the array using the numpy.zeros tool and then print the array with the numpy.ones tool.\n",
        "\n",
        "Sample Input\n",
        "\n",
        "3 3 3\n",
        "Sample Output\n",
        "\n",
        "[[[0 0 0]\n",
        "  [0 0 0]\n",
        "  [0 0 0]]\n",
        "\n",
        " [[0 0 0]\n",
        "  [0 0 0]\n",
        "  [0 0 0]]\n",
        "\n",
        " [[0 0 0]\n",
        "  [0 0 0]\n",
        "  [0 0 0]]]\n",
        "[[[1 1 1]\n",
        "  [1 1 1]\n",
        "  [1 1 1]]\n",
        "\n",
        " [[1 1 1]\n",
        "  [1 1 1]\n",
        "  [1 1 1]]\n",
        "\n",
        " [[1 1 1]\n",
        "  [1 1 1]\n",
        "  [1 1 1]]]\n",
        "Explanation\n",
        "\n",
        "Print the array built using numpy.zeros and numpy.ones tools and you get the result as shown.\n",
        "```"
      ]
    },
    {
      "cell_type": "code",
      "metadata": {
        "colab": {
          "base_uri": "https://localhost:8080/"
        },
        "id": "iNdA52cwBwjl",
        "outputId": "9a913b38-8728-4cca-a5d8-a8bf5a5200b9"
      },
      "source": [
        "import numpy\n",
        "N = tuple(map(int, input().split()))\n",
        "print(numpy.zeros(N, int))\n",
        "print(numpy.ones(N, int))"
      ],
      "execution_count": null,
      "outputs": [
        {
          "output_type": "stream",
          "text": [
            "3 3 3\n",
            "[[[0 0 0]\n",
            "  [0 0 0]\n",
            "  [0 0 0]]\n",
            "\n",
            " [[0 0 0]\n",
            "  [0 0 0]\n",
            "  [0 0 0]]\n",
            "\n",
            " [[0 0 0]\n",
            "  [0 0 0]\n",
            "  [0 0 0]]]\n",
            "[[[1 1 1]\n",
            "  [1 1 1]\n",
            "  [1 1 1]]\n",
            "\n",
            " [[1 1 1]\n",
            "  [1 1 1]\n",
            "  [1 1 1]]\n",
            "\n",
            " [[1 1 1]\n",
            "  [1 1 1]\n",
            "  [1 1 1]]]\n"
          ],
          "name": "stdout"
        }
      ]
    }
  ]
}