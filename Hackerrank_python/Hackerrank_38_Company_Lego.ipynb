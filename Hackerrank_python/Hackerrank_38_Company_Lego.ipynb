{
  "nbformat": 4,
  "nbformat_minor": 0,
  "metadata": {
    "colab": {
      "name": "Hackerrank_38_Company_Lego.ipynb",
      "provenance": []
    },
    "kernelspec": {
      "name": "python3",
      "display_name": "Python 3"
    },
    "language_info": {
      "name": "python"
    }
  },
  "cells": [
    {
      "cell_type": "markdown",
      "metadata": {
        "id": "rhzkRIXIPEga"
      },
      "source": [
        "Sample Input\n",
        "\n",
        "aabbbccde\n",
        "\n",
        "Sample Output\n",
        "\n",
        "b 3\n",
        "\n",
        "a 2\n",
        "\n",
        "c 2\n",
        "\n",
        "Explanation \n",
        "\n",
        "Here, b occurs 3 times. It is printed first.\n",
        "Both a and c occur 2 times. So, a is printed in the second line and c in the third line because a comes before c in the alphabet.\n",
        "\n",
        "Note: The string S has at least 3 distinct characters."
      ]
    },
    {
      "cell_type": "code",
      "metadata": {
        "id": "40nS3ACglHuj",
        "colab": {
          "base_uri": "https://localhost:8080/"
        },
        "outputId": "d3455898-1997-4802-f208-7ac2fc4f16e3"
      },
      "source": [
        "word=input()\n",
        "alpha_dict={}\n",
        "for i in word:\n",
        "    alpha_dict[i]=word.count(i)\n",
        "a = sorted(sorted(alpha_dict.items()), key=lambda x: x[1], reverse=True) \n",
        "print(a)\n",
        "for key,value in a[:3]:\n",
        "  print(key,value)\n",
        "\n"
      ],
      "execution_count": 12,
      "outputs": [
        {
          "output_type": "stream",
          "text": [
            "aabbbccde\n",
            "[('b', 3), ('a', 2), ('c', 2), ('d', 1), ('e', 1)]\n",
            "b 3\n",
            "a 2\n",
            "c 2\n"
          ],
          "name": "stdout"
        }
      ]
    }
  ]
}