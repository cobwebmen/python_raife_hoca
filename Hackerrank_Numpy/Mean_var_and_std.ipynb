{
  "nbformat": 4,
  "nbformat_minor": 0,
  "metadata": {
    "colab": {
      "name": "Mean_var_and_std.ipynb",
      "provenance": []
    },
    "kernelspec": {
      "name": "python3",
      "display_name": "Python 3"
    },
    "language_info": {
      "name": "python"
    }
  },
  "cells": [
    {
      "cell_type": "markdown",
      "metadata": {
        "id": "MWW-YK-G3Rpp"
      },
      "source": [
        "```\n",
        "mean\n",
        "\n",
        "The mean tool computes the arithmetic mean along the specified axis.\n",
        "\n",
        "import numpy\n",
        "\n",
        "my_array = numpy.array([ [1, 2], [3, 4] ])\n",
        "\n",
        "print numpy.mean(my_array, axis = 0)        #Output : [ 2.  3.]\n",
        "print numpy.mean(my_array, axis = 1)        #Output : [ 1.5  3.5]\n",
        "print numpy.mean(my_array, axis = None)     #Output : 2.5\n",
        "print numpy.mean(my_array)                  #Output : 2.5\n",
        "By default, the axis is None. Therefore, it computes the mean of the flattened array.\n",
        "\n",
        "var\n",
        "\n",
        "The var tool computes the arithmetic variance along the specified axis.\n",
        "\n",
        "import numpy\n",
        "\n",
        "my_array = numpy.array([ [1, 2], [3, 4] ])\n",
        "\n",
        "print numpy.var(my_array, axis = 0)         #Output : [ 1.  1.]\n",
        "print numpy.var(my_array, axis = 1)         #Output : [ 0.25  0.25]\n",
        "print numpy.var(my_array, axis = None)      #Output : 1.25\n",
        "print numpy.var(my_array)                   #Output : 1.25\n",
        "By default, the axis is None. Therefore, it computes the variance of the flattened array.\n",
        "\n",
        "std\n",
        "\n",
        "The std tool computes the arithmetic standard deviation along the specified axis.\n",
        "\n",
        "import numpy\n",
        "\n",
        "my_array = numpy.array([ [1, 2], [3, 4] ])\n",
        "\n",
        "print numpy.std(my_array, axis = 0)         #Output : [ 1.  1.]\n",
        "print numpy.std(my_array, axis = 1)         #Output : [ 0.5  0.5]\n",
        "print numpy.std(my_array, axis = None)      #Output : 1.11803398875\n",
        "print numpy.std(my_array)                   #Output : 1.11803398875\n",
        "By default, the axis is None. Therefore, it computes the standard deviation of the flattened array.\n",
        "\n",
        "Task\n",
        "\n",
        "You are given a 2-D array of size X.\n",
        "Your task is to find:\n",
        "\n",
        "The mean along axis \n",
        "The var along axis \n",
        "The std along axis \n",
        "Input Format\n",
        "\n",
        "The first line contains the space separated values of  and .\n",
        "The next  lines contains  space separated integers.\n",
        "\n",
        "Output Format\n",
        "\n",
        "First, print the mean.\n",
        "Second, print the var.\n",
        "Third, print the std.\n",
        "\n",
        "Sample Input\n",
        "\n",
        "2 2\n",
        "1 2\n",
        "3 4\n",
        "Sample Output\n",
        "\n",
        "[ 1.5  3.5]\n",
        "[ 1.  1.]\n",
        "1.11803398875\n",
        "```\n",
        "\n"
      ]
    },
    {
      "cell_type": "code",
      "metadata": {
        "colab": {
          "base_uri": "https://localhost:8080/"
        },
        "id": "pFxtYUlXzJQj",
        "outputId": "f3012abd-58e1-49de-a01b-304f5289b95e"
      },
      "source": [
        "import numpy\n",
        "a,b=tuple(map(int,input().split()))\n",
        "arr=numpy.array([input().split() for i in range(a)],int)\n",
        "print(numpy.mean(arr,axis=1))\n",
        "print(numpy.var(arr,axis=0))\n",
        "print(round(numpy.std(arr, axis=None),11))"
      ],
      "execution_count": 12,
      "outputs": [
        {
          "output_type": "stream",
          "text": [
            "2 2\n",
            "1 2\n",
            "3 4\n",
            "[1.5 3.5]\n",
            "[1. 1.]\n",
            "1.11803398875\n"
          ],
          "name": "stdout"
        }
      ]
    }
  ]
}