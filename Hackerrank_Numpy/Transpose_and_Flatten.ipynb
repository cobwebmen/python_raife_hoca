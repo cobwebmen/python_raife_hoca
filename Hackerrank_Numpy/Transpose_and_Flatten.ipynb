{
  "nbformat": 4,
  "nbformat_minor": 0,
  "metadata": {
    "colab": {
      "name": "Transpose_and_Flatten.ipynb",
      "provenance": []
    },
    "kernelspec": {
      "name": "python3",
      "display_name": "Python 3"
    },
    "language_info": {
      "name": "python"
    }
  },
  "cells": [
    {
      "cell_type": "markdown",
      "metadata": {
        "id": "Az2_gwyQ5-MI"
      },
      "source": [
        "```\n",
        "Transpose\n",
        "\n",
        "We can generate the transposition of an array using the tool numpy.transpose.\n",
        "It will not affect the original array, but it will create a new array.\n",
        "\n",
        "import numpy\n",
        "\n",
        "my_array = numpy.array([[1,2,3],\n",
        "                        [4,5,6]])\n",
        "print numpy.transpose(my_array)\n",
        "\n",
        "#Output\n",
        "[[1 4]\n",
        " [2 5]\n",
        " [3 6]]\n",
        "Flatten\n",
        "\n",
        "The tool flatten creates a copy of the input array flattened to one dimension.\n",
        "\n",
        "import numpy\n",
        "\n",
        "my_array = numpy.array([[1,2,3],\n",
        "                        [4,5,6]])\n",
        "print my_array.flatten()\n",
        "\n",
        "#Output\n",
        "[1 2 3 4 5 6]\n",
        "Task\n",
        "\n",
        "You are given a X integer array matrix with space separated elements ( = rows and  = columns).\n",
        "Your task is to print the transpose and flatten results.\n",
        "\n",
        "Input Format\n",
        "\n",
        "The first line contains the space separated values of  and .\n",
        "The next  lines contains the space separated elements of  columns.\n",
        "\n",
        "Output Format\n",
        "\n",
        "First, print the transpose array and then print the flatten.\n",
        "\n",
        "Sample Input\n",
        "\n",
        "2 2\n",
        "1 2\n",
        "3 4\n",
        "Sample Output\n",
        "\n",
        "[[1 3]\n",
        " [2 4]]\n",
        "[1 2 3 4]\n",
        "\n",
        "```"
      ]
    },
    {
      "cell_type": "code",
      "metadata": {
        "colab": {
          "base_uri": "https://localhost:8080/"
        },
        "id": "gKcs2SnREYL3",
        "outputId": "fcc44c61-50ac-47b8-9dbf-5c6c39dbc098"
      },
      "source": [
        "import numpy\n",
        "a,b=tuple(map(int, input().split()))\n",
        "arr=numpy.array([input().split() for i in range(a)],int)\n",
        "print(numpy.transpose(arr))\n",
        "print(arr.flatten())"
      ],
      "execution_count": 1,
      "outputs": [
        {
          "output_type": "stream",
          "text": [
            "2 2\n",
            "1 2\n",
            "3 4\n",
            "[[1 3]\n",
            " [2 4]]\n",
            "[1 2 3 4]\n"
          ],
          "name": "stdout"
        }
      ]
    },
    {
      "cell_type": "code",
      "metadata": {
        "colab": {
          "base_uri": "https://localhost:8080/"
        },
        "id": "x8Egau0b5A5k",
        "outputId": "f338eb7d-2ea6-432e-f323-417a1ab9beac"
      },
      "source": [
        "import numpy\n",
        "a,b=tuple(map(int, input().split()))\n",
        "n=[]\n",
        "for i in range(a):\n",
        "    n.append(list(map(int,input().split())))\n",
        "arr=numpy.array(n)\n",
        "print(numpy.transpose(arr))\n",
        "print(arr.flatten())"
      ],
      "execution_count": null,
      "outputs": [
        {
          "output_type": "stream",
          "text": [
            "2 2\n",
            "1 2\n",
            "3 4\n",
            "[[1 3]\n",
            " [2 4]]\n",
            "[1 2 3 4]\n"
          ],
          "name": "stdout"
        }
      ]
    }
  ]
}