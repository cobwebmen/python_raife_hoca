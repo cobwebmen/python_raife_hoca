{
  "nbformat": 4,
  "nbformat_minor": 0,
  "metadata": {
    "colab": {
      "name": "assigment_27.ipynb",
      "provenance": []
    },
    "kernelspec": {
      "name": "python3",
      "display_name": "Python 3"
    },
    "language_info": {
      "name": "python"
    }
  },
  "cells": [
    {
      "cell_type": "markdown",
      "metadata": {
        "id": "RRXZDYcVYVaH"
      },
      "source": [
        "Ali ve Mehmet 'in yarışan 3'er tane arabaları var. yavaş(y),orta(o),hızlı(h).Ali'nin arabaları Mehmet'in arabalarından güçlü olsa da Mehmet'in bir planı var.\n",
        "\n",
        "Raunt1[y,h] En yavaş arabayı en hızlı arabaya kurban et.\n",
        "\n",
        "Raunt2[o,y] Orta ile yavaşı yen\n",
        "\n",
        "Raunt3[h,o] hızlı ile ortayı yen.\n",
        "\n",
        "Mehmet kazandığında True çıktısı verecek,kaybettiğinde False çıktısı verecek bir fonksiyon yazalım.\n",
        "\n"
      ]
    },
    {
      "cell_type": "code",
      "metadata": {
        "colab": {
          "base_uri": "https://localhost:8080/"
        },
        "id": "JVCZ6YTHYQx-",
        "outputId": "82b5b6e2-4217-489e-a2a1-78a41feb6df9"
      },
      "source": [
        "def Mehmet_kazandi(mehmet,ali):\n",
        "  if mehmet[1]>ali[0] and mehmet[2]>ali[1]:\n",
        "    return True\n",
        "  else:\n",
        "    return False\n",
        "\n",
        "print(Mehmet_kazandi([3,5,10],[4,7,11]))\n",
        "print(Mehmet_kazandi([6,8,9],[7,12,14]))\n",
        "print(Mehmet_kazandi([1,8,20],[2,9,50]))"
      ],
      "execution_count": 14,
      "outputs": [
        {
          "output_type": "stream",
          "text": [
            "True\n",
            "False\n",
            "True\n"
          ],
          "name": "stdout"
        }
      ]
    },
    {
      "cell_type": "markdown",
      "metadata": {
        "id": "RUrYK5Il2lKV"
      },
      "source": [
        "Her girdi listesinde iki tanesi hariç her rakam en az bir kere tekrarlıyor.iki benzersiz sayıyı döndüren bir fonksiyon yazalım."
      ]
    },
    {
      "cell_type": "code",
      "metadata": {
        "id": "CjzTkiEPsVVr",
        "colab": {
          "base_uri": "https://localhost:8080/"
        },
        "outputId": "9f4f78d4-8e1a-479b-c0a6-b09dfefb79d9"
      },
      "source": [
        "def benzersizi_bul(girdi):\n",
        "  yeni=[]\n",
        "  a=\"\"\n",
        "  for i in girdi:\n",
        "    a+=str(i)\n",
        "  for s in a:\n",
        "    if a.count(s)==1:\n",
        "      yeni.append(int(s))\n",
        "  return yeni\n",
        "benzersizi_bul([2,2,3,11,3,6,5])"
      ],
      "execution_count": 25,
      "outputs": [
        {
          "output_type": "execute_result",
          "data": {
            "text/plain": [
              "[6, 5]"
            ]
          },
          "metadata": {
            "tags": []
          },
          "execution_count": 25
        }
      ]
    },
    {
      "cell_type": "code",
      "metadata": {
        "id": "v-Fzk0yawyg9"
      },
      "source": [
        ""
      ],
      "execution_count": 8,
      "outputs": []
    }
  ]
}