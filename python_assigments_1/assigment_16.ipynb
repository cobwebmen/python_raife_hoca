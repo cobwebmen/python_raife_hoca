{
  "nbformat": 4,
  "nbformat_minor": 0,
  "metadata": {
    "colab": {
      "name": "assigment_16.ipynb",
      "provenance": [],
      "collapsed_sections": []
    },
    "kernelspec": {
      "name": "python3",
      "display_name": "Python 3"
    },
    "language_info": {
      "name": "python"
    }
  },
  "cells": [
    {
      "cell_type": "markdown",
      "metadata": {
        "id": "asA7n2-u3oFq"
      },
      "source": [
        "Sayı ve string paramestresi alan, sayıyı geriye doğru aralarında * olacak şekilde yazdıran, sonuna verilen stringi büyük harflerle ekleyen ve en sona ! işareti koyan bir fonksiyon yazalım\n",
        "\n"
      ]
    },
    {
      "cell_type": "code",
      "metadata": {
        "id": "p6nM1aWX5Fqe"
      },
      "source": [
        "ÖRNEK\n",
        "geri_say(3,\"go\")--> \"3*2*1*GO!\""
      ],
      "execution_count": null,
      "outputs": []
    },
    {
      "cell_type": "code",
      "metadata": {
        "colab": {
          "base_uri": "https://localhost:8080/"
        },
        "id": "KDEMUHJJ0CVG",
        "outputId": "4724bb15-7bd6-4573-b390-465b2484c4fc"
      },
      "source": [
        "def geri_say(n, yazi):\n",
        "  sonuc=\"\"\n",
        "  for i in range(n,0,-1):\n",
        "    sonuc+=str(i)+\"*\"\n",
        "  sonuc+=str(yazi.upper())+\"!\"\n",
        "  return sonuc\n",
        "    \n",
        "print(geri_say(10, \"iyi ki doğdun\"))"
      ],
      "execution_count": 18,
      "outputs": [
        {
          "output_type": "stream",
          "text": [
            "10*9*8*7*6*5*4*3*2*1*IYI KI DOĞDUN!\n"
          ],
          "name": "stdout"
        }
      ]
    }
  ]
}