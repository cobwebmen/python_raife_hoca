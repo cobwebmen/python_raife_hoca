{
  "nbformat": 4,
  "nbformat_minor": 0,
  "metadata": {
    "colab": {
      "name": "Eye_and_Identity.ipynb",
      "provenance": []
    },
    "kernelspec": {
      "name": "python3",
      "display_name": "Python 3"
    },
    "language_info": {
      "name": "python"
    }
  },
  "cells": [
    {
      "cell_type": "markdown",
      "metadata": {
        "id": "8-RUoakJI3Uj"
      },
      "source": [
        "```\n",
        "identity\n",
        "\n",
        "The identity tool returns an identity array. An identity array is a square matrix with all the main diagonal elements as  and the rest as . The default type of elements is float.\n",
        "\n",
        "import numpy\n",
        "print numpy.identity(3) #3 is for  dimension 3 X 3\n",
        "\n",
        "#Output\n",
        "[[ 1.  0.  0.]\n",
        " [ 0.  1.  0.]\n",
        " [ 0.  0.  1.]]\n",
        "eye\n",
        "\n",
        "The eye tool returns a 2-D array with 's as the diagonal and 's elsewhere. The diagonal can be main, upper or lower depending on the optional parameter . A positive  is for the upper diagonal, a negative  is for the lower, and a   (default) is for the main diagonal.\n",
        "\n",
        "import numpy\n",
        "print numpy.eye(8, 7, k = 1)    # 8 X 7 Dimensional array with first upper diagonal 1.\n",
        "\n",
        "#Output\n",
        "[[ 0.  1.  0.  0.  0.  0.  0.]\n",
        " [ 0.  0.  1.  0.  0.  0.  0.]\n",
        " [ 0.  0.  0.  1.  0.  0.  0.]\n",
        " [ 0.  0.  0.  0.  1.  0.  0.]\n",
        " [ 0.  0.  0.  0.  0.  1.  0.]\n",
        " [ 0.  0.  0.  0.  0.  0.  1.]\n",
        " [ 0.  0.  0.  0.  0.  0.  0.]\n",
        " [ 0.  0.  0.  0.  0.  0.  0.]]\n",
        "\n",
        "print numpy.eye(8, 7, k = -2)   # 8 X 7 Dimensional array with second lower diagonal 1.\n",
        "Task\n",
        "\n",
        "Your task is to print an array of size X with its main diagonal elements as 's and 's everywhere else.\n",
        "\n",
        "Note\n",
        "\n",
        "In order to get alignment correct, please insert the line  below the numpy import.\n",
        "\n",
        "Input Format\n",
        "\n",
        "A single line containing the space separated values of  and .\n",
        " denotes the rows.\n",
        " denotes the columns.\n",
        "\n",
        "Output Format\n",
        "\n",
        "Print the desired X array.\n",
        "\n",
        "Sample Input\n",
        "\n",
        "3 3\n",
        "Sample Output\n",
        "\n",
        "[[ 1.  0.  0.]\n",
        " [ 0.  1.  0.]\n",
        " [ 0.  0.  1.]]\n",
        "```\n",
        "\n"
      ]
    },
    {
      "cell_type": "code",
      "metadata": {
        "colab": {
          "base_uri": "https://localhost:8080/"
        },
        "id": "DxZjtCjiIPJJ",
        "outputId": "1a6750af-1d73-43c6-da74-6238e61e0da3"
      },
      "source": [
        "import numpy\n",
        "numpy.set_printoptions(legacy=\"1.13\")\n",
        "N,M=tuple(map(int, input().split(\" \")))\n",
        "print(numpy.eye(N,M))"
      ],
      "execution_count": 10,
      "outputs": [
        {
          "output_type": "stream",
          "text": [
            "3 3\n",
            "[[ 1.  0.  0.]\n",
            " [ 0.  1.  0.]\n",
            " [ 0.  0.  1.]]\n"
          ],
          "name": "stdout"
        }
      ]
    }
  ]
}