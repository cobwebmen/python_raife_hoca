{
  "nbformat": 4,
  "nbformat_minor": 0,
  "metadata": {
    "colab": {
      "name": "Parentheses_Clusters.ipynb",
      "provenance": []
    },
    "kernelspec": {
      "name": "python3",
      "display_name": "Python 3"
    },
    "language_info": {
      "name": "python"
    }
  },
  "cells": [
    {
      "cell_type": "markdown",
      "metadata": {
        "id": "NlVIq-PNEGLp"
      },
      "source": [
        "Write a function that groups a string into parentheses cluster. Each cluster should be balanced.\n",
        "\n",
        "Examples\n",
        "\n",
        "split(\"()()()\") ➞ [\"()\", \"()\", \"()\"]\n",
        "\n",
        "split(\"((()))\") ➞ [\"((()))\"]\n",
        "\n",
        "split(\"((()))(())()()(()())\") ➞ [\"((()))\", \"(())\", \"()\", \"()\", \"(()())\"]\n",
        "\n",
        "split(\"((())())(()(()()))\") ➞ [\"((())())\", \"(()(()()))\"]\n",
        "\n",
        "Notes\n",
        "All input strings will only contain parentheses.\n",
        "Balanced: Every opening parens ( must exist with its matching closing parens ) in the same cluster."
      ]
    },
    {
      "cell_type": "code",
      "metadata": {
        "colab": {
          "base_uri": "https://localhost:8080/"
        },
        "id": "2CNZ-1kIEC-F",
        "outputId": "1d60a7c3-118e-4491-e073-fa084fdd1660"
      },
      "source": [
        "def split(p):\n",
        "  liste1=[]\n",
        "  liste2=[]\n",
        "  sonuc=[]\n",
        "  for i in range(len(p)):\n",
        "    if p[i]==\"(\":\n",
        "      liste1.append(\"(\")\n",
        "      liste2.append(\"(\")\n",
        "    elif p[i]==\")\":\n",
        "      liste1.pop()\n",
        "      liste2.append(\")\")\n",
        "      if len(liste1)==0:\n",
        "        sonuc.append(\"\".join(liste2))\n",
        "        liste2.clear()\n",
        "  return sonuc\n",
        "split(\"()()()\")"
      ],
      "execution_count": 6,
      "outputs": [
        {
          "output_type": "execute_result",
          "data": {
            "text/plain": [
              "['()', '()', '()']"
            ]
          },
          "metadata": {
            "tags": []
          },
          "execution_count": 6
        }
      ]
    }
  ]
}